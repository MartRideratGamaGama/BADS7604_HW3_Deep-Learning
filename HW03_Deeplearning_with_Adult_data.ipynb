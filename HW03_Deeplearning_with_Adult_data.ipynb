{
  "nbformat": 4,
  "nbformat_minor": 0,
  "metadata": {
    "colab": {
      "name": "HW03_Deeplearning_with_Adult_data.ipynb",
      "provenance": [],
      "collapsed_sections": []
    },
    "kernelspec": {
      "name": "python3",
      "display_name": "Python 3"
    },
    "language_info": {
      "name": "python"
    },
    "accelerator": "GPU"
  },
  "cells": [
    {
      "cell_type": "code",
      "execution_count": 1,
      "metadata": {
        "colab": {
          "base_uri": "https://localhost:8080/"
        },
        "id": "Y-mopQm_zSMl",
        "outputId": "4995d21f-969c-4772-c384-90493c049fb8"
      },
      "outputs": [
        {
          "output_type": "stream",
          "name": "stdout",
          "text": [
            "Downloading...\n",
            "From: https://drive.google.com/uc?id=1fflAX9ZY1dICHs90ihfIahmdqI2kyDnk\n",
            "To: /content/adult.data\n",
            "\r  0% 0.00/3.97M [00:00<?, ?B/s]\r100% 3.97M/3.97M [00:00<00:00, 167MB/s]\n"
          ]
        }
      ],
      "source": [
        "!gdown --id 1fflAX9ZY1dICHs90ihfIahmdqI2kyDnk"
      ]
    },
    {
      "cell_type": "code",
      "source": [
        "!nvidia-smi -L"
      ],
      "metadata": {
        "colab": {
          "base_uri": "https://localhost:8080/"
        },
        "id": "CAX0Ku7uzvBJ",
        "outputId": "20db97a0-16c0-4f8b-bc9c-365b8a9325ac"
      },
      "execution_count": 2,
      "outputs": [
        {
          "output_type": "stream",
          "name": "stdout",
          "text": [
            "GPU 0: Tesla K80 (UUID: GPU-d5d4f13d-e0dd-c405-5835-70d1732ceb29)\n"
          ]
        }
      ]
    },
    {
      "cell_type": "code",
      "source": [
        "import numpy as np\n",
        "import pandas as pd\n",
        "pd.set_option('display.max_columns', None)\n",
        "import matplotlib.pyplot as plt\n",
        "%matplotlib inline\n",
        "import seaborn as sn\n",
        "import tensorflow as tf\n",
        "from sklearn.linear_model import LogisticRegression\n",
        "from sklearn.svm import SVC\n",
        "from sklearn.neighbors import KNeighborsClassifier\n",
        "from sklearn.ensemble import RandomForestClassifier\n",
        "\n",
        "from sklearn.model_selection import train_test_split\n",
        "from sklearn.preprocessing import StandardScaler\n",
        "from sklearn import metrics\n",
        "from imblearn.over_sampling import SMOTE\n",
        "from sklearn.metrics import roc_curve, roc_auc_score\n",
        "from sklearn.metrics import accuracy_score\n",
        "from sklearn.metrics import precision_recall_fscore_support"
      ],
      "metadata": {
        "id": "PXqNPqH-z0hF"
      },
      "execution_count": 3,
      "outputs": []
    },
    {
      "cell_type": "code",
      "source": [
        "feature = [\"age\", \"workclass\", \"fnlwgt\", \"education\", \"education-num\", \"marital-status\", \"occupation\", \"relationship\", \"race\", \"sex\", \"capital-gain\", \"capital-loss\", \"hours-per-week\", \"native-country\", \"income\"]"
      ],
      "metadata": {
        "id": "_u7S6EEXrJO7"
      },
      "execution_count": 4,
      "outputs": []
    },
    {
      "cell_type": "code",
      "source": [
        "filepath = \"./adult.data\"\n",
        "raw_data = pd.read_csv(filepath, names= feature)\n",
        "raw_data"
      ],
      "metadata": {
        "id": "hD4PyG8G5fiz",
        "colab": {
          "base_uri": "https://localhost:8080/",
          "height": 658
        },
        "outputId": "333b4926-5de1-45ea-9ef3-b581aa2359ca"
      },
      "execution_count": 5,
      "outputs": [
        {
          "output_type": "execute_result",
          "data": {
            "text/html": [
              "\n",
              "  <div id=\"df-ce08a8fe-272a-4792-8184-9af7ab11c4d6\">\n",
              "    <div class=\"colab-df-container\">\n",
              "      <div>\n",
              "<style scoped>\n",
              "    .dataframe tbody tr th:only-of-type {\n",
              "        vertical-align: middle;\n",
              "    }\n",
              "\n",
              "    .dataframe tbody tr th {\n",
              "        vertical-align: top;\n",
              "    }\n",
              "\n",
              "    .dataframe thead th {\n",
              "        text-align: right;\n",
              "    }\n",
              "</style>\n",
              "<table border=\"1\" class=\"dataframe\">\n",
              "  <thead>\n",
              "    <tr style=\"text-align: right;\">\n",
              "      <th></th>\n",
              "      <th>age</th>\n",
              "      <th>workclass</th>\n",
              "      <th>fnlwgt</th>\n",
              "      <th>education</th>\n",
              "      <th>education-num</th>\n",
              "      <th>marital-status</th>\n",
              "      <th>occupation</th>\n",
              "      <th>relationship</th>\n",
              "      <th>race</th>\n",
              "      <th>sex</th>\n",
              "      <th>capital-gain</th>\n",
              "      <th>capital-loss</th>\n",
              "      <th>hours-per-week</th>\n",
              "      <th>native-country</th>\n",
              "      <th>income</th>\n",
              "    </tr>\n",
              "  </thead>\n",
              "  <tbody>\n",
              "    <tr>\n",
              "      <th>0</th>\n",
              "      <td>39</td>\n",
              "      <td>State-gov</td>\n",
              "      <td>77516</td>\n",
              "      <td>Bachelors</td>\n",
              "      <td>13</td>\n",
              "      <td>Never-married</td>\n",
              "      <td>Adm-clerical</td>\n",
              "      <td>Not-in-family</td>\n",
              "      <td>White</td>\n",
              "      <td>Male</td>\n",
              "      <td>2174</td>\n",
              "      <td>0</td>\n",
              "      <td>40</td>\n",
              "      <td>United-States</td>\n",
              "      <td>&lt;=50K</td>\n",
              "    </tr>\n",
              "    <tr>\n",
              "      <th>1</th>\n",
              "      <td>50</td>\n",
              "      <td>Self-emp-not-inc</td>\n",
              "      <td>83311</td>\n",
              "      <td>Bachelors</td>\n",
              "      <td>13</td>\n",
              "      <td>Married-civ-spouse</td>\n",
              "      <td>Exec-managerial</td>\n",
              "      <td>Husband</td>\n",
              "      <td>White</td>\n",
              "      <td>Male</td>\n",
              "      <td>0</td>\n",
              "      <td>0</td>\n",
              "      <td>13</td>\n",
              "      <td>United-States</td>\n",
              "      <td>&lt;=50K</td>\n",
              "    </tr>\n",
              "    <tr>\n",
              "      <th>2</th>\n",
              "      <td>38</td>\n",
              "      <td>Private</td>\n",
              "      <td>215646</td>\n",
              "      <td>HS-grad</td>\n",
              "      <td>9</td>\n",
              "      <td>Divorced</td>\n",
              "      <td>Handlers-cleaners</td>\n",
              "      <td>Not-in-family</td>\n",
              "      <td>White</td>\n",
              "      <td>Male</td>\n",
              "      <td>0</td>\n",
              "      <td>0</td>\n",
              "      <td>40</td>\n",
              "      <td>United-States</td>\n",
              "      <td>&lt;=50K</td>\n",
              "    </tr>\n",
              "    <tr>\n",
              "      <th>3</th>\n",
              "      <td>53</td>\n",
              "      <td>Private</td>\n",
              "      <td>234721</td>\n",
              "      <td>11th</td>\n",
              "      <td>7</td>\n",
              "      <td>Married-civ-spouse</td>\n",
              "      <td>Handlers-cleaners</td>\n",
              "      <td>Husband</td>\n",
              "      <td>Black</td>\n",
              "      <td>Male</td>\n",
              "      <td>0</td>\n",
              "      <td>0</td>\n",
              "      <td>40</td>\n",
              "      <td>United-States</td>\n",
              "      <td>&lt;=50K</td>\n",
              "    </tr>\n",
              "    <tr>\n",
              "      <th>4</th>\n",
              "      <td>28</td>\n",
              "      <td>Private</td>\n",
              "      <td>338409</td>\n",
              "      <td>Bachelors</td>\n",
              "      <td>13</td>\n",
              "      <td>Married-civ-spouse</td>\n",
              "      <td>Prof-specialty</td>\n",
              "      <td>Wife</td>\n",
              "      <td>Black</td>\n",
              "      <td>Female</td>\n",
              "      <td>0</td>\n",
              "      <td>0</td>\n",
              "      <td>40</td>\n",
              "      <td>Cuba</td>\n",
              "      <td>&lt;=50K</td>\n",
              "    </tr>\n",
              "    <tr>\n",
              "      <th>...</th>\n",
              "      <td>...</td>\n",
              "      <td>...</td>\n",
              "      <td>...</td>\n",
              "      <td>...</td>\n",
              "      <td>...</td>\n",
              "      <td>...</td>\n",
              "      <td>...</td>\n",
              "      <td>...</td>\n",
              "      <td>...</td>\n",
              "      <td>...</td>\n",
              "      <td>...</td>\n",
              "      <td>...</td>\n",
              "      <td>...</td>\n",
              "      <td>...</td>\n",
              "      <td>...</td>\n",
              "    </tr>\n",
              "    <tr>\n",
              "      <th>32556</th>\n",
              "      <td>27</td>\n",
              "      <td>Private</td>\n",
              "      <td>257302</td>\n",
              "      <td>Assoc-acdm</td>\n",
              "      <td>12</td>\n",
              "      <td>Married-civ-spouse</td>\n",
              "      <td>Tech-support</td>\n",
              "      <td>Wife</td>\n",
              "      <td>White</td>\n",
              "      <td>Female</td>\n",
              "      <td>0</td>\n",
              "      <td>0</td>\n",
              "      <td>38</td>\n",
              "      <td>United-States</td>\n",
              "      <td>&lt;=50K</td>\n",
              "    </tr>\n",
              "    <tr>\n",
              "      <th>32557</th>\n",
              "      <td>40</td>\n",
              "      <td>Private</td>\n",
              "      <td>154374</td>\n",
              "      <td>HS-grad</td>\n",
              "      <td>9</td>\n",
              "      <td>Married-civ-spouse</td>\n",
              "      <td>Machine-op-inspct</td>\n",
              "      <td>Husband</td>\n",
              "      <td>White</td>\n",
              "      <td>Male</td>\n",
              "      <td>0</td>\n",
              "      <td>0</td>\n",
              "      <td>40</td>\n",
              "      <td>United-States</td>\n",
              "      <td>&gt;50K</td>\n",
              "    </tr>\n",
              "    <tr>\n",
              "      <th>32558</th>\n",
              "      <td>58</td>\n",
              "      <td>Private</td>\n",
              "      <td>151910</td>\n",
              "      <td>HS-grad</td>\n",
              "      <td>9</td>\n",
              "      <td>Widowed</td>\n",
              "      <td>Adm-clerical</td>\n",
              "      <td>Unmarried</td>\n",
              "      <td>White</td>\n",
              "      <td>Female</td>\n",
              "      <td>0</td>\n",
              "      <td>0</td>\n",
              "      <td>40</td>\n",
              "      <td>United-States</td>\n",
              "      <td>&lt;=50K</td>\n",
              "    </tr>\n",
              "    <tr>\n",
              "      <th>32559</th>\n",
              "      <td>22</td>\n",
              "      <td>Private</td>\n",
              "      <td>201490</td>\n",
              "      <td>HS-grad</td>\n",
              "      <td>9</td>\n",
              "      <td>Never-married</td>\n",
              "      <td>Adm-clerical</td>\n",
              "      <td>Own-child</td>\n",
              "      <td>White</td>\n",
              "      <td>Male</td>\n",
              "      <td>0</td>\n",
              "      <td>0</td>\n",
              "      <td>20</td>\n",
              "      <td>United-States</td>\n",
              "      <td>&lt;=50K</td>\n",
              "    </tr>\n",
              "    <tr>\n",
              "      <th>32560</th>\n",
              "      <td>52</td>\n",
              "      <td>Self-emp-inc</td>\n",
              "      <td>287927</td>\n",
              "      <td>HS-grad</td>\n",
              "      <td>9</td>\n",
              "      <td>Married-civ-spouse</td>\n",
              "      <td>Exec-managerial</td>\n",
              "      <td>Wife</td>\n",
              "      <td>White</td>\n",
              "      <td>Female</td>\n",
              "      <td>15024</td>\n",
              "      <td>0</td>\n",
              "      <td>40</td>\n",
              "      <td>United-States</td>\n",
              "      <td>&gt;50K</td>\n",
              "    </tr>\n",
              "  </tbody>\n",
              "</table>\n",
              "<p>32561 rows × 15 columns</p>\n",
              "</div>\n",
              "      <button class=\"colab-df-convert\" onclick=\"convertToInteractive('df-ce08a8fe-272a-4792-8184-9af7ab11c4d6')\"\n",
              "              title=\"Convert this dataframe to an interactive table.\"\n",
              "              style=\"display:none;\">\n",
              "        \n",
              "  <svg xmlns=\"http://www.w3.org/2000/svg\" height=\"24px\"viewBox=\"0 0 24 24\"\n",
              "       width=\"24px\">\n",
              "    <path d=\"M0 0h24v24H0V0z\" fill=\"none\"/>\n",
              "    <path d=\"M18.56 5.44l.94 2.06.94-2.06 2.06-.94-2.06-.94-.94-2.06-.94 2.06-2.06.94zm-11 1L8.5 8.5l.94-2.06 2.06-.94-2.06-.94L8.5 2.5l-.94 2.06-2.06.94zm10 10l.94 2.06.94-2.06 2.06-.94-2.06-.94-.94-2.06-.94 2.06-2.06.94z\"/><path d=\"M17.41 7.96l-1.37-1.37c-.4-.4-.92-.59-1.43-.59-.52 0-1.04.2-1.43.59L10.3 9.45l-7.72 7.72c-.78.78-.78 2.05 0 2.83L4 21.41c.39.39.9.59 1.41.59.51 0 1.02-.2 1.41-.59l7.78-7.78 2.81-2.81c.8-.78.8-2.07 0-2.86zM5.41 20L4 18.59l7.72-7.72 1.47 1.35L5.41 20z\"/>\n",
              "  </svg>\n",
              "      </button>\n",
              "      \n",
              "  <style>\n",
              "    .colab-df-container {\n",
              "      display:flex;\n",
              "      flex-wrap:wrap;\n",
              "      gap: 12px;\n",
              "    }\n",
              "\n",
              "    .colab-df-convert {\n",
              "      background-color: #E8F0FE;\n",
              "      border: none;\n",
              "      border-radius: 50%;\n",
              "      cursor: pointer;\n",
              "      display: none;\n",
              "      fill: #1967D2;\n",
              "      height: 32px;\n",
              "      padding: 0 0 0 0;\n",
              "      width: 32px;\n",
              "    }\n",
              "\n",
              "    .colab-df-convert:hover {\n",
              "      background-color: #E2EBFA;\n",
              "      box-shadow: 0px 1px 2px rgba(60, 64, 67, 0.3), 0px 1px 3px 1px rgba(60, 64, 67, 0.15);\n",
              "      fill: #174EA6;\n",
              "    }\n",
              "\n",
              "    [theme=dark] .colab-df-convert {\n",
              "      background-color: #3B4455;\n",
              "      fill: #D2E3FC;\n",
              "    }\n",
              "\n",
              "    [theme=dark] .colab-df-convert:hover {\n",
              "      background-color: #434B5C;\n",
              "      box-shadow: 0px 1px 3px 1px rgba(0, 0, 0, 0.15);\n",
              "      filter: drop-shadow(0px 1px 2px rgba(0, 0, 0, 0.3));\n",
              "      fill: #FFFFFF;\n",
              "    }\n",
              "  </style>\n",
              "\n",
              "      <script>\n",
              "        const buttonEl =\n",
              "          document.querySelector('#df-ce08a8fe-272a-4792-8184-9af7ab11c4d6 button.colab-df-convert');\n",
              "        buttonEl.style.display =\n",
              "          google.colab.kernel.accessAllowed ? 'block' : 'none';\n",
              "\n",
              "        async function convertToInteractive(key) {\n",
              "          const element = document.querySelector('#df-ce08a8fe-272a-4792-8184-9af7ab11c4d6');\n",
              "          const dataTable =\n",
              "            await google.colab.kernel.invokeFunction('convertToInteractive',\n",
              "                                                     [key], {});\n",
              "          if (!dataTable) return;\n",
              "\n",
              "          const docLinkHtml = 'Like what you see? Visit the ' +\n",
              "            '<a target=\"_blank\" href=https://colab.research.google.com/notebooks/data_table.ipynb>data table notebook</a>'\n",
              "            + ' to learn more about interactive tables.';\n",
              "          element.innerHTML = '';\n",
              "          dataTable['output_type'] = 'display_data';\n",
              "          await google.colab.output.renderOutput(dataTable, element);\n",
              "          const docLink = document.createElement('div');\n",
              "          docLink.innerHTML = docLinkHtml;\n",
              "          element.appendChild(docLink);\n",
              "        }\n",
              "      </script>\n",
              "    </div>\n",
              "  </div>\n",
              "  "
            ],
            "text/plain": [
              "       age          workclass  fnlwgt    education  education-num  \\\n",
              "0       39          State-gov   77516    Bachelors             13   \n",
              "1       50   Self-emp-not-inc   83311    Bachelors             13   \n",
              "2       38            Private  215646      HS-grad              9   \n",
              "3       53            Private  234721         11th              7   \n",
              "4       28            Private  338409    Bachelors             13   \n",
              "...    ...                ...     ...          ...            ...   \n",
              "32556   27            Private  257302   Assoc-acdm             12   \n",
              "32557   40            Private  154374      HS-grad              9   \n",
              "32558   58            Private  151910      HS-grad              9   \n",
              "32559   22            Private  201490      HS-grad              9   \n",
              "32560   52       Self-emp-inc  287927      HS-grad              9   \n",
              "\n",
              "            marital-status          occupation    relationship    race  \\\n",
              "0            Never-married        Adm-clerical   Not-in-family   White   \n",
              "1       Married-civ-spouse     Exec-managerial         Husband   White   \n",
              "2                 Divorced   Handlers-cleaners   Not-in-family   White   \n",
              "3       Married-civ-spouse   Handlers-cleaners         Husband   Black   \n",
              "4       Married-civ-spouse      Prof-specialty            Wife   Black   \n",
              "...                    ...                 ...             ...     ...   \n",
              "32556   Married-civ-spouse        Tech-support            Wife   White   \n",
              "32557   Married-civ-spouse   Machine-op-inspct         Husband   White   \n",
              "32558              Widowed        Adm-clerical       Unmarried   White   \n",
              "32559        Never-married        Adm-clerical       Own-child   White   \n",
              "32560   Married-civ-spouse     Exec-managerial            Wife   White   \n",
              "\n",
              "           sex  capital-gain  capital-loss  hours-per-week  native-country  \\\n",
              "0         Male          2174             0              40   United-States   \n",
              "1         Male             0             0              13   United-States   \n",
              "2         Male             0             0              40   United-States   \n",
              "3         Male             0             0              40   United-States   \n",
              "4       Female             0             0              40            Cuba   \n",
              "...        ...           ...           ...             ...             ...   \n",
              "32556   Female             0             0              38   United-States   \n",
              "32557     Male             0             0              40   United-States   \n",
              "32558   Female             0             0              40   United-States   \n",
              "32559     Male             0             0              20   United-States   \n",
              "32560   Female         15024             0              40   United-States   \n",
              "\n",
              "       income  \n",
              "0       <=50K  \n",
              "1       <=50K  \n",
              "2       <=50K  \n",
              "3       <=50K  \n",
              "4       <=50K  \n",
              "...       ...  \n",
              "32556   <=50K  \n",
              "32557    >50K  \n",
              "32558   <=50K  \n",
              "32559   <=50K  \n",
              "32560    >50K  \n",
              "\n",
              "[32561 rows x 15 columns]"
            ]
          },
          "metadata": {},
          "execution_count": 5
        }
      ]
    },
    {
      "cell_type": "code",
      "source": [
        "raw_data.info()"
      ],
      "metadata": {
        "colab": {
          "base_uri": "https://localhost:8080/"
        },
        "id": "mbR3ZPSe5k5w",
        "outputId": "f941d1c6-22de-43d5-b826-4b5d37075e36"
      },
      "execution_count": 6,
      "outputs": [
        {
          "output_type": "stream",
          "name": "stdout",
          "text": [
            "<class 'pandas.core.frame.DataFrame'>\n",
            "RangeIndex: 32561 entries, 0 to 32560\n",
            "Data columns (total 15 columns):\n",
            " #   Column          Non-Null Count  Dtype \n",
            "---  ------          --------------  ----- \n",
            " 0   age             32561 non-null  int64 \n",
            " 1   workclass       32561 non-null  object\n",
            " 2   fnlwgt          32561 non-null  int64 \n",
            " 3   education       32561 non-null  object\n",
            " 4   education-num   32561 non-null  int64 \n",
            " 5   marital-status  32561 non-null  object\n",
            " 6   occupation      32561 non-null  object\n",
            " 7   relationship    32561 non-null  object\n",
            " 8   race            32561 non-null  object\n",
            " 9   sex             32561 non-null  object\n",
            " 10  capital-gain    32561 non-null  int64 \n",
            " 11  capital-loss    32561 non-null  int64 \n",
            " 12  hours-per-week  32561 non-null  int64 \n",
            " 13  native-country  32561 non-null  object\n",
            " 14  income          32561 non-null  object\n",
            "dtypes: int64(6), object(9)\n",
            "memory usage: 3.7+ MB\n"
          ]
        }
      ]
    },
    {
      "cell_type": "code",
      "source": [
        "raw_data.isnull().sum()"
      ],
      "metadata": {
        "colab": {
          "base_uri": "https://localhost:8080/"
        },
        "id": "8UDbQ-oArfAi",
        "outputId": "e24561f1-e81d-46d1-b7c8-f0b5f1ed14bd"
      },
      "execution_count": 7,
      "outputs": [
        {
          "output_type": "execute_result",
          "data": {
            "text/plain": [
              "age               0\n",
              "workclass         0\n",
              "fnlwgt            0\n",
              "education         0\n",
              "education-num     0\n",
              "marital-status    0\n",
              "occupation        0\n",
              "relationship      0\n",
              "race              0\n",
              "sex               0\n",
              "capital-gain      0\n",
              "capital-loss      0\n",
              "hours-per-week    0\n",
              "native-country    0\n",
              "income            0\n",
              "dtype: int64"
            ]
          },
          "metadata": {},
          "execution_count": 7
        }
      ]
    },
    {
      "cell_type": "code",
      "source": [
        "df = raw_data"
      ],
      "metadata": {
        "id": "j1f5v2qOritT"
      },
      "execution_count": 8,
      "outputs": []
    },
    {
      "cell_type": "markdown",
      "source": [
        "# 1.) Explore data and Cleansing data\n",
        "\n",
        "ในส่วนนี้ได้ทำการสำรวจ และทำการ Clean ข้อมูล โดยจะมีการ Drop Row ที่มี Missing Value และ Drop Row ที่เรามองว่าเป็น Outliner ออก"
      ],
      "metadata": {
        "id": "xCORbVgRrkxx"
      }
    },
    {
      "cell_type": "markdown",
      "source": [
        "## 1.1) age"
      ],
      "metadata": {
        "id": "f3eFVZBivXQk"
      }
    },
    {
      "cell_type": "code",
      "source": [
        "df['age'].unique()"
      ],
      "metadata": {
        "colab": {
          "base_uri": "https://localhost:8080/"
        },
        "id": "zIidriz3ro0P",
        "outputId": "d131386d-b0f9-4ca0-ce87-e42bf8b17b08"
      },
      "execution_count": 9,
      "outputs": [
        {
          "output_type": "execute_result",
          "data": {
            "text/plain": [
              "array([39, 50, 38, 53, 28, 37, 49, 52, 31, 42, 30, 23, 32, 40, 34, 25, 43,\n",
              "       54, 35, 59, 56, 19, 20, 45, 22, 48, 21, 24, 57, 44, 41, 29, 18, 47,\n",
              "       46, 36, 79, 27, 67, 33, 76, 17, 55, 61, 70, 64, 71, 68, 66, 51, 58,\n",
              "       26, 60, 90, 75, 65, 77, 62, 63, 80, 72, 74, 69, 73, 81, 78, 88, 82,\n",
              "       83, 84, 85, 86, 87])"
            ]
          },
          "metadata": {},
          "execution_count": 9
        }
      ]
    },
    {
      "cell_type": "markdown",
      "source": [
        "## 1.2) fnlwgt"
      ],
      "metadata": {
        "id": "NSEJyi7evzLq"
      }
    },
    {
      "cell_type": "code",
      "source": [
        "df['fnlwgt'].unique()"
      ],
      "metadata": {
        "colab": {
          "base_uri": "https://localhost:8080/"
        },
        "id": "sK3dDjBOsKX-",
        "outputId": "f843808e-20b2-4baf-af2b-42d217fc91b7"
      },
      "execution_count": 10,
      "outputs": [
        {
          "output_type": "execute_result",
          "data": {
            "text/plain": [
              "array([ 77516,  83311, 215646, ...,  34066,  84661, 257302])"
            ]
          },
          "metadata": {},
          "execution_count": 10
        }
      ]
    },
    {
      "cell_type": "markdown",
      "source": [
        "# 1.3) workclass"
      ],
      "metadata": {
        "id": "M3CaVxDJv1y8"
      }
    },
    {
      "cell_type": "code",
      "source": [
        "df['workclass'].unique()"
      ],
      "metadata": {
        "colab": {
          "base_uri": "https://localhost:8080/"
        },
        "id": "_I1utz4tsNaz",
        "outputId": "3a4e2cb3-4001-4978-f8b1-66f1bac23fa9"
      },
      "execution_count": 11,
      "outputs": [
        {
          "output_type": "execute_result",
          "data": {
            "text/plain": [
              "array([' State-gov', ' Self-emp-not-inc', ' Private', ' Federal-gov',\n",
              "       ' Local-gov', ' ?', ' Self-emp-inc', ' Without-pay',\n",
              "       ' Never-worked'], dtype=object)"
            ]
          },
          "metadata": {},
          "execution_count": 11
        }
      ]
    },
    {
      "cell_type": "markdown",
      "source": [
        "Workclass เราพบว่ามี ' ?' ซึ่งเป็น Missing Value จึงทำการ Drop Row ที่มี ' ?'ออก"
      ],
      "metadata": {
        "id": "SaaxJ0c2y2_U"
      }
    },
    {
      "cell_type": "code",
      "source": [
        "df = df[df[\"workclass\"] != ' ?']\n",
        "df['workclass'].unique()"
      ],
      "metadata": {
        "colab": {
          "base_uri": "https://localhost:8080/"
        },
        "id": "PlODWQaLsQla",
        "outputId": "f2867fb4-9090-435b-8a67-1a6a0e0032f3"
      },
      "execution_count": 12,
      "outputs": [
        {
          "output_type": "execute_result",
          "data": {
            "text/plain": [
              "array([' State-gov', ' Self-emp-not-inc', ' Private', ' Federal-gov',\n",
              "       ' Local-gov', ' Self-emp-inc', ' Without-pay', ' Never-worked'],\n",
              "      dtype=object)"
            ]
          },
          "metadata": {},
          "execution_count": 12
        }
      ]
    },
    {
      "cell_type": "code",
      "source": [
        "#map_list = {' State-gov': 1, ' Self-emp-not-inc': 2, ' Private': 3, ' Federal-gov': 4, ' Local-gov': 5, ' Self-emp-inc': 6, ' Without-pay': 7, ' Never-worked': 8  }\n",
        "\n",
        "#df['workclass']=df['workclass'].map(map_list)\n",
        "#df['workclass'].unique()"
      ],
      "metadata": {
        "id": "7K2oAoDYsY0q"
      },
      "execution_count": 13,
      "outputs": []
    },
    {
      "cell_type": "markdown",
      "source": [
        "# 1.4) education"
      ],
      "metadata": {
        "id": "UrfBQCZfv7Ui"
      }
    },
    {
      "cell_type": "code",
      "source": [
        "df['education'].unique()"
      ],
      "metadata": {
        "colab": {
          "base_uri": "https://localhost:8080/"
        },
        "id": "is-Yw0uEsc_G",
        "outputId": "56e7c7aa-3ddd-417c-c1fd-bf87a464bc47"
      },
      "execution_count": 14,
      "outputs": [
        {
          "output_type": "execute_result",
          "data": {
            "text/plain": [
              "array([' Bachelors', ' HS-grad', ' 11th', ' Masters', ' 9th',\n",
              "       ' Some-college', ' Assoc-acdm', ' Assoc-voc', ' 7th-8th',\n",
              "       ' Doctorate', ' Prof-school', ' 5th-6th', ' 10th', ' Preschool',\n",
              "       ' 12th', ' 1st-4th'], dtype=object)"
            ]
          },
          "metadata": {},
          "execution_count": 14
        }
      ]
    },
    {
      "cell_type": "code",
      "source": [
        "df['education-num'].unique()"
      ],
      "metadata": {
        "colab": {
          "base_uri": "https://localhost:8080/"
        },
        "id": "xlCrko5Hsf3p",
        "outputId": "fb67ee71-e37c-4015-d9df-9056c3827cbb"
      },
      "execution_count": 15,
      "outputs": [
        {
          "output_type": "execute_result",
          "data": {
            "text/plain": [
              "array([13,  9,  7, 14,  5, 10, 12, 11,  4, 16, 15,  3,  6,  1,  8,  2])"
            ]
          },
          "metadata": {},
          "execution_count": 15
        }
      ]
    },
    {
      "cell_type": "markdown",
      "source": [
        "Education เราเห็นว่ามี Column Education-num อยู่แล้วจึงทำการ drop column education ออก"
      ],
      "metadata": {
        "id": "FX3O7J7KzE2Y"
      }
    },
    {
      "cell_type": "code",
      "source": [
        "df = df.drop(['education'],axis=1)\n"
      ],
      "metadata": {
        "id": "cDJK_c2wRr95"
      },
      "execution_count": 16,
      "outputs": []
    },
    {
      "cell_type": "markdown",
      "source": [
        "# 1.5) marital-status"
      ],
      "metadata": {
        "id": "sqjyjoxgv_TU"
      }
    },
    {
      "cell_type": "code",
      "source": [
        "df['marital-status'].unique()"
      ],
      "metadata": {
        "colab": {
          "base_uri": "https://localhost:8080/"
        },
        "id": "hbJ0_tylu_RB",
        "outputId": "26c82dac-ad4b-49c1-890d-2c77f1a23139"
      },
      "execution_count": 17,
      "outputs": [
        {
          "output_type": "execute_result",
          "data": {
            "text/plain": [
              "array([' Never-married', ' Married-civ-spouse', ' Divorced',\n",
              "       ' Married-spouse-absent', ' Separated', ' Married-AF-spouse',\n",
              "       ' Widowed'], dtype=object)"
            ]
          },
          "metadata": {},
          "execution_count": 17
        }
      ]
    },
    {
      "cell_type": "code",
      "source": [
        "#map_list = {' Never-married': 1, ' Married-civ-spouse': 2, ' Divorced': 3, ' Married-spouse-absent': 4, ' Separated': 5, ' Married-AF-spouse': 6, ' Widowed': 7}\n",
        "\n",
        "#df['marital-status'] = df['marital-status'].map(map_list)\n",
        "#df['marital-status'].unique()"
      ],
      "metadata": {
        "id": "0tZC1OTOvCJr"
      },
      "execution_count": 18,
      "outputs": []
    },
    {
      "cell_type": "markdown",
      "source": [
        "## 1.6) occupation"
      ],
      "metadata": {
        "id": "8-0p93C2wCll"
      }
    },
    {
      "cell_type": "code",
      "source": [
        "df['occupation'].unique()"
      ],
      "metadata": {
        "colab": {
          "base_uri": "https://localhost:8080/"
        },
        "id": "rku3IRLZvIoF",
        "outputId": "150d3e30-60bb-4c69-c904-55c359eeebd6"
      },
      "execution_count": 19,
      "outputs": [
        {
          "output_type": "execute_result",
          "data": {
            "text/plain": [
              "array([' Adm-clerical', ' Exec-managerial', ' Handlers-cleaners',\n",
              "       ' Prof-specialty', ' Other-service', ' Sales', ' Craft-repair',\n",
              "       ' Transport-moving', ' Farming-fishing', ' Machine-op-inspct',\n",
              "       ' Tech-support', ' Protective-serv', ' Armed-Forces',\n",
              "       ' Priv-house-serv', ' ?'], dtype=object)"
            ]
          },
          "metadata": {},
          "execution_count": 19
        }
      ]
    },
    {
      "cell_type": "markdown",
      "source": [
        "พอมาสำรวจ occupation เองก็มี ' ?' จึงทำการ drop row นั้นทิ้งไป"
      ],
      "metadata": {
        "id": "bkhjbpd2zOgi"
      }
    },
    {
      "cell_type": "code",
      "source": [
        "df = df[df[\"occupation\"] != ' ?']\n",
        "df['occupation'].unique()"
      ],
      "metadata": {
        "colab": {
          "base_uri": "https://localhost:8080/"
        },
        "id": "bIezgz1OvKvl",
        "outputId": "8483ed73-9bba-47d9-8a1f-e98bcb2bede4"
      },
      "execution_count": 20,
      "outputs": [
        {
          "output_type": "execute_result",
          "data": {
            "text/plain": [
              "array([' Adm-clerical', ' Exec-managerial', ' Handlers-cleaners',\n",
              "       ' Prof-specialty', ' Other-service', ' Sales', ' Craft-repair',\n",
              "       ' Transport-moving', ' Farming-fishing', ' Machine-op-inspct',\n",
              "       ' Tech-support', ' Protective-serv', ' Armed-Forces',\n",
              "       ' Priv-house-serv'], dtype=object)"
            ]
          },
          "metadata": {},
          "execution_count": 20
        }
      ]
    },
    {
      "cell_type": "code",
      "source": [
        "#map_list = {' Adm-clerical':1, ' Exec-managerial':2, ' Handlers-cleaners':3,\n",
        "#       ' Prof-specialty':4, ' Other-service':5, ' Sales':6, ' Craft-repair':7,\n",
        "#       ' Transport-moving':8, ' Farming-fishing':9, ' Machine-op-inspct':10,\n",
        "#       ' Tech-support':11, ' Protective-serv':12, ' Armed-Forces':13,\n",
        "#       ' Priv-house-serv':14}\n",
        "\n",
        "#df['occupation'] = df['occupation'].map(map_list)\n",
        "df['occupation'].unique()"
      ],
      "metadata": {
        "colab": {
          "base_uri": "https://localhost:8080/"
        },
        "id": "JCgHvNsd0RMq",
        "outputId": "2484c276-4759-4874-d175-e98ea864a0d0"
      },
      "execution_count": 21,
      "outputs": [
        {
          "output_type": "execute_result",
          "data": {
            "text/plain": [
              "array([' Adm-clerical', ' Exec-managerial', ' Handlers-cleaners',\n",
              "       ' Prof-specialty', ' Other-service', ' Sales', ' Craft-repair',\n",
              "       ' Transport-moving', ' Farming-fishing', ' Machine-op-inspct',\n",
              "       ' Tech-support', ' Protective-serv', ' Armed-Forces',\n",
              "       ' Priv-house-serv'], dtype=object)"
            ]
          },
          "metadata": {},
          "execution_count": 21
        }
      ]
    },
    {
      "cell_type": "markdown",
      "source": [
        "## 1.7) relationship"
      ],
      "metadata": {
        "id": "IXVcEDH2wJ5A"
      }
    },
    {
      "cell_type": "code",
      "source": [
        "df['relationship'].unique()"
      ],
      "metadata": {
        "colab": {
          "base_uri": "https://localhost:8080/"
        },
        "id": "9LvVggxnwQ38",
        "outputId": "87f0857e-86af-44df-ca30-e919265b8966"
      },
      "execution_count": 22,
      "outputs": [
        {
          "output_type": "execute_result",
          "data": {
            "text/plain": [
              "array([' Not-in-family', ' Husband', ' Wife', ' Own-child', ' Unmarried',\n",
              "       ' Other-relative'], dtype=object)"
            ]
          },
          "metadata": {},
          "execution_count": 22
        }
      ]
    },
    {
      "cell_type": "code",
      "source": [
        "#map_list = {' Not-in-family': 1, ' Husband': 2, ' Wife': 3, ' Own-child': 4, ' Unmarried': 5, ' Other-relative': 6}\n",
        "\n",
        "#df['relationship'] = df['relationship'].map(map_list)\n",
        "#df['relationship'].unique()"
      ],
      "metadata": {
        "id": "5Hl88-21wUnG"
      },
      "execution_count": 23,
      "outputs": []
    },
    {
      "cell_type": "markdown",
      "source": [
        "## 1.8) race"
      ],
      "metadata": {
        "id": "kpoWaMWiwkOL"
      }
    },
    {
      "cell_type": "code",
      "source": [
        "df['race'].unique()"
      ],
      "metadata": {
        "colab": {
          "base_uri": "https://localhost:8080/"
        },
        "id": "KkJ-tFMxwnE3",
        "outputId": "8d8d6934-6897-4744-aab2-c91c647a250b"
      },
      "execution_count": 24,
      "outputs": [
        {
          "output_type": "execute_result",
          "data": {
            "text/plain": [
              "array([' White', ' Black', ' Asian-Pac-Islander', ' Amer-Indian-Eskimo',\n",
              "       ' Other'], dtype=object)"
            ]
          },
          "metadata": {},
          "execution_count": 24
        }
      ]
    },
    {
      "cell_type": "code",
      "source": [
        "#map_list = {' White': 1, ' Black': 2, ' Asian-Pac-Islander': 3, ' Amer-Indian-Eskimo': 4, ' Other': 5}\n",
        "#df['race'] = df['race'].map(map_list)\n",
        "#df['race'].unique()"
      ],
      "metadata": {
        "id": "t7vau4GUwq2i"
      },
      "execution_count": 25,
      "outputs": []
    },
    {
      "cell_type": "markdown",
      "source": [
        "## 1.9) sex"
      ],
      "metadata": {
        "id": "q4rEOXnNw8tY"
      }
    },
    {
      "cell_type": "code",
      "source": [
        "#df['sex'].unique()\n",
        "#map_list = {' Male':0, ' Female':1}\n",
        "\n",
        "#df['sex'] = df['sex'].map(map_list)\n",
        "#df['sex'].unique()"
      ],
      "metadata": {
        "id": "B4jYD-s8wwzM"
      },
      "execution_count": 26,
      "outputs": []
    },
    {
      "cell_type": "markdown",
      "source": [
        "## 1.10) capital-gain"
      ],
      "metadata": {
        "id": "4X-608K-xAEL"
      }
    },
    {
      "cell_type": "code",
      "source": [
        "df['capital-gain'].unique()"
      ],
      "metadata": {
        "colab": {
          "base_uri": "https://localhost:8080/"
        },
        "id": "EmxA5jA9xGGE",
        "outputId": "1cb7e467-805c-41ba-f067-75542fbe8590"
      },
      "execution_count": 27,
      "outputs": [
        {
          "output_type": "execute_result",
          "data": {
            "text/plain": [
              "array([ 2174,     0, 14084,  5178,  5013,  2407, 14344, 15024,  7688,\n",
              "        4064,  4386,  7298,  1409,  3674,  1055,  2050,  2176,   594,\n",
              "       20051,  6849,  4101,  8614,  3411,  2597, 25236,  4650,  9386,\n",
              "        2463,  3103, 10605,  2964,  3325,  2580,  3471,  4865, 99999,\n",
              "        6514,  1471,  2329,  2105,  2885, 10520,  2202,  2961, 27828,\n",
              "        6767,  2228,  1506, 13550,  2635,  5556,  4787,  3781,  3137,\n",
              "        3818,   914,   401,  2829,  2977,  4934,  2062,  2354,  3464,\n",
              "        5455, 15020,  1424,  3273, 22040,  4416, 10566,  4931,  7430,\n",
              "       34095,  6497,  3908,   114,  7896,  2346,  2907,  1151,  2414,\n",
              "        2290,  3418, 15831, 41310,  4508,  2538,  3456,  1848,  3887,\n",
              "        5721,  9562,  6418,  1455,  2036,  3942,  1831, 11678,  2936,\n",
              "        2993,  7443,  6360,  4687,  1797,  6723,  2009,  3432,  6097,\n",
              "        1639,  2653, 18481, 25124,  7978,   991,  1173,  2387,  5060,\n",
              "        1086])"
            ]
          },
          "metadata": {},
          "execution_count": 27
        }
      ]
    },
    {
      "cell_type": "markdown",
      "source": [
        "## 1.11) captial-loss"
      ],
      "metadata": {
        "id": "y2AOi1RBxJnp"
      }
    },
    {
      "cell_type": "code",
      "source": [
        "df['capital-loss'].unique()"
      ],
      "metadata": {
        "colab": {
          "base_uri": "https://localhost:8080/"
        },
        "id": "m1nQJVn4xMjZ",
        "outputId": "fa78ad2e-f1a9-49a0-a1f4-fdd14eb31083"
      },
      "execution_count": 28,
      "outputs": [
        {
          "output_type": "execute_result",
          "data": {
            "text/plain": [
              "array([   0, 2042, 1408, 1902, 1573, 1887, 1719, 1762, 1564, 2179, 1816,\n",
              "       1980, 1977, 1876, 1340, 2206, 1741, 1485, 2339, 2415, 1380, 1721,\n",
              "       2051, 2377, 1669, 2352, 1672,  653, 2392, 1504, 1590, 1651, 1628,\n",
              "       1848, 2001, 1740, 2002, 1579, 2258, 1602, 2547, 2205, 1726, 2444,\n",
              "       1138, 2238,  625,  213, 1539,  880, 1668, 1092, 1594, 3004, 2231,\n",
              "       1844,  810, 2824, 2559, 2057, 1974,  974, 2174, 2149, 1735, 1258,\n",
              "       2129, 2603, 2282,  323, 2246, 1617, 1648, 1825, 3770, 1755, 3683,\n",
              "       4356, 2267, 2080, 2457,  419,  155, 3900, 2201, 1944, 2467, 2754,\n",
              "       2472, 1411])"
            ]
          },
          "metadata": {},
          "execution_count": 28
        }
      ]
    },
    {
      "cell_type": "code",
      "source": [
        "df.columns"
      ],
      "metadata": {
        "colab": {
          "base_uri": "https://localhost:8080/"
        },
        "id": "cLFmiWRa6Q-6",
        "outputId": "64f9000b-3a5b-4eee-f2c8-00b8b8b5c111"
      },
      "execution_count": 29,
      "outputs": [
        {
          "output_type": "execute_result",
          "data": {
            "text/plain": [
              "Index(['age', 'workclass', 'fnlwgt', 'education-num', 'marital-status',\n",
              "       'occupation', 'relationship', 'race', 'sex', 'capital-gain',\n",
              "       'capital-loss', 'hours-per-week', 'native-country', 'income'],\n",
              "      dtype='object')"
            ]
          },
          "metadata": {},
          "execution_count": 29
        }
      ]
    },
    {
      "cell_type": "markdown",
      "source": [
        "## 1.12 Hours-per-week"
      ],
      "metadata": {
        "id": "xhsihkLvxSaz"
      }
    },
    {
      "cell_type": "code",
      "source": [
        "df['hours-per-week'].unique()"
      ],
      "metadata": {
        "colab": {
          "base_uri": "https://localhost:8080/"
        },
        "id": "zyFSHy1kxYou",
        "outputId": "d8d1850a-495a-4e04-f980-1686975a13db"
      },
      "execution_count": 30,
      "outputs": [
        {
          "output_type": "execute_result",
          "data": {
            "text/plain": [
              "array([40, 13, 16, 45, 50, 80, 30, 35, 60, 20, 52, 44, 15, 25, 38, 43, 55,\n",
              "       48, 58, 32, 70, 22, 56, 41, 28, 36, 24, 46,  2, 42, 12, 65,  1, 34,\n",
              "       75, 98, 33, 54, 10,  6, 64, 19, 18, 72,  8,  9, 47, 37, 21, 26, 14,\n",
              "        5, 59,  7, 99, 53, 39, 62, 57, 78, 90, 66, 11, 49, 84,  4, 17, 68,\n",
              "        3, 27, 85, 31, 51, 77, 63, 23, 87, 88, 73, 89, 97, 94, 29, 96, 67,\n",
              "       82, 86, 91, 81, 76, 92, 61, 74, 95])"
            ]
          },
          "metadata": {},
          "execution_count": 30
        }
      ]
    },
    {
      "cell_type": "markdown",
      "source": [
        "## 1.13) native-country"
      ],
      "metadata": {
        "id": "vtpiBq7Exar_"
      }
    },
    {
      "cell_type": "code",
      "source": [
        "df['native-country'].unique()"
      ],
      "metadata": {
        "colab": {
          "base_uri": "https://localhost:8080/"
        },
        "id": "RnFCPe24xduw",
        "outputId": "3c514a01-8da5-4561-a91c-5018bb98b33d"
      },
      "execution_count": 31,
      "outputs": [
        {
          "output_type": "execute_result",
          "data": {
            "text/plain": [
              "array([' United-States', ' Cuba', ' Jamaica', ' India', ' ?', ' Mexico',\n",
              "       ' Puerto-Rico', ' Honduras', ' England', ' Canada', ' Germany',\n",
              "       ' Iran', ' Philippines', ' Poland', ' Columbia', ' Cambodia',\n",
              "       ' Thailand', ' Ecuador', ' Laos', ' Taiwan', ' Haiti', ' Portugal',\n",
              "       ' Dominican-Republic', ' El-Salvador', ' France', ' Guatemala',\n",
              "       ' Italy', ' China', ' South', ' Japan', ' Yugoslavia', ' Peru',\n",
              "       ' Outlying-US(Guam-USVI-etc)', ' Scotland', ' Trinadad&Tobago',\n",
              "       ' Greece', ' Nicaragua', ' Vietnam', ' Hong', ' Ireland',\n",
              "       ' Hungary', ' Holand-Netherlands'], dtype=object)"
            ]
          },
          "metadata": {},
          "execution_count": 31
        }
      ]
    },
    {
      "cell_type": "markdown",
      "source": [
        "native-country พบ ' ?' จึงทำการ Drop row นั้นออก"
      ],
      "metadata": {
        "id": "brI99mO5zdKZ"
      }
    },
    {
      "cell_type": "code",
      "source": [
        "df = df[df[\"native-country\"] != ' ?']\n",
        "df['native-country'].unique()"
      ],
      "metadata": {
        "colab": {
          "base_uri": "https://localhost:8080/"
        },
        "id": "0b-hcs4vxjTO",
        "outputId": "62705f6f-605b-4cdc-dc0d-9f2866ee33c3"
      },
      "execution_count": 32,
      "outputs": [
        {
          "output_type": "execute_result",
          "data": {
            "text/plain": [
              "array([' United-States', ' Cuba', ' Jamaica', ' India', ' Mexico',\n",
              "       ' Puerto-Rico', ' Honduras', ' England', ' Canada', ' Germany',\n",
              "       ' Iran', ' Philippines', ' Poland', ' Columbia', ' Cambodia',\n",
              "       ' Thailand', ' Ecuador', ' Laos', ' Taiwan', ' Haiti', ' Portugal',\n",
              "       ' Dominican-Republic', ' El-Salvador', ' France', ' Guatemala',\n",
              "       ' Italy', ' China', ' South', ' Japan', ' Yugoslavia', ' Peru',\n",
              "       ' Outlying-US(Guam-USVI-etc)', ' Scotland', ' Trinadad&Tobago',\n",
              "       ' Greece', ' Nicaragua', ' Vietnam', ' Hong', ' Ireland',\n",
              "       ' Hungary', ' Holand-Netherlands'], dtype=object)"
            ]
          },
          "metadata": {},
          "execution_count": 32
        }
      ]
    },
    {
      "cell_type": "code",
      "source": [
        "#map_list = {' United-States': 1, ' Cuba': 2, ' Jamaica': 3, ' India': 4, ' Mexico': 5,\n",
        "#       ' South': 6, ' Puerto-Rico': 7, ' Honduras': 8, ' England': 9, ' Canada': 10,\n",
        "#       ' Germany': 11, ' Iran': 12, ' Philippines': 13, ' Italy': 14, ' Poland': 15,\n",
        "#       ' Columbia': 16, ' Cambodia': 17, ' Thailand': 18, ' Ecuador': 19, ' Laos': 20,\n",
        "#       ' Taiwan': 21, ' Haiti': 22, ' Portugal': 23, ' Dominican-Republic': 24,\n",
        "#       ' El-Salvador': 25, ' France': 26, ' Guatemala': 27, ' China': 28, ' Japan': 29,\n",
        "#       ' Yugoslavia': 30, ' Peru': 31, ' Outlying-US(Guam-USVI-etc)': 32, ' Scotland': 33,\n",
        "#       ' Trinadad&Tobago': 34, ' Greece': 35, ' Nicaragua': 36, ' Vietnam': 37, ' Hong': 38,\n",
        "#       ' Ireland': 39, ' Hungary': 40, ' Holand-Netherlands': 41}\n",
        "\n",
        "#df['native-country'] = df['native-country'].map(map_list)\n",
        "#df['native-country'].unique()"
      ],
      "metadata": {
        "id": "6f7McF4DxnQW"
      },
      "execution_count": 33,
      "outputs": []
    },
    {
      "cell_type": "markdown",
      "source": [
        "## 1.14) income"
      ],
      "metadata": {
        "id": "WI6AncCHxsdL"
      }
    },
    {
      "cell_type": "code",
      "source": [
        "#df['income'].unique()"
      ],
      "metadata": {
        "id": "KcA0zf-Lxz0N"
      },
      "execution_count": 34,
      "outputs": []
    },
    {
      "cell_type": "code",
      "source": [
        "#map_list = {' <=50K': 0, ' >50K': 1}\n",
        "\n",
        "#df['income'] = df['income'].map(map_list)\n",
        "#df['income'].unique()"
      ],
      "metadata": {
        "id": "Hs4ruEBFx2du"
      },
      "execution_count": 35,
      "outputs": []
    },
    {
      "cell_type": "code",
      "source": [
        "df.head()"
      ],
      "metadata": {
        "colab": {
          "base_uri": "https://localhost:8080/",
          "height": 336
        },
        "id": "rdGkZT_7x4qW",
        "outputId": "2e49f895-3661-4ba5-ff47-066702b1efab"
      },
      "execution_count": 36,
      "outputs": [
        {
          "output_type": "execute_result",
          "data": {
            "text/html": [
              "\n",
              "  <div id=\"df-1dcd2ea1-397f-4dd6-9735-d9ed759c7cec\">\n",
              "    <div class=\"colab-df-container\">\n",
              "      <div>\n",
              "<style scoped>\n",
              "    .dataframe tbody tr th:only-of-type {\n",
              "        vertical-align: middle;\n",
              "    }\n",
              "\n",
              "    .dataframe tbody tr th {\n",
              "        vertical-align: top;\n",
              "    }\n",
              "\n",
              "    .dataframe thead th {\n",
              "        text-align: right;\n",
              "    }\n",
              "</style>\n",
              "<table border=\"1\" class=\"dataframe\">\n",
              "  <thead>\n",
              "    <tr style=\"text-align: right;\">\n",
              "      <th></th>\n",
              "      <th>age</th>\n",
              "      <th>workclass</th>\n",
              "      <th>fnlwgt</th>\n",
              "      <th>education-num</th>\n",
              "      <th>marital-status</th>\n",
              "      <th>occupation</th>\n",
              "      <th>relationship</th>\n",
              "      <th>race</th>\n",
              "      <th>sex</th>\n",
              "      <th>capital-gain</th>\n",
              "      <th>capital-loss</th>\n",
              "      <th>hours-per-week</th>\n",
              "      <th>native-country</th>\n",
              "      <th>income</th>\n",
              "    </tr>\n",
              "  </thead>\n",
              "  <tbody>\n",
              "    <tr>\n",
              "      <th>0</th>\n",
              "      <td>39</td>\n",
              "      <td>State-gov</td>\n",
              "      <td>77516</td>\n",
              "      <td>13</td>\n",
              "      <td>Never-married</td>\n",
              "      <td>Adm-clerical</td>\n",
              "      <td>Not-in-family</td>\n",
              "      <td>White</td>\n",
              "      <td>Male</td>\n",
              "      <td>2174</td>\n",
              "      <td>0</td>\n",
              "      <td>40</td>\n",
              "      <td>United-States</td>\n",
              "      <td>&lt;=50K</td>\n",
              "    </tr>\n",
              "    <tr>\n",
              "      <th>1</th>\n",
              "      <td>50</td>\n",
              "      <td>Self-emp-not-inc</td>\n",
              "      <td>83311</td>\n",
              "      <td>13</td>\n",
              "      <td>Married-civ-spouse</td>\n",
              "      <td>Exec-managerial</td>\n",
              "      <td>Husband</td>\n",
              "      <td>White</td>\n",
              "      <td>Male</td>\n",
              "      <td>0</td>\n",
              "      <td>0</td>\n",
              "      <td>13</td>\n",
              "      <td>United-States</td>\n",
              "      <td>&lt;=50K</td>\n",
              "    </tr>\n",
              "    <tr>\n",
              "      <th>2</th>\n",
              "      <td>38</td>\n",
              "      <td>Private</td>\n",
              "      <td>215646</td>\n",
              "      <td>9</td>\n",
              "      <td>Divorced</td>\n",
              "      <td>Handlers-cleaners</td>\n",
              "      <td>Not-in-family</td>\n",
              "      <td>White</td>\n",
              "      <td>Male</td>\n",
              "      <td>0</td>\n",
              "      <td>0</td>\n",
              "      <td>40</td>\n",
              "      <td>United-States</td>\n",
              "      <td>&lt;=50K</td>\n",
              "    </tr>\n",
              "    <tr>\n",
              "      <th>3</th>\n",
              "      <td>53</td>\n",
              "      <td>Private</td>\n",
              "      <td>234721</td>\n",
              "      <td>7</td>\n",
              "      <td>Married-civ-spouse</td>\n",
              "      <td>Handlers-cleaners</td>\n",
              "      <td>Husband</td>\n",
              "      <td>Black</td>\n",
              "      <td>Male</td>\n",
              "      <td>0</td>\n",
              "      <td>0</td>\n",
              "      <td>40</td>\n",
              "      <td>United-States</td>\n",
              "      <td>&lt;=50K</td>\n",
              "    </tr>\n",
              "    <tr>\n",
              "      <th>4</th>\n",
              "      <td>28</td>\n",
              "      <td>Private</td>\n",
              "      <td>338409</td>\n",
              "      <td>13</td>\n",
              "      <td>Married-civ-spouse</td>\n",
              "      <td>Prof-specialty</td>\n",
              "      <td>Wife</td>\n",
              "      <td>Black</td>\n",
              "      <td>Female</td>\n",
              "      <td>0</td>\n",
              "      <td>0</td>\n",
              "      <td>40</td>\n",
              "      <td>Cuba</td>\n",
              "      <td>&lt;=50K</td>\n",
              "    </tr>\n",
              "  </tbody>\n",
              "</table>\n",
              "</div>\n",
              "      <button class=\"colab-df-convert\" onclick=\"convertToInteractive('df-1dcd2ea1-397f-4dd6-9735-d9ed759c7cec')\"\n",
              "              title=\"Convert this dataframe to an interactive table.\"\n",
              "              style=\"display:none;\">\n",
              "        \n",
              "  <svg xmlns=\"http://www.w3.org/2000/svg\" height=\"24px\"viewBox=\"0 0 24 24\"\n",
              "       width=\"24px\">\n",
              "    <path d=\"M0 0h24v24H0V0z\" fill=\"none\"/>\n",
              "    <path d=\"M18.56 5.44l.94 2.06.94-2.06 2.06-.94-2.06-.94-.94-2.06-.94 2.06-2.06.94zm-11 1L8.5 8.5l.94-2.06 2.06-.94-2.06-.94L8.5 2.5l-.94 2.06-2.06.94zm10 10l.94 2.06.94-2.06 2.06-.94-2.06-.94-.94-2.06-.94 2.06-2.06.94z\"/><path d=\"M17.41 7.96l-1.37-1.37c-.4-.4-.92-.59-1.43-.59-.52 0-1.04.2-1.43.59L10.3 9.45l-7.72 7.72c-.78.78-.78 2.05 0 2.83L4 21.41c.39.39.9.59 1.41.59.51 0 1.02-.2 1.41-.59l7.78-7.78 2.81-2.81c.8-.78.8-2.07 0-2.86zM5.41 20L4 18.59l7.72-7.72 1.47 1.35L5.41 20z\"/>\n",
              "  </svg>\n",
              "      </button>\n",
              "      \n",
              "  <style>\n",
              "    .colab-df-container {\n",
              "      display:flex;\n",
              "      flex-wrap:wrap;\n",
              "      gap: 12px;\n",
              "    }\n",
              "\n",
              "    .colab-df-convert {\n",
              "      background-color: #E8F0FE;\n",
              "      border: none;\n",
              "      border-radius: 50%;\n",
              "      cursor: pointer;\n",
              "      display: none;\n",
              "      fill: #1967D2;\n",
              "      height: 32px;\n",
              "      padding: 0 0 0 0;\n",
              "      width: 32px;\n",
              "    }\n",
              "\n",
              "    .colab-df-convert:hover {\n",
              "      background-color: #E2EBFA;\n",
              "      box-shadow: 0px 1px 2px rgba(60, 64, 67, 0.3), 0px 1px 3px 1px rgba(60, 64, 67, 0.15);\n",
              "      fill: #174EA6;\n",
              "    }\n",
              "\n",
              "    [theme=dark] .colab-df-convert {\n",
              "      background-color: #3B4455;\n",
              "      fill: #D2E3FC;\n",
              "    }\n",
              "\n",
              "    [theme=dark] .colab-df-convert:hover {\n",
              "      background-color: #434B5C;\n",
              "      box-shadow: 0px 1px 3px 1px rgba(0, 0, 0, 0.15);\n",
              "      filter: drop-shadow(0px 1px 2px rgba(0, 0, 0, 0.3));\n",
              "      fill: #FFFFFF;\n",
              "    }\n",
              "  </style>\n",
              "\n",
              "      <script>\n",
              "        const buttonEl =\n",
              "          document.querySelector('#df-1dcd2ea1-397f-4dd6-9735-d9ed759c7cec button.colab-df-convert');\n",
              "        buttonEl.style.display =\n",
              "          google.colab.kernel.accessAllowed ? 'block' : 'none';\n",
              "\n",
              "        async function convertToInteractive(key) {\n",
              "          const element = document.querySelector('#df-1dcd2ea1-397f-4dd6-9735-d9ed759c7cec');\n",
              "          const dataTable =\n",
              "            await google.colab.kernel.invokeFunction('convertToInteractive',\n",
              "                                                     [key], {});\n",
              "          if (!dataTable) return;\n",
              "\n",
              "          const docLinkHtml = 'Like what you see? Visit the ' +\n",
              "            '<a target=\"_blank\" href=https://colab.research.google.com/notebooks/data_table.ipynb>data table notebook</a>'\n",
              "            + ' to learn more about interactive tables.';\n",
              "          element.innerHTML = '';\n",
              "          dataTable['output_type'] = 'display_data';\n",
              "          await google.colab.output.renderOutput(dataTable, element);\n",
              "          const docLink = document.createElement('div');\n",
              "          docLink.innerHTML = docLinkHtml;\n",
              "          element.appendChild(docLink);\n",
              "        }\n",
              "      </script>\n",
              "    </div>\n",
              "  </div>\n",
              "  "
            ],
            "text/plain": [
              "   age          workclass  fnlwgt  education-num       marital-status  \\\n",
              "0   39          State-gov   77516             13        Never-married   \n",
              "1   50   Self-emp-not-inc   83311             13   Married-civ-spouse   \n",
              "2   38            Private  215646              9             Divorced   \n",
              "3   53            Private  234721              7   Married-civ-spouse   \n",
              "4   28            Private  338409             13   Married-civ-spouse   \n",
              "\n",
              "           occupation    relationship    race      sex  capital-gain  \\\n",
              "0        Adm-clerical   Not-in-family   White     Male          2174   \n",
              "1     Exec-managerial         Husband   White     Male             0   \n",
              "2   Handlers-cleaners   Not-in-family   White     Male             0   \n",
              "3   Handlers-cleaners         Husband   Black     Male             0   \n",
              "4      Prof-specialty            Wife   Black   Female             0   \n",
              "\n",
              "   capital-loss  hours-per-week  native-country  income  \n",
              "0             0              40   United-States   <=50K  \n",
              "1             0              13   United-States   <=50K  \n",
              "2             0              40   United-States   <=50K  \n",
              "3             0              40   United-States   <=50K  \n",
              "4             0              40            Cuba   <=50K  "
            ]
          },
          "metadata": {},
          "execution_count": 36
        }
      ]
    },
    {
      "cell_type": "markdown",
      "source": [
        "# 2.) Plot data\n",
        "\n",
        "ทำการ Plot กราฟ เพื่อดูหน้าตาของข้อมูลที่่เป็น Numeric"
      ],
      "metadata": {
        "id": "6Yj1UAYzyZ2m"
      }
    },
    {
      "cell_type": "code",
      "source": [
        "df.columns"
      ],
      "metadata": {
        "colab": {
          "base_uri": "https://localhost:8080/"
        },
        "id": "o-y61mSLysdT",
        "outputId": "ec0957b4-499d-414e-cb02-c4b6d3bbe012"
      },
      "execution_count": 37,
      "outputs": [
        {
          "output_type": "execute_result",
          "data": {
            "text/plain": [
              "Index(['age', 'workclass', 'fnlwgt', 'education-num', 'marital-status',\n",
              "       'occupation', 'relationship', 'race', 'sex', 'capital-gain',\n",
              "       'capital-loss', 'hours-per-week', 'native-country', 'income'],\n",
              "      dtype='object')"
            ]
          },
          "metadata": {},
          "execution_count": 37
        }
      ]
    },
    {
      "cell_type": "code",
      "source": [
        "df.info()"
      ],
      "metadata": {
        "colab": {
          "base_uri": "https://localhost:8080/"
        },
        "id": "eLe_7RXD6qJJ",
        "outputId": "469c6c07-157b-4921-ec2d-19c9632691a3"
      },
      "execution_count": 38,
      "outputs": [
        {
          "output_type": "stream",
          "name": "stdout",
          "text": [
            "<class 'pandas.core.frame.DataFrame'>\n",
            "Int64Index: 30162 entries, 0 to 32560\n",
            "Data columns (total 14 columns):\n",
            " #   Column          Non-Null Count  Dtype \n",
            "---  ------          --------------  ----- \n",
            " 0   age             30162 non-null  int64 \n",
            " 1   workclass       30162 non-null  object\n",
            " 2   fnlwgt          30162 non-null  int64 \n",
            " 3   education-num   30162 non-null  int64 \n",
            " 4   marital-status  30162 non-null  object\n",
            " 5   occupation      30162 non-null  object\n",
            " 6   relationship    30162 non-null  object\n",
            " 7   race            30162 non-null  object\n",
            " 8   sex             30162 non-null  object\n",
            " 9   capital-gain    30162 non-null  int64 \n",
            " 10  capital-loss    30162 non-null  int64 \n",
            " 11  hours-per-week  30162 non-null  int64 \n",
            " 12  native-country  30162 non-null  object\n",
            " 13  income          30162 non-null  object\n",
            "dtypes: int64(6), object(8)\n",
            "memory usage: 3.5+ MB\n"
          ]
        }
      ]
    },
    {
      "cell_type": "code",
      "source": [
        "df.hist(bins=100, figsize=(40,20))"
      ],
      "metadata": {
        "colab": {
          "base_uri": "https://localhost:8080/",
          "height": 794
        },
        "id": "NgHXmPaKyxFY",
        "outputId": "7437c5aa-900e-4e13-d52c-eff7d34e5ac3"
      },
      "execution_count": 39,
      "outputs": [
        {
          "output_type": "execute_result",
          "data": {
            "text/plain": [
              "array([[<matplotlib.axes._subplots.AxesSubplot object at 0x7fc4b8b0d5d0>,\n",
              "        <matplotlib.axes._subplots.AxesSubplot object at 0x7fc4b8a5bd90>],\n",
              "       [<matplotlib.axes._subplots.AxesSubplot object at 0x7fc4b8a203d0>,\n",
              "        <matplotlib.axes._subplots.AxesSubplot object at 0x7fc4b89d69d0>],\n",
              "       [<matplotlib.axes._subplots.AxesSubplot object at 0x7fc4b8b8cb10>,\n",
              "        <matplotlib.axes._subplots.AxesSubplot object at 0x7fc4b89cb550>]],\n",
              "      dtype=object)"
            ]
          },
          "metadata": {},
          "execution_count": 39
        },
        {
          "output_type": "display_data",
          "data": {
            "image/png": "[encoded data removed]",
            "text/plain": [
              "<Figure size 2880x1440 with 6 Axes>"
            ]
          },
          "metadata": {
            "needs_background": "light"
          }
        }
      ]
    },
    {
      "cell_type": "markdown",
      "source": [
        "จาก Info และ กราฟ เราพบว่ามี capital-gain ที่มีค่าอยู่ที่ 99999 ซึ่งเป็นตัวเลขที่แปลกและโดด เกินไป เราจึงมองว่าเป็น Outliner และทำการ drop row นั้นทิ้ง"
      ],
      "metadata": {
        "id": "19po9tNqzugp"
      }
    },
    {
      "cell_type": "code",
      "source": [
        "df = df[(df[\"capital-gain\"] != 99999)]"
      ],
      "metadata": {
        "id": "HOyKlsH-6QEu"
      },
      "execution_count": 40,
      "outputs": []
    },
    {
      "cell_type": "code",
      "source": [
        "df.info()"
      ],
      "metadata": {
        "colab": {
          "base_uri": "https://localhost:8080/"
        },
        "id": "4mxsmKfc0hYO",
        "outputId": "4ec9ea2a-3845-4fb3-fa7f-b4e08f97078c"
      },
      "execution_count": 41,
      "outputs": [
        {
          "output_type": "stream",
          "name": "stdout",
          "text": [
            "<class 'pandas.core.frame.DataFrame'>\n",
            "Int64Index: 30014 entries, 0 to 32560\n",
            "Data columns (total 14 columns):\n",
            " #   Column          Non-Null Count  Dtype \n",
            "---  ------          --------------  ----- \n",
            " 0   age             30014 non-null  int64 \n",
            " 1   workclass       30014 non-null  object\n",
            " 2   fnlwgt          30014 non-null  int64 \n",
            " 3   education-num   30014 non-null  int64 \n",
            " 4   marital-status  30014 non-null  object\n",
            " 5   occupation      30014 non-null  object\n",
            " 6   relationship    30014 non-null  object\n",
            " 7   race            30014 non-null  object\n",
            " 8   sex             30014 non-null  object\n",
            " 9   capital-gain    30014 non-null  int64 \n",
            " 10  capital-loss    30014 non-null  int64 \n",
            " 11  hours-per-week  30014 non-null  int64 \n",
            " 12  native-country  30014 non-null  object\n",
            " 13  income          30014 non-null  object\n",
            "dtypes: int64(6), object(8)\n",
            "memory usage: 3.4+ MB\n"
          ]
        }
      ]
    },
    {
      "cell_type": "markdown",
      "source": [
        "ต่อมาเราได้ทำการสร้าง Dummy ขึ้นเพื่อแบ่ง Parameter ออกเป็นแต่ละ column และทำการ Normalize ข้อมูลที่อยู่ใน column นั้น"
      ],
      "metadata": {
        "id": "DRr662fOz-OT"
      }
    },
    {
      "cell_type": "code",
      "source": [
        "#Dummy function\n",
        "def make_dummy(df,features):\n",
        "    for feature in features:\n",
        "        dummies = pd.get_dummies(df[feature])\n",
        "        df = pd.concat([df, dummies], axis='columns')\n",
        "        df.drop([feature], axis='columns',inplace=True)\n",
        "    return df\n",
        "\n",
        "def normalization_feature(df,columns):\n",
        "    for column in columns:\n",
        "        df[column] = (df[column] - df[column].min()) / (df[column].max() - df[column].min())\n",
        "    return df"
      ],
      "metadata": {
        "id": "dsAcqzvCOrma"
      },
      "execution_count": 42,
      "outputs": []
    },
    {
      "cell_type": "code",
      "source": [
        "#ถ้าใช้ตัวนี้ก็ไม่มีความจำเป็นต้องแปลง class ให้เป็นเลข เพราะเป็นเลขแล้วเวลา drop มันจะ drop เลขตัวเดียวกัน\n",
        "df = make_dummy(df,['workclass','marital-status','occupation','relationship','race','sex','native-country','income'])\n",
        "df = normalization_feature(df, list(df.columns))\n"
      ],
      "metadata": {
        "id": "6EWoqvpqO36H"
      },
      "execution_count": 43,
      "outputs": []
    },
    {
      "cell_type": "code",
      "source": [
        "df.drop([' >50K'], axis='columns',inplace=True)\n",
        "\n",
        "df.head()"
      ],
      "metadata": {
        "colab": {
          "base_uri": "https://localhost:8080/",
          "height": 322
        },
        "id": "-Wh9gdTQQH39",
        "outputId": "d3d551ee-2002-4b5a-ddae-6eb2704cfbca"
      },
      "execution_count": 44,
      "outputs": [
        {
          "output_type": "execute_result",
          "data": {
            "text/html": [
              "\n",
              "  <div id=\"df-576594be-9fa9-4fe3-b1dc-5e386703fe93\">\n",
              "    <div class=\"colab-df-container\">\n",
              "      <div>\n",
              "<style scoped>\n",
              "    .dataframe tbody tr th:only-of-type {\n",
              "        vertical-align: middle;\n",
              "    }\n",
              "\n",
              "    .dataframe tbody tr th {\n",
              "        vertical-align: top;\n",
              "    }\n",
              "\n",
              "    .dataframe thead th {\n",
              "        text-align: right;\n",
              "    }\n",
              "</style>\n",
              "<table border=\"1\" class=\"dataframe\">\n",
              "  <thead>\n",
              "    <tr style=\"text-align: right;\">\n",
              "      <th></th>\n",
              "      <th>age</th>\n",
              "      <th>fnlwgt</th>\n",
              "      <th>education-num</th>\n",
              "      <th>capital-gain</th>\n",
              "      <th>capital-loss</th>\n",
              "      <th>hours-per-week</th>\n",
              "      <th>Federal-gov</th>\n",
              "      <th>Local-gov</th>\n",
              "      <th>Private</th>\n",
              "      <th>Self-emp-inc</th>\n",
              "      <th>Self-emp-not-inc</th>\n",
              "      <th>State-gov</th>\n",
              "      <th>Without-pay</th>\n",
              "      <th>Divorced</th>\n",
              "      <th>Married-AF-spouse</th>\n",
              "      <th>Married-civ-spouse</th>\n",
              "      <th>Married-spouse-absent</th>\n",
              "      <th>Never-married</th>\n",
              "      <th>Separated</th>\n",
              "      <th>Widowed</th>\n",
              "      <th>Adm-clerical</th>\n",
              "      <th>Armed-Forces</th>\n",
              "      <th>Craft-repair</th>\n",
              "      <th>Exec-managerial</th>\n",
              "      <th>Farming-fishing</th>\n",
              "      <th>Handlers-cleaners</th>\n",
              "      <th>Machine-op-inspct</th>\n",
              "      <th>Other-service</th>\n",
              "      <th>Priv-house-serv</th>\n",
              "      <th>Prof-specialty</th>\n",
              "      <th>Protective-serv</th>\n",
              "      <th>Sales</th>\n",
              "      <th>Tech-support</th>\n",
              "      <th>Transport-moving</th>\n",
              "      <th>Husband</th>\n",
              "      <th>Not-in-family</th>\n",
              "      <th>Other-relative</th>\n",
              "      <th>Own-child</th>\n",
              "      <th>Unmarried</th>\n",
              "      <th>Wife</th>\n",
              "      <th>Amer-Indian-Eskimo</th>\n",
              "      <th>Asian-Pac-Islander</th>\n",
              "      <th>Black</th>\n",
              "      <th>Other</th>\n",
              "      <th>White</th>\n",
              "      <th>Female</th>\n",
              "      <th>Male</th>\n",
              "      <th>Cambodia</th>\n",
              "      <th>Canada</th>\n",
              "      <th>China</th>\n",
              "      <th>Columbia</th>\n",
              "      <th>Cuba</th>\n",
              "      <th>Dominican-Republic</th>\n",
              "      <th>Ecuador</th>\n",
              "      <th>El-Salvador</th>\n",
              "      <th>England</th>\n",
              "      <th>France</th>\n",
              "      <th>Germany</th>\n",
              "      <th>Greece</th>\n",
              "      <th>Guatemala</th>\n",
              "      <th>Haiti</th>\n",
              "      <th>Holand-Netherlands</th>\n",
              "      <th>Honduras</th>\n",
              "      <th>Hong</th>\n",
              "      <th>Hungary</th>\n",
              "      <th>India</th>\n",
              "      <th>Iran</th>\n",
              "      <th>Ireland</th>\n",
              "      <th>Italy</th>\n",
              "      <th>Jamaica</th>\n",
              "      <th>Japan</th>\n",
              "      <th>Laos</th>\n",
              "      <th>Mexico</th>\n",
              "      <th>Nicaragua</th>\n",
              "      <th>Outlying-US(Guam-USVI-etc)</th>\n",
              "      <th>Peru</th>\n",
              "      <th>Philippines</th>\n",
              "      <th>Poland</th>\n",
              "      <th>Portugal</th>\n",
              "      <th>Puerto-Rico</th>\n",
              "      <th>Scotland</th>\n",
              "      <th>South</th>\n",
              "      <th>Taiwan</th>\n",
              "      <th>Thailand</th>\n",
              "      <th>Trinadad&amp;Tobago</th>\n",
              "      <th>United-States</th>\n",
              "      <th>Vietnam</th>\n",
              "      <th>Yugoslavia</th>\n",
              "      <th>&lt;=50K</th>\n",
              "    </tr>\n",
              "  </thead>\n",
              "  <tbody>\n",
              "    <tr>\n",
              "      <th>0</th>\n",
              "      <td>0.301370</td>\n",
              "      <td>0.043338</td>\n",
              "      <td>0.800000</td>\n",
              "      <td>0.052626</td>\n",
              "      <td>0.0</td>\n",
              "      <td>0.397959</td>\n",
              "      <td>0.0</td>\n",
              "      <td>0.0</td>\n",
              "      <td>0.0</td>\n",
              "      <td>0.0</td>\n",
              "      <td>0.0</td>\n",
              "      <td>1.0</td>\n",
              "      <td>0.0</td>\n",
              "      <td>0.0</td>\n",
              "      <td>0.0</td>\n",
              "      <td>0.0</td>\n",
              "      <td>0.0</td>\n",
              "      <td>1.0</td>\n",
              "      <td>0.0</td>\n",
              "      <td>0.0</td>\n",
              "      <td>1.0</td>\n",
              "      <td>0.0</td>\n",
              "      <td>0.0</td>\n",
              "      <td>0.0</td>\n",
              "      <td>0.0</td>\n",
              "      <td>0.0</td>\n",
              "      <td>0.0</td>\n",
              "      <td>0.0</td>\n",
              "      <td>0.0</td>\n",
              "      <td>0.0</td>\n",
              "      <td>0.0</td>\n",
              "      <td>0.0</td>\n",
              "      <td>0.0</td>\n",
              "      <td>0.0</td>\n",
              "      <td>0.0</td>\n",
              "      <td>1.0</td>\n",
              "      <td>0.0</td>\n",
              "      <td>0.0</td>\n",
              "      <td>0.0</td>\n",
              "      <td>0.0</td>\n",
              "      <td>0.0</td>\n",
              "      <td>0.0</td>\n",
              "      <td>0.0</td>\n",
              "      <td>0.0</td>\n",
              "      <td>1.0</td>\n",
              "      <td>0.0</td>\n",
              "      <td>1.0</td>\n",
              "      <td>0.0</td>\n",
              "      <td>0.0</td>\n",
              "      <td>0.0</td>\n",
              "      <td>0.0</td>\n",
              "      <td>0.0</td>\n",
              "      <td>0.0</td>\n",
              "      <td>0.0</td>\n",
              "      <td>0.0</td>\n",
              "      <td>0.0</td>\n",
              "      <td>0.0</td>\n",
              "      <td>0.0</td>\n",
              "      <td>0.0</td>\n",
              "      <td>0.0</td>\n",
              "      <td>0.0</td>\n",
              "      <td>0.0</td>\n",
              "      <td>0.0</td>\n",
              "      <td>0.0</td>\n",
              "      <td>0.0</td>\n",
              "      <td>0.0</td>\n",
              "      <td>0.0</td>\n",
              "      <td>0.0</td>\n",
              "      <td>0.0</td>\n",
              "      <td>0.0</td>\n",
              "      <td>0.0</td>\n",
              "      <td>0.0</td>\n",
              "      <td>0.0</td>\n",
              "      <td>0.0</td>\n",
              "      <td>0.0</td>\n",
              "      <td>0.0</td>\n",
              "      <td>0.0</td>\n",
              "      <td>0.0</td>\n",
              "      <td>0.0</td>\n",
              "      <td>0.0</td>\n",
              "      <td>0.0</td>\n",
              "      <td>0.0</td>\n",
              "      <td>0.0</td>\n",
              "      <td>0.0</td>\n",
              "      <td>0.0</td>\n",
              "      <td>1.0</td>\n",
              "      <td>0.0</td>\n",
              "      <td>0.0</td>\n",
              "      <td>1.0</td>\n",
              "    </tr>\n",
              "    <tr>\n",
              "      <th>1</th>\n",
              "      <td>0.452055</td>\n",
              "      <td>0.047277</td>\n",
              "      <td>0.800000</td>\n",
              "      <td>0.000000</td>\n",
              "      <td>0.0</td>\n",
              "      <td>0.122449</td>\n",
              "      <td>0.0</td>\n",
              "      <td>0.0</td>\n",
              "      <td>0.0</td>\n",
              "      <td>0.0</td>\n",
              "      <td>1.0</td>\n",
              "      <td>0.0</td>\n",
              "      <td>0.0</td>\n",
              "      <td>0.0</td>\n",
              "      <td>0.0</td>\n",
              "      <td>1.0</td>\n",
              "      <td>0.0</td>\n",
              "      <td>0.0</td>\n",
              "      <td>0.0</td>\n",
              "      <td>0.0</td>\n",
              "      <td>0.0</td>\n",
              "      <td>0.0</td>\n",
              "      <td>0.0</td>\n",
              "      <td>1.0</td>\n",
              "      <td>0.0</td>\n",
              "      <td>0.0</td>\n",
              "      <td>0.0</td>\n",
              "      <td>0.0</td>\n",
              "      <td>0.0</td>\n",
              "      <td>0.0</td>\n",
              "      <td>0.0</td>\n",
              "      <td>0.0</td>\n",
              "      <td>0.0</td>\n",
              "      <td>0.0</td>\n",
              "      <td>1.0</td>\n",
              "      <td>0.0</td>\n",
              "      <td>0.0</td>\n",
              "      <td>0.0</td>\n",
              "      <td>0.0</td>\n",
              "      <td>0.0</td>\n",
              "      <td>0.0</td>\n",
              "      <td>0.0</td>\n",
              "      <td>0.0</td>\n",
              "      <td>0.0</td>\n",
              "      <td>1.0</td>\n",
              "      <td>0.0</td>\n",
              "      <td>1.0</td>\n",
              "      <td>0.0</td>\n",
              "      <td>0.0</td>\n",
              "      <td>0.0</td>\n",
              "      <td>0.0</td>\n",
              "      <td>0.0</td>\n",
              "      <td>0.0</td>\n",
              "      <td>0.0</td>\n",
              "      <td>0.0</td>\n",
              "      <td>0.0</td>\n",
              "      <td>0.0</td>\n",
              "      <td>0.0</td>\n",
              "      <td>0.0</td>\n",
              "      <td>0.0</td>\n",
              "      <td>0.0</td>\n",
              "      <td>0.0</td>\n",
              "      <td>0.0</td>\n",
              "      <td>0.0</td>\n",
              "      <td>0.0</td>\n",
              "      <td>0.0</td>\n",
              "      <td>0.0</td>\n",
              "      <td>0.0</td>\n",
              "      <td>0.0</td>\n",
              "      <td>0.0</td>\n",
              "      <td>0.0</td>\n",
              "      <td>0.0</td>\n",
              "      <td>0.0</td>\n",
              "      <td>0.0</td>\n",
              "      <td>0.0</td>\n",
              "      <td>0.0</td>\n",
              "      <td>0.0</td>\n",
              "      <td>0.0</td>\n",
              "      <td>0.0</td>\n",
              "      <td>0.0</td>\n",
              "      <td>0.0</td>\n",
              "      <td>0.0</td>\n",
              "      <td>0.0</td>\n",
              "      <td>0.0</td>\n",
              "      <td>0.0</td>\n",
              "      <td>1.0</td>\n",
              "      <td>0.0</td>\n",
              "      <td>0.0</td>\n",
              "      <td>1.0</td>\n",
              "    </tr>\n",
              "    <tr>\n",
              "      <th>2</th>\n",
              "      <td>0.287671</td>\n",
              "      <td>0.137244</td>\n",
              "      <td>0.533333</td>\n",
              "      <td>0.000000</td>\n",
              "      <td>0.0</td>\n",
              "      <td>0.397959</td>\n",
              "      <td>0.0</td>\n",
              "      <td>0.0</td>\n",
              "      <td>1.0</td>\n",
              "      <td>0.0</td>\n",
              "      <td>0.0</td>\n",
              "      <td>0.0</td>\n",
              "      <td>0.0</td>\n",
              "      <td>1.0</td>\n",
              "      <td>0.0</td>\n",
              "      <td>0.0</td>\n",
              "      <td>0.0</td>\n",
              "      <td>0.0</td>\n",
              "      <td>0.0</td>\n",
              "      <td>0.0</td>\n",
              "      <td>0.0</td>\n",
              "      <td>0.0</td>\n",
              "      <td>0.0</td>\n",
              "      <td>0.0</td>\n",
              "      <td>0.0</td>\n",
              "      <td>1.0</td>\n",
              "      <td>0.0</td>\n",
              "      <td>0.0</td>\n",
              "      <td>0.0</td>\n",
              "      <td>0.0</td>\n",
              "      <td>0.0</td>\n",
              "      <td>0.0</td>\n",
              "      <td>0.0</td>\n",
              "      <td>0.0</td>\n",
              "      <td>0.0</td>\n",
              "      <td>1.0</td>\n",
              "      <td>0.0</td>\n",
              "      <td>0.0</td>\n",
              "      <td>0.0</td>\n",
              "      <td>0.0</td>\n",
              "      <td>0.0</td>\n",
              "      <td>0.0</td>\n",
              "      <td>0.0</td>\n",
              "      <td>0.0</td>\n",
              "      <td>1.0</td>\n",
              "      <td>0.0</td>\n",
              "      <td>1.0</td>\n",
              "      <td>0.0</td>\n",
              "      <td>0.0</td>\n",
              "      <td>0.0</td>\n",
              "      <td>0.0</td>\n",
              "      <td>0.0</td>\n",
              "      <td>0.0</td>\n",
              "      <td>0.0</td>\n",
              "      <td>0.0</td>\n",
              "      <td>0.0</td>\n",
              "      <td>0.0</td>\n",
              "      <td>0.0</td>\n",
              "      <td>0.0</td>\n",
              "      <td>0.0</td>\n",
              "      <td>0.0</td>\n",
              "      <td>0.0</td>\n",
              "      <td>0.0</td>\n",
              "      <td>0.0</td>\n",
              "      <td>0.0</td>\n",
              "      <td>0.0</td>\n",
              "      <td>0.0</td>\n",
              "      <td>0.0</td>\n",
              "      <td>0.0</td>\n",
              "      <td>0.0</td>\n",
              "      <td>0.0</td>\n",
              "      <td>0.0</td>\n",
              "      <td>0.0</td>\n",
              "      <td>0.0</td>\n",
              "      <td>0.0</td>\n",
              "      <td>0.0</td>\n",
              "      <td>0.0</td>\n",
              "      <td>0.0</td>\n",
              "      <td>0.0</td>\n",
              "      <td>0.0</td>\n",
              "      <td>0.0</td>\n",
              "      <td>0.0</td>\n",
              "      <td>0.0</td>\n",
              "      <td>0.0</td>\n",
              "      <td>0.0</td>\n",
              "      <td>1.0</td>\n",
              "      <td>0.0</td>\n",
              "      <td>0.0</td>\n",
              "      <td>1.0</td>\n",
              "    </tr>\n",
              "    <tr>\n",
              "      <th>3</th>\n",
              "      <td>0.493151</td>\n",
              "      <td>0.150212</td>\n",
              "      <td>0.400000</td>\n",
              "      <td>0.000000</td>\n",
              "      <td>0.0</td>\n",
              "      <td>0.397959</td>\n",
              "      <td>0.0</td>\n",
              "      <td>0.0</td>\n",
              "      <td>1.0</td>\n",
              "      <td>0.0</td>\n",
              "      <td>0.0</td>\n",
              "      <td>0.0</td>\n",
              "      <td>0.0</td>\n",
              "      <td>0.0</td>\n",
              "      <td>0.0</td>\n",
              "      <td>1.0</td>\n",
              "      <td>0.0</td>\n",
              "      <td>0.0</td>\n",
              "      <td>0.0</td>\n",
              "      <td>0.0</td>\n",
              "      <td>0.0</td>\n",
              "      <td>0.0</td>\n",
              "      <td>0.0</td>\n",
              "      <td>0.0</td>\n",
              "      <td>0.0</td>\n",
              "      <td>1.0</td>\n",
              "      <td>0.0</td>\n",
              "      <td>0.0</td>\n",
              "      <td>0.0</td>\n",
              "      <td>0.0</td>\n",
              "      <td>0.0</td>\n",
              "      <td>0.0</td>\n",
              "      <td>0.0</td>\n",
              "      <td>0.0</td>\n",
              "      <td>1.0</td>\n",
              "      <td>0.0</td>\n",
              "      <td>0.0</td>\n",
              "      <td>0.0</td>\n",
              "      <td>0.0</td>\n",
              "      <td>0.0</td>\n",
              "      <td>0.0</td>\n",
              "      <td>0.0</td>\n",
              "      <td>1.0</td>\n",
              "      <td>0.0</td>\n",
              "      <td>0.0</td>\n",
              "      <td>0.0</td>\n",
              "      <td>1.0</td>\n",
              "      <td>0.0</td>\n",
              "      <td>0.0</td>\n",
              "      <td>0.0</td>\n",
              "      <td>0.0</td>\n",
              "      <td>0.0</td>\n",
              "      <td>0.0</td>\n",
              "      <td>0.0</td>\n",
              "      <td>0.0</td>\n",
              "      <td>0.0</td>\n",
              "      <td>0.0</td>\n",
              "      <td>0.0</td>\n",
              "      <td>0.0</td>\n",
              "      <td>0.0</td>\n",
              "      <td>0.0</td>\n",
              "      <td>0.0</td>\n",
              "      <td>0.0</td>\n",
              "      <td>0.0</td>\n",
              "      <td>0.0</td>\n",
              "      <td>0.0</td>\n",
              "      <td>0.0</td>\n",
              "      <td>0.0</td>\n",
              "      <td>0.0</td>\n",
              "      <td>0.0</td>\n",
              "      <td>0.0</td>\n",
              "      <td>0.0</td>\n",
              "      <td>0.0</td>\n",
              "      <td>0.0</td>\n",
              "      <td>0.0</td>\n",
              "      <td>0.0</td>\n",
              "      <td>0.0</td>\n",
              "      <td>0.0</td>\n",
              "      <td>0.0</td>\n",
              "      <td>0.0</td>\n",
              "      <td>0.0</td>\n",
              "      <td>0.0</td>\n",
              "      <td>0.0</td>\n",
              "      <td>0.0</td>\n",
              "      <td>0.0</td>\n",
              "      <td>1.0</td>\n",
              "      <td>0.0</td>\n",
              "      <td>0.0</td>\n",
              "      <td>1.0</td>\n",
              "    </tr>\n",
              "    <tr>\n",
              "      <th>4</th>\n",
              "      <td>0.150685</td>\n",
              "      <td>0.220703</td>\n",
              "      <td>0.800000</td>\n",
              "      <td>0.000000</td>\n",
              "      <td>0.0</td>\n",
              "      <td>0.397959</td>\n",
              "      <td>0.0</td>\n",
              "      <td>0.0</td>\n",
              "      <td>1.0</td>\n",
              "      <td>0.0</td>\n",
              "      <td>0.0</td>\n",
              "      <td>0.0</td>\n",
              "      <td>0.0</td>\n",
              "      <td>0.0</td>\n",
              "      <td>0.0</td>\n",
              "      <td>1.0</td>\n",
              "      <td>0.0</td>\n",
              "      <td>0.0</td>\n",
              "      <td>0.0</td>\n",
              "      <td>0.0</td>\n",
              "      <td>0.0</td>\n",
              "      <td>0.0</td>\n",
              "      <td>0.0</td>\n",
              "      <td>0.0</td>\n",
              "      <td>0.0</td>\n",
              "      <td>0.0</td>\n",
              "      <td>0.0</td>\n",
              "      <td>0.0</td>\n",
              "      <td>0.0</td>\n",
              "      <td>1.0</td>\n",
              "      <td>0.0</td>\n",
              "      <td>0.0</td>\n",
              "      <td>0.0</td>\n",
              "      <td>0.0</td>\n",
              "      <td>0.0</td>\n",
              "      <td>0.0</td>\n",
              "      <td>0.0</td>\n",
              "      <td>0.0</td>\n",
              "      <td>0.0</td>\n",
              "      <td>1.0</td>\n",
              "      <td>0.0</td>\n",
              "      <td>0.0</td>\n",
              "      <td>1.0</td>\n",
              "      <td>0.0</td>\n",
              "      <td>0.0</td>\n",
              "      <td>1.0</td>\n",
              "      <td>0.0</td>\n",
              "      <td>0.0</td>\n",
              "      <td>0.0</td>\n",
              "      <td>0.0</td>\n",
              "      <td>0.0</td>\n",
              "      <td>1.0</td>\n",
              "      <td>0.0</td>\n",
              "      <td>0.0</td>\n",
              "      <td>0.0</td>\n",
              "      <td>0.0</td>\n",
              "      <td>0.0</td>\n",
              "      <td>0.0</td>\n",
              "      <td>0.0</td>\n",
              "      <td>0.0</td>\n",
              "      <td>0.0</td>\n",
              "      <td>0.0</td>\n",
              "      <td>0.0</td>\n",
              "      <td>0.0</td>\n",
              "      <td>0.0</td>\n",
              "      <td>0.0</td>\n",
              "      <td>0.0</td>\n",
              "      <td>0.0</td>\n",
              "      <td>0.0</td>\n",
              "      <td>0.0</td>\n",
              "      <td>0.0</td>\n",
              "      <td>0.0</td>\n",
              "      <td>0.0</td>\n",
              "      <td>0.0</td>\n",
              "      <td>0.0</td>\n",
              "      <td>0.0</td>\n",
              "      <td>0.0</td>\n",
              "      <td>0.0</td>\n",
              "      <td>0.0</td>\n",
              "      <td>0.0</td>\n",
              "      <td>0.0</td>\n",
              "      <td>0.0</td>\n",
              "      <td>0.0</td>\n",
              "      <td>0.0</td>\n",
              "      <td>0.0</td>\n",
              "      <td>0.0</td>\n",
              "      <td>0.0</td>\n",
              "      <td>0.0</td>\n",
              "      <td>1.0</td>\n",
              "    </tr>\n",
              "  </tbody>\n",
              "</table>\n",
              "</div>\n",
              "      <button class=\"colab-df-convert\" onclick=\"convertToInteractive('df-576594be-9fa9-4fe3-b1dc-5e386703fe93')\"\n",
              "              title=\"Convert this dataframe to an interactive table.\"\n",
              "              style=\"display:none;\">\n",
              "        \n",
              "  <svg xmlns=\"http://www.w3.org/2000/svg\" height=\"24px\"viewBox=\"0 0 24 24\"\n",
              "       width=\"24px\">\n",
              "    <path d=\"M0 0h24v24H0V0z\" fill=\"none\"/>\n",
              "    <path d=\"M18.56 5.44l.94 2.06.94-2.06 2.06-.94-2.06-.94-.94-2.06-.94 2.06-2.06.94zm-11 1L8.5 8.5l.94-2.06 2.06-.94-2.06-.94L8.5 2.5l-.94 2.06-2.06.94zm10 10l.94 2.06.94-2.06 2.06-.94-2.06-.94-.94-2.06-.94 2.06-2.06.94z\"/><path d=\"M17.41 7.96l-1.37-1.37c-.4-.4-.92-.59-1.43-.59-.52 0-1.04.2-1.43.59L10.3 9.45l-7.72 7.72c-.78.78-.78 2.05 0 2.83L4 21.41c.39.39.9.59 1.41.59.51 0 1.02-.2 1.41-.59l7.78-7.78 2.81-2.81c.8-.78.8-2.07 0-2.86zM5.41 20L4 18.59l7.72-7.72 1.47 1.35L5.41 20z\"/>\n",
              "  </svg>\n",
              "      </button>\n",
              "      \n",
              "  <style>\n",
              "    .colab-df-container {\n",
              "      display:flex;\n",
              "      flex-wrap:wrap;\n",
              "      gap: 12px;\n",
              "    }\n",
              "\n",
              "    .colab-df-convert {\n",
              "      background-color: #E8F0FE;\n",
              "      border: none;\n",
              "      border-radius: 50%;\n",
              "      cursor: pointer;\n",
              "      display: none;\n",
              "      fill: #1967D2;\n",
              "      height: 32px;\n",
              "      padding: 0 0 0 0;\n",
              "      width: 32px;\n",
              "    }\n",
              "\n",
              "    .colab-df-convert:hover {\n",
              "      background-color: #E2EBFA;\n",
              "      box-shadow: 0px 1px 2px rgba(60, 64, 67, 0.3), 0px 1px 3px 1px rgba(60, 64, 67, 0.15);\n",
              "      fill: #174EA6;\n",
              "    }\n",
              "\n",
              "    [theme=dark] .colab-df-convert {\n",
              "      background-color: #3B4455;\n",
              "      fill: #D2E3FC;\n",
              "    }\n",
              "\n",
              "    [theme=dark] .colab-df-convert:hover {\n",
              "      background-color: #434B5C;\n",
              "      box-shadow: 0px 1px 3px 1px rgba(0, 0, 0, 0.15);\n",
              "      filter: drop-shadow(0px 1px 2px rgba(0, 0, 0, 0.3));\n",
              "      fill: #FFFFFF;\n",
              "    }\n",
              "  </style>\n",
              "\n",
              "      <script>\n",
              "        const buttonEl =\n",
              "          document.querySelector('#df-576594be-9fa9-4fe3-b1dc-5e386703fe93 button.colab-df-convert');\n",
              "        buttonEl.style.display =\n",
              "          google.colab.kernel.accessAllowed ? 'block' : 'none';\n",
              "\n",
              "        async function convertToInteractive(key) {\n",
              "          const element = document.querySelector('#df-576594be-9fa9-4fe3-b1dc-5e386703fe93');\n",
              "          const dataTable =\n",
              "            await google.colab.kernel.invokeFunction('convertToInteractive',\n",
              "                                                     [key], {});\n",
              "          if (!dataTable) return;\n",
              "\n",
              "          const docLinkHtml = 'Like what you see? Visit the ' +\n",
              "            '<a target=\"_blank\" href=https://colab.research.google.com/notebooks/data_table.ipynb>data table notebook</a>'\n",
              "            + ' to learn more about interactive tables.';\n",
              "          element.innerHTML = '';\n",
              "          dataTable['output_type'] = 'display_data';\n",
              "          await google.colab.output.renderOutput(dataTable, element);\n",
              "          const docLink = document.createElement('div');\n",
              "          docLink.innerHTML = docLinkHtml;\n",
              "          element.appendChild(docLink);\n",
              "        }\n",
              "      </script>\n",
              "    </div>\n",
              "  </div>\n",
              "  "
            ],
            "text/plain": [
              "        age    fnlwgt  education-num  capital-gain  capital-loss  \\\n",
              "0  0.301370  0.043338       0.800000      0.052626           0.0   \n",
              "1  0.452055  0.047277       0.800000      0.000000           0.0   \n",
              "2  0.287671  0.137244       0.533333      0.000000           0.0   \n",
              "3  0.493151  0.150212       0.400000      0.000000           0.0   \n",
              "4  0.150685  0.220703       0.800000      0.000000           0.0   \n",
              "\n",
              "   hours-per-week   Federal-gov   Local-gov   Private   Self-emp-inc  \\\n",
              "0        0.397959           0.0         0.0       0.0            0.0   \n",
              "1        0.122449           0.0         0.0       0.0            0.0   \n",
              "2        0.397959           0.0         0.0       1.0            0.0   \n",
              "3        0.397959           0.0         0.0       1.0            0.0   \n",
              "4        0.397959           0.0         0.0       1.0            0.0   \n",
              "\n",
              "    Self-emp-not-inc   State-gov   Without-pay   Divorced   Married-AF-spouse  \\\n",
              "0                0.0         1.0           0.0        0.0                 0.0   \n",
              "1                1.0         0.0           0.0        0.0                 0.0   \n",
              "2                0.0         0.0           0.0        1.0                 0.0   \n",
              "3                0.0         0.0           0.0        0.0                 0.0   \n",
              "4                0.0         0.0           0.0        0.0                 0.0   \n",
              "\n",
              "    Married-civ-spouse   Married-spouse-absent   Never-married   Separated  \\\n",
              "0                  0.0                     0.0             1.0         0.0   \n",
              "1                  1.0                     0.0             0.0         0.0   \n",
              "2                  0.0                     0.0             0.0         0.0   \n",
              "3                  1.0                     0.0             0.0         0.0   \n",
              "4                  1.0                     0.0             0.0         0.0   \n",
              "\n",
              "    Widowed   Adm-clerical   Armed-Forces   Craft-repair   Exec-managerial  \\\n",
              "0       0.0            1.0            0.0            0.0               0.0   \n",
              "1       0.0            0.0            0.0            0.0               1.0   \n",
              "2       0.0            0.0            0.0            0.0               0.0   \n",
              "3       0.0            0.0            0.0            0.0               0.0   \n",
              "4       0.0            0.0            0.0            0.0               0.0   \n",
              "\n",
              "    Farming-fishing   Handlers-cleaners   Machine-op-inspct   Other-service  \\\n",
              "0               0.0                 0.0                 0.0             0.0   \n",
              "1               0.0                 0.0                 0.0             0.0   \n",
              "2               0.0                 1.0                 0.0             0.0   \n",
              "3               0.0                 1.0                 0.0             0.0   \n",
              "4               0.0                 0.0                 0.0             0.0   \n",
              "\n",
              "    Priv-house-serv   Prof-specialty   Protective-serv   Sales   Tech-support  \\\n",
              "0               0.0              0.0               0.0     0.0            0.0   \n",
              "1               0.0              0.0               0.0     0.0            0.0   \n",
              "2               0.0              0.0               0.0     0.0            0.0   \n",
              "3               0.0              0.0               0.0     0.0            0.0   \n",
              "4               0.0              1.0               0.0     0.0            0.0   \n",
              "\n",
              "    Transport-moving   Husband   Not-in-family   Other-relative   Own-child  \\\n",
              "0                0.0       0.0             1.0              0.0         0.0   \n",
              "1                0.0       1.0             0.0              0.0         0.0   \n",
              "2                0.0       0.0             1.0              0.0         0.0   \n",
              "3                0.0       1.0             0.0              0.0         0.0   \n",
              "4                0.0       0.0             0.0              0.0         0.0   \n",
              "\n",
              "    Unmarried   Wife   Amer-Indian-Eskimo   Asian-Pac-Islander   Black  \\\n",
              "0         0.0    0.0                  0.0                  0.0     0.0   \n",
              "1         0.0    0.0                  0.0                  0.0     0.0   \n",
              "2         0.0    0.0                  0.0                  0.0     0.0   \n",
              "3         0.0    0.0                  0.0                  0.0     1.0   \n",
              "4         0.0    1.0                  0.0                  0.0     1.0   \n",
              "\n",
              "    Other   White   Female   Male   Cambodia   Canada   China   Columbia  \\\n",
              "0     0.0     1.0      0.0    1.0        0.0      0.0     0.0        0.0   \n",
              "1     0.0     1.0      0.0    1.0        0.0      0.0     0.0        0.0   \n",
              "2     0.0     1.0      0.0    1.0        0.0      0.0     0.0        0.0   \n",
              "3     0.0     0.0      0.0    1.0        0.0      0.0     0.0        0.0   \n",
              "4     0.0     0.0      1.0    0.0        0.0      0.0     0.0        0.0   \n",
              "\n",
              "    Cuba   Dominican-Republic   Ecuador   El-Salvador   England   France  \\\n",
              "0    0.0                  0.0       0.0           0.0       0.0      0.0   \n",
              "1    0.0                  0.0       0.0           0.0       0.0      0.0   \n",
              "2    0.0                  0.0       0.0           0.0       0.0      0.0   \n",
              "3    0.0                  0.0       0.0           0.0       0.0      0.0   \n",
              "4    1.0                  0.0       0.0           0.0       0.0      0.0   \n",
              "\n",
              "    Germany   Greece   Guatemala   Haiti   Holand-Netherlands   Honduras  \\\n",
              "0       0.0      0.0         0.0     0.0                  0.0        0.0   \n",
              "1       0.0      0.0         0.0     0.0                  0.0        0.0   \n",
              "2       0.0      0.0         0.0     0.0                  0.0        0.0   \n",
              "3       0.0      0.0         0.0     0.0                  0.0        0.0   \n",
              "4       0.0      0.0         0.0     0.0                  0.0        0.0   \n",
              "\n",
              "    Hong   Hungary   India   Iran   Ireland   Italy   Jamaica   Japan   Laos  \\\n",
              "0    0.0       0.0     0.0    0.0       0.0     0.0       0.0     0.0    0.0   \n",
              "1    0.0       0.0     0.0    0.0       0.0     0.0       0.0     0.0    0.0   \n",
              "2    0.0       0.0     0.0    0.0       0.0     0.0       0.0     0.0    0.0   \n",
              "3    0.0       0.0     0.0    0.0       0.0     0.0       0.0     0.0    0.0   \n",
              "4    0.0       0.0     0.0    0.0       0.0     0.0       0.0     0.0    0.0   \n",
              "\n",
              "    Mexico   Nicaragua   Outlying-US(Guam-USVI-etc)   Peru   Philippines  \\\n",
              "0      0.0         0.0                          0.0    0.0           0.0   \n",
              "1      0.0         0.0                          0.0    0.0           0.0   \n",
              "2      0.0         0.0                          0.0    0.0           0.0   \n",
              "3      0.0         0.0                          0.0    0.0           0.0   \n",
              "4      0.0         0.0                          0.0    0.0           0.0   \n",
              "\n",
              "    Poland   Portugal   Puerto-Rico   Scotland   South   Taiwan   Thailand  \\\n",
              "0      0.0        0.0           0.0        0.0     0.0      0.0        0.0   \n",
              "1      0.0        0.0           0.0        0.0     0.0      0.0        0.0   \n",
              "2      0.0        0.0           0.0        0.0     0.0      0.0        0.0   \n",
              "3      0.0        0.0           0.0        0.0     0.0      0.0        0.0   \n",
              "4      0.0        0.0           0.0        0.0     0.0      0.0        0.0   \n",
              "\n",
              "    Trinadad&Tobago   United-States   Vietnam   Yugoslavia   <=50K  \n",
              "0               0.0             1.0       0.0          0.0     1.0  \n",
              "1               0.0             1.0       0.0          0.0     1.0  \n",
              "2               0.0             1.0       0.0          0.0     1.0  \n",
              "3               0.0             1.0       0.0          0.0     1.0  \n",
              "4               0.0             0.0       0.0          0.0     1.0  "
            ]
          },
          "metadata": {},
          "execution_count": 44
        }
      ]
    },
    {
      "cell_type": "code",
      "source": [
        "#Ram ไม่พอ\n",
        "#details = ['age', 'workclass', 'fnlwgt','marital-status', 'occupation', 'relationship', 'race', 'sex','capital-gain', 'capital-loss', 'hours-per-week', 'native-country', 'income']\n",
        "#cov_df = df[details]\n",
        "#covMatrix = np.cov(cov_df,bias=True)\n",
        "#sn.heatmap(covMatrix, annot=True, fmt='g')\n",
        "#plt.show()\n"
      ],
      "metadata": {
        "id": "Tq5b_-Wv4ar_"
      },
      "execution_count": 45,
      "outputs": []
    },
    {
      "cell_type": "markdown",
      "source": [
        "# 3) Model Evaluation"
      ],
      "metadata": {
        "id": "JLmVWB-czLpL"
      }
    },
    {
      "cell_type": "markdown",
      "source": [
        "เตรียม Dataset x และ y"
      ],
      "metadata": {
        "id": "4AKXRaf10OQ7"
      }
    },
    {
      "cell_type": "code",
      "source": [
        "#df_x = df\n",
        "df_y = df[' <=50K']\n",
        "df_x = df.drop([' <=50K'],axis=1)\n",
        "\n",
        "y = df_y.to_numpy()\n",
        "print(df_x.count())\n",
        "print(df_y.count())\n",
        "print(df_x.describe())"
      ],
      "metadata": {
        "id": "T0pvkcNJ7CZu",
        "colab": {
          "base_uri": "https://localhost:8080/"
        },
        "outputId": "f4c32ac0-3120-4d53-d0ee-bff498827edb"
      },
      "execution_count": 46,
      "outputs": [
        {
          "output_type": "stream",
          "name": "stdout",
          "text": [
            "age                 30014\n",
            "fnlwgt              30014\n",
            "education-num       30014\n",
            "capital-gain        30014\n",
            "capital-loss        30014\n",
            "                    ...  \n",
            " Thailand           30014\n",
            " Trinadad&Tobago    30014\n",
            " United-States      30014\n",
            " Vietnam            30014\n",
            " Yugoslavia         30014\n",
            "Length: 88, dtype: int64\n",
            "30014\n",
            "                age        fnlwgt  education-num  capital-gain  capital-loss  \\\n",
            "count  30014.000000  30014.000000   30014.000000  30014.000000  30014.000000   \n",
            "mean       0.293147      0.119657       0.607146      0.014628      0.020388   \n",
            "std        0.179925      0.071836       0.169485      0.062409      0.093032   \n",
            "min        0.000000      0.000000       0.000000      0.000000      0.000000   \n",
            "25%        0.150685      0.070592       0.533333      0.000000      0.000000   \n",
            "50%        0.273973      0.111950       0.600000      0.000000      0.000000   \n",
            "75%        0.410959      0.152198       0.733333      0.000000      0.000000   \n",
            "max        1.000000      1.000000       1.000000      1.000000      1.000000   \n",
            "\n",
            "       hours-per-week   Federal-gov     Local-gov       Private  \\\n",
            "count    30014.000000  30014.000000  30014.000000  30014.000000   \n",
            "mean         0.406992      0.031385      0.068701      0.739921   \n",
            "std          0.122037      0.174360      0.252950      0.438685   \n",
            "min          0.000000      0.000000      0.000000      0.000000   \n",
            "25%          0.397959      0.000000      0.000000      0.000000   \n",
            "50%          0.397959      0.000000      0.000000      1.000000   \n",
            "75%          0.448980      0.000000      0.000000      1.000000   \n",
            "max          1.000000      1.000000      1.000000      1.000000   \n",
            "\n",
            "        Self-emp-inc   Self-emp-not-inc     State-gov   Without-pay  \\\n",
            "count   30014.000000       30014.000000  30014.000000  30014.000000   \n",
            "mean        0.034650           0.082295      0.042580      0.000466   \n",
            "std         0.182896           0.274818      0.201912      0.021593   \n",
            "min         0.000000           0.000000      0.000000      0.000000   \n",
            "25%         0.000000           0.000000      0.000000      0.000000   \n",
            "50%         0.000000           0.000000      0.000000      0.000000   \n",
            "75%         0.000000           0.000000      0.000000      0.000000   \n",
            "max         1.000000           1.000000      1.000000      1.000000   \n",
            "\n",
            "           Divorced   Married-AF-spouse   Married-civ-spouse  \\\n",
            "count  30014.000000        30014.000000          30014.00000   \n",
            "mean       0.140035            0.000700              0.46455   \n",
            "std        0.347029            0.026443              0.49875   \n",
            "min        0.000000            0.000000              0.00000   \n",
            "25%        0.000000            0.000000              0.00000   \n",
            "50%        0.000000            0.000000              0.00000   \n",
            "75%        0.000000            0.000000              1.00000   \n",
            "max        1.000000            1.000000              1.00000   \n",
            "\n",
            "        Married-spouse-absent   Never-married     Separated       Widowed  \\\n",
            "count            30014.000000    30014.000000  30014.000000  30014.000000   \n",
            "mean                 0.012294        0.323682      0.031219      0.027520   \n",
            "std                  0.110198        0.467888      0.173911      0.163597   \n",
            "min                  0.000000        0.000000      0.000000      0.000000   \n",
            "25%                  0.000000        0.000000      0.000000      0.000000   \n",
            "50%                  0.000000        0.000000      0.000000      0.000000   \n",
            "75%                  0.000000        1.000000      0.000000      0.000000   \n",
            "max                  1.000000        1.000000      1.000000      1.000000   \n",
            "\n",
            "        Adm-clerical   Armed-Forces   Craft-repair   Exec-managerial  \\\n",
            "count   30014.000000   30014.000000   30014.000000      30014.000000   \n",
            "mean        0.123776       0.000300       0.134004          0.131739   \n",
            "std         0.329331       0.017314       0.340662          0.338212   \n",
            "min         0.000000       0.000000       0.000000          0.000000   \n",
            "25%         0.000000       0.000000       0.000000          0.000000   \n",
            "50%         0.000000       0.000000       0.000000          0.000000   \n",
            "75%         0.000000       0.000000       0.000000          0.000000   \n",
            "max         1.000000       1.000000       1.000000          1.000000   \n",
            "\n",
            "        Farming-fishing   Handlers-cleaners   Machine-op-inspct  \\\n",
            "count      30014.000000        30014.000000        30014.000000   \n",
            "mean           0.032951            0.044946            0.065469   \n",
            "std            0.178512            0.207188            0.247356   \n",
            "min            0.000000            0.000000            0.000000   \n",
            "25%            0.000000            0.000000            0.000000   \n",
            "50%            0.000000            0.000000            0.000000   \n",
            "75%            0.000000            0.000000            0.000000   \n",
            "max            1.000000            1.000000            1.000000   \n",
            "\n",
            "        Other-service   Priv-house-serv   Prof-specialty   Protective-serv  \\\n",
            "count    30014.000000      30014.000000     30014.000000      30014.000000   \n",
            "mean         0.106950          0.004764         0.132372          0.021423   \n",
            "std          0.309055          0.068861         0.338900          0.144793   \n",
            "min          0.000000          0.000000         0.000000          0.000000   \n",
            "25%          0.000000          0.000000         0.000000          0.000000   \n",
            "50%          0.000000          0.000000         0.000000          0.000000   \n",
            "75%          0.000000          0.000000         0.000000          0.000000   \n",
            "max          1.000000          1.000000         1.000000          1.000000   \n",
            "\n",
            "              Sales   Tech-support   Transport-moving       Husband  \\\n",
            "count  30014.000000   30014.000000       30014.000000  30014.000000   \n",
            "mean       0.118611       0.030353           0.052342      0.411475   \n",
            "std        0.323336       0.171558           0.222720      0.492109   \n",
            "min        0.000000       0.000000           0.000000      0.000000   \n",
            "25%        0.000000       0.000000           0.000000      0.000000   \n",
            "50%        0.000000       0.000000           0.000000      0.000000   \n",
            "75%        0.000000       0.000000           0.000000      1.000000   \n",
            "max        1.000000       1.000000           1.000000      1.000000   \n",
            "\n",
            "        Not-in-family   Other-relative     Own-child     Unmarried  \\\n",
            "count    30014.000000     30014.000000  30014.000000  30014.000000   \n",
            "mean         0.256747         0.029620      0.148731      0.106883   \n",
            "std          0.436846         0.169538      0.355829      0.308970   \n",
            "min          0.000000         0.000000      0.000000      0.000000   \n",
            "25%          0.000000         0.000000      0.000000      0.000000   \n",
            "50%          0.000000         0.000000      0.000000      0.000000   \n",
            "75%          1.000000         0.000000      0.000000      0.000000   \n",
            "max          1.000000         1.000000      1.000000      1.000000   \n",
            "\n",
            "               Wife   Amer-Indian-Eskimo   Asian-Pac-Islander         Black  \\\n",
            "count  30014.000000         30014.000000         30014.000000  30014.000000   \n",
            "mean       0.046545             0.009529             0.029586      0.093656   \n",
            "std        0.210666             0.097151             0.169446      0.291355   \n",
            "min        0.000000             0.000000             0.000000      0.000000   \n",
            "25%        0.000000             0.000000             0.000000      0.000000   \n",
            "50%        0.000000             0.000000             0.000000      0.000000   \n",
            "75%        0.000000             0.000000             0.000000      0.000000   \n",
            "max        1.000000             1.000000             1.000000      1.000000   \n",
            "\n",
            "              Other         White        Female          Male      Cambodia  \\\n",
            "count  30014.000000  30014.000000  30014.000000  30014.000000  30014.000000   \n",
            "mean       0.007630      0.859599      0.325248      0.674752      0.000600   \n",
            "std        0.087016      0.347409      0.468475      0.468475      0.024482   \n",
            "min        0.000000      0.000000      0.000000      0.000000      0.000000   \n",
            "25%        0.000000      1.000000      0.000000      0.000000      0.000000   \n",
            "50%        0.000000      1.000000      0.000000      1.000000      0.000000   \n",
            "75%        0.000000      1.000000      1.000000      1.000000      0.000000   \n",
            "max        1.000000      1.000000      1.000000      1.000000      1.000000   \n",
            "\n",
            "             Canada         China      Columbia          Cuba  \\\n",
            "count  30014.000000  30014.000000  30014.000000  30014.000000   \n",
            "mean       0.003532      0.002266      0.001866      0.003065   \n",
            "std        0.059324      0.047545      0.043155      0.055281   \n",
            "min        0.000000      0.000000      0.000000      0.000000   \n",
            "25%        0.000000      0.000000      0.000000      0.000000   \n",
            "50%        0.000000      0.000000      0.000000      0.000000   \n",
            "75%        0.000000      0.000000      0.000000      0.000000   \n",
            "max        1.000000      1.000000      1.000000      1.000000   \n",
            "\n",
            "        Dominican-Republic      Ecuador   El-Salvador       England  \\\n",
            "count         30014.000000  30014.00000  30014.000000  30014.000000   \n",
            "mean              0.002199      0.00090      0.003332      0.002865   \n",
            "std               0.046842      0.02998      0.057626      0.053453   \n",
            "min               0.000000      0.00000      0.000000      0.000000   \n",
            "25%               0.000000      0.00000      0.000000      0.000000   \n",
            "50%               0.000000      0.00000      0.000000      0.000000   \n",
            "75%               0.000000      0.00000      0.000000      0.000000   \n",
            "max               1.000000      1.00000      1.000000      1.000000   \n",
            "\n",
            "            France       Germany        Greece     Guatemala         Haiti  \\\n",
            "count  30014.00000  30014.000000  30014.000000  30014.000000  30014.000000   \n",
            "mean       0.00090      0.004265      0.000966      0.002099      0.001399   \n",
            "std        0.02998      0.065166      0.031070      0.045768      0.037382   \n",
            "min        0.00000      0.000000      0.000000      0.000000      0.000000   \n",
            "25%        0.00000      0.000000      0.000000      0.000000      0.000000   \n",
            "50%        0.00000      0.000000      0.000000      0.000000      0.000000   \n",
            "75%        0.00000      0.000000      0.000000      0.000000      0.000000   \n",
            "max        1.00000      1.000000      1.000000      1.000000      1.000000   \n",
            "\n",
            "        Holand-Netherlands      Honduras          Hong       Hungary  \\\n",
            "count         30014.000000  30014.000000  30014.000000  30014.000000   \n",
            "mean              0.000033      0.000400      0.000633      0.000433   \n",
            "std               0.005772      0.019992      0.025153      0.020808   \n",
            "min               0.000000      0.000000      0.000000      0.000000   \n",
            "25%               0.000000      0.000000      0.000000      0.000000   \n",
            "50%               0.000000      0.000000      0.000000      0.000000   \n",
            "75%               0.000000      0.000000      0.000000      0.000000   \n",
            "max               1.000000      1.000000      1.000000      1.000000   \n",
            "\n",
            "              India          Iran       Ireland         Italy       Jamaica  \\\n",
            "count  30014.000000  30014.000000  30014.000000  30014.000000  30014.000000   \n",
            "mean       0.003232      0.001399      0.000800      0.002266      0.002665   \n",
            "std        0.056758      0.037382      0.028267      0.047545      0.051560   \n",
            "min        0.000000      0.000000      0.000000      0.000000      0.000000   \n",
            "25%        0.000000      0.000000      0.000000      0.000000      0.000000   \n",
            "50%        0.000000      0.000000      0.000000      0.000000      0.000000   \n",
            "75%        0.000000      0.000000      0.000000      0.000000      0.000000   \n",
            "max        1.000000      1.000000      1.000000      1.000000      1.000000   \n",
            "\n",
            "              Japan          Laos        Mexico     Nicaragua  \\\n",
            "count  30014.000000  30014.000000  30014.000000  30014.000000   \n",
            "mean       0.001932      0.000566      0.020291      0.001099   \n",
            "std        0.043918      0.023793      0.140995      0.033141   \n",
            "min        0.000000      0.000000      0.000000      0.000000   \n",
            "25%        0.000000      0.000000      0.000000      0.000000   \n",
            "50%        0.000000      0.000000      0.000000      0.000000   \n",
            "75%        0.000000      0.000000      0.000000      0.000000   \n",
            "max        1.000000      1.000000      1.000000      1.000000   \n",
            "\n",
            "        Outlying-US(Guam-USVI-etc)        Peru   Philippines        Poland  \\\n",
            "count                 30014.000000  30014.0000  30014.000000  30014.000000   \n",
            "mean                      0.000466      0.0010      0.006230      0.001866   \n",
            "std                       0.021593      0.0316      0.078688      0.043155   \n",
            "min                       0.000000      0.0000      0.000000      0.000000   \n",
            "25%                       0.000000      0.0000      0.000000      0.000000   \n",
            "50%                       0.000000      0.0000      0.000000      0.000000   \n",
            "75%                       0.000000      0.0000      0.000000      0.000000   \n",
            "max                       1.000000      1.0000      1.000000      1.000000   \n",
            "\n",
            "           Portugal   Puerto-Rico      Scotland         South        Taiwan  \\\n",
            "count  30014.000000  30014.000000  30014.000000  30014.000000  30014.000000   \n",
            "mean       0.001133      0.003632      0.000366      0.002366      0.001366   \n",
            "std        0.033639      0.060155      0.019141      0.048580      0.036935   \n",
            "min        0.000000      0.000000      0.000000      0.000000      0.000000   \n",
            "25%        0.000000      0.000000      0.000000      0.000000      0.000000   \n",
            "50%        0.000000      0.000000      0.000000      0.000000      0.000000   \n",
            "75%        0.000000      0.000000      0.000000      0.000000      0.000000   \n",
            "max        1.000000      1.000000      1.000000      1.000000      1.000000   \n",
            "\n",
            "           Thailand   Trinadad&Tobago   United-States       Vietnam  \\\n",
            "count  30014.000000      30014.000000    30014.000000  30014.000000   \n",
            "mean       0.000566          0.000600        0.911741      0.002132   \n",
            "std        0.023793          0.024482        0.283676      0.046129   \n",
            "min        0.000000          0.000000        0.000000      0.000000   \n",
            "25%        0.000000          0.000000        1.000000      0.000000   \n",
            "50%        0.000000          0.000000        1.000000      0.000000   \n",
            "75%        0.000000          0.000000        1.000000      0.000000   \n",
            "max        1.000000          1.000000        1.000000      1.000000   \n",
            "\n",
            "         Yugoslavia  \n",
            "count  30014.000000  \n",
            "mean       0.000533  \n",
            "std        0.023083  \n",
            "min        0.000000  \n",
            "25%        0.000000  \n",
            "50%        0.000000  \n",
            "75%        0.000000  \n",
            "max        1.000000  \n"
          ]
        }
      ]
    },
    {
      "cell_type": "markdown",
      "source": [
        "ก่อนหน้านี้เราเห็นว่า Income ซึ่งเป็นตัวที่จะทำนายมีปัญหาเรื่อง Imbalance Data\n",
        "\n",
        "เราจึงทำการ ใช้เทคนิค SMOTE เพื่อแก้ปัญหา Imbalance Data"
      ],
      "metadata": {
        "id": "zVyWqKAp0gLb"
      }
    },
    {
      "cell_type": "code",
      "source": [
        "oversample = SMOTE()\n",
        "x, y = oversample.fit_resample(df_x,df_y)\n",
        "print(x.count())\n",
        "print(y.count())\n",
        "print(df_x.describe())"
      ],
      "metadata": {
        "colab": {
          "base_uri": "https://localhost:8080/"
        },
        "id": "g9Sd_ur-M54u",
        "outputId": "9496d284-263c-4de1-ad65-6d76d5f7782b"
      },
      "execution_count": 47,
      "outputs": [
        {
          "output_type": "stream",
          "name": "stdout",
          "text": [
            "age                 45308\n",
            "fnlwgt              45308\n",
            "education-num       45308\n",
            "capital-gain        45308\n",
            "capital-loss        45308\n",
            "                    ...  \n",
            " Thailand           45308\n",
            " Trinadad&Tobago    45308\n",
            " United-States      45308\n",
            " Vietnam            45308\n",
            " Yugoslavia         45308\n",
            "Length: 88, dtype: int64\n",
            "45308\n",
            "                age        fnlwgt  education-num  capital-gain  capital-loss  \\\n",
            "count  30014.000000  30014.000000   30014.000000  30014.000000  30014.000000   \n",
            "mean       0.293147      0.119657       0.607146      0.014628      0.020388   \n",
            "std        0.179925      0.071836       0.169485      0.062409      0.093032   \n",
            "min        0.000000      0.000000       0.000000      0.000000      0.000000   \n",
            "25%        0.150685      0.070592       0.533333      0.000000      0.000000   \n",
            "50%        0.273973      0.111950       0.600000      0.000000      0.000000   \n",
            "75%        0.410959      0.152198       0.733333      0.000000      0.000000   \n",
            "max        1.000000      1.000000       1.000000      1.000000      1.000000   \n",
            "\n",
            "       hours-per-week   Federal-gov     Local-gov       Private  \\\n",
            "count    30014.000000  30014.000000  30014.000000  30014.000000   \n",
            "mean         0.406992      0.031385      0.068701      0.739921   \n",
            "std          0.122037      0.174360      0.252950      0.438685   \n",
            "min          0.000000      0.000000      0.000000      0.000000   \n",
            "25%          0.397959      0.000000      0.000000      0.000000   \n",
            "50%          0.397959      0.000000      0.000000      1.000000   \n",
            "75%          0.448980      0.000000      0.000000      1.000000   \n",
            "max          1.000000      1.000000      1.000000      1.000000   \n",
            "\n",
            "        Self-emp-inc   Self-emp-not-inc     State-gov   Without-pay  \\\n",
            "count   30014.000000       30014.000000  30014.000000  30014.000000   \n",
            "mean        0.034650           0.082295      0.042580      0.000466   \n",
            "std         0.182896           0.274818      0.201912      0.021593   \n",
            "min         0.000000           0.000000      0.000000      0.000000   \n",
            "25%         0.000000           0.000000      0.000000      0.000000   \n",
            "50%         0.000000           0.000000      0.000000      0.000000   \n",
            "75%         0.000000           0.000000      0.000000      0.000000   \n",
            "max         1.000000           1.000000      1.000000      1.000000   \n",
            "\n",
            "           Divorced   Married-AF-spouse   Married-civ-spouse  \\\n",
            "count  30014.000000        30014.000000          30014.00000   \n",
            "mean       0.140035            0.000700              0.46455   \n",
            "std        0.347029            0.026443              0.49875   \n",
            "min        0.000000            0.000000              0.00000   \n",
            "25%        0.000000            0.000000              0.00000   \n",
            "50%        0.000000            0.000000              0.00000   \n",
            "75%        0.000000            0.000000              1.00000   \n",
            "max        1.000000            1.000000              1.00000   \n",
            "\n",
            "        Married-spouse-absent   Never-married     Separated       Widowed  \\\n",
            "count            30014.000000    30014.000000  30014.000000  30014.000000   \n",
            "mean                 0.012294        0.323682      0.031219      0.027520   \n",
            "std                  0.110198        0.467888      0.173911      0.163597   \n",
            "min                  0.000000        0.000000      0.000000      0.000000   \n",
            "25%                  0.000000        0.000000      0.000000      0.000000   \n",
            "50%                  0.000000        0.000000      0.000000      0.000000   \n",
            "75%                  0.000000        1.000000      0.000000      0.000000   \n",
            "max                  1.000000        1.000000      1.000000      1.000000   \n",
            "\n",
            "        Adm-clerical   Armed-Forces   Craft-repair   Exec-managerial  \\\n",
            "count   30014.000000   30014.000000   30014.000000      30014.000000   \n",
            "mean        0.123776       0.000300       0.134004          0.131739   \n",
            "std         0.329331       0.017314       0.340662          0.338212   \n",
            "min         0.000000       0.000000       0.000000          0.000000   \n",
            "25%         0.000000       0.000000       0.000000          0.000000   \n",
            "50%         0.000000       0.000000       0.000000          0.000000   \n",
            "75%         0.000000       0.000000       0.000000          0.000000   \n",
            "max         1.000000       1.000000       1.000000          1.000000   \n",
            "\n",
            "        Farming-fishing   Handlers-cleaners   Machine-op-inspct  \\\n",
            "count      30014.000000        30014.000000        30014.000000   \n",
            "mean           0.032951            0.044946            0.065469   \n",
            "std            0.178512            0.207188            0.247356   \n",
            "min            0.000000            0.000000            0.000000   \n",
            "25%            0.000000            0.000000            0.000000   \n",
            "50%            0.000000            0.000000            0.000000   \n",
            "75%            0.000000            0.000000            0.000000   \n",
            "max            1.000000            1.000000            1.000000   \n",
            "\n",
            "        Other-service   Priv-house-serv   Prof-specialty   Protective-serv  \\\n",
            "count    30014.000000      30014.000000     30014.000000      30014.000000   \n",
            "mean         0.106950          0.004764         0.132372          0.021423   \n",
            "std          0.309055          0.068861         0.338900          0.144793   \n",
            "min          0.000000          0.000000         0.000000          0.000000   \n",
            "25%          0.000000          0.000000         0.000000          0.000000   \n",
            "50%          0.000000          0.000000         0.000000          0.000000   \n",
            "75%          0.000000          0.000000         0.000000          0.000000   \n",
            "max          1.000000          1.000000         1.000000          1.000000   \n",
            "\n",
            "              Sales   Tech-support   Transport-moving       Husband  \\\n",
            "count  30014.000000   30014.000000       30014.000000  30014.000000   \n",
            "mean       0.118611       0.030353           0.052342      0.411475   \n",
            "std        0.323336       0.171558           0.222720      0.492109   \n",
            "min        0.000000       0.000000           0.000000      0.000000   \n",
            "25%        0.000000       0.000000           0.000000      0.000000   \n",
            "50%        0.000000       0.000000           0.000000      0.000000   \n",
            "75%        0.000000       0.000000           0.000000      1.000000   \n",
            "max        1.000000       1.000000           1.000000      1.000000   \n",
            "\n",
            "        Not-in-family   Other-relative     Own-child     Unmarried  \\\n",
            "count    30014.000000     30014.000000  30014.000000  30014.000000   \n",
            "mean         0.256747         0.029620      0.148731      0.106883   \n",
            "std          0.436846         0.169538      0.355829      0.308970   \n",
            "min          0.000000         0.000000      0.000000      0.000000   \n",
            "25%          0.000000         0.000000      0.000000      0.000000   \n",
            "50%          0.000000         0.000000      0.000000      0.000000   \n",
            "75%          1.000000         0.000000      0.000000      0.000000   \n",
            "max          1.000000         1.000000      1.000000      1.000000   \n",
            "\n",
            "               Wife   Amer-Indian-Eskimo   Asian-Pac-Islander         Black  \\\n",
            "count  30014.000000         30014.000000         30014.000000  30014.000000   \n",
            "mean       0.046545             0.009529             0.029586      0.093656   \n",
            "std        0.210666             0.097151             0.169446      0.291355   \n",
            "min        0.000000             0.000000             0.000000      0.000000   \n",
            "25%        0.000000             0.000000             0.000000      0.000000   \n",
            "50%        0.000000             0.000000             0.000000      0.000000   \n",
            "75%        0.000000             0.000000             0.000000      0.000000   \n",
            "max        1.000000             1.000000             1.000000      1.000000   \n",
            "\n",
            "              Other         White        Female          Male      Cambodia  \\\n",
            "count  30014.000000  30014.000000  30014.000000  30014.000000  30014.000000   \n",
            "mean       0.007630      0.859599      0.325248      0.674752      0.000600   \n",
            "std        0.087016      0.347409      0.468475      0.468475      0.024482   \n",
            "min        0.000000      0.000000      0.000000      0.000000      0.000000   \n",
            "25%        0.000000      1.000000      0.000000      0.000000      0.000000   \n",
            "50%        0.000000      1.000000      0.000000      1.000000      0.000000   \n",
            "75%        0.000000      1.000000      1.000000      1.000000      0.000000   \n",
            "max        1.000000      1.000000      1.000000      1.000000      1.000000   \n",
            "\n",
            "             Canada         China      Columbia          Cuba  \\\n",
            "count  30014.000000  30014.000000  30014.000000  30014.000000   \n",
            "mean       0.003532      0.002266      0.001866      0.003065   \n",
            "std        0.059324      0.047545      0.043155      0.055281   \n",
            "min        0.000000      0.000000      0.000000      0.000000   \n",
            "25%        0.000000      0.000000      0.000000      0.000000   \n",
            "50%        0.000000      0.000000      0.000000      0.000000   \n",
            "75%        0.000000      0.000000      0.000000      0.000000   \n",
            "max        1.000000      1.000000      1.000000      1.000000   \n",
            "\n",
            "        Dominican-Republic      Ecuador   El-Salvador       England  \\\n",
            "count         30014.000000  30014.00000  30014.000000  30014.000000   \n",
            "mean              0.002199      0.00090      0.003332      0.002865   \n",
            "std               0.046842      0.02998      0.057626      0.053453   \n",
            "min               0.000000      0.00000      0.000000      0.000000   \n",
            "25%               0.000000      0.00000      0.000000      0.000000   \n",
            "50%               0.000000      0.00000      0.000000      0.000000   \n",
            "75%               0.000000      0.00000      0.000000      0.000000   \n",
            "max               1.000000      1.00000      1.000000      1.000000   \n",
            "\n",
            "            France       Germany        Greece     Guatemala         Haiti  \\\n",
            "count  30014.00000  30014.000000  30014.000000  30014.000000  30014.000000   \n",
            "mean       0.00090      0.004265      0.000966      0.002099      0.001399   \n",
            "std        0.02998      0.065166      0.031070      0.045768      0.037382   \n",
            "min        0.00000      0.000000      0.000000      0.000000      0.000000   \n",
            "25%        0.00000      0.000000      0.000000      0.000000      0.000000   \n",
            "50%        0.00000      0.000000      0.000000      0.000000      0.000000   \n",
            "75%        0.00000      0.000000      0.000000      0.000000      0.000000   \n",
            "max        1.00000      1.000000      1.000000      1.000000      1.000000   \n",
            "\n",
            "        Holand-Netherlands      Honduras          Hong       Hungary  \\\n",
            "count         30014.000000  30014.000000  30014.000000  30014.000000   \n",
            "mean              0.000033      0.000400      0.000633      0.000433   \n",
            "std               0.005772      0.019992      0.025153      0.020808   \n",
            "min               0.000000      0.000000      0.000000      0.000000   \n",
            "25%               0.000000      0.000000      0.000000      0.000000   \n",
            "50%               0.000000      0.000000      0.000000      0.000000   \n",
            "75%               0.000000      0.000000      0.000000      0.000000   \n",
            "max               1.000000      1.000000      1.000000      1.000000   \n",
            "\n",
            "              India          Iran       Ireland         Italy       Jamaica  \\\n",
            "count  30014.000000  30014.000000  30014.000000  30014.000000  30014.000000   \n",
            "mean       0.003232      0.001399      0.000800      0.002266      0.002665   \n",
            "std        0.056758      0.037382      0.028267      0.047545      0.051560   \n",
            "min        0.000000      0.000000      0.000000      0.000000      0.000000   \n",
            "25%        0.000000      0.000000      0.000000      0.000000      0.000000   \n",
            "50%        0.000000      0.000000      0.000000      0.000000      0.000000   \n",
            "75%        0.000000      0.000000      0.000000      0.000000      0.000000   \n",
            "max        1.000000      1.000000      1.000000      1.000000      1.000000   \n",
            "\n",
            "              Japan          Laos        Mexico     Nicaragua  \\\n",
            "count  30014.000000  30014.000000  30014.000000  30014.000000   \n",
            "mean       0.001932      0.000566      0.020291      0.001099   \n",
            "std        0.043918      0.023793      0.140995      0.033141   \n",
            "min        0.000000      0.000000      0.000000      0.000000   \n",
            "25%        0.000000      0.000000      0.000000      0.000000   \n",
            "50%        0.000000      0.000000      0.000000      0.000000   \n",
            "75%        0.000000      0.000000      0.000000      0.000000   \n",
            "max        1.000000      1.000000      1.000000      1.000000   \n",
            "\n",
            "        Outlying-US(Guam-USVI-etc)        Peru   Philippines        Poland  \\\n",
            "count                 30014.000000  30014.0000  30014.000000  30014.000000   \n",
            "mean                      0.000466      0.0010      0.006230      0.001866   \n",
            "std                       0.021593      0.0316      0.078688      0.043155   \n",
            "min                       0.000000      0.0000      0.000000      0.000000   \n",
            "25%                       0.000000      0.0000      0.000000      0.000000   \n",
            "50%                       0.000000      0.0000      0.000000      0.000000   \n",
            "75%                       0.000000      0.0000      0.000000      0.000000   \n",
            "max                       1.000000      1.0000      1.000000      1.000000   \n",
            "\n",
            "           Portugal   Puerto-Rico      Scotland         South        Taiwan  \\\n",
            "count  30014.000000  30014.000000  30014.000000  30014.000000  30014.000000   \n",
            "mean       0.001133      0.003632      0.000366      0.002366      0.001366   \n",
            "std        0.033639      0.060155      0.019141      0.048580      0.036935   \n",
            "min        0.000000      0.000000      0.000000      0.000000      0.000000   \n",
            "25%        0.000000      0.000000      0.000000      0.000000      0.000000   \n",
            "50%        0.000000      0.000000      0.000000      0.000000      0.000000   \n",
            "75%        0.000000      0.000000      0.000000      0.000000      0.000000   \n",
            "max        1.000000      1.000000      1.000000      1.000000      1.000000   \n",
            "\n",
            "           Thailand   Trinadad&Tobago   United-States       Vietnam  \\\n",
            "count  30014.000000      30014.000000    30014.000000  30014.000000   \n",
            "mean       0.000566          0.000600        0.911741      0.002132   \n",
            "std        0.023793          0.024482        0.283676      0.046129   \n",
            "min        0.000000          0.000000        0.000000      0.000000   \n",
            "25%        0.000000          0.000000        1.000000      0.000000   \n",
            "50%        0.000000          0.000000        1.000000      0.000000   \n",
            "75%        0.000000          0.000000        1.000000      0.000000   \n",
            "max        1.000000          1.000000        1.000000      1.000000   \n",
            "\n",
            "         Yugoslavia  \n",
            "count  30014.000000  \n",
            "mean       0.000533  \n",
            "std        0.023083  \n",
            "min        0.000000  \n",
            "25%        0.000000  \n",
            "50%        0.000000  \n",
            "75%        0.000000  \n",
            "max        1.000000  \n"
          ]
        }
      ]
    },
    {
      "cell_type": "code",
      "source": [
        "#x.hist(bins=100, figsize=(40,20))"
      ],
      "metadata": {
        "id": "U_jDhrST2Rsl"
      },
      "execution_count": 48,
      "outputs": []
    },
    {
      "cell_type": "markdown",
      "source": [
        "ทำการ Normalize ตัวเลขใน df_x"
      ],
      "metadata": {
        "id": "U5pm-wnX1Fwl"
      }
    },
    {
      "cell_type": "code",
      "source": [
        "scaler = StandardScaler().fit(x)\n",
        "x = scaler.transform(x)\n",
        "print(x)"
      ],
      "metadata": {
        "colab": {
          "base_uri": "https://localhost:8080/"
        },
        "id": "JTCGoqPA6SOe",
        "outputId": "51ec52f0-e5df-4473-c957-39cd7d1c803e"
      },
      "execution_count": 49,
      "outputs": [
        {
          "output_type": "stream",
          "name": "stdout",
          "text": [
            "[[-0.10101575 -1.11204094  0.93705982 ...  0.28907384 -0.03918674\n",
            "  -0.02416069]\n",
            " [ 0.79599216 -1.05361009  0.93705982 ...  0.28907384 -0.03918674\n",
            "  -0.02416069]\n",
            " [-0.18256192  0.28072072 -0.63836112 ...  0.28907384 -0.03918674\n",
            "  -0.02416069]\n",
            " ...\n",
            " [-0.24971664 -0.82556032 -0.24450589 ...  0.28907384 -0.03918674\n",
            "  -0.02416069]\n",
            " [ 1.22045951 -0.35377701  0.14934935 ...  0.28907384 -0.03918674\n",
            "  -0.02416069]\n",
            " [-0.4692584  -0.19416035 -0.24450589 ...  0.28907384 -0.03918674\n",
            "  -0.02416069]]\n"
          ]
        }
      ]
    },
    {
      "cell_type": "code",
      "source": [
        "#pd.DataFrame(x).hist(bins=100, figsize=(40,20))"
      ],
      "metadata": {
        "id": "6GhHTGRI23vQ"
      },
      "execution_count": 50,
      "outputs": []
    },
    {
      "cell_type": "markdown",
      "source": [
        "## Split Test and train data\n",
        "\n",
        "แบ่งข้อมูลออกเป็น Train และ Test"
      ],
      "metadata": {
        "id": "eKv-mX-CAUjN"
      }
    },
    {
      "cell_type": "code",
      "source": [
        "x_train, x_test, y_train, y_test = train_test_split(x,y, test_size=0.3, random_state = 42)\n",
        "\n",
        "print(x_train.shape)\n",
        "print(y_train.shape)\n",
        "print(x_test.shape)\n",
        "print(y_test.shape)"
      ],
      "metadata": {
        "colab": {
          "base_uri": "https://localhost:8080/"
        },
        "id": "DgOBaHhzAYEo",
        "outputId": "92c92f52-c491-4b78-aa24-b959f43c280b"
      },
      "execution_count": 51,
      "outputs": [
        {
          "output_type": "stream",
          "name": "stdout",
          "text": [
            "(31715, 88)\n",
            "(31715,)\n",
            "(13593, 88)\n",
            "(13593,)\n"
          ]
        }
      ]
    },
    {
      "cell_type": "markdown",
      "source": [
        "# Create Model\n",
        "\n",
        "สร้าง Model โดยเริ่มจากฝั่ง Traditional ML และ MLP"
      ],
      "metadata": {
        "id": "UnBHaTLRA1GT"
      }
    },
    {
      "cell_type": "markdown",
      "source": [
        "Logistic Regression"
      ],
      "metadata": {
        "id": "90XWpBGeS_U3"
      }
    },
    {
      "cell_type": "code",
      "source": [
        "logreg = LogisticRegression(max_iter=1000)\n",
        "logreg.fit(x_train,y_train)\n",
        "y_pred = logreg.predict(x_test)\n",
        "score = logreg.score(x_test, y_test)\n",
        "recall_precision_f1 = precision_recall_fscore_support(y_test,y_pred, average = \"macro\")\n",
        "print(f'Test Accuracy Score :{score}')\n",
        "print(f'Recall :{recall_precision_f1[0]}')\n",
        "print(f'Precision :{recall_precision_f1[1]}')\n",
        "print(f'F1 :{recall_precision_f1[2]}')"
      ],
      "metadata": {
        "colab": {
          "base_uri": "https://localhost:8080/"
        },
        "id": "8hLZ0gWpTBdX",
        "outputId": "e056c366-d2d9-4b05-f331-ab2ab85ab368"
      },
      "execution_count": 52,
      "outputs": [
        {
          "output_type": "stream",
          "name": "stdout",
          "text": [
            "Test Accuracy Score :0.8221143235488855\n",
            "Recall :0.8237896703958533\n",
            "Precision :0.8224153006988271\n",
            "F1 :0.8219685209152148\n"
          ]
        }
      ]
    },
    {
      "cell_type": "markdown",
      "source": [
        "SVM"
      ],
      "metadata": {
        "id": "EcoZHgZxTFPV"
      }
    },
    {
      "cell_type": "code",
      "source": [
        "svm = SVC()\n",
        "svm.fit(x_train,y_train)\n",
        "y_pred = svm.predict(x_test)\n",
        "score = svm.score(x_test, y_test)\n",
        "recall_precision_f1 = precision_recall_fscore_support(y_test,y_pred, average = \"macro\")\n",
        "\n",
        "print(f'Test Accuracy Score :{score}')\n",
        "print(f'Recall :{recall_precision_f1[0]}')\n",
        "print(f'Precision :{recall_precision_f1[1]}')\n",
        "print(f'F1 :{recall_precision_f1[2]}')"
      ],
      "metadata": {
        "colab": {
          "base_uri": "https://localhost:8080/"
        },
        "id": "Lp-cGrMmTr42",
        "outputId": "b4c8a079-8d13-4088-a93a-42dc085eff04"
      },
      "execution_count": 53,
      "outputs": [
        {
          "output_type": "stream",
          "name": "stdout",
          "text": [
            "Test Accuracy Score :0.8327815787537703\n",
            "Recall :0.8357859954296921\n",
            "Precision :0.8331797978510345\n",
            "F1 :0.832513323998634\n"
          ]
        }
      ]
    },
    {
      "cell_type": "markdown",
      "source": [
        "Random Forest"
      ],
      "metadata": {
        "id": "Pzv9WCdtTGBf"
      }
    },
    {
      "cell_type": "code",
      "source": [
        "rf = KNeighborsClassifier()\n",
        "rf.fit(x_train,y_train)\n",
        "y_pred = rf.predict(x_test)\n",
        "score = rf.score(x_test, y_test)\n",
        "recall_precision_f1 = precision_recall_fscore_support(y_test,y_pred, average = \"macro\")\n",
        "\n",
        "print(f'Test Accuracy Score :{score}')\n",
        "print(f'Recall :{recall_precision_f1[0]}')\n",
        "print(f'Precision :{recall_precision_f1[1]}')\n",
        "print(f'F1 :{recall_precision_f1[2]}')"
      ],
      "metadata": {
        "colab": {
          "base_uri": "https://localhost:8080/"
        },
        "id": "SgcX0vBNUf1w",
        "outputId": "f9aa85ee-aef4-4060-efa6-aec4aa9ad5b9"
      },
      "execution_count": 54,
      "outputs": [
        {
          "output_type": "stream",
          "name": "stdout",
          "text": [
            "Test Accuracy Score :0.8422717575222541\n",
            "Recall :0.8472385066682668\n",
            "Precision :0.8427770933691594\n",
            "F1 :0.8418341405112637\n"
          ]
        }
      ]
    },
    {
      "cell_type": "markdown",
      "source": [
        "KNN"
      ],
      "metadata": {
        "id": "dw0oDSdiUei3"
      }
    },
    {
      "cell_type": "code",
      "source": [
        "knn = KNeighborsClassifier()\n",
        "knn.fit(x_train,y_train)\n",
        "y_pred = knn.predict(x_test)\n",
        "score = knn.score(x_test, y_test)\n",
        "recall_precision_f1 = precision_recall_fscore_support(y_test,y_pred, average = \"macro\")\n",
        "\n",
        "print(f'Test Accuracy Score :{score}')\n",
        "print(f'Recall :{recall_precision_f1[0]}')\n",
        "print(f'Precision :{recall_precision_f1[1]}')\n",
        "print(f'F1 :{recall_precision_f1[2]}')"
      ],
      "metadata": {
        "colab": {
          "base_uri": "https://localhost:8080/"
        },
        "id": "5mgPC1XKUgM2",
        "outputId": "5974bd22-b8c2-40ea-b70c-0e5666cfb923"
      },
      "execution_count": 55,
      "outputs": [
        {
          "output_type": "stream",
          "name": "stdout",
          "text": [
            "Test Accuracy Score :0.8422717575222541\n",
            "Recall :0.8472385066682668\n",
            "Precision :0.8427770933691594\n",
            "F1 :0.8418341405112637\n"
          ]
        }
      ]
    },
    {
      "cell_type": "markdown",
      "source": [
        "MLP"
      ],
      "metadata": {
        "id": "EOoZ4skuZKeb"
      }
    },
    {
      "cell_type": "code",
      "source": [
        "tf.random.set_seed(1)\n",
        "initializer = tf.keras.initializers.GlorotNormal(seed=9999)\n",
        "model = tf.keras.models.Sequential()\n",
        "\n",
        "model.add(tf.keras.Input(shape = x_test.shape[1],))  #input\n",
        "model.add(tf.keras.layers.Dense(512, activation = \"sigmoid\", name = \"hidden1\", kernel_initializer=initializer))\n",
        "model.add(tf.keras.layers.Dense(256, activation = \"sigmoid\", name = \"hidden2\", kernel_initializer=initializer))\n",
        "model.add(tf.keras.layers.Dense(128, activation = \"sigmoid\", name = \"hidden3\", kernel_initializer=initializer))\n",
        "model.add(tf.keras.layers.Dense(64, activation = \"sigmoid\", name = \"hidden4\", kernel_initializer=initializer))\n",
        "model.add(tf.keras.layers.Dense(32, activation = \"sigmoid\", name = \"hidden5\", kernel_initializer=initializer))\n",
        "model.add(tf.keras.layers.Dropout(0.3))\n",
        "\n",
        "\n",
        "#Output layer\n",
        "model.add(tf.keras.layers.Dense(1,activation = \"sigmoid\", name = \"output\"))\n",
        "model.summary()"
      ],
      "metadata": {
        "colab": {
          "base_uri": "https://localhost:8080/"
        },
        "id": "IFA6i5-WA3a3",
        "outputId": "4f1e601c-df00-4caf-d9dc-0bd67d995c16"
      },
      "execution_count": 56,
      "outputs": [
        {
          "output_type": "stream",
          "name": "stdout",
          "text": [
            "Model: \"sequential\"\n",
            "_________________________________________________________________\n",
            " Layer (type)                Output Shape              Param #   \n",
            "=================================================================\n",
            " hidden1 (Dense)             (None, 512)               45568     \n",
            "                                                                 \n",
            " hidden2 (Dense)             (None, 256)               131328    \n",
            "                                                                 \n",
            " hidden3 (Dense)             (None, 128)               32896     \n",
            "                                                                 \n",
            " hidden4 (Dense)             (None, 64)                8256      \n",
            "                                                                 \n",
            " hidden5 (Dense)             (None, 32)                2080      \n",
            "                                                                 \n",
            " dropout (Dropout)           (None, 32)                0         \n",
            "                                                                 \n",
            " output (Dense)              (None, 1)                 33        \n",
            "                                                                 \n",
            "=================================================================\n",
            "Total params: 220,161\n",
            "Trainable params: 220,161\n",
            "Non-trainable params: 0\n",
            "_________________________________________________________________\n"
          ]
        }
      ]
    },
    {
      "cell_type": "code",
      "source": [
        "opt = tf.keras.optimizers.Adam(learning_rate=0.01)\n",
        "\n",
        "model.compile(optimizer = opt, loss = \"binary_crossentropy\", metrics = ['acc',tf.keras.metrics.Precision(), tf.keras.metrics.Recall()])"
      ],
      "metadata": {
        "id": "tInV4Fc5BYKq"
      },
      "execution_count": 57,
      "outputs": []
    },
    {
      "cell_type": "code",
      "source": [
        "print(model.layers[2].get_weights()[0][0])"
      ],
      "metadata": {
        "colab": {
          "base_uri": "https://localhost:8080/"
        },
        "id": "mLgF5FvHBxLF",
        "outputId": "e8caca37-0ff3-4cc1-eb25-0f6581415523"
      },
      "execution_count": 58,
      "outputs": [
        {
          "output_type": "stream",
          "name": "stdout",
          "text": [
            "[ 0.13575114 -0.13093224 -0.01206048  0.06655537  0.09920499 -0.07324725\n",
            " -0.02685088  0.05199524 -0.10642366  0.0691298   0.14607278  0.04716945\n",
            "  0.10319024 -0.12954776 -0.13051523  0.10656802  0.0087737   0.06259705\n",
            " -0.06671014 -0.11666407  0.04763605 -0.04898696  0.05283096  0.0433395\n",
            "  0.04592669 -0.1517444   0.12093838  0.06911775 -0.03986859 -0.14373568\n",
            " -0.04388779  0.00639576 -0.07783332  0.04151439 -0.05528233  0.09245462\n",
            " -0.05303004  0.06245764 -0.07706513 -0.02181769 -0.01170241  0.00310498\n",
            " -0.00880475  0.05939907  0.14814591 -0.0682506   0.07733849 -0.00154517\n",
            "  0.09493714 -0.01181956  0.00572598  0.11263338 -0.08086068 -0.00546064\n",
            "  0.00116275  0.08597496  0.021769    0.0387065  -0.02512379 -0.10140079\n",
            "  0.0421307  -0.06218355 -0.13355234 -0.10565452 -0.00334383  0.06068901\n",
            "  0.05138321  0.13819773 -0.01879609  0.12454418  0.09002934  0.00088098\n",
            "  0.0171227  -0.00778579  0.1423415  -0.05416208  0.00396287  0.0959791\n",
            " -0.08177876  0.02668415  0.08367825  0.02148249 -0.06298713  0.02773819\n",
            "  0.04424661  0.0052163   0.10376947  0.05378183  0.07540552  0.1499731\n",
            "  0.00719509 -0.02253186  0.0006634  -0.02896774 -0.08839551 -0.1239049\n",
            "  0.14477354  0.01888445 -0.08066235  0.11497752  0.00351397  0.07410016\n",
            "  0.01151016 -0.01460778 -0.04369498 -0.00734093  0.05439029  0.06563007\n",
            " -0.04048412 -0.05540662 -0.1552153  -0.01221973 -0.04893356  0.04912446\n",
            " -0.05538125  0.05792854  0.14993145 -0.0729078  -0.01674374 -0.06180718\n",
            "  0.00505808 -0.0110427   0.07088456 -0.0289229   0.01736069  0.01718952\n",
            " -0.03866984  0.13506085]\n"
          ]
        }
      ]
    },
    {
      "cell_type": "code",
      "source": [
        "model.layers[2].get_weights()[0].shape"
      ],
      "metadata": {
        "colab": {
          "base_uri": "https://localhost:8080/"
        },
        "id": "WB1keiNFCRvb",
        "outputId": "0a681470-f92b-45f6-bb3a-0072c16b2bb9"
      },
      "execution_count": 59,
      "outputs": [
        {
          "output_type": "execute_result",
          "data": {
            "text/plain": [
              "(256, 128)"
            ]
          },
          "metadata": {},
          "execution_count": 59
        }
      ]
    },
    {
      "cell_type": "code",
      "source": [
        "checkpoint_filepath = \"bestmodel_epoch{epoch:02d}_valloss{val_loss:.4f}_acc{val_acc: .4f}.hdf5\"\n",
        "model_check_point_callback = tf.keras.callbacks.ModelCheckpoint(filepath = checkpoint_filepath,\n",
        "                                                                save_weight_only = True,\n",
        "                                                                monitor = \"val_acc\",\n",
        "                                                                mode = \"max\",\n",
        "                                                                save_best_only = True,\n",
        "                                                                verbose=1)"
      ],
      "metadata": {
        "id": "u4AKzfz-CaAD"
      },
      "execution_count": 60,
      "outputs": []
    },
    {
      "cell_type": "code",
      "source": [
        "history = model.fit(x_train, y_train, batch_size= 32, epochs = 100, verbose = 2, validation_split= 0.2, callbacks=[model_check_point_callback])"
      ],
      "metadata": {
        "colab": {
          "base_uri": "https://localhost:8080/"
        },
        "id": "YWKmqSu6CytU",
        "outputId": "33abadd6-d50d-46ef-be0c-83fb04cfede7"
      },
      "execution_count": 61,
      "outputs": [
        {
          "output_type": "stream",
          "name": "stdout",
          "text": [
            "Epoch 1/100\n",
            "\n",
            "Epoch 00001: val_acc improved from -inf to 0.82579, saving model to bestmodel_epoch01_valloss0.4117_acc 0.8258.hdf5\n",
            "793/793 - 9s - loss: 0.4612 - acc: 0.7928 - precision: 0.8252 - recall: 0.7376 - val_loss: 0.4117 - val_acc: 0.8258 - val_precision: 0.8635 - val_recall: 0.7834 - 9s/epoch - 11ms/step\n",
            "Epoch 2/100\n",
            "\n",
            "Epoch 00002: val_acc did not improve from 0.82579\n",
            "793/793 - 5s - loss: 0.4209 - acc: 0.8117 - precision: 0.8519 - recall: 0.7497 - val_loss: 0.4168 - val_acc: 0.8127 - val_precision: 0.9010 - val_recall: 0.7123 - 5s/epoch - 6ms/step\n",
            "Epoch 3/100\n",
            "\n",
            "Epoch 00003: val_acc improved from 0.82579 to 0.82705, saving model to bestmodel_epoch03_valloss0.3872_acc 0.8271.hdf5\n",
            "793/793 - 5s - loss: 0.4120 - acc: 0.8136 - precision: 0.8537 - recall: 0.7522 - val_loss: 0.3872 - val_acc: 0.8271 - val_precision: 0.8559 - val_recall: 0.7961 - 5s/epoch - 6ms/step\n",
            "Epoch 4/100\n",
            "\n",
            "Epoch 00004: val_acc did not improve from 0.82705\n",
            "793/793 - 5s - loss: 0.4112 - acc: 0.8186 - precision: 0.8632 - recall: 0.7527 - val_loss: 0.4090 - val_acc: 0.8044 - val_precision: 0.7666 - val_recall: 0.8882 - 5s/epoch - 6ms/step\n",
            "Epoch 5/100\n",
            "\n",
            "Epoch 00005: val_acc did not improve from 0.82705\n",
            "793/793 - 5s - loss: 0.4035 - acc: 0.8160 - precision: 0.8566 - recall: 0.7544 - val_loss: 0.3895 - val_acc: 0.8217 - val_precision: 0.9035 - val_recall: 0.7295 - 5s/epoch - 6ms/step\n",
            "Epoch 6/100\n",
            "\n",
            "Epoch 00006: val_acc did not improve from 0.82705\n",
            "793/793 - 5s - loss: 0.4022 - acc: 0.8199 - precision: 0.8572 - recall: 0.7631 - val_loss: 0.3842 - val_acc: 0.8160 - val_precision: 0.9170 - val_recall: 0.7043 - 5s/epoch - 6ms/step\n",
            "Epoch 7/100\n",
            "\n",
            "Epoch 00007: val_acc did not improve from 0.82705\n",
            "793/793 - 5s - loss: 0.3975 - acc: 0.8207 - precision: 0.8703 - recall: 0.7494 - val_loss: 0.3864 - val_acc: 0.8256 - val_precision: 0.8978 - val_recall: 0.7440 - 5s/epoch - 6ms/step\n",
            "Epoch 8/100\n",
            "\n",
            "Epoch 00008: val_acc improved from 0.82705 to 0.82768, saving model to bestmodel_epoch08_valloss0.3735_acc 0.8277.hdf5\n",
            "793/793 - 5s - loss: 0.3902 - acc: 0.8242 - precision: 0.8642 - recall: 0.7649 - val_loss: 0.3735 - val_acc: 0.8277 - val_precision: 0.8147 - val_recall: 0.8586 - 5s/epoch - 6ms/step\n",
            "Epoch 9/100\n",
            "\n",
            "Epoch 00009: val_acc did not improve from 0.82768\n",
            "793/793 - 5s - loss: 0.3853 - acc: 0.8271 - precision: 0.8604 - recall: 0.7765 - val_loss: 0.3800 - val_acc: 0.8250 - val_precision: 0.9114 - val_recall: 0.7289 - 5s/epoch - 6ms/step\n",
            "Epoch 10/100\n",
            "\n",
            "Epoch 00010: val_acc improved from 0.82768 to 0.82942, saving model to bestmodel_epoch10_valloss0.3807_acc 0.8294.hdf5\n",
            "793/793 - 5s - loss: 0.3846 - acc: 0.8305 - precision: 0.8748 - recall: 0.7672 - val_loss: 0.3807 - val_acc: 0.8294 - val_precision: 0.8327 - val_recall: 0.8343 - 5s/epoch - 6ms/step\n",
            "Epoch 11/100\n",
            "\n",
            "Epoch 00011: val_acc did not improve from 0.82942\n",
            "793/793 - 5s - loss: 0.3815 - acc: 0.8300 - precision: 0.8731 - recall: 0.7682 - val_loss: 0.3768 - val_acc: 0.8234 - val_precision: 0.9111 - val_recall: 0.7258 - 5s/epoch - 7ms/step\n",
            "Epoch 12/100\n",
            "\n",
            "Epoch 00012: val_acc did not improve from 0.82942\n",
            "793/793 - 5s - loss: 0.3823 - acc: 0.8280 - precision: 0.8663 - recall: 0.7714 - val_loss: 0.3723 - val_acc: 0.8285 - val_precision: 0.8133 - val_recall: 0.8629 - 5s/epoch - 7ms/step\n",
            "Epoch 13/100\n",
            "\n",
            "Epoch 00013: val_acc improved from 0.82942 to 0.83541, saving model to bestmodel_epoch13_valloss0.3777_acc 0.8354.hdf5\n",
            "793/793 - 5s - loss: 0.3760 - acc: 0.8317 - precision: 0.8649 - recall: 0.7821 - val_loss: 0.3777 - val_acc: 0.8354 - val_precision: 0.8533 - val_recall: 0.8192 - 5s/epoch - 6ms/step\n",
            "Epoch 14/100\n",
            "\n",
            "Epoch 00014: val_acc did not improve from 0.83541\n",
            "793/793 - 5s - loss: 0.3748 - acc: 0.8320 - precision: 0.8737 - recall: 0.7720 - val_loss: 0.3667 - val_acc: 0.8263 - val_precision: 0.8125 - val_recall: 0.8586 - 5s/epoch - 6ms/step\n",
            "Epoch 15/100\n",
            "\n",
            "Epoch 00015: val_acc did not improve from 0.83541\n",
            "793/793 - 5s - loss: 0.3718 - acc: 0.8323 - precision: 0.8724 - recall: 0.7743 - val_loss: 0.3904 - val_acc: 0.8182 - val_precision: 0.9362 - val_recall: 0.6919 - 5s/epoch - 6ms/step\n",
            "Epoch 16/100\n",
            "\n",
            "Epoch 00016: val_acc did not improve from 0.83541\n",
            "793/793 - 5s - loss: 0.3704 - acc: 0.8332 - precision: 0.8702 - recall: 0.7791 - val_loss: 0.3625 - val_acc: 0.8349 - val_precision: 0.8798 - val_recall: 0.7847 - 5s/epoch - 6ms/step\n",
            "Epoch 17/100\n",
            "\n",
            "Epoch 00017: val_acc improved from 0.83541 to 0.83982, saving model to bestmodel_epoch17_valloss0.3652_acc 0.8398.hdf5\n",
            "793/793 - 5s - loss: 0.3706 - acc: 0.8341 - precision: 0.8699 - recall: 0.7815 - val_loss: 0.3652 - val_acc: 0.8398 - val_precision: 0.8478 - val_recall: 0.8373 - 5s/epoch - 6ms/step\n",
            "Epoch 18/100\n",
            "\n",
            "Epoch 00018: val_acc did not improve from 0.83982\n",
            "793/793 - 5s - loss: 0.3700 - acc: 0.8328 - precision: 0.8724 - recall: 0.7755 - val_loss: 0.3689 - val_acc: 0.8349 - val_precision: 0.8637 - val_recall: 0.8044 - 5s/epoch - 6ms/step\n",
            "Epoch 19/100\n",
            "\n",
            "Epoch 00019: val_acc did not improve from 0.83982\n",
            "793/793 - 5s - loss: 0.3658 - acc: 0.8376 - precision: 0.8750 - recall: 0.7837 - val_loss: 0.3747 - val_acc: 0.8341 - val_precision: 0.8259 - val_recall: 0.8564 - 5s/epoch - 7ms/step\n",
            "Epoch 20/100\n",
            "\n",
            "Epoch 00020: val_acc did not improve from 0.83982\n",
            "793/793 - 5s - loss: 0.3635 - acc: 0.8363 - precision: 0.8653 - recall: 0.7925 - val_loss: 0.3620 - val_acc: 0.8368 - val_precision: 0.8975 - val_recall: 0.7689 - 5s/epoch - 6ms/step\n",
            "Epoch 21/100\n",
            "\n",
            "Epoch 00021: val_acc did not improve from 0.83982\n",
            "793/793 - 5s - loss: 0.3616 - acc: 0.8384 - precision: 0.8809 - recall: 0.7788 - val_loss: 0.3575 - val_acc: 0.8379 - val_precision: 0.8573 - val_recall: 0.8198 - 5s/epoch - 6ms/step\n",
            "Epoch 22/100\n",
            "\n",
            "Epoch 00022: val_acc did not improve from 0.83982\n",
            "793/793 - 5s - loss: 0.3585 - acc: 0.8388 - precision: 0.8875 - recall: 0.7720 - val_loss: 0.3703 - val_acc: 0.8376 - val_precision: 0.8476 - val_recall: 0.8324 - 5s/epoch - 6ms/step\n",
            "Epoch 23/100\n",
            "\n",
            "Epoch 00023: val_acc did not improve from 0.83982\n",
            "793/793 - 5s - loss: 0.3577 - acc: 0.8355 - precision: 0.8748 - recall: 0.7791 - val_loss: 0.3698 - val_acc: 0.8368 - val_precision: 0.8792 - val_recall: 0.7896 - 5s/epoch - 6ms/step\n",
            "Epoch 24/100\n",
            "\n",
            "Epoch 00024: val_acc did not improve from 0.83982\n",
            "793/793 - 5s - loss: 0.3550 - acc: 0.8413 - precision: 0.8885 - recall: 0.7766 - val_loss: 0.3547 - val_acc: 0.8367 - val_precision: 0.9224 - val_recall: 0.7434 - 5s/epoch - 6ms/step\n",
            "Epoch 25/100\n",
            "\n",
            "Epoch 00025: val_acc improved from 0.83982 to 0.84203, saving model to bestmodel_epoch25_valloss0.3535_acc 0.8420.hdf5\n",
            "793/793 - 5s - loss: 0.3525 - acc: 0.8444 - precision: 0.8809 - recall: 0.7927 - val_loss: 0.3535 - val_acc: 0.8420 - val_precision: 0.8832 - val_recall: 0.7967 - 5s/epoch - 6ms/step\n",
            "Epoch 26/100\n",
            "\n",
            "Epoch 00026: val_acc did not improve from 0.84203\n",
            "793/793 - 5s - loss: 0.3534 - acc: 0.8434 - precision: 0.8878 - recall: 0.7825 - val_loss: 0.3547 - val_acc: 0.8394 - val_precision: 0.8696 - val_recall: 0.8071 - 5s/epoch - 6ms/step\n",
            "Epoch 27/100\n",
            "\n",
            "Epoch 00027: val_acc did not improve from 0.84203\n",
            "793/793 - 5s - loss: 0.3522 - acc: 0.8446 - precision: 0.8850 - recall: 0.7883 - val_loss: 0.3609 - val_acc: 0.8099 - val_precision: 0.9570 - val_recall: 0.6580 - 5s/epoch - 6ms/step\n",
            "Epoch 28/100\n",
            "\n",
            "Epoch 00028: val_acc did not improve from 0.84203\n",
            "793/793 - 5s - loss: 0.3479 - acc: 0.8414 - precision: 0.8863 - recall: 0.7796 - val_loss: 0.3535 - val_acc: 0.8381 - val_precision: 0.8400 - val_recall: 0.8444 - 5s/epoch - 6ms/step\n",
            "Epoch 29/100\n",
            "\n",
            "Epoch 00029: val_acc did not improve from 0.84203\n",
            "793/793 - 5s - loss: 0.3468 - acc: 0.8456 - precision: 0.8761 - recall: 0.8013 - val_loss: 0.3547 - val_acc: 0.8364 - val_precision: 0.8297 - val_recall: 0.8558 - 5s/epoch - 6ms/step\n",
            "Epoch 30/100\n",
            "\n",
            "Epoch 00030: val_acc did not improve from 0.84203\n",
            "793/793 - 5s - loss: 0.3464 - acc: 0.8411 - precision: 0.8740 - recall: 0.7932 - val_loss: 0.3526 - val_acc: 0.8351 - val_precision: 0.8360 - val_recall: 0.8432 - 5s/epoch - 6ms/step\n",
            "Epoch 31/100\n",
            "\n",
            "Epoch 00031: val_acc improved from 0.84203 to 0.84219, saving model to bestmodel_epoch31_valloss0.3588_acc 0.8422.hdf5\n",
            "793/793 - 5s - loss: 0.3420 - acc: 0.8463 - precision: 0.8851 - recall: 0.7922 - val_loss: 0.3588 - val_acc: 0.8422 - val_precision: 0.8804 - val_recall: 0.8004 - 5s/epoch - 6ms/step\n",
            "Epoch 32/100\n",
            "\n",
            "Epoch 00032: val_acc did not improve from 0.84219\n",
            "793/793 - 5s - loss: 0.3409 - acc: 0.8494 - precision: 0.8920 - recall: 0.7915 - val_loss: 0.3540 - val_acc: 0.8406 - val_precision: 0.8590 - val_recall: 0.8238 - 5s/epoch - 6ms/step\n",
            "Epoch 33/100\n",
            "\n",
            "Epoch 00033: val_acc improved from 0.84219 to 0.84250, saving model to bestmodel_epoch33_valloss0.3539_acc 0.8425.hdf5\n",
            "793/793 - 6s - loss: 0.3405 - acc: 0.8507 - precision: 0.8907 - recall: 0.7959 - val_loss: 0.3539 - val_acc: 0.8425 - val_precision: 0.8960 - val_recall: 0.7831 - 6s/epoch - 8ms/step\n",
            "Epoch 34/100\n",
            "\n",
            "Epoch 00034: val_acc improved from 0.84250 to 0.84455, saving model to bestmodel_epoch34_valloss0.3414_acc 0.8446.hdf5\n",
            "793/793 - 5s - loss: 0.3394 - acc: 0.8455 - precision: 0.8885 - recall: 0.7864 - val_loss: 0.3414 - val_acc: 0.8446 - val_precision: 0.9088 - val_recall: 0.7739 - 5s/epoch - 6ms/step\n",
            "Epoch 35/100\n",
            "\n",
            "Epoch 00035: val_acc did not improve from 0.84455\n",
            "793/793 - 5s - loss: 0.3356 - acc: 0.8513 - precision: 0.8934 - recall: 0.7942 - val_loss: 0.3540 - val_acc: 0.8409 - val_precision: 0.9203 - val_recall: 0.7545 - 5s/epoch - 6ms/step\n",
            "Epoch 36/100\n",
            "\n",
            "Epoch 00036: val_acc improved from 0.84455 to 0.84487, saving model to bestmodel_epoch36_valloss0.3443_acc 0.8449.hdf5\n",
            "793/793 - 5s - loss: 0.3356 - acc: 0.8486 - precision: 0.8960 - recall: 0.7851 - val_loss: 0.3443 - val_acc: 0.8449 - val_precision: 0.9092 - val_recall: 0.7742 - 5s/epoch - 6ms/step\n",
            "Epoch 37/100\n",
            "\n",
            "Epoch 00037: val_acc did not improve from 0.84487\n",
            "793/793 - 5s - loss: 0.3344 - acc: 0.8512 - precision: 0.8933 - recall: 0.7941 - val_loss: 0.3545 - val_acc: 0.8389 - val_precision: 0.8360 - val_recall: 0.8524 - 5s/epoch - 6ms/step\n",
            "Epoch 38/100\n",
            "\n",
            "Epoch 00038: val_acc did not improve from 0.84487\n",
            "793/793 - 5s - loss: 0.3343 - acc: 0.8509 - precision: 0.8954 - recall: 0.7911 - val_loss: 0.3575 - val_acc: 0.8321 - val_precision: 0.9268 - val_recall: 0.7295 - 5s/epoch - 6ms/step\n",
            "Epoch 39/100\n",
            "\n",
            "Epoch 00039: val_acc did not improve from 0.84487\n",
            "793/793 - 5s - loss: 0.3320 - acc: 0.8508 - precision: 0.9050 - recall: 0.7804 - val_loss: 0.3467 - val_acc: 0.8431 - val_precision: 0.9106 - val_recall: 0.7689 - 5s/epoch - 6ms/step\n",
            "Epoch 40/100\n",
            "\n",
            "Epoch 00040: val_acc improved from 0.84487 to 0.84534, saving model to bestmodel_epoch40_valloss0.3566_acc 0.8453.hdf5\n",
            "793/793 - 5s - loss: 0.3310 - acc: 0.8537 - precision: 0.9020 - recall: 0.7901 - val_loss: 0.3566 - val_acc: 0.8453 - val_precision: 0.8961 - val_recall: 0.7893 - 5s/epoch - 6ms/step\n",
            "Epoch 41/100\n",
            "\n",
            "Epoch 00041: val_acc did not improve from 0.84534\n",
            "793/793 - 5s - loss: 0.3239 - acc: 0.8580 - precision: 0.9086 - recall: 0.7928 - val_loss: 0.3477 - val_acc: 0.8430 - val_precision: 0.8745 - val_recall: 0.8093 - 5s/epoch - 6ms/step\n",
            "Epoch 42/100\n",
            "\n",
            "Epoch 00042: val_acc did not improve from 0.84534\n",
            "793/793 - 5s - loss: 0.3267 - acc: 0.8538 - precision: 0.9073 - recall: 0.7847 - val_loss: 0.3453 - val_acc: 0.8417 - val_precision: 0.9410 - val_recall: 0.7369 - 5s/epoch - 6ms/step\n",
            "Epoch 43/100\n",
            "\n",
            "Epoch 00043: val_acc did not improve from 0.84534\n",
            "793/793 - 5s - loss: 0.3281 - acc: 0.8541 - precision: 0.9010 - recall: 0.7922 - val_loss: 0.3509 - val_acc: 0.8420 - val_precision: 0.9266 - val_recall: 0.7508 - 5s/epoch - 6ms/step\n",
            "Epoch 44/100\n",
            "\n",
            "Epoch 00044: val_acc did not improve from 0.84534\n",
            "793/793 - 5s - loss: 0.3243 - acc: 0.8591 - precision: 0.9134 - recall: 0.7900 - val_loss: 0.3461 - val_acc: 0.8453 - val_precision: 0.8880 - val_recall: 0.7985 - 5s/epoch - 6ms/step\n",
            "Epoch 45/100\n",
            "\n",
            "Epoch 00045: val_acc did not improve from 0.84534\n",
            "793/793 - 5s - loss: 0.3204 - acc: 0.8598 - precision: 0.9108 - recall: 0.7945 - val_loss: 0.3480 - val_acc: 0.8430 - val_precision: 0.8989 - val_recall: 0.7810 - 5s/epoch - 6ms/step\n",
            "Epoch 46/100\n",
            "\n",
            "Epoch 00046: val_acc did not improve from 0.84534\n",
            "793/793 - 5s - loss: 0.3165 - acc: 0.8585 - precision: 0.9078 - recall: 0.7947 - val_loss: 0.3563 - val_acc: 0.8367 - val_precision: 0.8488 - val_recall: 0.8284 - 5s/epoch - 6ms/step\n",
            "Epoch 47/100\n",
            "\n",
            "Epoch 00047: val_acc did not improve from 0.84534\n",
            "793/793 - 5s - loss: 0.3172 - acc: 0.8602 - precision: 0.9137 - recall: 0.7923 - val_loss: 0.3478 - val_acc: 0.8375 - val_precision: 0.8441 - val_recall: 0.8370 - 5s/epoch - 6ms/step\n",
            "Epoch 48/100\n",
            "\n",
            "Epoch 00048: val_acc did not improve from 0.84534\n",
            "793/793 - 5s - loss: 0.3156 - acc: 0.8599 - precision: 0.9126 - recall: 0.7927 - val_loss: 0.3535 - val_acc: 0.8431 - val_precision: 0.9155 - val_recall: 0.7640 - 5s/epoch - 6ms/step\n",
            "Epoch 49/100\n",
            "\n",
            "Epoch 00049: val_acc improved from 0.84534 to 0.84723, saving model to bestmodel_epoch49_valloss0.3515_acc 0.8472.hdf5\n",
            "793/793 - 5s - loss: 0.3128 - acc: 0.8638 - precision: 0.9183 - recall: 0.7955 - val_loss: 0.3515 - val_acc: 0.8472 - val_precision: 0.9109 - val_recall: 0.7776 - 5s/epoch - 6ms/step\n",
            "Epoch 50/100\n",
            "\n",
            "Epoch 00050: val_acc did not improve from 0.84723\n",
            "793/793 - 5s - loss: 0.3136 - acc: 0.8617 - precision: 0.9096 - recall: 0.8000 - val_loss: 0.3623 - val_acc: 0.8401 - val_precision: 0.9049 - val_recall: 0.7683 - 5s/epoch - 6ms/step\n",
            "Epoch 51/100\n",
            "\n",
            "Epoch 00051: val_acc did not improve from 0.84723\n",
            "793/793 - 5s - loss: 0.3133 - acc: 0.8612 - precision: 0.9119 - recall: 0.7964 - val_loss: 0.3556 - val_acc: 0.8434 - val_precision: 0.9285 - val_recall: 0.7520 - 5s/epoch - 6ms/step\n",
            "Epoch 52/100\n",
            "\n",
            "Epoch 00052: val_acc did not improve from 0.84723\n",
            "793/793 - 5s - loss: 0.3090 - acc: 0.8637 - precision: 0.9135 - recall: 0.8003 - val_loss: 0.3460 - val_acc: 0.8382 - val_precision: 0.9429 - val_recall: 0.7280 - 5s/epoch - 7ms/step\n",
            "Epoch 53/100\n",
            "\n",
            "Epoch 00053: val_acc did not improve from 0.84723\n",
            "793/793 - 5s - loss: 0.3110 - acc: 0.8630 - precision: 0.9197 - recall: 0.7923 - val_loss: 0.3540 - val_acc: 0.8411 - val_precision: 0.8566 - val_recall: 0.8281 - 5s/epoch - 6ms/step\n",
            "Epoch 54/100\n",
            "\n",
            "Epoch 00054: val_acc improved from 0.84723 to 0.84755, saving model to bestmodel_epoch54_valloss0.3523_acc 0.8475.hdf5\n",
            "793/793 - 5s - loss: 0.3053 - acc: 0.8671 - precision: 0.9211 - recall: 0.8000 - val_loss: 0.3523 - val_acc: 0.8475 - val_precision: 0.8715 - val_recall: 0.8235 - 5s/epoch - 6ms/step\n",
            "Epoch 55/100\n",
            "\n",
            "Epoch 00055: val_acc improved from 0.84755 to 0.84818, saving model to bestmodel_epoch55_valloss0.3443_acc 0.8482.hdf5\n",
            "793/793 - 5s - loss: 0.3037 - acc: 0.8673 - precision: 0.9201 - recall: 0.8013 - val_loss: 0.3443 - val_acc: 0.8482 - val_precision: 0.8832 - val_recall: 0.8105 - 5s/epoch - 6ms/step\n",
            "Epoch 56/100\n",
            "\n",
            "Epoch 00056: val_acc improved from 0.84818 to 0.84991, saving model to bestmodel_epoch56_valloss0.3386_acc 0.8499.hdf5\n",
            "793/793 - 5s - loss: 0.3024 - acc: 0.8714 - precision: 0.9286 - recall: 0.8018 - val_loss: 0.3386 - val_acc: 0.8499 - val_precision: 0.8790 - val_recall: 0.8195 - 5s/epoch - 6ms/step\n",
            "Epoch 57/100\n",
            "\n",
            "Epoch 00057: val_acc did not improve from 0.84991\n",
            "793/793 - 5s - loss: 0.3018 - acc: 0.8693 - precision: 0.9249 - recall: 0.8009 - val_loss: 0.3587 - val_acc: 0.8357 - val_precision: 0.9472 - val_recall: 0.7190 - 5s/epoch - 6ms/step\n",
            "Epoch 58/100\n",
            "\n",
            "Epoch 00058: val_acc did not improve from 0.84991\n",
            "793/793 - 5s - loss: 0.3003 - acc: 0.8713 - precision: 0.9208 - recall: 0.8095 - val_loss: 0.3504 - val_acc: 0.8420 - val_precision: 0.8979 - val_recall: 0.7800 - 5s/epoch - 6ms/step\n",
            "Epoch 59/100\n",
            "\n",
            "Epoch 00059: val_acc did not improve from 0.84991\n",
            "793/793 - 5s - loss: 0.2994 - acc: 0.8696 - precision: 0.9223 - recall: 0.8042 - val_loss: 0.3537 - val_acc: 0.8452 - val_precision: 0.8763 - val_recall: 0.8121 - 5s/epoch - 6ms/step\n",
            "Epoch 60/100\n",
            "\n",
            "Epoch 00060: val_acc did not improve from 0.84991\n",
            "793/793 - 5s - loss: 0.2980 - acc: 0.8707 - precision: 0.9239 - recall: 0.8050 - val_loss: 0.3537 - val_acc: 0.8453 - val_precision: 0.9278 - val_recall: 0.7566 - 5s/epoch - 6ms/step\n",
            "Epoch 61/100\n",
            "\n",
            "Epoch 00061: val_acc did not improve from 0.84991\n",
            "793/793 - 5s - loss: 0.2934 - acc: 0.8714 - precision: 0.9243 - recall: 0.8062 - val_loss: 0.3547 - val_acc: 0.8371 - val_precision: 0.8399 - val_recall: 0.8423 - 5s/epoch - 6ms/step\n",
            "Epoch 62/100\n",
            "\n",
            "Epoch 00062: val_acc did not improve from 0.84991\n",
            "793/793 - 5s - loss: 0.2965 - acc: 0.8691 - precision: 0.9207 - recall: 0.8047 - val_loss: 0.3500 - val_acc: 0.8357 - val_precision: 0.9370 - val_recall: 0.7280 - 5s/epoch - 6ms/step\n",
            "Epoch 63/100\n",
            "\n",
            "Epoch 00063: val_acc did not improve from 0.84991\n",
            "793/793 - 5s - loss: 0.2959 - acc: 0.8715 - precision: 0.9192 - recall: 0.8116 - val_loss: 0.3681 - val_acc: 0.8430 - val_precision: 0.9278 - val_recall: 0.7517 - 5s/epoch - 6ms/step\n",
            "Epoch 64/100\n",
            "\n",
            "Epoch 00064: val_acc did not improve from 0.84991\n",
            "793/793 - 5s - loss: 0.2953 - acc: 0.8721 - precision: 0.9243 - recall: 0.8077 - val_loss: 0.3454 - val_acc: 0.8442 - val_precision: 0.9108 - val_recall: 0.7711 - 5s/epoch - 6ms/step\n",
            "Epoch 65/100\n",
            "\n",
            "Epoch 00065: val_acc did not improve from 0.84991\n",
            "793/793 - 5s - loss: 0.2930 - acc: 0.8739 - precision: 0.9328 - recall: 0.8029 - val_loss: 0.3447 - val_acc: 0.8488 - val_precision: 0.8643 - val_recall: 0.8358 - 5s/epoch - 6ms/step\n",
            "Epoch 66/100\n",
            "\n",
            "Epoch 00066: val_acc did not improve from 0.84991\n",
            "793/793 - 5s - loss: 0.2930 - acc: 0.8741 - precision: 0.9316 - recall: 0.8046 - val_loss: 0.3532 - val_acc: 0.8458 - val_precision: 0.8489 - val_recall: 0.8500 - 5s/epoch - 6ms/step\n",
            "Epoch 67/100\n",
            "\n",
            "Epoch 00067: val_acc did not improve from 0.84991\n",
            "793/793 - 5s - loss: 0.2883 - acc: 0.8737 - precision: 0.9228 - recall: 0.8126 - val_loss: 0.3495 - val_acc: 0.8472 - val_precision: 0.9142 - val_recall: 0.7742 - 5s/epoch - 6ms/step\n",
            "Epoch 68/100\n",
            "\n",
            "Epoch 00068: val_acc did not improve from 0.84991\n",
            "793/793 - 5s - loss: 0.2848 - acc: 0.8763 - precision: 0.9303 - recall: 0.8107 - val_loss: 0.3701 - val_acc: 0.8468 - val_precision: 0.8862 - val_recall: 0.8038 - 5s/epoch - 6ms/step\n",
            "Epoch 69/100\n",
            "\n",
            "Epoch 00069: val_acc did not improve from 0.84991\n",
            "793/793 - 5s - loss: 0.2894 - acc: 0.8741 - precision: 0.9255 - recall: 0.8109 - val_loss: 0.3569 - val_acc: 0.8419 - val_precision: 0.8725 - val_recall: 0.8093 - 5s/epoch - 6ms/step\n",
            "Epoch 70/100\n",
            "\n",
            "Epoch 00070: val_acc improved from 0.84991 to 0.85165, saving model to bestmodel_epoch70_valloss0.3445_acc 0.8516.hdf5\n",
            "793/793 - 5s - loss: 0.2872 - acc: 0.8740 - precision: 0.9286 - recall: 0.8075 - val_loss: 0.3445 - val_acc: 0.8516 - val_precision: 0.8887 - val_recall: 0.8118 - 5s/epoch - 6ms/step\n",
            "Epoch 71/100\n",
            "\n",
            "Epoch 00071: val_acc did not improve from 0.85165\n",
            "793/793 - 5s - loss: 0.2858 - acc: 0.8766 - precision: 0.9313 - recall: 0.8105 - val_loss: 0.3553 - val_acc: 0.8482 - val_precision: 0.8764 - val_recall: 0.8189 - 5s/epoch - 6ms/step\n",
            "Epoch 72/100\n",
            "\n",
            "Epoch 00072: val_acc did not improve from 0.85165\n",
            "793/793 - 5s - loss: 0.2877 - acc: 0.8757 - precision: 0.9275 - recall: 0.8122 - val_loss: 0.3753 - val_acc: 0.8441 - val_precision: 0.8390 - val_recall: 0.8604 - 5s/epoch - 6ms/step\n",
            "Epoch 73/100\n",
            "\n",
            "Epoch 00073: val_acc did not improve from 0.85165\n",
            "793/793 - 5s - loss: 0.2822 - acc: 0.8762 - precision: 0.9368 - recall: 0.8040 - val_loss: 0.3550 - val_acc: 0.8431 - val_precision: 0.8731 - val_recall: 0.8115 - 5s/epoch - 6ms/step\n",
            "Epoch 74/100\n",
            "\n",
            "Epoch 00074: val_acc did not improve from 0.85165\n",
            "793/793 - 5s - loss: 0.2827 - acc: 0.8771 - precision: 0.9215 - recall: 0.8216 - val_loss: 0.3596 - val_acc: 0.8466 - val_precision: 0.8856 - val_recall: 0.8041 - 5s/epoch - 6ms/step\n",
            "Epoch 75/100\n",
            "\n",
            "Epoch 00075: val_acc did not improve from 0.85165\n",
            "793/793 - 5s - loss: 0.2806 - acc: 0.8790 - precision: 0.9266 - recall: 0.8205 - val_loss: 0.3625 - val_acc: 0.8458 - val_precision: 0.8691 - val_recall: 0.8226 - 5s/epoch - 6ms/step\n",
            "Epoch 76/100\n",
            "\n",
            "Epoch 00076: val_acc did not improve from 0.85165\n",
            "793/793 - 5s - loss: 0.2786 - acc: 0.8785 - precision: 0.9277 - recall: 0.8182 - val_loss: 0.3522 - val_acc: 0.8485 - val_precision: 0.9050 - val_recall: 0.7865 - 5s/epoch - 6ms/step\n",
            "Epoch 77/100\n",
            "\n",
            "Epoch 00077: val_acc did not improve from 0.85165\n",
            "793/793 - 4s - loss: 0.2803 - acc: 0.8773 - precision: 0.9209 - recall: 0.8228 - val_loss: 0.3594 - val_acc: 0.8472 - val_precision: 0.9109 - val_recall: 0.7776 - 4s/epoch - 6ms/step\n",
            "Epoch 78/100\n",
            "\n",
            "Epoch 00078: val_acc did not improve from 0.85165\n",
            "793/793 - 5s - loss: 0.2788 - acc: 0.8813 - precision: 0.9280 - recall: 0.8240 - val_loss: 0.3534 - val_acc: 0.8466 - val_precision: 0.8899 - val_recall: 0.7991 - 5s/epoch - 6ms/step\n",
            "Epoch 79/100\n",
            "\n",
            "Epoch 00079: val_acc did not improve from 0.85165\n",
            "793/793 - 5s - loss: 0.2780 - acc: 0.8808 - precision: 0.9285 - recall: 0.8224 - val_loss: 0.3653 - val_acc: 0.8442 - val_precision: 0.8806 - val_recall: 0.8047 - 5s/epoch - 6ms/step\n",
            "Epoch 80/100\n",
            "\n",
            "Epoch 00080: val_acc did not improve from 0.85165\n",
            "793/793 - 5s - loss: 0.2740 - acc: 0.8796 - precision: 0.9212 - recall: 0.8275 - val_loss: 0.3531 - val_acc: 0.8446 - val_precision: 0.8558 - val_recall: 0.8373 - 5s/epoch - 6ms/step\n",
            "Epoch 81/100\n",
            "\n",
            "Epoch 00081: val_acc did not improve from 0.85165\n",
            "793/793 - 5s - loss: 0.2792 - acc: 0.8798 - precision: 0.9239 - recall: 0.8251 - val_loss: 0.3523 - val_acc: 0.8494 - val_precision: 0.9110 - val_recall: 0.7822 - 5s/epoch - 6ms/step\n",
            "Epoch 82/100\n",
            "\n",
            "Epoch 00082: val_acc did not improve from 0.85165\n",
            "793/793 - 5s - loss: 0.2787 - acc: 0.8796 - precision: 0.9245 - recall: 0.8238 - val_loss: 0.3500 - val_acc: 0.8436 - val_precision: 0.8507 - val_recall: 0.8423 - 5s/epoch - 6ms/step\n",
            "Epoch 83/100\n",
            "\n",
            "Epoch 00083: val_acc did not improve from 0.85165\n",
            "793/793 - 5s - loss: 0.2733 - acc: 0.8816 - precision: 0.9254 - recall: 0.8275 - val_loss: 0.3460 - val_acc: 0.8515 - val_precision: 0.9088 - val_recall: 0.7890 - 5s/epoch - 7ms/step\n",
            "Epoch 84/100\n",
            "\n",
            "Epoch 00084: val_acc did not improve from 0.85165\n",
            "793/793 - 5s - loss: 0.2738 - acc: 0.8831 - precision: 0.9416 - recall: 0.8143 - val_loss: 0.3562 - val_acc: 0.8439 - val_precision: 0.9026 - val_recall: 0.7791 - 5s/epoch - 6ms/step\n",
            "Epoch 85/100\n",
            "\n",
            "Epoch 00085: val_acc did not improve from 0.85165\n",
            "793/793 - 5s - loss: 0.2737 - acc: 0.8854 - precision: 0.9286 - recall: 0.8324 - val_loss: 0.3647 - val_acc: 0.8395 - val_precision: 0.9151 - val_recall: 0.7566 - 5s/epoch - 6ms/step\n",
            "Epoch 86/100\n",
            "\n",
            "Epoch 00086: val_acc did not improve from 0.85165\n",
            "793/793 - 5s - loss: 0.2725 - acc: 0.8848 - precision: 0.9381 - recall: 0.8215 - val_loss: 0.3709 - val_acc: 0.8469 - val_precision: 0.9120 - val_recall: 0.7757 - 5s/epoch - 6ms/step\n",
            "Epoch 87/100\n",
            "\n",
            "Epoch 00087: val_acc did not improve from 0.85165\n",
            "793/793 - 4s - loss: 0.2734 - acc: 0.8837 - precision: 0.9407 - recall: 0.8164 - val_loss: 0.3581 - val_acc: 0.8466 - val_precision: 0.8582 - val_recall: 0.8389 - 4s/epoch - 6ms/step\n",
            "Epoch 88/100\n",
            "\n",
            "Epoch 00088: val_acc did not improve from 0.85165\n",
            "793/793 - 5s - loss: 0.2640 - acc: 0.8872 - precision: 0.9380 - recall: 0.8267 - val_loss: 0.3589 - val_acc: 0.8468 - val_precision: 0.9114 - val_recall: 0.7760 - 5s/epoch - 6ms/step\n",
            "Epoch 89/100\n",
            "\n",
            "Epoch 00089: val_acc did not improve from 0.85165\n",
            "793/793 - 5s - loss: 0.2670 - acc: 0.8827 - precision: 0.9364 - recall: 0.8185 - val_loss: 0.3606 - val_acc: 0.8450 - val_precision: 0.8806 - val_recall: 0.8065 - 5s/epoch - 6ms/step\n",
            "Epoch 90/100\n",
            "\n",
            "Epoch 00090: val_acc did not improve from 0.85165\n",
            "793/793 - 5s - loss: 0.2699 - acc: 0.8842 - precision: 0.9392 - recall: 0.8190 - val_loss: 0.3835 - val_acc: 0.8405 - val_precision: 0.9080 - val_recall: 0.7659 - 5s/epoch - 6ms/step\n",
            "Epoch 91/100\n",
            "\n",
            "Epoch 00091: val_acc did not improve from 0.85165\n",
            "793/793 - 4s - loss: 0.2679 - acc: 0.8841 - precision: 0.9357 - recall: 0.8222 - val_loss: 0.3606 - val_acc: 0.8400 - val_precision: 0.8980 - val_recall: 0.7754 - 4s/epoch - 6ms/step\n",
            "Epoch 92/100\n",
            "\n",
            "Epoch 00092: val_acc did not improve from 0.85165\n",
            "793/793 - 5s - loss: 0.2651 - acc: 0.8861 - precision: 0.9374 - recall: 0.8248 - val_loss: 0.3583 - val_acc: 0.8394 - val_precision: 0.9132 - val_recall: 0.7582 - 5s/epoch - 6ms/step\n",
            "Epoch 93/100\n",
            "\n",
            "Epoch 00093: val_acc did not improve from 0.85165\n",
            "793/793 - 5s - loss: 0.2646 - acc: 0.8876 - precision: 0.9380 - recall: 0.8276 - val_loss: 0.3566 - val_acc: 0.8422 - val_precision: 0.9293 - val_recall: 0.7486 - 5s/epoch - 6ms/step\n",
            "Epoch 94/100\n",
            "\n",
            "Epoch 00094: val_acc did not improve from 0.85165\n",
            "793/793 - 4s - loss: 0.2639 - acc: 0.8870 - precision: 0.9478 - recall: 0.8166 - val_loss: 0.3749 - val_acc: 0.8387 - val_precision: 0.9480 - val_recall: 0.7246 - 4s/epoch - 6ms/step\n",
            "Epoch 95/100\n",
            "\n",
            "Epoch 00095: val_acc did not improve from 0.85165\n",
            "793/793 - 5s - loss: 0.2656 - acc: 0.8892 - precision: 0.9448 - recall: 0.8242 - val_loss: 0.3560 - val_acc: 0.8480 - val_precision: 0.8870 - val_recall: 0.8056 - 5s/epoch - 6ms/step\n",
            "Epoch 96/100\n",
            "\n",
            "Epoch 00096: val_acc did not improve from 0.85165\n",
            "793/793 - 5s - loss: 0.2642 - acc: 0.8889 - precision: 0.9393 - recall: 0.8290 - val_loss: 0.3713 - val_acc: 0.8458 - val_precision: 0.9112 - val_recall: 0.7742 - 5s/epoch - 6ms/step\n",
            "Epoch 97/100\n",
            "\n",
            "Epoch 00097: val_acc did not improve from 0.85165\n",
            "793/793 - 5s - loss: 0.2662 - acc: 0.8875 - precision: 0.9321 - recall: 0.8333 - val_loss: 0.3691 - val_acc: 0.8431 - val_precision: 0.9255 - val_recall: 0.7542 - 5s/epoch - 6ms/step\n",
            "Epoch 98/100\n",
            "\n",
            "Epoch 00098: val_acc did not improve from 0.85165\n",
            "793/793 - 5s - loss: 0.2635 - acc: 0.8885 - precision: 0.9317 - recall: 0.8360 - val_loss: 0.3632 - val_acc: 0.8469 - val_precision: 0.9015 - val_recall: 0.7868 - 5s/epoch - 6ms/step\n",
            "Epoch 99/100\n",
            "\n",
            "Epoch 00099: val_acc did not improve from 0.85165\n",
            "793/793 - 5s - loss: 0.2570 - acc: 0.8939 - precision: 0.9364 - recall: 0.8428 - val_loss: 0.3558 - val_acc: 0.8446 - val_precision: 0.8957 - val_recall: 0.7880 - 5s/epoch - 6ms/step\n",
            "Epoch 100/100\n",
            "\n",
            "Epoch 00100: val_acc improved from 0.85165 to 0.85181, saving model to bestmodel_epoch100_valloss0.3721_acc 0.8518.hdf5\n",
            "793/793 - 5s - loss: 0.2603 - acc: 0.8868 - precision: 0.9332 - recall: 0.8307 - val_loss: 0.3721 - val_acc: 0.8518 - val_precision: 0.8922 - val_recall: 0.8081 - 5s/epoch - 6ms/step\n"
          ]
        }
      ]
    },
    {
      "cell_type": "code",
      "source": [
        "#model.load_weights('bestmodel_epoch85_valloss0.3756_acc 0.8458.hdf5')\n",
        "model.load_weights('bestmodel_epoch70_valloss0.3445_acc 0.8516.hdf5') #มี Dropout\n",
        "\n",
        "y_pred = model.predict(x_test)\n",
        "y_pred = np.round(y_pred)\n",
        "y_pred = np.nan_to_num(y_pred)\n",
        "\n",
        "score = accuracy_score(y_test, y_pred)\n",
        "recall_precision_f1 = precision_recall_fscore_support(y_test,y_pred, average = \"macro\")\n",
        "\n",
        "print(f'Test Accuracy Score :{score}')\n",
        "print(f'Recall :{recall_precision_f1[0]}')\n",
        "print(f'Precision :{recall_precision_f1[1]}')\n",
        "print(f'F1 :{recall_precision_f1[2]}')"
      ],
      "metadata": {
        "colab": {
          "base_uri": "https://localhost:8080/"
        },
        "id": "Nr443J1TVcQq",
        "outputId": "e2e58fbd-c1ed-4749-db0e-a956f9d2f93c"
      },
      "execution_count": 63,
      "outputs": [
        {
          "output_type": "stream",
          "name": "stdout",
          "text": [
            "Test Accuracy Score :0.8420510556904289\n",
            "Recall :0.8451870482816667\n",
            "Precision :0.8424536729505004\n",
            "F1 :0.8417920417905955\n"
          ]
        }
      ]
    },
    {
      "cell_type": "code",
      "source": [
        "print(y_pred)"
      ],
      "metadata": {
        "colab": {
          "base_uri": "https://localhost:8080/"
        },
        "id": "7iGuGXVIi0dL",
        "outputId": "910b6a4d-124b-4563-faf4-96347eb7eb5a"
      },
      "execution_count": 64,
      "outputs": [
        {
          "output_type": "stream",
          "name": "stdout",
          "text": [
            "[[1.]\n",
            " [1.]\n",
            " [0.]\n",
            " ...\n",
            " [0.]\n",
            " [0.]\n",
            " [0.]]\n"
          ]
        }
      ]
    },
    {
      "cell_type": "code",
      "source": [
        "# Summarize history for accuracy\n",
        "plt.figure(figsize=(15,5))\n",
        "plt.plot(history.history['acc'])\n",
        "plt.plot(history.history['val_acc'])\n",
        "plt.title('Model accuracy')\n",
        "plt.ylabel('accuracy')\n",
        "plt.xlabel('epoch')\n",
        "plt.legend(['train', 'test'], loc='upper left')\n",
        "plt.grid()\n",
        "plt.show()\n",
        "\n",
        "# Summarize history for loss\n",
        "plt.figure(figsize=(15,5))\n",
        "plt.plot(history.history['loss'])\n",
        "plt.plot(history.history['val_loss'])\n",
        "plt.title('Model loss')\n",
        "plt.ylabel('loss')\n",
        "plt.xlabel('epoch')\n",
        "plt.legend(['train', 'test'], loc='upper left')\n",
        "plt.grid()\n",
        "plt.show()\n",
        "\n",
        "# Summarize history for Recall\n",
        "plt.figure(figsize=(15,5))\n",
        "plt.plot(history.history['recall_1'])\n",
        "plt.plot(history.history['val_recall_1'])\n",
        "plt.title('Model Recall')\n",
        "plt.ylabel('Recall')\n",
        "plt.xlabel('epoch')\n",
        "plt.legend(['train', 'test'], loc='upper left')\n",
        "plt.grid()\n",
        "plt.show()\n",
        "\n",
        "# Summarize history for Precision\n",
        "plt.figure(figsize=(15,5))\n",
        "plt.plot(history.history['precision_1'])\n",
        "plt.plot(history.history['val_precision_1'])\n",
        "plt.title('Model Precision')\n",
        "plt.ylabel('Precision')\n",
        "plt.xlabel('epoch')\n",
        "plt.legend(['train', 'test'], loc='upper left')\n",
        "plt.grid()\n",
        "plt.show()"
      ],
      "metadata": {
        "colab": {
          "base_uri": "https://localhost:8080/",
          "height": 929
        },
        "id": "Eh5N4yitC03g",
        "outputId": "2b87ebd2-9540-4452-cfb2-d03578eedb58"
      },
      "execution_count": 65,
      "outputs": [
        {
          "output_type": "display_data",
          "data": {
            "image/png": "[encoded data removed]",
            "text/plain": [
              "<Figure size 1080x360 with 1 Axes>"
            ]
          },
          "metadata": {
            "needs_background": "light"
          }
        },
        {
          "output_type": "display_data",
          "data": {
            "image/png": "[encoded data removed]",
            "text/plain": [
              "<Figure size 1080x360 with 1 Axes>"
            ]
          },
          "metadata": {
            "needs_background": "light"
          }
        },
        {
          "output_type": "error",
          "ename": "KeyError",
          "evalue": "ignored",
          "traceback": [
            "\u001b[0;31m---------------------------------------------------------------------------\u001b[0m",
            "\u001b[0;31mKeyError\u001b[0m                                  Traceback (most recent call last)",
            "\u001b[0;32m<ipython-input-65-8f2fcd7e1213>\u001b[0m in \u001b[0;36m<module>\u001b[0;34m()\u001b[0m\n\u001b[1;32m     23\u001b[0m \u001b[0;31m# Summarize history for Recall\u001b[0m\u001b[0;34m\u001b[0m\u001b[0;34m\u001b[0m\u001b[0;34m\u001b[0m\u001b[0m\n\u001b[1;32m     24\u001b[0m \u001b[0mplt\u001b[0m\u001b[0;34m.\u001b[0m\u001b[0mfigure\u001b[0m\u001b[0;34m(\u001b[0m\u001b[0mfigsize\u001b[0m\u001b[0;34m=\u001b[0m\u001b[0;34m(\u001b[0m\u001b[0;36m15\u001b[0m\u001b[0;34m,\u001b[0m\u001b[0;36m5\u001b[0m\u001b[0;34m)\u001b[0m\u001b[0;34m)\u001b[0m\u001b[0;34m\u001b[0m\u001b[0;34m\u001b[0m\u001b[0m\n\u001b[0;32m---> 25\u001b[0;31m \u001b[0mplt\u001b[0m\u001b[0;34m.\u001b[0m\u001b[0mplot\u001b[0m\u001b[0;34m(\u001b[0m\u001b[0mhistory\u001b[0m\u001b[0;34m.\u001b[0m\u001b[0mhistory\u001b[0m\u001b[0;34m[\u001b[0m\u001b[0;34m'recall_1'\u001b[0m\u001b[0;34m]\u001b[0m\u001b[0;34m)\u001b[0m\u001b[0;34m\u001b[0m\u001b[0;34m\u001b[0m\u001b[0m\n\u001b[0m\u001b[1;32m     26\u001b[0m \u001b[0mplt\u001b[0m\u001b[0;34m.\u001b[0m\u001b[0mplot\u001b[0m\u001b[0;34m(\u001b[0m\u001b[0mhistory\u001b[0m\u001b[0;34m.\u001b[0m\u001b[0mhistory\u001b[0m\u001b[0;34m[\u001b[0m\u001b[0;34m'val_recall_1'\u001b[0m\u001b[0;34m]\u001b[0m\u001b[0;34m)\u001b[0m\u001b[0;34m\u001b[0m\u001b[0;34m\u001b[0m\u001b[0m\n\u001b[1;32m     27\u001b[0m \u001b[0mplt\u001b[0m\u001b[0;34m.\u001b[0m\u001b[0mtitle\u001b[0m\u001b[0;34m(\u001b[0m\u001b[0;34m'Model Recall'\u001b[0m\u001b[0;34m)\u001b[0m\u001b[0;34m\u001b[0m\u001b[0;34m\u001b[0m\u001b[0m\n",
            "\u001b[0;31mKeyError\u001b[0m: 'recall_1'"
          ]
        },
        {
          "output_type": "display_data",
          "data": {
            "text/plain": [
              "<Figure size 1080x360 with 0 Axes>"
            ]
          },
          "metadata": {}
        }
      ]
    },
    {
      "cell_type": "markdown",
      "source": [
        "# Model Load"
      ],
      "metadata": {
        "id": "G-1L55VnBEwB"
      }
    },
    {
      "cell_type": "code",
      "source": [
        "#model.load_weights('bestmodel_epoch85_valloss0.3756_acc 0.8458.hdf5')\n",
        "#model.load_weights('bestmodel_epoch100_valloss0.3527_acc 0.8573.hdf5')\n",
        "#model.load_weights('bestmodel_epoch15_valloss0.0001_acc 1.0000.hdf5')\n",
        "\n",
        "score = []\n",
        "xx = []\n",
        "pred = model.predict(x_test)\n",
        "for i in range(10):\n",
        "  z = i/10\n",
        "  xx.append(np.where(pred > z,1,0))\n",
        "#print(pred)\n",
        "  score.append(metrics.accuracy_score(y_test,xx[i]))\n",
        "  print(\"Final accuracy: threshold {} --> score {}\".format(z,score[i]),i)\n",
        "rand = [0 for _ in range(len(y_test))]\n",
        "score.append(metrics.accuracy_score(y_test,rand))\n",
        "print(\"Final accuracy : random target --> score {}\".format(score[10]))\n",
        "print(i)"
      ],
      "metadata": {
        "id": "vxceDZaxGa7F",
        "colab": {
          "base_uri": "https://localhost:8080/"
        },
        "outputId": "ed9eafd4-0345-4d50-d336-4ef67f4fd4d7"
      },
      "execution_count": 67,
      "outputs": [
        {
          "output_type": "stream",
          "name": "stdout",
          "text": [
            "Final accuracy: threshold 0.0 --> score 0.5042301184433164 0\n",
            "Final accuracy: threshold 0.1 --> score 0.7310380342823513 1\n",
            "Final accuracy: threshold 0.2 --> score 0.7477378062237917 2\n",
            "Final accuracy: threshold 0.3 --> score 0.8360921062311484 3\n",
            "Final accuracy: threshold 0.4 --> score 0.8416832193040535 4\n",
            "Final accuracy: threshold 0.5 --> score 0.8420510556904289 5\n",
            "Final accuracy: threshold 0.6 --> score 0.8405061428676525 6\n",
            "Final accuracy: threshold 0.7 --> score 0.835650702567498 7\n",
            "Final accuracy: threshold 0.8 --> score 0.8306481277127934 8\n",
            "Final accuracy: threshold 0.9 --> score 0.7847421466931509 9\n",
            "Final accuracy : random target --> score 0.4957698815566836\n",
            "9\n"
          ]
        }
      ]
    },
    {
      "cell_type": "code",
      "source": [
        "print(pred)"
      ],
      "metadata": {
        "colab": {
          "base_uri": "https://localhost:8080/"
        },
        "id": "TO2rBg5niMwF",
        "outputId": "9970422d-8c67-4ec6-bd6a-15d5567ef906"
      },
      "execution_count": 68,
      "outputs": [
        {
          "output_type": "stream",
          "name": "stdout",
          "text": [
            "[[0.99481696]\n",
            " [0.9953745 ]\n",
            " [0.02606898]\n",
            " ...\n",
            " [0.22500482]\n",
            " [0.08460148]\n",
            " [0.02663775]]\n"
          ]
        }
      ]
    },
    {
      "cell_type": "code",
      "source": [
        "\n",
        "r_fpr, r_tpr, _ = roc_curve(y_test,rand)\n",
        "th01_fpr, th01_tpr, _ = roc_curve(y_test,xx[1])\n",
        "th02_fpr, th02_tpr, _ = roc_curve(y_test,xx[2])\n",
        "th03_fpr, th03_tpr, _ = roc_curve(y_test,xx[3])\n",
        "th04_fpr, th04_tpr, _ = roc_curve(y_test,xx[4])\n",
        "th05_fpr, th05_tpr, _ = roc_curve(y_test,xx[5])\n",
        "th06_fpr, th06_tpr, _ = roc_curve(y_test,xx[6])\n",
        "th07_fpr, th07_tpr, _ = roc_curve(y_test,xx[7])\n",
        "th08_fpr, th08_tpr, _ = roc_curve(y_test,xx[8])\n",
        "th09_fpr, th09_tpr, _ = roc_curve(y_test,xx[9])"
      ],
      "metadata": {
        "id": "kT87xqp0KN1h"
      },
      "execution_count": 69,
      "outputs": []
    },
    {
      "cell_type": "code",
      "source": [
        "r_auc = roc_auc_score(y_test, rand)\n",
        "th01_auc = roc_auc_score(y_test, xx[1])\n",
        "th02_auc = roc_auc_score(y_test, xx[2])\n",
        "th03_auc = roc_auc_score(y_test, xx[3])\n",
        "th04_auc = roc_auc_score(y_test, xx[4])\n",
        "th05_auc = roc_auc_score(y_test, xx[5])\n",
        "th06_auc = roc_auc_score(y_test, xx[6])\n",
        "th07_auc = roc_auc_score(y_test, xx[7])\n",
        "th08_auc = roc_auc_score(y_test, xx[8])\n",
        "th09_auc = roc_auc_score(y_test, xx[9])"
      ],
      "metadata": {
        "id": "ah7DphvYLPxR"
      },
      "execution_count": 70,
      "outputs": []
    },
    {
      "cell_type": "code",
      "source": [
        "plt.figure(figsize=(15,5), dpi=100)\n",
        "plt.plot(r_fpr, r_tpr, linestyle='--', label='Random prediction (AUC = %0.3f)' % r_auc)\n",
        "plt.plot(th01_fpr, th01_tpr, marker='.', label='threshold 0.1  (AUC = %0.3f)' % th01_auc)\n",
        "plt.plot(th02_fpr, th02_tpr, marker='.', label='threshold 0.2  (AUC = %0.3f)' % th02_auc)\n",
        "plt.plot(th03_fpr, th03_tpr, marker='.', label='threshold 0.3  (AUC = %0.3f)' % th03_auc)\n",
        "plt.plot(th04_fpr, th04_tpr, marker='.', label='threshold 0.4  (AUC = %0.3f)' % th04_auc)\n",
        "plt.plot(th05_fpr, th05_tpr, marker='.', label='threshold 0.5 (AUC = %0.3f)' % th05_auc)\n",
        "plt.plot(th06_fpr, th06_tpr, marker='.', label='threshold 0.6 (AUC = %0.3f)' % th06_auc)\n",
        "plt.plot(th07_fpr, th07_tpr, marker='.', label='threshold 0.7 (AUC = %0.3f)' % th07_auc)\n",
        "plt.plot(th08_fpr, th08_tpr, marker='.', label='threshold 0.8 (AUC = %0.3f)' % th08_auc)\n",
        "plt.plot(th09_fpr, th09_tpr, marker='.', label='threshold 0.9 (AUC = %0.3f)' % th09_auc)\n",
        "\n",
        "# Title\n",
        "plt.title('ROC Plot')\n",
        "# Axis labels\n",
        "plt.xlabel('False Positive Rate')\n",
        "plt.ylabel('True Positive Rate')\n",
        "# Show legend\n",
        "plt.legend() # \n",
        "# Show plot\n",
        "plt.show()"
      ],
      "metadata": {
        "id": "zO-AvSyGLSca",
        "colab": {
          "base_uri": "https://localhost:8080/",
          "height": 480
        },
        "outputId": "99c72d70-8e3b-4472-e8d0-073ed7bd6cf0"
      },
      "execution_count": 71,
      "outputs": [
        {
          "output_type": "display_data",
          "data": {
            "image/png": "[encoded data removed]",
            "text/plain": [
              "<Figure size 1500x500 with 1 Axes>"
            ]
          },
          "metadata": {
            "needs_background": "light"
          }
        }
      ]
    }
  ]
}