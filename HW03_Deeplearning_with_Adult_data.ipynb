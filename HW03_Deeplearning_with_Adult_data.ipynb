{
  "nbformat": 4,
  "nbformat_minor": 0,
  "metadata": {
    "colab": {
      "name": "HW03_Deeplearning_with_Adult_data.ipynb",
      "provenance": [],
      "collapsed_sections": []
    },
    "kernelspec": {
      "name": "python3",
      "display_name": "Python 3"
    },
    "language_info": {
      "name": "python"
    },
    "accelerator": "GPU"
  },
  "cells": [
    {
      "cell_type": "code",
      "execution_count": null,
      "metadata": {
        "colab": {
          "base_uri": "https://localhost:8080/"
        },
        "id": "Y-mopQm_zSMl",
        "outputId": "66b790cc-1caa-4c4a-eb38-646a9ffd7e09"
      },
      "outputs": [
        {
          "output_type": "stream",
          "name": "stdout",
          "text": [
            "Downloading...\n",
            "From: https://drive.google.com/uc?id=1fflAX9ZY1dICHs90ihfIahmdqI2kyDnk\n",
            "To: /content/adult.data\n",
            "\r  0% 0.00/3.97M [00:00<?, ?B/s]\r100% 3.97M/3.97M [00:00<00:00, 69.3MB/s]\n"
          ]
        }
      ],
      "source": [
        "!gdown --id 1fflAX9ZY1dICHs90ihfIahmdqI2kyDnk"
      ]
    },
    {
      "cell_type": "code",
      "source": [
        "!nvidia-smi -L"
      ],
      "metadata": {
        "colab": {
          "base_uri": "https://localhost:8080/"
        },
        "id": "CAX0Ku7uzvBJ",
        "outputId": "5c6d6e83-4b32-4af2-e9a8-52a3298ed784"
      },
      "execution_count": null,
      "outputs": [
        {
          "output_type": "stream",
          "name": "stdout",
          "text": [
            "GPU 0: Tesla T4 (UUID: GPU-31590316-ffb9-6021-93c6-e72990f54653)\n"
          ]
        }
      ]
    },
    {
      "cell_type": "code",
      "source": [
        "import numpy as np\n",
        "import pandas as pd\n",
        "pd.set_option('display.max_columns', None)\n",
        "import matplotlib.pyplot as plt\n",
        "%matplotlib inline\n",
        "import seaborn as sn\n",
        "import tensorflow as tf\n",
        "from sklearn.linear_model import LogisticRegression\n",
        "from sklearn.svm import SVC\n",
        "from sklearn.neighbors import KNeighborsClassifier\n",
        "from sklearn.ensemble import RandomForestClassifier\n",
        "\n",
        "from sklearn.model_selection import train_test_split\n",
        "from sklearn.preprocessing import StandardScaler\n",
        "from sklearn import metrics\n",
        "from imblearn.over_sampling import SMOTE\n",
        "from sklearn.metrics import roc_curve, roc_auc_score\n",
        "from sklearn.metrics import accuracy_score\n",
        "from sklearn.metrics import precision_recall_fscore_support"
      ],
      "metadata": {
        "id": "PXqNPqH-z0hF"
      },
      "execution_count": null,
      "outputs": []
    },
    {
      "cell_type": "code",
      "source": [
        "feature = [\"age\", \"workclass\", \"fnlwgt\", \"education\", \"education-num\", \"marital-status\", \"occupation\", \"relationship\", \"race\", \"sex\", \"capital-gain\", \"capital-loss\", \"hours-per-week\", \"native-country\", \"income\"]"
      ],
      "metadata": {
        "id": "_u7S6EEXrJO7"
      },
      "execution_count": null,
      "outputs": []
    },
    {
      "cell_type": "code",
      "source": [
        "filepath = \"./adult.data\"\n",
        "raw_data = pd.read_csv(filepath, names= feature)\n",
        "raw_data"
      ],
      "metadata": {
        "id": "hD4PyG8G5fiz",
        "colab": {
          "base_uri": "https://localhost:8080/",
          "height": 650
        },
        "outputId": "e5692281-7fe3-4765-b2d9-6a01e7987a7a"
      },
      "execution_count": null,
      "outputs": [
        {
          "output_type": "execute_result",
          "data": {
            "text/html": [
              "\n",
              "  <div id=\"df-80035c66-d84f-4cc2-aa94-8918b031f495\">\n",
              "    <div class=\"colab-df-container\">\n",
              "      <div>\n",
              "<style scoped>\n",
              "    .dataframe tbody tr th:only-of-type {\n",
              "        vertical-align: middle;\n",
              "    }\n",
              "\n",
              "    .dataframe tbody tr th {\n",
              "        vertical-align: top;\n",
              "    }\n",
              "\n",
              "    .dataframe thead th {\n",
              "        text-align: right;\n",
              "    }\n",
              "</style>\n",
              "<table border=\"1\" class=\"dataframe\">\n",
              "  <thead>\n",
              "    <tr style=\"text-align: right;\">\n",
              "      <th></th>\n",
              "      <th>age</th>\n",
              "      <th>workclass</th>\n",
              "      <th>fnlwgt</th>\n",
              "      <th>education</th>\n",
              "      <th>education-num</th>\n",
              "      <th>marital-status</th>\n",
              "      <th>occupation</th>\n",
              "      <th>relationship</th>\n",
              "      <th>race</th>\n",
              "      <th>sex</th>\n",
              "      <th>capital-gain</th>\n",
              "      <th>capital-loss</th>\n",
              "      <th>hours-per-week</th>\n",
              "      <th>native-country</th>\n",
              "      <th>income</th>\n",
              "    </tr>\n",
              "  </thead>\n",
              "  <tbody>\n",
              "    <tr>\n",
              "      <th>0</th>\n",
              "      <td>39</td>\n",
              "      <td>State-gov</td>\n",
              "      <td>77516</td>\n",
              "      <td>Bachelors</td>\n",
              "      <td>13</td>\n",
              "      <td>Never-married</td>\n",
              "      <td>Adm-clerical</td>\n",
              "      <td>Not-in-family</td>\n",
              "      <td>White</td>\n",
              "      <td>Male</td>\n",
              "      <td>2174</td>\n",
              "      <td>0</td>\n",
              "      <td>40</td>\n",
              "      <td>United-States</td>\n",
              "      <td>&lt;=50K</td>\n",
              "    </tr>\n",
              "    <tr>\n",
              "      <th>1</th>\n",
              "      <td>50</td>\n",
              "      <td>Self-emp-not-inc</td>\n",
              "      <td>83311</td>\n",
              "      <td>Bachelors</td>\n",
              "      <td>13</td>\n",
              "      <td>Married-civ-spouse</td>\n",
              "      <td>Exec-managerial</td>\n",
              "      <td>Husband</td>\n",
              "      <td>White</td>\n",
              "      <td>Male</td>\n",
              "      <td>0</td>\n",
              "      <td>0</td>\n",
              "      <td>13</td>\n",
              "      <td>United-States</td>\n",
              "      <td>&lt;=50K</td>\n",
              "    </tr>\n",
              "    <tr>\n",
              "      <th>2</th>\n",
              "      <td>38</td>\n",
              "      <td>Private</td>\n",
              "      <td>215646</td>\n",
              "      <td>HS-grad</td>\n",
              "      <td>9</td>\n",
              "      <td>Divorced</td>\n",
              "      <td>Handlers-cleaners</td>\n",
              "      <td>Not-in-family</td>\n",
              "      <td>White</td>\n",
              "      <td>Male</td>\n",
              "      <td>0</td>\n",
              "      <td>0</td>\n",
              "      <td>40</td>\n",
              "      <td>United-States</td>\n",
              "      <td>&lt;=50K</td>\n",
              "    </tr>\n",
              "    <tr>\n",
              "      <th>3</th>\n",
              "      <td>53</td>\n",
              "      <td>Private</td>\n",
              "      <td>234721</td>\n",
              "      <td>11th</td>\n",
              "      <td>7</td>\n",
              "      <td>Married-civ-spouse</td>\n",
              "      <td>Handlers-cleaners</td>\n",
              "      <td>Husband</td>\n",
              "      <td>Black</td>\n",
              "      <td>Male</td>\n",
              "      <td>0</td>\n",
              "      <td>0</td>\n",
              "      <td>40</td>\n",
              "      <td>United-States</td>\n",
              "      <td>&lt;=50K</td>\n",
              "    </tr>\n",
              "    <tr>\n",
              "      <th>4</th>\n",
              "      <td>28</td>\n",
              "      <td>Private</td>\n",
              "      <td>338409</td>\n",
              "      <td>Bachelors</td>\n",
              "      <td>13</td>\n",
              "      <td>Married-civ-spouse</td>\n",
              "      <td>Prof-specialty</td>\n",
              "      <td>Wife</td>\n",
              "      <td>Black</td>\n",
              "      <td>Female</td>\n",
              "      <td>0</td>\n",
              "      <td>0</td>\n",
              "      <td>40</td>\n",
              "      <td>Cuba</td>\n",
              "      <td>&lt;=50K</td>\n",
              "    </tr>\n",
              "    <tr>\n",
              "      <th>...</th>\n",
              "      <td>...</td>\n",
              "      <td>...</td>\n",
              "      <td>...</td>\n",
              "      <td>...</td>\n",
              "      <td>...</td>\n",
              "      <td>...</td>\n",
              "      <td>...</td>\n",
              "      <td>...</td>\n",
              "      <td>...</td>\n",
              "      <td>...</td>\n",
              "      <td>...</td>\n",
              "      <td>...</td>\n",
              "      <td>...</td>\n",
              "      <td>...</td>\n",
              "      <td>...</td>\n",
              "    </tr>\n",
              "    <tr>\n",
              "      <th>32556</th>\n",
              "      <td>27</td>\n",
              "      <td>Private</td>\n",
              "      <td>257302</td>\n",
              "      <td>Assoc-acdm</td>\n",
              "      <td>12</td>\n",
              "      <td>Married-civ-spouse</td>\n",
              "      <td>Tech-support</td>\n",
              "      <td>Wife</td>\n",
              "      <td>White</td>\n",
              "      <td>Female</td>\n",
              "      <td>0</td>\n",
              "      <td>0</td>\n",
              "      <td>38</td>\n",
              "      <td>United-States</td>\n",
              "      <td>&lt;=50K</td>\n",
              "    </tr>\n",
              "    <tr>\n",
              "      <th>32557</th>\n",
              "      <td>40</td>\n",
              "      <td>Private</td>\n",
              "      <td>154374</td>\n",
              "      <td>HS-grad</td>\n",
              "      <td>9</td>\n",
              "      <td>Married-civ-spouse</td>\n",
              "      <td>Machine-op-inspct</td>\n",
              "      <td>Husband</td>\n",
              "      <td>White</td>\n",
              "      <td>Male</td>\n",
              "      <td>0</td>\n",
              "      <td>0</td>\n",
              "      <td>40</td>\n",
              "      <td>United-States</td>\n",
              "      <td>&gt;50K</td>\n",
              "    </tr>\n",
              "    <tr>\n",
              "      <th>32558</th>\n",
              "      <td>58</td>\n",
              "      <td>Private</td>\n",
              "      <td>151910</td>\n",
              "      <td>HS-grad</td>\n",
              "      <td>9</td>\n",
              "      <td>Widowed</td>\n",
              "      <td>Adm-clerical</td>\n",
              "      <td>Unmarried</td>\n",
              "      <td>White</td>\n",
              "      <td>Female</td>\n",
              "      <td>0</td>\n",
              "      <td>0</td>\n",
              "      <td>40</td>\n",
              "      <td>United-States</td>\n",
              "      <td>&lt;=50K</td>\n",
              "    </tr>\n",
              "    <tr>\n",
              "      <th>32559</th>\n",
              "      <td>22</td>\n",
              "      <td>Private</td>\n",
              "      <td>201490</td>\n",
              "      <td>HS-grad</td>\n",
              "      <td>9</td>\n",
              "      <td>Never-married</td>\n",
              "      <td>Adm-clerical</td>\n",
              "      <td>Own-child</td>\n",
              "      <td>White</td>\n",
              "      <td>Male</td>\n",
              "      <td>0</td>\n",
              "      <td>0</td>\n",
              "      <td>20</td>\n",
              "      <td>United-States</td>\n",
              "      <td>&lt;=50K</td>\n",
              "    </tr>\n",
              "    <tr>\n",
              "      <th>32560</th>\n",
              "      <td>52</td>\n",
              "      <td>Self-emp-inc</td>\n",
              "      <td>287927</td>\n",
              "      <td>HS-grad</td>\n",
              "      <td>9</td>\n",
              "      <td>Married-civ-spouse</td>\n",
              "      <td>Exec-managerial</td>\n",
              "      <td>Wife</td>\n",
              "      <td>White</td>\n",
              "      <td>Female</td>\n",
              "      <td>15024</td>\n",
              "      <td>0</td>\n",
              "      <td>40</td>\n",
              "      <td>United-States</td>\n",
              "      <td>&gt;50K</td>\n",
              "    </tr>\n",
              "  </tbody>\n",
              "</table>\n",
              "<p>32561 rows × 15 columns</p>\n",
              "</div>\n",
              "      <button class=\"colab-df-convert\" onclick=\"convertToInteractive('df-80035c66-d84f-4cc2-aa94-8918b031f495')\"\n",
              "              title=\"Convert this dataframe to an interactive table.\"\n",
              "              style=\"display:none;\">\n",
              "        \n",
              "  <svg xmlns=\"http://www.w3.org/2000/svg\" height=\"24px\"viewBox=\"0 0 24 24\"\n",
              "       width=\"24px\">\n",
              "    <path d=\"M0 0h24v24H0V0z\" fill=\"none\"/>\n",
              "    <path d=\"M18.56 5.44l.94 2.06.94-2.06 2.06-.94-2.06-.94-.94-2.06-.94 2.06-2.06.94zm-11 1L8.5 8.5l.94-2.06 2.06-.94-2.06-.94L8.5 2.5l-.94 2.06-2.06.94zm10 10l.94 2.06.94-2.06 2.06-.94-2.06-.94-.94-2.06-.94 2.06-2.06.94z\"/><path d=\"M17.41 7.96l-1.37-1.37c-.4-.4-.92-.59-1.43-.59-.52 0-1.04.2-1.43.59L10.3 9.45l-7.72 7.72c-.78.78-.78 2.05 0 2.83L4 21.41c.39.39.9.59 1.41.59.51 0 1.02-.2 1.41-.59l7.78-7.78 2.81-2.81c.8-.78.8-2.07 0-2.86zM5.41 20L4 18.59l7.72-7.72 1.47 1.35L5.41 20z\"/>\n",
              "  </svg>\n",
              "      </button>\n",
              "      \n",
              "  <style>\n",
              "    .colab-df-container {\n",
              "      display:flex;\n",
              "      flex-wrap:wrap;\n",
              "      gap: 12px;\n",
              "    }\n",
              "\n",
              "    .colab-df-convert {\n",
              "      background-color: #E8F0FE;\n",
              "      border: none;\n",
              "      border-radius: 50%;\n",
              "      cursor: pointer;\n",
              "      display: none;\n",
              "      fill: #1967D2;\n",
              "      height: 32px;\n",
              "      padding: 0 0 0 0;\n",
              "      width: 32px;\n",
              "    }\n",
              "\n",
              "    .colab-df-convert:hover {\n",
              "      background-color: #E2EBFA;\n",
              "      box-shadow: 0px 1px 2px rgba(60, 64, 67, 0.3), 0px 1px 3px 1px rgba(60, 64, 67, 0.15);\n",
              "      fill: #174EA6;\n",
              "    }\n",
              "\n",
              "    [theme=dark] .colab-df-convert {\n",
              "      background-color: #3B4455;\n",
              "      fill: #D2E3FC;\n",
              "    }\n",
              "\n",
              "    [theme=dark] .colab-df-convert:hover {\n",
              "      background-color: #434B5C;\n",
              "      box-shadow: 0px 1px 3px 1px rgba(0, 0, 0, 0.15);\n",
              "      filter: drop-shadow(0px 1px 2px rgba(0, 0, 0, 0.3));\n",
              "      fill: #FFFFFF;\n",
              "    }\n",
              "  </style>\n",
              "\n",
              "      <script>\n",
              "        const buttonEl =\n",
              "          document.querySelector('#df-80035c66-d84f-4cc2-aa94-8918b031f495 button.colab-df-convert');\n",
              "        buttonEl.style.display =\n",
              "          google.colab.kernel.accessAllowed ? 'block' : 'none';\n",
              "\n",
              "        async function convertToInteractive(key) {\n",
              "          const element = document.querySelector('#df-80035c66-d84f-4cc2-aa94-8918b031f495');\n",
              "          const dataTable =\n",
              "            await google.colab.kernel.invokeFunction('convertToInteractive',\n",
              "                                                     [key], {});\n",
              "          if (!dataTable) return;\n",
              "\n",
              "          const docLinkHtml = 'Like what you see? Visit the ' +\n",
              "            '<a target=\"_blank\" href=https://colab.research.google.com/notebooks/data_table.ipynb>data table notebook</a>'\n",
              "            + ' to learn more about interactive tables.';\n",
              "          element.innerHTML = '';\n",
              "          dataTable['output_type'] = 'display_data';\n",
              "          await google.colab.output.renderOutput(dataTable, element);\n",
              "          const docLink = document.createElement('div');\n",
              "          docLink.innerHTML = docLinkHtml;\n",
              "          element.appendChild(docLink);\n",
              "        }\n",
              "      </script>\n",
              "    </div>\n",
              "  </div>\n",
              "  "
            ],
            "text/plain": [
              "       age          workclass  fnlwgt    education  education-num  \\\n",
              "0       39          State-gov   77516    Bachelors             13   \n",
              "1       50   Self-emp-not-inc   83311    Bachelors             13   \n",
              "2       38            Private  215646      HS-grad              9   \n",
              "3       53            Private  234721         11th              7   \n",
              "4       28            Private  338409    Bachelors             13   \n",
              "...    ...                ...     ...          ...            ...   \n",
              "32556   27            Private  257302   Assoc-acdm             12   \n",
              "32557   40            Private  154374      HS-grad              9   \n",
              "32558   58            Private  151910      HS-grad              9   \n",
              "32559   22            Private  201490      HS-grad              9   \n",
              "32560   52       Self-emp-inc  287927      HS-grad              9   \n",
              "\n",
              "            marital-status          occupation    relationship    race  \\\n",
              "0            Never-married        Adm-clerical   Not-in-family   White   \n",
              "1       Married-civ-spouse     Exec-managerial         Husband   White   \n",
              "2                 Divorced   Handlers-cleaners   Not-in-family   White   \n",
              "3       Married-civ-spouse   Handlers-cleaners         Husband   Black   \n",
              "4       Married-civ-spouse      Prof-specialty            Wife   Black   \n",
              "...                    ...                 ...             ...     ...   \n",
              "32556   Married-civ-spouse        Tech-support            Wife   White   \n",
              "32557   Married-civ-spouse   Machine-op-inspct         Husband   White   \n",
              "32558              Widowed        Adm-clerical       Unmarried   White   \n",
              "32559        Never-married        Adm-clerical       Own-child   White   \n",
              "32560   Married-civ-spouse     Exec-managerial            Wife   White   \n",
              "\n",
              "           sex  capital-gain  capital-loss  hours-per-week  native-country  \\\n",
              "0         Male          2174             0              40   United-States   \n",
              "1         Male             0             0              13   United-States   \n",
              "2         Male             0             0              40   United-States   \n",
              "3         Male             0             0              40   United-States   \n",
              "4       Female             0             0              40            Cuba   \n",
              "...        ...           ...           ...             ...             ...   \n",
              "32556   Female             0             0              38   United-States   \n",
              "32557     Male             0             0              40   United-States   \n",
              "32558   Female             0             0              40   United-States   \n",
              "32559     Male             0             0              20   United-States   \n",
              "32560   Female         15024             0              40   United-States   \n",
              "\n",
              "       income  \n",
              "0       <=50K  \n",
              "1       <=50K  \n",
              "2       <=50K  \n",
              "3       <=50K  \n",
              "4       <=50K  \n",
              "...       ...  \n",
              "32556   <=50K  \n",
              "32557    >50K  \n",
              "32558   <=50K  \n",
              "32559   <=50K  \n",
              "32560    >50K  \n",
              "\n",
              "[32561 rows x 15 columns]"
            ]
          },
          "metadata": {},
          "execution_count": 5
        }
      ]
    },
    {
      "cell_type": "code",
      "source": [
        "raw_data.info()"
      ],
      "metadata": {
        "colab": {
          "base_uri": "https://localhost:8080/"
        },
        "id": "mbR3ZPSe5k5w",
        "outputId": "5f877aeb-e626-476b-aebb-7a53ebff68c9"
      },
      "execution_count": null,
      "outputs": [
        {
          "output_type": "stream",
          "name": "stdout",
          "text": [
            "<class 'pandas.core.frame.DataFrame'>\n",
            "RangeIndex: 32561 entries, 0 to 32560\n",
            "Data columns (total 15 columns):\n",
            " #   Column          Non-Null Count  Dtype \n",
            "---  ------          --------------  ----- \n",
            " 0   age             32561 non-null  int64 \n",
            " 1   workclass       32561 non-null  object\n",
            " 2   fnlwgt          32561 non-null  int64 \n",
            " 3   education       32561 non-null  object\n",
            " 4   education-num   32561 non-null  int64 \n",
            " 5   marital-status  32561 non-null  object\n",
            " 6   occupation      32561 non-null  object\n",
            " 7   relationship    32561 non-null  object\n",
            " 8   race            32561 non-null  object\n",
            " 9   sex             32561 non-null  object\n",
            " 10  capital-gain    32561 non-null  int64 \n",
            " 11  capital-loss    32561 non-null  int64 \n",
            " 12  hours-per-week  32561 non-null  int64 \n",
            " 13  native-country  32561 non-null  object\n",
            " 14  income          32561 non-null  object\n",
            "dtypes: int64(6), object(9)\n",
            "memory usage: 3.7+ MB\n"
          ]
        }
      ]
    },
    {
      "cell_type": "code",
      "source": [
        "raw_data.isnull().sum()"
      ],
      "metadata": {
        "colab": {
          "base_uri": "https://localhost:8080/"
        },
        "id": "8UDbQ-oArfAi",
        "outputId": "b0dbd490-7730-429a-80c2-821397441020"
      },
      "execution_count": null,
      "outputs": [
        {
          "output_type": "execute_result",
          "data": {
            "text/plain": [
              "age               0\n",
              "workclass         0\n",
              "fnlwgt            0\n",
              "education         0\n",
              "education-num     0\n",
              "marital-status    0\n",
              "occupation        0\n",
              "relationship      0\n",
              "race              0\n",
              "sex               0\n",
              "capital-gain      0\n",
              "capital-loss      0\n",
              "hours-per-week    0\n",
              "native-country    0\n",
              "income            0\n",
              "dtype: int64"
            ]
          },
          "metadata": {},
          "execution_count": 7
        }
      ]
    },
    {
      "cell_type": "code",
      "source": [
        "df = raw_data"
      ],
      "metadata": {
        "id": "j1f5v2qOritT"
      },
      "execution_count": null,
      "outputs": []
    },
    {
      "cell_type": "markdown",
      "source": [
        "# 1.) Explore data and Cleansing data\n",
        "\n",
        "ในส่วนนี้ได้ทำการสำรวจ และทำการ Clean ข้อมูล โดยจะมีการ Drop Row ที่มี Missing Value และ Drop Row ที่เรามองว่าเป็น Outliner ออก"
      ],
      "metadata": {
        "id": "xCORbVgRrkxx"
      }
    },
    {
      "cell_type": "markdown",
      "source": [
        "## 1.1) age"
      ],
      "metadata": {
        "id": "f3eFVZBivXQk"
      }
    },
    {
      "cell_type": "code",
      "source": [
        "df['age'].unique()"
      ],
      "metadata": {
        "colab": {
          "base_uri": "https://localhost:8080/"
        },
        "id": "zIidriz3ro0P",
        "outputId": "83753de6-b4d6-4870-f717-24f1458a2a00"
      },
      "execution_count": null,
      "outputs": [
        {
          "output_type": "execute_result",
          "data": {
            "text/plain": [
              "array([39, 50, 38, 53, 28, 37, 49, 52, 31, 42, 30, 23, 32, 40, 34, 25, 43,\n",
              "       54, 35, 59, 56, 19, 20, 45, 22, 48, 21, 24, 57, 44, 41, 29, 18, 47,\n",
              "       46, 36, 79, 27, 67, 33, 76, 17, 55, 61, 70, 64, 71, 68, 66, 51, 58,\n",
              "       26, 60, 90, 75, 65, 77, 62, 63, 80, 72, 74, 69, 73, 81, 78, 88, 82,\n",
              "       83, 84, 85, 86, 87])"
            ]
          },
          "metadata": {},
          "execution_count": 9
        }
      ]
    },
    {
      "cell_type": "markdown",
      "source": [
        "## 1.2) fnlwgt"
      ],
      "metadata": {
        "id": "NSEJyi7evzLq"
      }
    },
    {
      "cell_type": "code",
      "source": [
        "df['fnlwgt'].unique()"
      ],
      "metadata": {
        "colab": {
          "base_uri": "https://localhost:8080/"
        },
        "id": "sK3dDjBOsKX-",
        "outputId": "f83e477f-e4fe-4d18-87c8-b1a78d3df3c9"
      },
      "execution_count": null,
      "outputs": [
        {
          "output_type": "execute_result",
          "data": {
            "text/plain": [
              "array([ 77516,  83311, 215646, ...,  34066,  84661, 257302])"
            ]
          },
          "metadata": {},
          "execution_count": 10
        }
      ]
    },
    {
      "cell_type": "markdown",
      "source": [
        "# 1.3) workclass"
      ],
      "metadata": {
        "id": "M3CaVxDJv1y8"
      }
    },
    {
      "cell_type": "code",
      "source": [
        "df['workclass'].unique()"
      ],
      "metadata": {
        "colab": {
          "base_uri": "https://localhost:8080/"
        },
        "id": "_I1utz4tsNaz",
        "outputId": "c143e00a-4bce-46e8-8ee1-a5ebd77cad18"
      },
      "execution_count": null,
      "outputs": [
        {
          "output_type": "execute_result",
          "data": {
            "text/plain": [
              "array([' State-gov', ' Self-emp-not-inc', ' Private', ' Federal-gov',\n",
              "       ' Local-gov', ' ?', ' Self-emp-inc', ' Without-pay',\n",
              "       ' Never-worked'], dtype=object)"
            ]
          },
          "metadata": {},
          "execution_count": 11
        }
      ]
    },
    {
      "cell_type": "markdown",
      "source": [
        "Workclass เราพบว่ามี ' ?' ซึ่งเป็น Missing Value จึงทำการ Drop Row ที่มี ' ?'ออก"
      ],
      "metadata": {
        "id": "SaaxJ0c2y2_U"
      }
    },
    {
      "cell_type": "code",
      "source": [
        "df = df[df[\"workclass\"] != ' ?']\n",
        "df['workclass'].unique()"
      ],
      "metadata": {
        "colab": {
          "base_uri": "https://localhost:8080/"
        },
        "id": "PlODWQaLsQla",
        "outputId": "71efbf4d-079e-4beb-8b64-71c06e601f01"
      },
      "execution_count": null,
      "outputs": [
        {
          "output_type": "execute_result",
          "data": {
            "text/plain": [
              "array([' State-gov', ' Self-emp-not-inc', ' Private', ' Federal-gov',\n",
              "       ' Local-gov', ' Self-emp-inc', ' Without-pay', ' Never-worked'],\n",
              "      dtype=object)"
            ]
          },
          "metadata": {},
          "execution_count": 12
        }
      ]
    },
    {
      "cell_type": "code",
      "source": [
        "#map_list = {' State-gov': 1, ' Self-emp-not-inc': 2, ' Private': 3, ' Federal-gov': 4, ' Local-gov': 5, ' Self-emp-inc': 6, ' Without-pay': 7, ' Never-worked': 8  }\n",
        "\n",
        "#df['workclass']=df['workclass'].map(map_list)\n",
        "#df['workclass'].unique()"
      ],
      "metadata": {
        "id": "7K2oAoDYsY0q"
      },
      "execution_count": null,
      "outputs": []
    },
    {
      "cell_type": "markdown",
      "source": [
        "# 1.4) education"
      ],
      "metadata": {
        "id": "UrfBQCZfv7Ui"
      }
    },
    {
      "cell_type": "code",
      "source": [
        "df['education'].unique()"
      ],
      "metadata": {
        "colab": {
          "base_uri": "https://localhost:8080/"
        },
        "id": "is-Yw0uEsc_G",
        "outputId": "389f45cb-c522-46cd-8b79-02d2479247ac"
      },
      "execution_count": null,
      "outputs": [
        {
          "output_type": "execute_result",
          "data": {
            "text/plain": [
              "array([' Bachelors', ' HS-grad', ' 11th', ' Masters', ' 9th',\n",
              "       ' Some-college', ' Assoc-acdm', ' Assoc-voc', ' 7th-8th',\n",
              "       ' Doctorate', ' Prof-school', ' 5th-6th', ' 10th', ' Preschool',\n",
              "       ' 12th', ' 1st-4th'], dtype=object)"
            ]
          },
          "metadata": {},
          "execution_count": 14
        }
      ]
    },
    {
      "cell_type": "code",
      "source": [
        "df['education-num'].unique()"
      ],
      "metadata": {
        "colab": {
          "base_uri": "https://localhost:8080/"
        },
        "id": "xlCrko5Hsf3p",
        "outputId": "f74ef23d-44fa-4d32-8944-a266d2684bb5"
      },
      "execution_count": null,
      "outputs": [
        {
          "output_type": "execute_result",
          "data": {
            "text/plain": [
              "array([13,  9,  7, 14,  5, 10, 12, 11,  4, 16, 15,  3,  6,  1,  8,  2])"
            ]
          },
          "metadata": {},
          "execution_count": 15
        }
      ]
    },
    {
      "cell_type": "markdown",
      "source": [
        "Education เราเห็นว่ามี Column Education-num อยู่แล้วจึงทำการ drop column education ออก"
      ],
      "metadata": {
        "id": "FX3O7J7KzE2Y"
      }
    },
    {
      "cell_type": "code",
      "source": [
        "df = df.drop(['education'],axis=1)\n"
      ],
      "metadata": {
        "id": "cDJK_c2wRr95"
      },
      "execution_count": null,
      "outputs": []
    },
    {
      "cell_type": "markdown",
      "source": [
        "# 1.5) marital-status"
      ],
      "metadata": {
        "id": "sqjyjoxgv_TU"
      }
    },
    {
      "cell_type": "code",
      "source": [
        "df['marital-status'].unique()"
      ],
      "metadata": {
        "colab": {
          "base_uri": "https://localhost:8080/"
        },
        "id": "hbJ0_tylu_RB",
        "outputId": "6d89a91a-7338-4135-d231-2c9759524a6e"
      },
      "execution_count": null,
      "outputs": [
        {
          "output_type": "execute_result",
          "data": {
            "text/plain": [
              "array([' Never-married', ' Married-civ-spouse', ' Divorced',\n",
              "       ' Married-spouse-absent', ' Separated', ' Married-AF-spouse',\n",
              "       ' Widowed'], dtype=object)"
            ]
          },
          "metadata": {},
          "execution_count": 17
        }
      ]
    },
    {
      "cell_type": "code",
      "source": [
        "#map_list = {' Never-married': 1, ' Married-civ-spouse': 2, ' Divorced': 3, ' Married-spouse-absent': 4, ' Separated': 5, ' Married-AF-spouse': 6, ' Widowed': 7}\n",
        "\n",
        "#df['marital-status'] = df['marital-status'].map(map_list)\n",
        "#df['marital-status'].unique()"
      ],
      "metadata": {
        "id": "0tZC1OTOvCJr"
      },
      "execution_count": null,
      "outputs": []
    },
    {
      "cell_type": "markdown",
      "source": [
        "## 1.6) occupation"
      ],
      "metadata": {
        "id": "8-0p93C2wCll"
      }
    },
    {
      "cell_type": "code",
      "source": [
        "df['occupation'].unique()"
      ],
      "metadata": {
        "colab": {
          "base_uri": "https://localhost:8080/"
        },
        "id": "rku3IRLZvIoF",
        "outputId": "94b96a7f-b0f1-44c3-eca8-46bf7c96a048"
      },
      "execution_count": null,
      "outputs": [
        {
          "output_type": "execute_result",
          "data": {
            "text/plain": [
              "array([' Adm-clerical', ' Exec-managerial', ' Handlers-cleaners',\n",
              "       ' Prof-specialty', ' Other-service', ' Sales', ' Craft-repair',\n",
              "       ' Transport-moving', ' Farming-fishing', ' Machine-op-inspct',\n",
              "       ' Tech-support', ' Protective-serv', ' Armed-Forces',\n",
              "       ' Priv-house-serv', ' ?'], dtype=object)"
            ]
          },
          "metadata": {},
          "execution_count": 19
        }
      ]
    },
    {
      "cell_type": "markdown",
      "source": [
        "พอมาสำรวจ occupation เองก็มี ' ?' จึงทำการ drop row นั้นทิ้งไป"
      ],
      "metadata": {
        "id": "bkhjbpd2zOgi"
      }
    },
    {
      "cell_type": "code",
      "source": [
        "df = df[df[\"occupation\"] != ' ?']\n",
        "df['occupation'].unique()"
      ],
      "metadata": {
        "colab": {
          "base_uri": "https://localhost:8080/"
        },
        "id": "bIezgz1OvKvl",
        "outputId": "7e1610b9-9250-4be1-d72d-8b203a20b7fa"
      },
      "execution_count": null,
      "outputs": [
        {
          "output_type": "execute_result",
          "data": {
            "text/plain": [
              "array([' Adm-clerical', ' Exec-managerial', ' Handlers-cleaners',\n",
              "       ' Prof-specialty', ' Other-service', ' Sales', ' Craft-repair',\n",
              "       ' Transport-moving', ' Farming-fishing', ' Machine-op-inspct',\n",
              "       ' Tech-support', ' Protective-serv', ' Armed-Forces',\n",
              "       ' Priv-house-serv'], dtype=object)"
            ]
          },
          "metadata": {},
          "execution_count": 20
        }
      ]
    },
    {
      "cell_type": "code",
      "source": [
        "#map_list = {' Adm-clerical':1, ' Exec-managerial':2, ' Handlers-cleaners':3,\n",
        "#       ' Prof-specialty':4, ' Other-service':5, ' Sales':6, ' Craft-repair':7,\n",
        "#       ' Transport-moving':8, ' Farming-fishing':9, ' Machine-op-inspct':10,\n",
        "#       ' Tech-support':11, ' Protective-serv':12, ' Armed-Forces':13,\n",
        "#       ' Priv-house-serv':14}\n",
        "\n",
        "#df['occupation'] = df['occupation'].map(map_list)\n",
        "df['occupation'].unique()"
      ],
      "metadata": {
        "colab": {
          "base_uri": "https://localhost:8080/"
        },
        "id": "JCgHvNsd0RMq",
        "outputId": "ac69655d-a983-47ea-8dce-8adc86be28ed"
      },
      "execution_count": null,
      "outputs": [
        {
          "output_type": "execute_result",
          "data": {
            "text/plain": [
              "array([' Adm-clerical', ' Exec-managerial', ' Handlers-cleaners',\n",
              "       ' Prof-specialty', ' Other-service', ' Sales', ' Craft-repair',\n",
              "       ' Transport-moving', ' Farming-fishing', ' Machine-op-inspct',\n",
              "       ' Tech-support', ' Protective-serv', ' Armed-Forces',\n",
              "       ' Priv-house-serv'], dtype=object)"
            ]
          },
          "metadata": {},
          "execution_count": 21
        }
      ]
    },
    {
      "cell_type": "markdown",
      "source": [
        "## 1.7) relationship"
      ],
      "metadata": {
        "id": "IXVcEDH2wJ5A"
      }
    },
    {
      "cell_type": "code",
      "source": [
        "df['relationship'].unique()"
      ],
      "metadata": {
        "colab": {
          "base_uri": "https://localhost:8080/"
        },
        "id": "9LvVggxnwQ38",
        "outputId": "9af8884a-4770-4bc9-d157-40065ceaa41d"
      },
      "execution_count": null,
      "outputs": [
        {
          "output_type": "execute_result",
          "data": {
            "text/plain": [
              "array([' Not-in-family', ' Husband', ' Wife', ' Own-child', ' Unmarried',\n",
              "       ' Other-relative'], dtype=object)"
            ]
          },
          "metadata": {},
          "execution_count": 22
        }
      ]
    },
    {
      "cell_type": "code",
      "source": [
        "#map_list = {' Not-in-family': 1, ' Husband': 2, ' Wife': 3, ' Own-child': 4, ' Unmarried': 5, ' Other-relative': 6}\n",
        "\n",
        "#df['relationship'] = df['relationship'].map(map_list)\n",
        "#df['relationship'].unique()"
      ],
      "metadata": {
        "id": "5Hl88-21wUnG"
      },
      "execution_count": null,
      "outputs": []
    },
    {
      "cell_type": "markdown",
      "source": [
        "## 1.8) race"
      ],
      "metadata": {
        "id": "kpoWaMWiwkOL"
      }
    },
    {
      "cell_type": "code",
      "source": [
        "df['race'].unique()"
      ],
      "metadata": {
        "colab": {
          "base_uri": "https://localhost:8080/"
        },
        "id": "KkJ-tFMxwnE3",
        "outputId": "94ec4339-f6ee-4174-da3c-f1e00bfa6fc6"
      },
      "execution_count": null,
      "outputs": [
        {
          "output_type": "execute_result",
          "data": {
            "text/plain": [
              "array([' White', ' Black', ' Asian-Pac-Islander', ' Amer-Indian-Eskimo',\n",
              "       ' Other'], dtype=object)"
            ]
          },
          "metadata": {},
          "execution_count": 24
        }
      ]
    },
    {
      "cell_type": "code",
      "source": [
        "#map_list = {' White': 1, ' Black': 2, ' Asian-Pac-Islander': 3, ' Amer-Indian-Eskimo': 4, ' Other': 5}\n",
        "#df['race'] = df['race'].map(map_list)\n",
        "#df['race'].unique()"
      ],
      "metadata": {
        "id": "t7vau4GUwq2i"
      },
      "execution_count": null,
      "outputs": []
    },
    {
      "cell_type": "markdown",
      "source": [
        "## 1.9) sex"
      ],
      "metadata": {
        "id": "q4rEOXnNw8tY"
      }
    },
    {
      "cell_type": "code",
      "source": [
        "#df['sex'].unique()\n",
        "#map_list = {' Male':0, ' Female':1}\n",
        "\n",
        "#df['sex'] = df['sex'].map(map_list)\n",
        "#df['sex'].unique()"
      ],
      "metadata": {
        "id": "B4jYD-s8wwzM"
      },
      "execution_count": null,
      "outputs": []
    },
    {
      "cell_type": "markdown",
      "source": [
        "## 1.10) capital-gain"
      ],
      "metadata": {
        "id": "4X-608K-xAEL"
      }
    },
    {
      "cell_type": "code",
      "source": [
        "df['capital-gain'].unique()"
      ],
      "metadata": {
        "colab": {
          "base_uri": "https://localhost:8080/"
        },
        "id": "EmxA5jA9xGGE",
        "outputId": "a61739fc-90fe-44cb-ae04-b3d6d1e750be"
      },
      "execution_count": null,
      "outputs": [
        {
          "output_type": "execute_result",
          "data": {
            "text/plain": [
              "array([ 2174,     0, 14084,  5178,  5013,  2407, 14344, 15024,  7688,\n",
              "        4064,  4386,  7298,  1409,  3674,  1055,  2050,  2176,   594,\n",
              "       20051,  6849,  4101,  8614,  3411,  2597, 25236,  4650,  9386,\n",
              "        2463,  3103, 10605,  2964,  3325,  2580,  3471,  4865, 99999,\n",
              "        6514,  1471,  2329,  2105,  2885, 10520,  2202,  2961, 27828,\n",
              "        6767,  2228,  1506, 13550,  2635,  5556,  4787,  3781,  3137,\n",
              "        3818,   914,   401,  2829,  2977,  4934,  2062,  2354,  3464,\n",
              "        5455, 15020,  1424,  3273, 22040,  4416, 10566,  4931,  7430,\n",
              "       34095,  6497,  3908,   114,  7896,  2346,  2907,  1151,  2414,\n",
              "        2290,  3418, 15831, 41310,  4508,  2538,  3456,  1848,  3887,\n",
              "        5721,  9562,  6418,  1455,  2036,  3942,  1831, 11678,  2936,\n",
              "        2993,  7443,  6360,  4687,  1797,  6723,  2009,  3432,  6097,\n",
              "        1639,  2653, 18481, 25124,  7978,   991,  1173,  2387,  5060,\n",
              "        1086])"
            ]
          },
          "metadata": {},
          "execution_count": 27
        }
      ]
    },
    {
      "cell_type": "markdown",
      "source": [
        "## 1.11) captial-loss"
      ],
      "metadata": {
        "id": "y2AOi1RBxJnp"
      }
    },
    {
      "cell_type": "code",
      "source": [
        "df['capital-loss'].unique()"
      ],
      "metadata": {
        "colab": {
          "base_uri": "https://localhost:8080/"
        },
        "id": "m1nQJVn4xMjZ",
        "outputId": "6902352b-8ab2-4167-fe6d-5f7b6c03f13d"
      },
      "execution_count": null,
      "outputs": [
        {
          "output_type": "execute_result",
          "data": {
            "text/plain": [
              "array([   0, 2042, 1408, 1902, 1573, 1887, 1719, 1762, 1564, 2179, 1816,\n",
              "       1980, 1977, 1876, 1340, 2206, 1741, 1485, 2339, 2415, 1380, 1721,\n",
              "       2051, 2377, 1669, 2352, 1672,  653, 2392, 1504, 1590, 1651, 1628,\n",
              "       1848, 2001, 1740, 2002, 1579, 2258, 1602, 2547, 2205, 1726, 2444,\n",
              "       1138, 2238,  625,  213, 1539,  880, 1668, 1092, 1594, 3004, 2231,\n",
              "       1844,  810, 2824, 2559, 2057, 1974,  974, 2174, 2149, 1735, 1258,\n",
              "       2129, 2603, 2282,  323, 2246, 1617, 1648, 1825, 3770, 1755, 3683,\n",
              "       4356, 2267, 2080, 2457,  419,  155, 3900, 2201, 1944, 2467, 2754,\n",
              "       2472, 1411])"
            ]
          },
          "metadata": {},
          "execution_count": 28
        }
      ]
    },
    {
      "cell_type": "code",
      "source": [
        "df.columns"
      ],
      "metadata": {
        "colab": {
          "base_uri": "https://localhost:8080/"
        },
        "id": "cLFmiWRa6Q-6",
        "outputId": "0ad91546-94c3-48d7-ea9a-f809be4c6c32"
      },
      "execution_count": null,
      "outputs": [
        {
          "output_type": "execute_result",
          "data": {
            "text/plain": [
              "Index(['age', 'workclass', 'fnlwgt', 'education-num', 'marital-status',\n",
              "       'occupation', 'relationship', 'race', 'sex', 'capital-gain',\n",
              "       'capital-loss', 'hours-per-week', 'native-country', 'income'],\n",
              "      dtype='object')"
            ]
          },
          "metadata": {},
          "execution_count": 29
        }
      ]
    },
    {
      "cell_type": "markdown",
      "source": [
        "## 1.12 Hours-per-week"
      ],
      "metadata": {
        "id": "xhsihkLvxSaz"
      }
    },
    {
      "cell_type": "code",
      "source": [
        "df['hours-per-week'].unique()"
      ],
      "metadata": {
        "colab": {
          "base_uri": "https://localhost:8080/"
        },
        "id": "zyFSHy1kxYou",
        "outputId": "dc5611fd-7ead-4314-8d4b-5b600d19d632"
      },
      "execution_count": null,
      "outputs": [
        {
          "output_type": "execute_result",
          "data": {
            "text/plain": [
              "array([40, 13, 16, 45, 50, 80, 30, 35, 60, 20, 52, 44, 15, 25, 38, 43, 55,\n",
              "       48, 58, 32, 70, 22, 56, 41, 28, 36, 24, 46,  2, 42, 12, 65,  1, 34,\n",
              "       75, 98, 33, 54, 10,  6, 64, 19, 18, 72,  8,  9, 47, 37, 21, 26, 14,\n",
              "        5, 59,  7, 99, 53, 39, 62, 57, 78, 90, 66, 11, 49, 84,  4, 17, 68,\n",
              "        3, 27, 85, 31, 51, 77, 63, 23, 87, 88, 73, 89, 97, 94, 29, 96, 67,\n",
              "       82, 86, 91, 81, 76, 92, 61, 74, 95])"
            ]
          },
          "metadata": {},
          "execution_count": 30
        }
      ]
    },
    {
      "cell_type": "markdown",
      "source": [
        "## 1.13) native-country"
      ],
      "metadata": {
        "id": "vtpiBq7Exar_"
      }
    },
    {
      "cell_type": "code",
      "source": [
        "df['native-country'].unique()"
      ],
      "metadata": {
        "colab": {
          "base_uri": "https://localhost:8080/"
        },
        "id": "RnFCPe24xduw",
        "outputId": "a225bc73-a65d-4879-9933-676c6ecc412f"
      },
      "execution_count": null,
      "outputs": [
        {
          "output_type": "execute_result",
          "data": {
            "text/plain": [
              "array([' United-States', ' Cuba', ' Jamaica', ' India', ' ?', ' Mexico',\n",
              "       ' Puerto-Rico', ' Honduras', ' England', ' Canada', ' Germany',\n",
              "       ' Iran', ' Philippines', ' Poland', ' Columbia', ' Cambodia',\n",
              "       ' Thailand', ' Ecuador', ' Laos', ' Taiwan', ' Haiti', ' Portugal',\n",
              "       ' Dominican-Republic', ' El-Salvador', ' France', ' Guatemala',\n",
              "       ' Italy', ' China', ' South', ' Japan', ' Yugoslavia', ' Peru',\n",
              "       ' Outlying-US(Guam-USVI-etc)', ' Scotland', ' Trinadad&Tobago',\n",
              "       ' Greece', ' Nicaragua', ' Vietnam', ' Hong', ' Ireland',\n",
              "       ' Hungary', ' Holand-Netherlands'], dtype=object)"
            ]
          },
          "metadata": {},
          "execution_count": 31
        }
      ]
    },
    {
      "cell_type": "markdown",
      "source": [
        "native-country พบ ' ?' จึงทำการ Drop row นั้นออก"
      ],
      "metadata": {
        "id": "brI99mO5zdKZ"
      }
    },
    {
      "cell_type": "code",
      "source": [
        "df = df[df[\"native-country\"] != ' ?']\n",
        "df['native-country'].unique()"
      ],
      "metadata": {
        "colab": {
          "base_uri": "https://localhost:8080/"
        },
        "id": "0b-hcs4vxjTO",
        "outputId": "7f025c94-8e29-4a53-b00f-e3e51a651dd5"
      },
      "execution_count": null,
      "outputs": [
        {
          "output_type": "execute_result",
          "data": {
            "text/plain": [
              "array([' United-States', ' Cuba', ' Jamaica', ' India', ' Mexico',\n",
              "       ' Puerto-Rico', ' Honduras', ' England', ' Canada', ' Germany',\n",
              "       ' Iran', ' Philippines', ' Poland', ' Columbia', ' Cambodia',\n",
              "       ' Thailand', ' Ecuador', ' Laos', ' Taiwan', ' Haiti', ' Portugal',\n",
              "       ' Dominican-Republic', ' El-Salvador', ' France', ' Guatemala',\n",
              "       ' Italy', ' China', ' South', ' Japan', ' Yugoslavia', ' Peru',\n",
              "       ' Outlying-US(Guam-USVI-etc)', ' Scotland', ' Trinadad&Tobago',\n",
              "       ' Greece', ' Nicaragua', ' Vietnam', ' Hong', ' Ireland',\n",
              "       ' Hungary', ' Holand-Netherlands'], dtype=object)"
            ]
          },
          "metadata": {},
          "execution_count": 32
        }
      ]
    },
    {
      "cell_type": "code",
      "source": [
        "#map_list = {' United-States': 1, ' Cuba': 2, ' Jamaica': 3, ' India': 4, ' Mexico': 5,\n",
        "#       ' South': 6, ' Puerto-Rico': 7, ' Honduras': 8, ' England': 9, ' Canada': 10,\n",
        "#       ' Germany': 11, ' Iran': 12, ' Philippines': 13, ' Italy': 14, ' Poland': 15,\n",
        "#       ' Columbia': 16, ' Cambodia': 17, ' Thailand': 18, ' Ecuador': 19, ' Laos': 20,\n",
        "#       ' Taiwan': 21, ' Haiti': 22, ' Portugal': 23, ' Dominican-Republic': 24,\n",
        "#       ' El-Salvador': 25, ' France': 26, ' Guatemala': 27, ' China': 28, ' Japan': 29,\n",
        "#       ' Yugoslavia': 30, ' Peru': 31, ' Outlying-US(Guam-USVI-etc)': 32, ' Scotland': 33,\n",
        "#       ' Trinadad&Tobago': 34, ' Greece': 35, ' Nicaragua': 36, ' Vietnam': 37, ' Hong': 38,\n",
        "#       ' Ireland': 39, ' Hungary': 40, ' Holand-Netherlands': 41}\n",
        "\n",
        "#df['native-country'] = df['native-country'].map(map_list)\n",
        "#df['native-country'].unique()"
      ],
      "metadata": {
        "id": "6f7McF4DxnQW"
      },
      "execution_count": null,
      "outputs": []
    },
    {
      "cell_type": "markdown",
      "source": [
        "## 1.14) income"
      ],
      "metadata": {
        "id": "WI6AncCHxsdL"
      }
    },
    {
      "cell_type": "code",
      "source": [
        "#df['income'].unique()"
      ],
      "metadata": {
        "id": "KcA0zf-Lxz0N"
      },
      "execution_count": null,
      "outputs": []
    },
    {
      "cell_type": "code",
      "source": [
        "#map_list = {' <=50K': 0, ' >50K': 1}\n",
        "\n",
        "#df['income'] = df['income'].map(map_list)\n",
        "#df['income'].unique()"
      ],
      "metadata": {
        "id": "Hs4ruEBFx2du"
      },
      "execution_count": null,
      "outputs": []
    },
    {
      "cell_type": "code",
      "source": [
        "df.head()"
      ],
      "metadata": {
        "colab": {
          "base_uri": "https://localhost:8080/",
          "height": 333
        },
        "id": "rdGkZT_7x4qW",
        "outputId": "629b73c4-666e-4fb8-af54-1e16eac995d7"
      },
      "execution_count": null,
      "outputs": [
        {
          "output_type": "execute_result",
          "data": {
            "text/html": [
              "\n",
              "  <div id=\"df-49534dc2-f332-4334-bc1f-a9d01ee0e07e\">\n",
              "    <div class=\"colab-df-container\">\n",
              "      <div>\n",
              "<style scoped>\n",
              "    .dataframe tbody tr th:only-of-type {\n",
              "        vertical-align: middle;\n",
              "    }\n",
              "\n",
              "    .dataframe tbody tr th {\n",
              "        vertical-align: top;\n",
              "    }\n",
              "\n",
              "    .dataframe thead th {\n",
              "        text-align: right;\n",
              "    }\n",
              "</style>\n",
              "<table border=\"1\" class=\"dataframe\">\n",
              "  <thead>\n",
              "    <tr style=\"text-align: right;\">\n",
              "      <th></th>\n",
              "      <th>age</th>\n",
              "      <th>workclass</th>\n",
              "      <th>fnlwgt</th>\n",
              "      <th>education-num</th>\n",
              "      <th>marital-status</th>\n",
              "      <th>occupation</th>\n",
              "      <th>relationship</th>\n",
              "      <th>race</th>\n",
              "      <th>sex</th>\n",
              "      <th>capital-gain</th>\n",
              "      <th>capital-loss</th>\n",
              "      <th>hours-per-week</th>\n",
              "      <th>native-country</th>\n",
              "      <th>income</th>\n",
              "    </tr>\n",
              "  </thead>\n",
              "  <tbody>\n",
              "    <tr>\n",
              "      <th>0</th>\n",
              "      <td>39</td>\n",
              "      <td>State-gov</td>\n",
              "      <td>77516</td>\n",
              "      <td>13</td>\n",
              "      <td>Never-married</td>\n",
              "      <td>Adm-clerical</td>\n",
              "      <td>Not-in-family</td>\n",
              "      <td>White</td>\n",
              "      <td>Male</td>\n",
              "      <td>2174</td>\n",
              "      <td>0</td>\n",
              "      <td>40</td>\n",
              "      <td>United-States</td>\n",
              "      <td>&lt;=50K</td>\n",
              "    </tr>\n",
              "    <tr>\n",
              "      <th>1</th>\n",
              "      <td>50</td>\n",
              "      <td>Self-emp-not-inc</td>\n",
              "      <td>83311</td>\n",
              "      <td>13</td>\n",
              "      <td>Married-civ-spouse</td>\n",
              "      <td>Exec-managerial</td>\n",
              "      <td>Husband</td>\n",
              "      <td>White</td>\n",
              "      <td>Male</td>\n",
              "      <td>0</td>\n",
              "      <td>0</td>\n",
              "      <td>13</td>\n",
              "      <td>United-States</td>\n",
              "      <td>&lt;=50K</td>\n",
              "    </tr>\n",
              "    <tr>\n",
              "      <th>2</th>\n",
              "      <td>38</td>\n",
              "      <td>Private</td>\n",
              "      <td>215646</td>\n",
              "      <td>9</td>\n",
              "      <td>Divorced</td>\n",
              "      <td>Handlers-cleaners</td>\n",
              "      <td>Not-in-family</td>\n",
              "      <td>White</td>\n",
              "      <td>Male</td>\n",
              "      <td>0</td>\n",
              "      <td>0</td>\n",
              "      <td>40</td>\n",
              "      <td>United-States</td>\n",
              "      <td>&lt;=50K</td>\n",
              "    </tr>\n",
              "    <tr>\n",
              "      <th>3</th>\n",
              "      <td>53</td>\n",
              "      <td>Private</td>\n",
              "      <td>234721</td>\n",
              "      <td>7</td>\n",
              "      <td>Married-civ-spouse</td>\n",
              "      <td>Handlers-cleaners</td>\n",
              "      <td>Husband</td>\n",
              "      <td>Black</td>\n",
              "      <td>Male</td>\n",
              "      <td>0</td>\n",
              "      <td>0</td>\n",
              "      <td>40</td>\n",
              "      <td>United-States</td>\n",
              "      <td>&lt;=50K</td>\n",
              "    </tr>\n",
              "    <tr>\n",
              "      <th>4</th>\n",
              "      <td>28</td>\n",
              "      <td>Private</td>\n",
              "      <td>338409</td>\n",
              "      <td>13</td>\n",
              "      <td>Married-civ-spouse</td>\n",
              "      <td>Prof-specialty</td>\n",
              "      <td>Wife</td>\n",
              "      <td>Black</td>\n",
              "      <td>Female</td>\n",
              "      <td>0</td>\n",
              "      <td>0</td>\n",
              "      <td>40</td>\n",
              "      <td>Cuba</td>\n",
              "      <td>&lt;=50K</td>\n",
              "    </tr>\n",
              "  </tbody>\n",
              "</table>\n",
              "</div>\n",
              "      <button class=\"colab-df-convert\" onclick=\"convertToInteractive('df-49534dc2-f332-4334-bc1f-a9d01ee0e07e')\"\n",
              "              title=\"Convert this dataframe to an interactive table.\"\n",
              "              style=\"display:none;\">\n",
              "        \n",
              "  <svg xmlns=\"http://www.w3.org/2000/svg\" height=\"24px\"viewBox=\"0 0 24 24\"\n",
              "       width=\"24px\">\n",
              "    <path d=\"M0 0h24v24H0V0z\" fill=\"none\"/>\n",
              "    <path d=\"M18.56 5.44l.94 2.06.94-2.06 2.06-.94-2.06-.94-.94-2.06-.94 2.06-2.06.94zm-11 1L8.5 8.5l.94-2.06 2.06-.94-2.06-.94L8.5 2.5l-.94 2.06-2.06.94zm10 10l.94 2.06.94-2.06 2.06-.94-2.06-.94-.94-2.06-.94 2.06-2.06.94z\"/><path d=\"M17.41 7.96l-1.37-1.37c-.4-.4-.92-.59-1.43-.59-.52 0-1.04.2-1.43.59L10.3 9.45l-7.72 7.72c-.78.78-.78 2.05 0 2.83L4 21.41c.39.39.9.59 1.41.59.51 0 1.02-.2 1.41-.59l7.78-7.78 2.81-2.81c.8-.78.8-2.07 0-2.86zM5.41 20L4 18.59l7.72-7.72 1.47 1.35L5.41 20z\"/>\n",
              "  </svg>\n",
              "      </button>\n",
              "      \n",
              "  <style>\n",
              "    .colab-df-container {\n",
              "      display:flex;\n",
              "      flex-wrap:wrap;\n",
              "      gap: 12px;\n",
              "    }\n",
              "\n",
              "    .colab-df-convert {\n",
              "      background-color: #E8F0FE;\n",
              "      border: none;\n",
              "      border-radius: 50%;\n",
              "      cursor: pointer;\n",
              "      display: none;\n",
              "      fill: #1967D2;\n",
              "      height: 32px;\n",
              "      padding: 0 0 0 0;\n",
              "      width: 32px;\n",
              "    }\n",
              "\n",
              "    .colab-df-convert:hover {\n",
              "      background-color: #E2EBFA;\n",
              "      box-shadow: 0px 1px 2px rgba(60, 64, 67, 0.3), 0px 1px 3px 1px rgba(60, 64, 67, 0.15);\n",
              "      fill: #174EA6;\n",
              "    }\n",
              "\n",
              "    [theme=dark] .colab-df-convert {\n",
              "      background-color: #3B4455;\n",
              "      fill: #D2E3FC;\n",
              "    }\n",
              "\n",
              "    [theme=dark] .colab-df-convert:hover {\n",
              "      background-color: #434B5C;\n",
              "      box-shadow: 0px 1px 3px 1px rgba(0, 0, 0, 0.15);\n",
              "      filter: drop-shadow(0px 1px 2px rgba(0, 0, 0, 0.3));\n",
              "      fill: #FFFFFF;\n",
              "    }\n",
              "  </style>\n",
              "\n",
              "      <script>\n",
              "        const buttonEl =\n",
              "          document.querySelector('#df-49534dc2-f332-4334-bc1f-a9d01ee0e07e button.colab-df-convert');\n",
              "        buttonEl.style.display =\n",
              "          google.colab.kernel.accessAllowed ? 'block' : 'none';\n",
              "\n",
              "        async function convertToInteractive(key) {\n",
              "          const element = document.querySelector('#df-49534dc2-f332-4334-bc1f-a9d01ee0e07e');\n",
              "          const dataTable =\n",
              "            await google.colab.kernel.invokeFunction('convertToInteractive',\n",
              "                                                     [key], {});\n",
              "          if (!dataTable) return;\n",
              "\n",
              "          const docLinkHtml = 'Like what you see? Visit the ' +\n",
              "            '<a target=\"_blank\" href=https://colab.research.google.com/notebooks/data_table.ipynb>data table notebook</a>'\n",
              "            + ' to learn more about interactive tables.';\n",
              "          element.innerHTML = '';\n",
              "          dataTable['output_type'] = 'display_data';\n",
              "          await google.colab.output.renderOutput(dataTable, element);\n",
              "          const docLink = document.createElement('div');\n",
              "          docLink.innerHTML = docLinkHtml;\n",
              "          element.appendChild(docLink);\n",
              "        }\n",
              "      </script>\n",
              "    </div>\n",
              "  </div>\n",
              "  "
            ],
            "text/plain": [
              "   age          workclass  fnlwgt  education-num       marital-status  \\\n",
              "0   39          State-gov   77516             13        Never-married   \n",
              "1   50   Self-emp-not-inc   83311             13   Married-civ-spouse   \n",
              "2   38            Private  215646              9             Divorced   \n",
              "3   53            Private  234721              7   Married-civ-spouse   \n",
              "4   28            Private  338409             13   Married-civ-spouse   \n",
              "\n",
              "           occupation    relationship    race      sex  capital-gain  \\\n",
              "0        Adm-clerical   Not-in-family   White     Male          2174   \n",
              "1     Exec-managerial         Husband   White     Male             0   \n",
              "2   Handlers-cleaners   Not-in-family   White     Male             0   \n",
              "3   Handlers-cleaners         Husband   Black     Male             0   \n",
              "4      Prof-specialty            Wife   Black   Female             0   \n",
              "\n",
              "   capital-loss  hours-per-week  native-country  income  \n",
              "0             0              40   United-States   <=50K  \n",
              "1             0              13   United-States   <=50K  \n",
              "2             0              40   United-States   <=50K  \n",
              "3             0              40   United-States   <=50K  \n",
              "4             0              40            Cuba   <=50K  "
            ]
          },
          "metadata": {},
          "execution_count": 36
        }
      ]
    },
    {
      "cell_type": "markdown",
      "source": [
        "# 2.) Plot data\n",
        "\n",
        "ทำการ Plot กราฟ เพื่อดูหน้าตาของข้อมูลที่่เป็น Numeric"
      ],
      "metadata": {
        "id": "6Yj1UAYzyZ2m"
      }
    },
    {
      "cell_type": "code",
      "source": [
        "df.columns"
      ],
      "metadata": {
        "colab": {
          "base_uri": "https://localhost:8080/"
        },
        "id": "o-y61mSLysdT",
        "outputId": "46831749-29d7-4b74-ef27-7650a1585c7c"
      },
      "execution_count": null,
      "outputs": [
        {
          "output_type": "execute_result",
          "data": {
            "text/plain": [
              "Index(['age', 'workclass', 'fnlwgt', 'education-num', 'marital-status',\n",
              "       'occupation', 'relationship', 'race', 'sex', 'capital-gain',\n",
              "       'capital-loss', 'hours-per-week', 'native-country', 'income'],\n",
              "      dtype='object')"
            ]
          },
          "metadata": {},
          "execution_count": 37
        }
      ]
    },
    {
      "cell_type": "code",
      "source": [
        "df.info()"
      ],
      "metadata": {
        "colab": {
          "base_uri": "https://localhost:8080/"
        },
        "id": "eLe_7RXD6qJJ",
        "outputId": "bdaf75a6-f16c-4538-e20b-adc63dcee804"
      },
      "execution_count": null,
      "outputs": [
        {
          "output_type": "stream",
          "name": "stdout",
          "text": [
            "<class 'pandas.core.frame.DataFrame'>\n",
            "Int64Index: 30162 entries, 0 to 32560\n",
            "Data columns (total 14 columns):\n",
            " #   Column          Non-Null Count  Dtype \n",
            "---  ------          --------------  ----- \n",
            " 0   age             30162 non-null  int64 \n",
            " 1   workclass       30162 non-null  object\n",
            " 2   fnlwgt          30162 non-null  int64 \n",
            " 3   education-num   30162 non-null  int64 \n",
            " 4   marital-status  30162 non-null  object\n",
            " 5   occupation      30162 non-null  object\n",
            " 6   relationship    30162 non-null  object\n",
            " 7   race            30162 non-null  object\n",
            " 8   sex             30162 non-null  object\n",
            " 9   capital-gain    30162 non-null  int64 \n",
            " 10  capital-loss    30162 non-null  int64 \n",
            " 11  hours-per-week  30162 non-null  int64 \n",
            " 12  native-country  30162 non-null  object\n",
            " 13  income          30162 non-null  object\n",
            "dtypes: int64(6), object(8)\n",
            "memory usage: 3.5+ MB\n"
          ]
        }
      ]
    },
    {
      "cell_type": "code",
      "source": [
        "df.hist(bins=100, figsize=(40,20))"
      ],
      "metadata": {
        "colab": {
          "base_uri": "https://localhost:8080/",
          "height": 790
        },
        "id": "NgHXmPaKyxFY",
        "outputId": "142988b7-dc6e-40fb-f3d8-8ba83c1f610d"
      },
      "execution_count": null,
      "outputs": [
        {
          "output_type": "execute_result",
          "data": {
            "text/plain": [
              "array([[<matplotlib.axes._subplots.AxesSubplot object at 0x7f0fef3b41d0>,\n",
              "        <matplotlib.axes._subplots.AxesSubplot object at 0x7f0fef37f590>],\n",
              "       [<matplotlib.axes._subplots.AxesSubplot object at 0x7f0fef336b90>,\n",
              "        <matplotlib.axes._subplots.AxesSubplot object at 0x7f0fef2f91d0>],\n",
              "       [<matplotlib.axes._subplots.AxesSubplot object at 0x7f0fef2ad7d0>,\n",
              "        <matplotlib.axes._subplots.AxesSubplot object at 0x7f0fef263dd0>]],\n",
              "      dtype=object)"
            ]
          },
          "metadata": {},
          "execution_count": 39
        },
        {
          "output_type": "display_data",
          "data": {
            "image/png": "[encoded data removed]",
            "text/plain": [
              "<Figure size 2880x1440 with 6 Axes>"
            ]
          },
          "metadata": {
            "needs_background": "light"
          }
        }
      ]
    },
    {
      "cell_type": "markdown",
      "source": [
        "จาก Info และ กราฟ เราพบว่ามี capital-gain ที่มีค่าอยู่ที่ 99999 ซึ่งเป็นตัวเลขที่แปลกและโดด เกินไป เราจึงมองว่าเป็น Outliner และทำการ drop row นั้นทิ้ง"
      ],
      "metadata": {
        "id": "19po9tNqzugp"
      }
    },
    {
      "cell_type": "code",
      "source": [
        "df = df[(df[\"capital-gain\"] != 99999)]"
      ],
      "metadata": {
        "id": "HOyKlsH-6QEu"
      },
      "execution_count": null,
      "outputs": []
    },
    {
      "cell_type": "code",
      "source": [
        "df.info()"
      ],
      "metadata": {
        "colab": {
          "base_uri": "https://localhost:8080/"
        },
        "id": "4mxsmKfc0hYO",
        "outputId": "2e7fa586-de4b-486d-d720-cb7ae6973489"
      },
      "execution_count": null,
      "outputs": [
        {
          "output_type": "stream",
          "name": "stdout",
          "text": [
            "<class 'pandas.core.frame.DataFrame'>\n",
            "Int64Index: 30014 entries, 0 to 32560\n",
            "Data columns (total 14 columns):\n",
            " #   Column          Non-Null Count  Dtype \n",
            "---  ------          --------------  ----- \n",
            " 0   age             30014 non-null  int64 \n",
            " 1   workclass       30014 non-null  object\n",
            " 2   fnlwgt          30014 non-null  int64 \n",
            " 3   education-num   30014 non-null  int64 \n",
            " 4   marital-status  30014 non-null  object\n",
            " 5   occupation      30014 non-null  object\n",
            " 6   relationship    30014 non-null  object\n",
            " 7   race            30014 non-null  object\n",
            " 8   sex             30014 non-null  object\n",
            " 9   capital-gain    30014 non-null  int64 \n",
            " 10  capital-loss    30014 non-null  int64 \n",
            " 11  hours-per-week  30014 non-null  int64 \n",
            " 12  native-country  30014 non-null  object\n",
            " 13  income          30014 non-null  object\n",
            "dtypes: int64(6), object(8)\n",
            "memory usage: 3.4+ MB\n"
          ]
        }
      ]
    },
    {
      "cell_type": "markdown",
      "source": [
        "ต่อมาเราได้ทำการสร้าง Dummy ขึ้นเพื่อแบ่ง Parameter ออกเป็นแต่ละ column และทำการ Normalize ข้อมูลที่อยู่ใน column นั้น"
      ],
      "metadata": {
        "id": "DRr662fOz-OT"
      }
    },
    {
      "cell_type": "code",
      "source": [
        "#Dummy function\n",
        "def make_dummy(df,features):\n",
        "    for feature in features:\n",
        "        dummies = pd.get_dummies(df[feature])\n",
        "        df = pd.concat([df, dummies], axis='columns')\n",
        "        df.drop([feature], axis='columns',inplace=True)\n",
        "    return df\n",
        "\n",
        "def normalization_feature(df,columns):\n",
        "    for column in columns:\n",
        "        df[column] = (df[column] - df[column].min()) / (df[column].max() - df[column].min())\n",
        "    return df"
      ],
      "metadata": {
        "id": "dsAcqzvCOrma"
      },
      "execution_count": null,
      "outputs": []
    },
    {
      "cell_type": "code",
      "source": [
        "#ถ้าใช้ตัวนี้ก็ไม่มีความจำเป็นต้องแปลง class ให้เป็นเลข เพราะเป็นเลขแล้วเวลา drop มันจะ drop เลขตัวเดียวกัน\n",
        "df = make_dummy(df,['workclass','marital-status','occupation','relationship','race','sex','native-country','income'])\n",
        "df = normalization_feature(df, list(df.columns))\n"
      ],
      "metadata": {
        "id": "6EWoqvpqO36H"
      },
      "execution_count": null,
      "outputs": []
    },
    {
      "cell_type": "code",
      "source": [
        "df.drop([' >50K'], axis='columns',inplace=True)\n",
        "\n",
        "df.head()"
      ],
      "metadata": {
        "colab": {
          "base_uri": "https://localhost:8080/",
          "height": 319
        },
        "id": "-Wh9gdTQQH39",
        "outputId": "6563d9bb-21c6-425e-aed7-2a1426c48523"
      },
      "execution_count": null,
      "outputs": [
        {
          "output_type": "execute_result",
          "data": {
            "text/html": [
              "\n",
              "  <div id=\"df-e1853d4e-e4ac-4d04-bc2f-1f57ac36e42c\">\n",
              "    <div class=\"colab-df-container\">\n",
              "      <div>\n",
              "<style scoped>\n",
              "    .dataframe tbody tr th:only-of-type {\n",
              "        vertical-align: middle;\n",
              "    }\n",
              "\n",
              "    .dataframe tbody tr th {\n",
              "        vertical-align: top;\n",
              "    }\n",
              "\n",
              "    .dataframe thead th {\n",
              "        text-align: right;\n",
              "    }\n",
              "</style>\n",
              "<table border=\"1\" class=\"dataframe\">\n",
              "  <thead>\n",
              "    <tr style=\"text-align: right;\">\n",
              "      <th></th>\n",
              "      <th>age</th>\n",
              "      <th>fnlwgt</th>\n",
              "      <th>education-num</th>\n",
              "      <th>capital-gain</th>\n",
              "      <th>capital-loss</th>\n",
              "      <th>hours-per-week</th>\n",
              "      <th>Federal-gov</th>\n",
              "      <th>Local-gov</th>\n",
              "      <th>Private</th>\n",
              "      <th>Self-emp-inc</th>\n",
              "      <th>Self-emp-not-inc</th>\n",
              "      <th>State-gov</th>\n",
              "      <th>Without-pay</th>\n",
              "      <th>Divorced</th>\n",
              "      <th>Married-AF-spouse</th>\n",
              "      <th>Married-civ-spouse</th>\n",
              "      <th>Married-spouse-absent</th>\n",
              "      <th>Never-married</th>\n",
              "      <th>Separated</th>\n",
              "      <th>Widowed</th>\n",
              "      <th>Adm-clerical</th>\n",
              "      <th>Armed-Forces</th>\n",
              "      <th>Craft-repair</th>\n",
              "      <th>Exec-managerial</th>\n",
              "      <th>Farming-fishing</th>\n",
              "      <th>Handlers-cleaners</th>\n",
              "      <th>Machine-op-inspct</th>\n",
              "      <th>Other-service</th>\n",
              "      <th>Priv-house-serv</th>\n",
              "      <th>Prof-specialty</th>\n",
              "      <th>Protective-serv</th>\n",
              "      <th>Sales</th>\n",
              "      <th>Tech-support</th>\n",
              "      <th>Transport-moving</th>\n",
              "      <th>Husband</th>\n",
              "      <th>Not-in-family</th>\n",
              "      <th>Other-relative</th>\n",
              "      <th>Own-child</th>\n",
              "      <th>Unmarried</th>\n",
              "      <th>Wife</th>\n",
              "      <th>Amer-Indian-Eskimo</th>\n",
              "      <th>Asian-Pac-Islander</th>\n",
              "      <th>Black</th>\n",
              "      <th>Other</th>\n",
              "      <th>White</th>\n",
              "      <th>Female</th>\n",
              "      <th>Male</th>\n",
              "      <th>Cambodia</th>\n",
              "      <th>Canada</th>\n",
              "      <th>China</th>\n",
              "      <th>Columbia</th>\n",
              "      <th>Cuba</th>\n",
              "      <th>Dominican-Republic</th>\n",
              "      <th>Ecuador</th>\n",
              "      <th>El-Salvador</th>\n",
              "      <th>England</th>\n",
              "      <th>France</th>\n",
              "      <th>Germany</th>\n",
              "      <th>Greece</th>\n",
              "      <th>Guatemala</th>\n",
              "      <th>Haiti</th>\n",
              "      <th>Holand-Netherlands</th>\n",
              "      <th>Honduras</th>\n",
              "      <th>Hong</th>\n",
              "      <th>Hungary</th>\n",
              "      <th>India</th>\n",
              "      <th>Iran</th>\n",
              "      <th>Ireland</th>\n",
              "      <th>Italy</th>\n",
              "      <th>Jamaica</th>\n",
              "      <th>Japan</th>\n",
              "      <th>Laos</th>\n",
              "      <th>Mexico</th>\n",
              "      <th>Nicaragua</th>\n",
              "      <th>Outlying-US(Guam-USVI-etc)</th>\n",
              "      <th>Peru</th>\n",
              "      <th>Philippines</th>\n",
              "      <th>Poland</th>\n",
              "      <th>Portugal</th>\n",
              "      <th>Puerto-Rico</th>\n",
              "      <th>Scotland</th>\n",
              "      <th>South</th>\n",
              "      <th>Taiwan</th>\n",
              "      <th>Thailand</th>\n",
              "      <th>Trinadad&amp;Tobago</th>\n",
              "      <th>United-States</th>\n",
              "      <th>Vietnam</th>\n",
              "      <th>Yugoslavia</th>\n",
              "      <th>&lt;=50K</th>\n",
              "    </tr>\n",
              "  </thead>\n",
              "  <tbody>\n",
              "    <tr>\n",
              "      <th>0</th>\n",
              "      <td>0.301370</td>\n",
              "      <td>0.043338</td>\n",
              "      <td>0.800000</td>\n",
              "      <td>0.052626</td>\n",
              "      <td>0.0</td>\n",
              "      <td>0.397959</td>\n",
              "      <td>0.0</td>\n",
              "      <td>0.0</td>\n",
              "      <td>0.0</td>\n",
              "      <td>0.0</td>\n",
              "      <td>0.0</td>\n",
              "      <td>1.0</td>\n",
              "      <td>0.0</td>\n",
              "      <td>0.0</td>\n",
              "      <td>0.0</td>\n",
              "      <td>0.0</td>\n",
              "      <td>0.0</td>\n",
              "      <td>1.0</td>\n",
              "      <td>0.0</td>\n",
              "      <td>0.0</td>\n",
              "      <td>1.0</td>\n",
              "      <td>0.0</td>\n",
              "      <td>0.0</td>\n",
              "      <td>0.0</td>\n",
              "      <td>0.0</td>\n",
              "      <td>0.0</td>\n",
              "      <td>0.0</td>\n",
              "      <td>0.0</td>\n",
              "      <td>0.0</td>\n",
              "      <td>0.0</td>\n",
              "      <td>0.0</td>\n",
              "      <td>0.0</td>\n",
              "      <td>0.0</td>\n",
              "      <td>0.0</td>\n",
              "      <td>0.0</td>\n",
              "      <td>1.0</td>\n",
              "      <td>0.0</td>\n",
              "      <td>0.0</td>\n",
              "      <td>0.0</td>\n",
              "      <td>0.0</td>\n",
              "      <td>0.0</td>\n",
              "      <td>0.0</td>\n",
              "      <td>0.0</td>\n",
              "      <td>0.0</td>\n",
              "      <td>1.0</td>\n",
              "      <td>0.0</td>\n",
              "      <td>1.0</td>\n",
              "      <td>0.0</td>\n",
              "      <td>0.0</td>\n",
              "      <td>0.0</td>\n",
              "      <td>0.0</td>\n",
              "      <td>0.0</td>\n",
              "      <td>0.0</td>\n",
              "      <td>0.0</td>\n",
              "      <td>0.0</td>\n",
              "      <td>0.0</td>\n",
              "      <td>0.0</td>\n",
              "      <td>0.0</td>\n",
              "      <td>0.0</td>\n",
              "      <td>0.0</td>\n",
              "      <td>0.0</td>\n",
              "      <td>0.0</td>\n",
              "      <td>0.0</td>\n",
              "      <td>0.0</td>\n",
              "      <td>0.0</td>\n",
              "      <td>0.0</td>\n",
              "      <td>0.0</td>\n",
              "      <td>0.0</td>\n",
              "      <td>0.0</td>\n",
              "      <td>0.0</td>\n",
              "      <td>0.0</td>\n",
              "      <td>0.0</td>\n",
              "      <td>0.0</td>\n",
              "      <td>0.0</td>\n",
              "      <td>0.0</td>\n",
              "      <td>0.0</td>\n",
              "      <td>0.0</td>\n",
              "      <td>0.0</td>\n",
              "      <td>0.0</td>\n",
              "      <td>0.0</td>\n",
              "      <td>0.0</td>\n",
              "      <td>0.0</td>\n",
              "      <td>0.0</td>\n",
              "      <td>0.0</td>\n",
              "      <td>0.0</td>\n",
              "      <td>1.0</td>\n",
              "      <td>0.0</td>\n",
              "      <td>0.0</td>\n",
              "      <td>1.0</td>\n",
              "    </tr>\n",
              "    <tr>\n",
              "      <th>1</th>\n",
              "      <td>0.452055</td>\n",
              "      <td>0.047277</td>\n",
              "      <td>0.800000</td>\n",
              "      <td>0.000000</td>\n",
              "      <td>0.0</td>\n",
              "      <td>0.122449</td>\n",
              "      <td>0.0</td>\n",
              "      <td>0.0</td>\n",
              "      <td>0.0</td>\n",
              "      <td>0.0</td>\n",
              "      <td>1.0</td>\n",
              "      <td>0.0</td>\n",
              "      <td>0.0</td>\n",
              "      <td>0.0</td>\n",
              "      <td>0.0</td>\n",
              "      <td>1.0</td>\n",
              "      <td>0.0</td>\n",
              "      <td>0.0</td>\n",
              "      <td>0.0</td>\n",
              "      <td>0.0</td>\n",
              "      <td>0.0</td>\n",
              "      <td>0.0</td>\n",
              "      <td>0.0</td>\n",
              "      <td>1.0</td>\n",
              "      <td>0.0</td>\n",
              "      <td>0.0</td>\n",
              "      <td>0.0</td>\n",
              "      <td>0.0</td>\n",
              "      <td>0.0</td>\n",
              "      <td>0.0</td>\n",
              "      <td>0.0</td>\n",
              "      <td>0.0</td>\n",
              "      <td>0.0</td>\n",
              "      <td>0.0</td>\n",
              "      <td>1.0</td>\n",
              "      <td>0.0</td>\n",
              "      <td>0.0</td>\n",
              "      <td>0.0</td>\n",
              "      <td>0.0</td>\n",
              "      <td>0.0</td>\n",
              "      <td>0.0</td>\n",
              "      <td>0.0</td>\n",
              "      <td>0.0</td>\n",
              "      <td>0.0</td>\n",
              "      <td>1.0</td>\n",
              "      <td>0.0</td>\n",
              "      <td>1.0</td>\n",
              "      <td>0.0</td>\n",
              "      <td>0.0</td>\n",
              "      <td>0.0</td>\n",
              "      <td>0.0</td>\n",
              "      <td>0.0</td>\n",
              "      <td>0.0</td>\n",
              "      <td>0.0</td>\n",
              "      <td>0.0</td>\n",
              "      <td>0.0</td>\n",
              "      <td>0.0</td>\n",
              "      <td>0.0</td>\n",
              "      <td>0.0</td>\n",
              "      <td>0.0</td>\n",
              "      <td>0.0</td>\n",
              "      <td>0.0</td>\n",
              "      <td>0.0</td>\n",
              "      <td>0.0</td>\n",
              "      <td>0.0</td>\n",
              "      <td>0.0</td>\n",
              "      <td>0.0</td>\n",
              "      <td>0.0</td>\n",
              "      <td>0.0</td>\n",
              "      <td>0.0</td>\n",
              "      <td>0.0</td>\n",
              "      <td>0.0</td>\n",
              "      <td>0.0</td>\n",
              "      <td>0.0</td>\n",
              "      <td>0.0</td>\n",
              "      <td>0.0</td>\n",
              "      <td>0.0</td>\n",
              "      <td>0.0</td>\n",
              "      <td>0.0</td>\n",
              "      <td>0.0</td>\n",
              "      <td>0.0</td>\n",
              "      <td>0.0</td>\n",
              "      <td>0.0</td>\n",
              "      <td>0.0</td>\n",
              "      <td>0.0</td>\n",
              "      <td>1.0</td>\n",
              "      <td>0.0</td>\n",
              "      <td>0.0</td>\n",
              "      <td>1.0</td>\n",
              "    </tr>\n",
              "    <tr>\n",
              "      <th>2</th>\n",
              "      <td>0.287671</td>\n",
              "      <td>0.137244</td>\n",
              "      <td>0.533333</td>\n",
              "      <td>0.000000</td>\n",
              "      <td>0.0</td>\n",
              "      <td>0.397959</td>\n",
              "      <td>0.0</td>\n",
              "      <td>0.0</td>\n",
              "      <td>1.0</td>\n",
              "      <td>0.0</td>\n",
              "      <td>0.0</td>\n",
              "      <td>0.0</td>\n",
              "      <td>0.0</td>\n",
              "      <td>1.0</td>\n",
              "      <td>0.0</td>\n",
              "      <td>0.0</td>\n",
              "      <td>0.0</td>\n",
              "      <td>0.0</td>\n",
              "      <td>0.0</td>\n",
              "      <td>0.0</td>\n",
              "      <td>0.0</td>\n",
              "      <td>0.0</td>\n",
              "      <td>0.0</td>\n",
              "      <td>0.0</td>\n",
              "      <td>0.0</td>\n",
              "      <td>1.0</td>\n",
              "      <td>0.0</td>\n",
              "      <td>0.0</td>\n",
              "      <td>0.0</td>\n",
              "      <td>0.0</td>\n",
              "      <td>0.0</td>\n",
              "      <td>0.0</td>\n",
              "      <td>0.0</td>\n",
              "      <td>0.0</td>\n",
              "      <td>0.0</td>\n",
              "      <td>1.0</td>\n",
              "      <td>0.0</td>\n",
              "      <td>0.0</td>\n",
              "      <td>0.0</td>\n",
              "      <td>0.0</td>\n",
              "      <td>0.0</td>\n",
              "      <td>0.0</td>\n",
              "      <td>0.0</td>\n",
              "      <td>0.0</td>\n",
              "      <td>1.0</td>\n",
              "      <td>0.0</td>\n",
              "      <td>1.0</td>\n",
              "      <td>0.0</td>\n",
              "      <td>0.0</td>\n",
              "      <td>0.0</td>\n",
              "      <td>0.0</td>\n",
              "      <td>0.0</td>\n",
              "      <td>0.0</td>\n",
              "      <td>0.0</td>\n",
              "      <td>0.0</td>\n",
              "      <td>0.0</td>\n",
              "      <td>0.0</td>\n",
              "      <td>0.0</td>\n",
              "      <td>0.0</td>\n",
              "      <td>0.0</td>\n",
              "      <td>0.0</td>\n",
              "      <td>0.0</td>\n",
              "      <td>0.0</td>\n",
              "      <td>0.0</td>\n",
              "      <td>0.0</td>\n",
              "      <td>0.0</td>\n",
              "      <td>0.0</td>\n",
              "      <td>0.0</td>\n",
              "      <td>0.0</td>\n",
              "      <td>0.0</td>\n",
              "      <td>0.0</td>\n",
              "      <td>0.0</td>\n",
              "      <td>0.0</td>\n",
              "      <td>0.0</td>\n",
              "      <td>0.0</td>\n",
              "      <td>0.0</td>\n",
              "      <td>0.0</td>\n",
              "      <td>0.0</td>\n",
              "      <td>0.0</td>\n",
              "      <td>0.0</td>\n",
              "      <td>0.0</td>\n",
              "      <td>0.0</td>\n",
              "      <td>0.0</td>\n",
              "      <td>0.0</td>\n",
              "      <td>0.0</td>\n",
              "      <td>1.0</td>\n",
              "      <td>0.0</td>\n",
              "      <td>0.0</td>\n",
              "      <td>1.0</td>\n",
              "    </tr>\n",
              "    <tr>\n",
              "      <th>3</th>\n",
              "      <td>0.493151</td>\n",
              "      <td>0.150212</td>\n",
              "      <td>0.400000</td>\n",
              "      <td>0.000000</td>\n",
              "      <td>0.0</td>\n",
              "      <td>0.397959</td>\n",
              "      <td>0.0</td>\n",
              "      <td>0.0</td>\n",
              "      <td>1.0</td>\n",
              "      <td>0.0</td>\n",
              "      <td>0.0</td>\n",
              "      <td>0.0</td>\n",
              "      <td>0.0</td>\n",
              "      <td>0.0</td>\n",
              "      <td>0.0</td>\n",
              "      <td>1.0</td>\n",
              "      <td>0.0</td>\n",
              "      <td>0.0</td>\n",
              "      <td>0.0</td>\n",
              "      <td>0.0</td>\n",
              "      <td>0.0</td>\n",
              "      <td>0.0</td>\n",
              "      <td>0.0</td>\n",
              "      <td>0.0</td>\n",
              "      <td>0.0</td>\n",
              "      <td>1.0</td>\n",
              "      <td>0.0</td>\n",
              "      <td>0.0</td>\n",
              "      <td>0.0</td>\n",
              "      <td>0.0</td>\n",
              "      <td>0.0</td>\n",
              "      <td>0.0</td>\n",
              "      <td>0.0</td>\n",
              "      <td>0.0</td>\n",
              "      <td>1.0</td>\n",
              "      <td>0.0</td>\n",
              "      <td>0.0</td>\n",
              "      <td>0.0</td>\n",
              "      <td>0.0</td>\n",
              "      <td>0.0</td>\n",
              "      <td>0.0</td>\n",
              "      <td>0.0</td>\n",
              "      <td>1.0</td>\n",
              "      <td>0.0</td>\n",
              "      <td>0.0</td>\n",
              "      <td>0.0</td>\n",
              "      <td>1.0</td>\n",
              "      <td>0.0</td>\n",
              "      <td>0.0</td>\n",
              "      <td>0.0</td>\n",
              "      <td>0.0</td>\n",
              "      <td>0.0</td>\n",
              "      <td>0.0</td>\n",
              "      <td>0.0</td>\n",
              "      <td>0.0</td>\n",
              "      <td>0.0</td>\n",
              "      <td>0.0</td>\n",
              "      <td>0.0</td>\n",
              "      <td>0.0</td>\n",
              "      <td>0.0</td>\n",
              "      <td>0.0</td>\n",
              "      <td>0.0</td>\n",
              "      <td>0.0</td>\n",
              "      <td>0.0</td>\n",
              "      <td>0.0</td>\n",
              "      <td>0.0</td>\n",
              "      <td>0.0</td>\n",
              "      <td>0.0</td>\n",
              "      <td>0.0</td>\n",
              "      <td>0.0</td>\n",
              "      <td>0.0</td>\n",
              "      <td>0.0</td>\n",
              "      <td>0.0</td>\n",
              "      <td>0.0</td>\n",
              "      <td>0.0</td>\n",
              "      <td>0.0</td>\n",
              "      <td>0.0</td>\n",
              "      <td>0.0</td>\n",
              "      <td>0.0</td>\n",
              "      <td>0.0</td>\n",
              "      <td>0.0</td>\n",
              "      <td>0.0</td>\n",
              "      <td>0.0</td>\n",
              "      <td>0.0</td>\n",
              "      <td>0.0</td>\n",
              "      <td>1.0</td>\n",
              "      <td>0.0</td>\n",
              "      <td>0.0</td>\n",
              "      <td>1.0</td>\n",
              "    </tr>\n",
              "    <tr>\n",
              "      <th>4</th>\n",
              "      <td>0.150685</td>\n",
              "      <td>0.220703</td>\n",
              "      <td>0.800000</td>\n",
              "      <td>0.000000</td>\n",
              "      <td>0.0</td>\n",
              "      <td>0.397959</td>\n",
              "      <td>0.0</td>\n",
              "      <td>0.0</td>\n",
              "      <td>1.0</td>\n",
              "      <td>0.0</td>\n",
              "      <td>0.0</td>\n",
              "      <td>0.0</td>\n",
              "      <td>0.0</td>\n",
              "      <td>0.0</td>\n",
              "      <td>0.0</td>\n",
              "      <td>1.0</td>\n",
              "      <td>0.0</td>\n",
              "      <td>0.0</td>\n",
              "      <td>0.0</td>\n",
              "      <td>0.0</td>\n",
              "      <td>0.0</td>\n",
              "      <td>0.0</td>\n",
              "      <td>0.0</td>\n",
              "      <td>0.0</td>\n",
              "      <td>0.0</td>\n",
              "      <td>0.0</td>\n",
              "      <td>0.0</td>\n",
              "      <td>0.0</td>\n",
              "      <td>0.0</td>\n",
              "      <td>1.0</td>\n",
              "      <td>0.0</td>\n",
              "      <td>0.0</td>\n",
              "      <td>0.0</td>\n",
              "      <td>0.0</td>\n",
              "      <td>0.0</td>\n",
              "      <td>0.0</td>\n",
              "      <td>0.0</td>\n",
              "      <td>0.0</td>\n",
              "      <td>0.0</td>\n",
              "      <td>1.0</td>\n",
              "      <td>0.0</td>\n",
              "      <td>0.0</td>\n",
              "      <td>1.0</td>\n",
              "      <td>0.0</td>\n",
              "      <td>0.0</td>\n",
              "      <td>1.0</td>\n",
              "      <td>0.0</td>\n",
              "      <td>0.0</td>\n",
              "      <td>0.0</td>\n",
              "      <td>0.0</td>\n",
              "      <td>0.0</td>\n",
              "      <td>1.0</td>\n",
              "      <td>0.0</td>\n",
              "      <td>0.0</td>\n",
              "      <td>0.0</td>\n",
              "      <td>0.0</td>\n",
              "      <td>0.0</td>\n",
              "      <td>0.0</td>\n",
              "      <td>0.0</td>\n",
              "      <td>0.0</td>\n",
              "      <td>0.0</td>\n",
              "      <td>0.0</td>\n",
              "      <td>0.0</td>\n",
              "      <td>0.0</td>\n",
              "      <td>0.0</td>\n",
              "      <td>0.0</td>\n",
              "      <td>0.0</td>\n",
              "      <td>0.0</td>\n",
              "      <td>0.0</td>\n",
              "      <td>0.0</td>\n",
              "      <td>0.0</td>\n",
              "      <td>0.0</td>\n",
              "      <td>0.0</td>\n",
              "      <td>0.0</td>\n",
              "      <td>0.0</td>\n",
              "      <td>0.0</td>\n",
              "      <td>0.0</td>\n",
              "      <td>0.0</td>\n",
              "      <td>0.0</td>\n",
              "      <td>0.0</td>\n",
              "      <td>0.0</td>\n",
              "      <td>0.0</td>\n",
              "      <td>0.0</td>\n",
              "      <td>0.0</td>\n",
              "      <td>0.0</td>\n",
              "      <td>0.0</td>\n",
              "      <td>0.0</td>\n",
              "      <td>0.0</td>\n",
              "      <td>1.0</td>\n",
              "    </tr>\n",
              "  </tbody>\n",
              "</table>\n",
              "</div>\n",
              "      <button class=\"colab-df-convert\" onclick=\"convertToInteractive('df-e1853d4e-e4ac-4d04-bc2f-1f57ac36e42c')\"\n",
              "              title=\"Convert this dataframe to an interactive table.\"\n",
              "              style=\"display:none;\">\n",
              "        \n",
              "  <svg xmlns=\"http://www.w3.org/2000/svg\" height=\"24px\"viewBox=\"0 0 24 24\"\n",
              "       width=\"24px\">\n",
              "    <path d=\"M0 0h24v24H0V0z\" fill=\"none\"/>\n",
              "    <path d=\"M18.56 5.44l.94 2.06.94-2.06 2.06-.94-2.06-.94-.94-2.06-.94 2.06-2.06.94zm-11 1L8.5 8.5l.94-2.06 2.06-.94-2.06-.94L8.5 2.5l-.94 2.06-2.06.94zm10 10l.94 2.06.94-2.06 2.06-.94-2.06-.94-.94-2.06-.94 2.06-2.06.94z\"/><path d=\"M17.41 7.96l-1.37-1.37c-.4-.4-.92-.59-1.43-.59-.52 0-1.04.2-1.43.59L10.3 9.45l-7.72 7.72c-.78.78-.78 2.05 0 2.83L4 21.41c.39.39.9.59 1.41.59.51 0 1.02-.2 1.41-.59l7.78-7.78 2.81-2.81c.8-.78.8-2.07 0-2.86zM5.41 20L4 18.59l7.72-7.72 1.47 1.35L5.41 20z\"/>\n",
              "  </svg>\n",
              "      </button>\n",
              "      \n",
              "  <style>\n",
              "    .colab-df-container {\n",
              "      display:flex;\n",
              "      flex-wrap:wrap;\n",
              "      gap: 12px;\n",
              "    }\n",
              "\n",
              "    .colab-df-convert {\n",
              "      background-color: #E8F0FE;\n",
              "      border: none;\n",
              "      border-radius: 50%;\n",
              "      cursor: pointer;\n",
              "      display: none;\n",
              "      fill: #1967D2;\n",
              "      height: 32px;\n",
              "      padding: 0 0 0 0;\n",
              "      width: 32px;\n",
              "    }\n",
              "\n",
              "    .colab-df-convert:hover {\n",
              "      background-color: #E2EBFA;\n",
              "      box-shadow: 0px 1px 2px rgba(60, 64, 67, 0.3), 0px 1px 3px 1px rgba(60, 64, 67, 0.15);\n",
              "      fill: #174EA6;\n",
              "    }\n",
              "\n",
              "    [theme=dark] .colab-df-convert {\n",
              "      background-color: #3B4455;\n",
              "      fill: #D2E3FC;\n",
              "    }\n",
              "\n",
              "    [theme=dark] .colab-df-convert:hover {\n",
              "      background-color: #434B5C;\n",
              "      box-shadow: 0px 1px 3px 1px rgba(0, 0, 0, 0.15);\n",
              "      filter: drop-shadow(0px 1px 2px rgba(0, 0, 0, 0.3));\n",
              "      fill: #FFFFFF;\n",
              "    }\n",
              "  </style>\n",
              "\n",
              "      <script>\n",
              "        const buttonEl =\n",
              "          document.querySelector('#df-e1853d4e-e4ac-4d04-bc2f-1f57ac36e42c button.colab-df-convert');\n",
              "        buttonEl.style.display =\n",
              "          google.colab.kernel.accessAllowed ? 'block' : 'none';\n",
              "\n",
              "        async function convertToInteractive(key) {\n",
              "          const element = document.querySelector('#df-e1853d4e-e4ac-4d04-bc2f-1f57ac36e42c');\n",
              "          const dataTable =\n",
              "            await google.colab.kernel.invokeFunction('convertToInteractive',\n",
              "                                                     [key], {});\n",
              "          if (!dataTable) return;\n",
              "\n",
              "          const docLinkHtml = 'Like what you see? Visit the ' +\n",
              "            '<a target=\"_blank\" href=https://colab.research.google.com/notebooks/data_table.ipynb>data table notebook</a>'\n",
              "            + ' to learn more about interactive tables.';\n",
              "          element.innerHTML = '';\n",
              "          dataTable['output_type'] = 'display_data';\n",
              "          await google.colab.output.renderOutput(dataTable, element);\n",
              "          const docLink = document.createElement('div');\n",
              "          docLink.innerHTML = docLinkHtml;\n",
              "          element.appendChild(docLink);\n",
              "        }\n",
              "      </script>\n",
              "    </div>\n",
              "  </div>\n",
              "  "
            ],
            "text/plain": [
              "        age    fnlwgt  education-num  capital-gain  capital-loss  \\\n",
              "0  0.301370  0.043338       0.800000      0.052626           0.0   \n",
              "1  0.452055  0.047277       0.800000      0.000000           0.0   \n",
              "2  0.287671  0.137244       0.533333      0.000000           0.0   \n",
              "3  0.493151  0.150212       0.400000      0.000000           0.0   \n",
              "4  0.150685  0.220703       0.800000      0.000000           0.0   \n",
              "\n",
              "   hours-per-week   Federal-gov   Local-gov   Private   Self-emp-inc  \\\n",
              "0        0.397959           0.0         0.0       0.0            0.0   \n",
              "1        0.122449           0.0         0.0       0.0            0.0   \n",
              "2        0.397959           0.0         0.0       1.0            0.0   \n",
              "3        0.397959           0.0         0.0       1.0            0.0   \n",
              "4        0.397959           0.0         0.0       1.0            0.0   \n",
              "\n",
              "    Self-emp-not-inc   State-gov   Without-pay   Divorced   Married-AF-spouse  \\\n",
              "0                0.0         1.0           0.0        0.0                 0.0   \n",
              "1                1.0         0.0           0.0        0.0                 0.0   \n",
              "2                0.0         0.0           0.0        1.0                 0.0   \n",
              "3                0.0         0.0           0.0        0.0                 0.0   \n",
              "4                0.0         0.0           0.0        0.0                 0.0   \n",
              "\n",
              "    Married-civ-spouse   Married-spouse-absent   Never-married   Separated  \\\n",
              "0                  0.0                     0.0             1.0         0.0   \n",
              "1                  1.0                     0.0             0.0         0.0   \n",
              "2                  0.0                     0.0             0.0         0.0   \n",
              "3                  1.0                     0.0             0.0         0.0   \n",
              "4                  1.0                     0.0             0.0         0.0   \n",
              "\n",
              "    Widowed   Adm-clerical   Armed-Forces   Craft-repair   Exec-managerial  \\\n",
              "0       0.0            1.0            0.0            0.0               0.0   \n",
              "1       0.0            0.0            0.0            0.0               1.0   \n",
              "2       0.0            0.0            0.0            0.0               0.0   \n",
              "3       0.0            0.0            0.0            0.0               0.0   \n",
              "4       0.0            0.0            0.0            0.0               0.0   \n",
              "\n",
              "    Farming-fishing   Handlers-cleaners   Machine-op-inspct   Other-service  \\\n",
              "0               0.0                 0.0                 0.0             0.0   \n",
              "1               0.0                 0.0                 0.0             0.0   \n",
              "2               0.0                 1.0                 0.0             0.0   \n",
              "3               0.0                 1.0                 0.0             0.0   \n",
              "4               0.0                 0.0                 0.0             0.0   \n",
              "\n",
              "    Priv-house-serv   Prof-specialty   Protective-serv   Sales   Tech-support  \\\n",
              "0               0.0              0.0               0.0     0.0            0.0   \n",
              "1               0.0              0.0               0.0     0.0            0.0   \n",
              "2               0.0              0.0               0.0     0.0            0.0   \n",
              "3               0.0              0.0               0.0     0.0            0.0   \n",
              "4               0.0              1.0               0.0     0.0            0.0   \n",
              "\n",
              "    Transport-moving   Husband   Not-in-family   Other-relative   Own-child  \\\n",
              "0                0.0       0.0             1.0              0.0         0.0   \n",
              "1                0.0       1.0             0.0              0.0         0.0   \n",
              "2                0.0       0.0             1.0              0.0         0.0   \n",
              "3                0.0       1.0             0.0              0.0         0.0   \n",
              "4                0.0       0.0             0.0              0.0         0.0   \n",
              "\n",
              "    Unmarried   Wife   Amer-Indian-Eskimo   Asian-Pac-Islander   Black  \\\n",
              "0         0.0    0.0                  0.0                  0.0     0.0   \n",
              "1         0.0    0.0                  0.0                  0.0     0.0   \n",
              "2         0.0    0.0                  0.0                  0.0     0.0   \n",
              "3         0.0    0.0                  0.0                  0.0     1.0   \n",
              "4         0.0    1.0                  0.0                  0.0     1.0   \n",
              "\n",
              "    Other   White   Female   Male   Cambodia   Canada   China   Columbia  \\\n",
              "0     0.0     1.0      0.0    1.0        0.0      0.0     0.0        0.0   \n",
              "1     0.0     1.0      0.0    1.0        0.0      0.0     0.0        0.0   \n",
              "2     0.0     1.0      0.0    1.0        0.0      0.0     0.0        0.0   \n",
              "3     0.0     0.0      0.0    1.0        0.0      0.0     0.0        0.0   \n",
              "4     0.0     0.0      1.0    0.0        0.0      0.0     0.0        0.0   \n",
              "\n",
              "    Cuba   Dominican-Republic   Ecuador   El-Salvador   England   France  \\\n",
              "0    0.0                  0.0       0.0           0.0       0.0      0.0   \n",
              "1    0.0                  0.0       0.0           0.0       0.0      0.0   \n",
              "2    0.0                  0.0       0.0           0.0       0.0      0.0   \n",
              "3    0.0                  0.0       0.0           0.0       0.0      0.0   \n",
              "4    1.0                  0.0       0.0           0.0       0.0      0.0   \n",
              "\n",
              "    Germany   Greece   Guatemala   Haiti   Holand-Netherlands   Honduras  \\\n",
              "0       0.0      0.0         0.0     0.0                  0.0        0.0   \n",
              "1       0.0      0.0         0.0     0.0                  0.0        0.0   \n",
              "2       0.0      0.0         0.0     0.0                  0.0        0.0   \n",
              "3       0.0      0.0         0.0     0.0                  0.0        0.0   \n",
              "4       0.0      0.0         0.0     0.0                  0.0        0.0   \n",
              "\n",
              "    Hong   Hungary   India   Iran   Ireland   Italy   Jamaica   Japan   Laos  \\\n",
              "0    0.0       0.0     0.0    0.0       0.0     0.0       0.0     0.0    0.0   \n",
              "1    0.0       0.0     0.0    0.0       0.0     0.0       0.0     0.0    0.0   \n",
              "2    0.0       0.0     0.0    0.0       0.0     0.0       0.0     0.0    0.0   \n",
              "3    0.0       0.0     0.0    0.0       0.0     0.0       0.0     0.0    0.0   \n",
              "4    0.0       0.0     0.0    0.0       0.0     0.0       0.0     0.0    0.0   \n",
              "\n",
              "    Mexico   Nicaragua   Outlying-US(Guam-USVI-etc)   Peru   Philippines  \\\n",
              "0      0.0         0.0                          0.0    0.0           0.0   \n",
              "1      0.0         0.0                          0.0    0.0           0.0   \n",
              "2      0.0         0.0                          0.0    0.0           0.0   \n",
              "3      0.0         0.0                          0.0    0.0           0.0   \n",
              "4      0.0         0.0                          0.0    0.0           0.0   \n",
              "\n",
              "    Poland   Portugal   Puerto-Rico   Scotland   South   Taiwan   Thailand  \\\n",
              "0      0.0        0.0           0.0        0.0     0.0      0.0        0.0   \n",
              "1      0.0        0.0           0.0        0.0     0.0      0.0        0.0   \n",
              "2      0.0        0.0           0.0        0.0     0.0      0.0        0.0   \n",
              "3      0.0        0.0           0.0        0.0     0.0      0.0        0.0   \n",
              "4      0.0        0.0           0.0        0.0     0.0      0.0        0.0   \n",
              "\n",
              "    Trinadad&Tobago   United-States   Vietnam   Yugoslavia   <=50K  \n",
              "0               0.0             1.0       0.0          0.0     1.0  \n",
              "1               0.0             1.0       0.0          0.0     1.0  \n",
              "2               0.0             1.0       0.0          0.0     1.0  \n",
              "3               0.0             1.0       0.0          0.0     1.0  \n",
              "4               0.0             0.0       0.0          0.0     1.0  "
            ]
          },
          "metadata": {},
          "execution_count": 44
        }
      ]
    },
    {
      "cell_type": "code",
      "source": [
        "#Ram ไม่พอ\n",
        "#details = ['age', 'workclass', 'fnlwgt','marital-status', 'occupation', 'relationship', 'race', 'sex','capital-gain', 'capital-loss', 'hours-per-week', 'native-country', 'income']\n",
        "#cov_df = df[details]\n",
        "#covMatrix = np.cov(cov_df,bias=True)\n",
        "#sn.heatmap(covMatrix, annot=True, fmt='g')\n",
        "#plt.show()\n"
      ],
      "metadata": {
        "id": "Tq5b_-Wv4ar_"
      },
      "execution_count": null,
      "outputs": []
    },
    {
      "cell_type": "markdown",
      "source": [
        "# 3) Model Evaluation"
      ],
      "metadata": {
        "id": "JLmVWB-czLpL"
      }
    },
    {
      "cell_type": "markdown",
      "source": [
        "เตรียม Dataset x และ y"
      ],
      "metadata": {
        "id": "4AKXRaf10OQ7"
      }
    },
    {
      "cell_type": "code",
      "source": [
        "df_x = df\n",
        "df_y = df[' <=50K']\n",
        "\n",
        "y = df_y.to_numpy()\n",
        "print(df_x.count())\n",
        "print(df_y.count())\n",
        "print(df_x.describe())"
      ],
      "metadata": {
        "id": "T0pvkcNJ7CZu",
        "colab": {
          "base_uri": "https://localhost:8080/"
        },
        "outputId": "85fac10d-422b-44d4-f1d3-39060948e5bb"
      },
      "execution_count": null,
      "outputs": [
        {
          "output_type": "stream",
          "name": "stdout",
          "text": [
            "age                 30014\n",
            "fnlwgt              30014\n",
            "education-num       30014\n",
            "capital-gain        30014\n",
            "capital-loss        30014\n",
            "                    ...  \n",
            " Trinadad&Tobago    30014\n",
            " United-States      30014\n",
            " Vietnam            30014\n",
            " Yugoslavia         30014\n",
            " <=50K              30014\n",
            "Length: 89, dtype: int64\n",
            "30014\n",
            "                age        fnlwgt  education-num  capital-gain  capital-loss  \\\n",
            "count  30014.000000  30014.000000   30014.000000  30014.000000  30014.000000   \n",
            "mean       0.293147      0.119657       0.607146      0.014628      0.020388   \n",
            "std        0.179925      0.071836       0.169485      0.062409      0.093032   \n",
            "min        0.000000      0.000000       0.000000      0.000000      0.000000   \n",
            "25%        0.150685      0.070592       0.533333      0.000000      0.000000   \n",
            "50%        0.273973      0.111950       0.600000      0.000000      0.000000   \n",
            "75%        0.410959      0.152198       0.733333      0.000000      0.000000   \n",
            "max        1.000000      1.000000       1.000000      1.000000      1.000000   \n",
            "\n",
            "       hours-per-week   Federal-gov     Local-gov       Private  \\\n",
            "count    30014.000000  30014.000000  30014.000000  30014.000000   \n",
            "mean         0.406992      0.031385      0.068701      0.739921   \n",
            "std          0.122037      0.174360      0.252950      0.438685   \n",
            "min          0.000000      0.000000      0.000000      0.000000   \n",
            "25%          0.397959      0.000000      0.000000      0.000000   \n",
            "50%          0.397959      0.000000      0.000000      1.000000   \n",
            "75%          0.448980      0.000000      0.000000      1.000000   \n",
            "max          1.000000      1.000000      1.000000      1.000000   \n",
            "\n",
            "        Self-emp-inc   Self-emp-not-inc     State-gov   Without-pay  \\\n",
            "count   30014.000000       30014.000000  30014.000000  30014.000000   \n",
            "mean        0.034650           0.082295      0.042580      0.000466   \n",
            "std         0.182896           0.274818      0.201912      0.021593   \n",
            "min         0.000000           0.000000      0.000000      0.000000   \n",
            "25%         0.000000           0.000000      0.000000      0.000000   \n",
            "50%         0.000000           0.000000      0.000000      0.000000   \n",
            "75%         0.000000           0.000000      0.000000      0.000000   \n",
            "max         1.000000           1.000000      1.000000      1.000000   \n",
            "\n",
            "           Divorced   Married-AF-spouse   Married-civ-spouse  \\\n",
            "count  30014.000000        30014.000000          30014.00000   \n",
            "mean       0.140035            0.000700              0.46455   \n",
            "std        0.347029            0.026443              0.49875   \n",
            "min        0.000000            0.000000              0.00000   \n",
            "25%        0.000000            0.000000              0.00000   \n",
            "50%        0.000000            0.000000              0.00000   \n",
            "75%        0.000000            0.000000              1.00000   \n",
            "max        1.000000            1.000000              1.00000   \n",
            "\n",
            "        Married-spouse-absent   Never-married     Separated       Widowed  \\\n",
            "count            30014.000000    30014.000000  30014.000000  30014.000000   \n",
            "mean                 0.012294        0.323682      0.031219      0.027520   \n",
            "std                  0.110198        0.467888      0.173911      0.163597   \n",
            "min                  0.000000        0.000000      0.000000      0.000000   \n",
            "25%                  0.000000        0.000000      0.000000      0.000000   \n",
            "50%                  0.000000        0.000000      0.000000      0.000000   \n",
            "75%                  0.000000        1.000000      0.000000      0.000000   \n",
            "max                  1.000000        1.000000      1.000000      1.000000   \n",
            "\n",
            "        Adm-clerical   Armed-Forces   Craft-repair   Exec-managerial  \\\n",
            "count   30014.000000   30014.000000   30014.000000      30014.000000   \n",
            "mean        0.123776       0.000300       0.134004          0.131739   \n",
            "std         0.329331       0.017314       0.340662          0.338212   \n",
            "min         0.000000       0.000000       0.000000          0.000000   \n",
            "25%         0.000000       0.000000       0.000000          0.000000   \n",
            "50%         0.000000       0.000000       0.000000          0.000000   \n",
            "75%         0.000000       0.000000       0.000000          0.000000   \n",
            "max         1.000000       1.000000       1.000000          1.000000   \n",
            "\n",
            "        Farming-fishing   Handlers-cleaners   Machine-op-inspct  \\\n",
            "count      30014.000000        30014.000000        30014.000000   \n",
            "mean           0.032951            0.044946            0.065469   \n",
            "std            0.178512            0.207188            0.247356   \n",
            "min            0.000000            0.000000            0.000000   \n",
            "25%            0.000000            0.000000            0.000000   \n",
            "50%            0.000000            0.000000            0.000000   \n",
            "75%            0.000000            0.000000            0.000000   \n",
            "max            1.000000            1.000000            1.000000   \n",
            "\n",
            "        Other-service   Priv-house-serv   Prof-specialty   Protective-serv  \\\n",
            "count    30014.000000      30014.000000     30014.000000      30014.000000   \n",
            "mean         0.106950          0.004764         0.132372          0.021423   \n",
            "std          0.309055          0.068861         0.338900          0.144793   \n",
            "min          0.000000          0.000000         0.000000          0.000000   \n",
            "25%          0.000000          0.000000         0.000000          0.000000   \n",
            "50%          0.000000          0.000000         0.000000          0.000000   \n",
            "75%          0.000000          0.000000         0.000000          0.000000   \n",
            "max          1.000000          1.000000         1.000000          1.000000   \n",
            "\n",
            "              Sales   Tech-support   Transport-moving       Husband  \\\n",
            "count  30014.000000   30014.000000       30014.000000  30014.000000   \n",
            "mean       0.118611       0.030353           0.052342      0.411475   \n",
            "std        0.323336       0.171558           0.222720      0.492109   \n",
            "min        0.000000       0.000000           0.000000      0.000000   \n",
            "25%        0.000000       0.000000           0.000000      0.000000   \n",
            "50%        0.000000       0.000000           0.000000      0.000000   \n",
            "75%        0.000000       0.000000           0.000000      1.000000   \n",
            "max        1.000000       1.000000           1.000000      1.000000   \n",
            "\n",
            "        Not-in-family   Other-relative     Own-child     Unmarried  \\\n",
            "count    30014.000000     30014.000000  30014.000000  30014.000000   \n",
            "mean         0.256747         0.029620      0.148731      0.106883   \n",
            "std          0.436846         0.169538      0.355829      0.308970   \n",
            "min          0.000000         0.000000      0.000000      0.000000   \n",
            "25%          0.000000         0.000000      0.000000      0.000000   \n",
            "50%          0.000000         0.000000      0.000000      0.000000   \n",
            "75%          1.000000         0.000000      0.000000      0.000000   \n",
            "max          1.000000         1.000000      1.000000      1.000000   \n",
            "\n",
            "               Wife   Amer-Indian-Eskimo   Asian-Pac-Islander         Black  \\\n",
            "count  30014.000000         30014.000000         30014.000000  30014.000000   \n",
            "mean       0.046545             0.009529             0.029586      0.093656   \n",
            "std        0.210666             0.097151             0.169446      0.291355   \n",
            "min        0.000000             0.000000             0.000000      0.000000   \n",
            "25%        0.000000             0.000000             0.000000      0.000000   \n",
            "50%        0.000000             0.000000             0.000000      0.000000   \n",
            "75%        0.000000             0.000000             0.000000      0.000000   \n",
            "max        1.000000             1.000000             1.000000      1.000000   \n",
            "\n",
            "              Other         White        Female          Male      Cambodia  \\\n",
            "count  30014.000000  30014.000000  30014.000000  30014.000000  30014.000000   \n",
            "mean       0.007630      0.859599      0.325248      0.674752      0.000600   \n",
            "std        0.087016      0.347409      0.468475      0.468475      0.024482   \n",
            "min        0.000000      0.000000      0.000000      0.000000      0.000000   \n",
            "25%        0.000000      1.000000      0.000000      0.000000      0.000000   \n",
            "50%        0.000000      1.000000      0.000000      1.000000      0.000000   \n",
            "75%        0.000000      1.000000      1.000000      1.000000      0.000000   \n",
            "max        1.000000      1.000000      1.000000      1.000000      1.000000   \n",
            "\n",
            "             Canada         China      Columbia          Cuba  \\\n",
            "count  30014.000000  30014.000000  30014.000000  30014.000000   \n",
            "mean       0.003532      0.002266      0.001866      0.003065   \n",
            "std        0.059324      0.047545      0.043155      0.055281   \n",
            "min        0.000000      0.000000      0.000000      0.000000   \n",
            "25%        0.000000      0.000000      0.000000      0.000000   \n",
            "50%        0.000000      0.000000      0.000000      0.000000   \n",
            "75%        0.000000      0.000000      0.000000      0.000000   \n",
            "max        1.000000      1.000000      1.000000      1.000000   \n",
            "\n",
            "        Dominican-Republic      Ecuador   El-Salvador       England  \\\n",
            "count         30014.000000  30014.00000  30014.000000  30014.000000   \n",
            "mean              0.002199      0.00090      0.003332      0.002865   \n",
            "std               0.046842      0.02998      0.057626      0.053453   \n",
            "min               0.000000      0.00000      0.000000      0.000000   \n",
            "25%               0.000000      0.00000      0.000000      0.000000   \n",
            "50%               0.000000      0.00000      0.000000      0.000000   \n",
            "75%               0.000000      0.00000      0.000000      0.000000   \n",
            "max               1.000000      1.00000      1.000000      1.000000   \n",
            "\n",
            "            France       Germany        Greece     Guatemala         Haiti  \\\n",
            "count  30014.00000  30014.000000  30014.000000  30014.000000  30014.000000   \n",
            "mean       0.00090      0.004265      0.000966      0.002099      0.001399   \n",
            "std        0.02998      0.065166      0.031070      0.045768      0.037382   \n",
            "min        0.00000      0.000000      0.000000      0.000000      0.000000   \n",
            "25%        0.00000      0.000000      0.000000      0.000000      0.000000   \n",
            "50%        0.00000      0.000000      0.000000      0.000000      0.000000   \n",
            "75%        0.00000      0.000000      0.000000      0.000000      0.000000   \n",
            "max        1.00000      1.000000      1.000000      1.000000      1.000000   \n",
            "\n",
            "        Holand-Netherlands      Honduras          Hong       Hungary  \\\n",
            "count         30014.000000  30014.000000  30014.000000  30014.000000   \n",
            "mean              0.000033      0.000400      0.000633      0.000433   \n",
            "std               0.005772      0.019992      0.025153      0.020808   \n",
            "min               0.000000      0.000000      0.000000      0.000000   \n",
            "25%               0.000000      0.000000      0.000000      0.000000   \n",
            "50%               0.000000      0.000000      0.000000      0.000000   \n",
            "75%               0.000000      0.000000      0.000000      0.000000   \n",
            "max               1.000000      1.000000      1.000000      1.000000   \n",
            "\n",
            "              India          Iran       Ireland         Italy       Jamaica  \\\n",
            "count  30014.000000  30014.000000  30014.000000  30014.000000  30014.000000   \n",
            "mean       0.003232      0.001399      0.000800      0.002266      0.002665   \n",
            "std        0.056758      0.037382      0.028267      0.047545      0.051560   \n",
            "min        0.000000      0.000000      0.000000      0.000000      0.000000   \n",
            "25%        0.000000      0.000000      0.000000      0.000000      0.000000   \n",
            "50%        0.000000      0.000000      0.000000      0.000000      0.000000   \n",
            "75%        0.000000      0.000000      0.000000      0.000000      0.000000   \n",
            "max        1.000000      1.000000      1.000000      1.000000      1.000000   \n",
            "\n",
            "              Japan          Laos        Mexico     Nicaragua  \\\n",
            "count  30014.000000  30014.000000  30014.000000  30014.000000   \n",
            "mean       0.001932      0.000566      0.020291      0.001099   \n",
            "std        0.043918      0.023793      0.140995      0.033141   \n",
            "min        0.000000      0.000000      0.000000      0.000000   \n",
            "25%        0.000000      0.000000      0.000000      0.000000   \n",
            "50%        0.000000      0.000000      0.000000      0.000000   \n",
            "75%        0.000000      0.000000      0.000000      0.000000   \n",
            "max        1.000000      1.000000      1.000000      1.000000   \n",
            "\n",
            "        Outlying-US(Guam-USVI-etc)        Peru   Philippines        Poland  \\\n",
            "count                 30014.000000  30014.0000  30014.000000  30014.000000   \n",
            "mean                      0.000466      0.0010      0.006230      0.001866   \n",
            "std                       0.021593      0.0316      0.078688      0.043155   \n",
            "min                       0.000000      0.0000      0.000000      0.000000   \n",
            "25%                       0.000000      0.0000      0.000000      0.000000   \n",
            "50%                       0.000000      0.0000      0.000000      0.000000   \n",
            "75%                       0.000000      0.0000      0.000000      0.000000   \n",
            "max                       1.000000      1.0000      1.000000      1.000000   \n",
            "\n",
            "           Portugal   Puerto-Rico      Scotland         South        Taiwan  \\\n",
            "count  30014.000000  30014.000000  30014.000000  30014.000000  30014.000000   \n",
            "mean       0.001133      0.003632      0.000366      0.002366      0.001366   \n",
            "std        0.033639      0.060155      0.019141      0.048580      0.036935   \n",
            "min        0.000000      0.000000      0.000000      0.000000      0.000000   \n",
            "25%        0.000000      0.000000      0.000000      0.000000      0.000000   \n",
            "50%        0.000000      0.000000      0.000000      0.000000      0.000000   \n",
            "75%        0.000000      0.000000      0.000000      0.000000      0.000000   \n",
            "max        1.000000      1.000000      1.000000      1.000000      1.000000   \n",
            "\n",
            "           Thailand   Trinadad&Tobago   United-States       Vietnam  \\\n",
            "count  30014.000000      30014.000000    30014.000000  30014.000000   \n",
            "mean       0.000566          0.000600        0.911741      0.002132   \n",
            "std        0.023793          0.024482        0.283676      0.046129   \n",
            "min        0.000000          0.000000        0.000000      0.000000   \n",
            "25%        0.000000          0.000000        1.000000      0.000000   \n",
            "50%        0.000000          0.000000        1.000000      0.000000   \n",
            "75%        0.000000          0.000000        1.000000      0.000000   \n",
            "max        1.000000          1.000000        1.000000      1.000000   \n",
            "\n",
            "         Yugoslavia         <=50K  \n",
            "count  30014.000000  30014.000000  \n",
            "mean       0.000533      0.754781  \n",
            "std        0.023083      0.430224  \n",
            "min        0.000000      0.000000  \n",
            "25%        0.000000      1.000000  \n",
            "50%        0.000000      1.000000  \n",
            "75%        0.000000      1.000000  \n",
            "max        1.000000      1.000000  \n"
          ]
        }
      ]
    },
    {
      "cell_type": "markdown",
      "source": [
        "ก่อนหน้านี้เราเห็นว่า Income ซึ่งเป็นตัวที่จะทำนายมีปัญหาเรื่อง Imbalance Data\n",
        "\n",
        "เราจึงทำการ ใช้เทคนิค SMOTE เพื่อแก้ปัญหา Imbalance Data"
      ],
      "metadata": {
        "id": "zVyWqKAp0gLb"
      }
    },
    {
      "cell_type": "code",
      "source": [
        "oversample = SMOTE()\n",
        "x, y = oversample.fit_resample(df_x,df_y)\n",
        "print(x.count())\n",
        "print(y.count())\n",
        "print(df_x.describe())"
      ],
      "metadata": {
        "colab": {
          "base_uri": "https://localhost:8080/"
        },
        "id": "g9Sd_ur-M54u",
        "outputId": "63466ad7-f6e2-45f1-c58a-a08df34e866a"
      },
      "execution_count": null,
      "outputs": [
        {
          "output_type": "stream",
          "name": "stdout",
          "text": [
            "age                 45308\n",
            "fnlwgt              45308\n",
            "education-num       45308\n",
            "capital-gain        45308\n",
            "capital-loss        45308\n",
            "                    ...  \n",
            " Trinadad&Tobago    45308\n",
            " United-States      45308\n",
            " Vietnam            45308\n",
            " Yugoslavia         45308\n",
            " <=50K              45308\n",
            "Length: 89, dtype: int64\n",
            "45308\n",
            "                age        fnlwgt  education-num  capital-gain  capital-loss  \\\n",
            "count  30014.000000  30014.000000   30014.000000  30014.000000  30014.000000   \n",
            "mean       0.293147      0.119657       0.607146      0.014628      0.020388   \n",
            "std        0.179925      0.071836       0.169485      0.062409      0.093032   \n",
            "min        0.000000      0.000000       0.000000      0.000000      0.000000   \n",
            "25%        0.150685      0.070592       0.533333      0.000000      0.000000   \n",
            "50%        0.273973      0.111950       0.600000      0.000000      0.000000   \n",
            "75%        0.410959      0.152198       0.733333      0.000000      0.000000   \n",
            "max        1.000000      1.000000       1.000000      1.000000      1.000000   \n",
            "\n",
            "       hours-per-week   Federal-gov     Local-gov       Private  \\\n",
            "count    30014.000000  30014.000000  30014.000000  30014.000000   \n",
            "mean         0.406992      0.031385      0.068701      0.739921   \n",
            "std          0.122037      0.174360      0.252950      0.438685   \n",
            "min          0.000000      0.000000      0.000000      0.000000   \n",
            "25%          0.397959      0.000000      0.000000      0.000000   \n",
            "50%          0.397959      0.000000      0.000000      1.000000   \n",
            "75%          0.448980      0.000000      0.000000      1.000000   \n",
            "max          1.000000      1.000000      1.000000      1.000000   \n",
            "\n",
            "        Self-emp-inc   Self-emp-not-inc     State-gov   Without-pay  \\\n",
            "count   30014.000000       30014.000000  30014.000000  30014.000000   \n",
            "mean        0.034650           0.082295      0.042580      0.000466   \n",
            "std         0.182896           0.274818      0.201912      0.021593   \n",
            "min         0.000000           0.000000      0.000000      0.000000   \n",
            "25%         0.000000           0.000000      0.000000      0.000000   \n",
            "50%         0.000000           0.000000      0.000000      0.000000   \n",
            "75%         0.000000           0.000000      0.000000      0.000000   \n",
            "max         1.000000           1.000000      1.000000      1.000000   \n",
            "\n",
            "           Divorced   Married-AF-spouse   Married-civ-spouse  \\\n",
            "count  30014.000000        30014.000000          30014.00000   \n",
            "mean       0.140035            0.000700              0.46455   \n",
            "std        0.347029            0.026443              0.49875   \n",
            "min        0.000000            0.000000              0.00000   \n",
            "25%        0.000000            0.000000              0.00000   \n",
            "50%        0.000000            0.000000              0.00000   \n",
            "75%        0.000000            0.000000              1.00000   \n",
            "max        1.000000            1.000000              1.00000   \n",
            "\n",
            "        Married-spouse-absent   Never-married     Separated       Widowed  \\\n",
            "count            30014.000000    30014.000000  30014.000000  30014.000000   \n",
            "mean                 0.012294        0.323682      0.031219      0.027520   \n",
            "std                  0.110198        0.467888      0.173911      0.163597   \n",
            "min                  0.000000        0.000000      0.000000      0.000000   \n",
            "25%                  0.000000        0.000000      0.000000      0.000000   \n",
            "50%                  0.000000        0.000000      0.000000      0.000000   \n",
            "75%                  0.000000        1.000000      0.000000      0.000000   \n",
            "max                  1.000000        1.000000      1.000000      1.000000   \n",
            "\n",
            "        Adm-clerical   Armed-Forces   Craft-repair   Exec-managerial  \\\n",
            "count   30014.000000   30014.000000   30014.000000      30014.000000   \n",
            "mean        0.123776       0.000300       0.134004          0.131739   \n",
            "std         0.329331       0.017314       0.340662          0.338212   \n",
            "min         0.000000       0.000000       0.000000          0.000000   \n",
            "25%         0.000000       0.000000       0.000000          0.000000   \n",
            "50%         0.000000       0.000000       0.000000          0.000000   \n",
            "75%         0.000000       0.000000       0.000000          0.000000   \n",
            "max         1.000000       1.000000       1.000000          1.000000   \n",
            "\n",
            "        Farming-fishing   Handlers-cleaners   Machine-op-inspct  \\\n",
            "count      30014.000000        30014.000000        30014.000000   \n",
            "mean           0.032951            0.044946            0.065469   \n",
            "std            0.178512            0.207188            0.247356   \n",
            "min            0.000000            0.000000            0.000000   \n",
            "25%            0.000000            0.000000            0.000000   \n",
            "50%            0.000000            0.000000            0.000000   \n",
            "75%            0.000000            0.000000            0.000000   \n",
            "max            1.000000            1.000000            1.000000   \n",
            "\n",
            "        Other-service   Priv-house-serv   Prof-specialty   Protective-serv  \\\n",
            "count    30014.000000      30014.000000     30014.000000      30014.000000   \n",
            "mean         0.106950          0.004764         0.132372          0.021423   \n",
            "std          0.309055          0.068861         0.338900          0.144793   \n",
            "min          0.000000          0.000000         0.000000          0.000000   \n",
            "25%          0.000000          0.000000         0.000000          0.000000   \n",
            "50%          0.000000          0.000000         0.000000          0.000000   \n",
            "75%          0.000000          0.000000         0.000000          0.000000   \n",
            "max          1.000000          1.000000         1.000000          1.000000   \n",
            "\n",
            "              Sales   Tech-support   Transport-moving       Husband  \\\n",
            "count  30014.000000   30014.000000       30014.000000  30014.000000   \n",
            "mean       0.118611       0.030353           0.052342      0.411475   \n",
            "std        0.323336       0.171558           0.222720      0.492109   \n",
            "min        0.000000       0.000000           0.000000      0.000000   \n",
            "25%        0.000000       0.000000           0.000000      0.000000   \n",
            "50%        0.000000       0.000000           0.000000      0.000000   \n",
            "75%        0.000000       0.000000           0.000000      1.000000   \n",
            "max        1.000000       1.000000           1.000000      1.000000   \n",
            "\n",
            "        Not-in-family   Other-relative     Own-child     Unmarried  \\\n",
            "count    30014.000000     30014.000000  30014.000000  30014.000000   \n",
            "mean         0.256747         0.029620      0.148731      0.106883   \n",
            "std          0.436846         0.169538      0.355829      0.308970   \n",
            "min          0.000000         0.000000      0.000000      0.000000   \n",
            "25%          0.000000         0.000000      0.000000      0.000000   \n",
            "50%          0.000000         0.000000      0.000000      0.000000   \n",
            "75%          1.000000         0.000000      0.000000      0.000000   \n",
            "max          1.000000         1.000000      1.000000      1.000000   \n",
            "\n",
            "               Wife   Amer-Indian-Eskimo   Asian-Pac-Islander         Black  \\\n",
            "count  30014.000000         30014.000000         30014.000000  30014.000000   \n",
            "mean       0.046545             0.009529             0.029586      0.093656   \n",
            "std        0.210666             0.097151             0.169446      0.291355   \n",
            "min        0.000000             0.000000             0.000000      0.000000   \n",
            "25%        0.000000             0.000000             0.000000      0.000000   \n",
            "50%        0.000000             0.000000             0.000000      0.000000   \n",
            "75%        0.000000             0.000000             0.000000      0.000000   \n",
            "max        1.000000             1.000000             1.000000      1.000000   \n",
            "\n",
            "              Other         White        Female          Male      Cambodia  \\\n",
            "count  30014.000000  30014.000000  30014.000000  30014.000000  30014.000000   \n",
            "mean       0.007630      0.859599      0.325248      0.674752      0.000600   \n",
            "std        0.087016      0.347409      0.468475      0.468475      0.024482   \n",
            "min        0.000000      0.000000      0.000000      0.000000      0.000000   \n",
            "25%        0.000000      1.000000      0.000000      0.000000      0.000000   \n",
            "50%        0.000000      1.000000      0.000000      1.000000      0.000000   \n",
            "75%        0.000000      1.000000      1.000000      1.000000      0.000000   \n",
            "max        1.000000      1.000000      1.000000      1.000000      1.000000   \n",
            "\n",
            "             Canada         China      Columbia          Cuba  \\\n",
            "count  30014.000000  30014.000000  30014.000000  30014.000000   \n",
            "mean       0.003532      0.002266      0.001866      0.003065   \n",
            "std        0.059324      0.047545      0.043155      0.055281   \n",
            "min        0.000000      0.000000      0.000000      0.000000   \n",
            "25%        0.000000      0.000000      0.000000      0.000000   \n",
            "50%        0.000000      0.000000      0.000000      0.000000   \n",
            "75%        0.000000      0.000000      0.000000      0.000000   \n",
            "max        1.000000      1.000000      1.000000      1.000000   \n",
            "\n",
            "        Dominican-Republic      Ecuador   El-Salvador       England  \\\n",
            "count         30014.000000  30014.00000  30014.000000  30014.000000   \n",
            "mean              0.002199      0.00090      0.003332      0.002865   \n",
            "std               0.046842      0.02998      0.057626      0.053453   \n",
            "min               0.000000      0.00000      0.000000      0.000000   \n",
            "25%               0.000000      0.00000      0.000000      0.000000   \n",
            "50%               0.000000      0.00000      0.000000      0.000000   \n",
            "75%               0.000000      0.00000      0.000000      0.000000   \n",
            "max               1.000000      1.00000      1.000000      1.000000   \n",
            "\n",
            "            France       Germany        Greece     Guatemala         Haiti  \\\n",
            "count  30014.00000  30014.000000  30014.000000  30014.000000  30014.000000   \n",
            "mean       0.00090      0.004265      0.000966      0.002099      0.001399   \n",
            "std        0.02998      0.065166      0.031070      0.045768      0.037382   \n",
            "min        0.00000      0.000000      0.000000      0.000000      0.000000   \n",
            "25%        0.00000      0.000000      0.000000      0.000000      0.000000   \n",
            "50%        0.00000      0.000000      0.000000      0.000000      0.000000   \n",
            "75%        0.00000      0.000000      0.000000      0.000000      0.000000   \n",
            "max        1.00000      1.000000      1.000000      1.000000      1.000000   \n",
            "\n",
            "        Holand-Netherlands      Honduras          Hong       Hungary  \\\n",
            "count         30014.000000  30014.000000  30014.000000  30014.000000   \n",
            "mean              0.000033      0.000400      0.000633      0.000433   \n",
            "std               0.005772      0.019992      0.025153      0.020808   \n",
            "min               0.000000      0.000000      0.000000      0.000000   \n",
            "25%               0.000000      0.000000      0.000000      0.000000   \n",
            "50%               0.000000      0.000000      0.000000      0.000000   \n",
            "75%               0.000000      0.000000      0.000000      0.000000   \n",
            "max               1.000000      1.000000      1.000000      1.000000   \n",
            "\n",
            "              India          Iran       Ireland         Italy       Jamaica  \\\n",
            "count  30014.000000  30014.000000  30014.000000  30014.000000  30014.000000   \n",
            "mean       0.003232      0.001399      0.000800      0.002266      0.002665   \n",
            "std        0.056758      0.037382      0.028267      0.047545      0.051560   \n",
            "min        0.000000      0.000000      0.000000      0.000000      0.000000   \n",
            "25%        0.000000      0.000000      0.000000      0.000000      0.000000   \n",
            "50%        0.000000      0.000000      0.000000      0.000000      0.000000   \n",
            "75%        0.000000      0.000000      0.000000      0.000000      0.000000   \n",
            "max        1.000000      1.000000      1.000000      1.000000      1.000000   \n",
            "\n",
            "              Japan          Laos        Mexico     Nicaragua  \\\n",
            "count  30014.000000  30014.000000  30014.000000  30014.000000   \n",
            "mean       0.001932      0.000566      0.020291      0.001099   \n",
            "std        0.043918      0.023793      0.140995      0.033141   \n",
            "min        0.000000      0.000000      0.000000      0.000000   \n",
            "25%        0.000000      0.000000      0.000000      0.000000   \n",
            "50%        0.000000      0.000000      0.000000      0.000000   \n",
            "75%        0.000000      0.000000      0.000000      0.000000   \n",
            "max        1.000000      1.000000      1.000000      1.000000   \n",
            "\n",
            "        Outlying-US(Guam-USVI-etc)        Peru   Philippines        Poland  \\\n",
            "count                 30014.000000  30014.0000  30014.000000  30014.000000   \n",
            "mean                      0.000466      0.0010      0.006230      0.001866   \n",
            "std                       0.021593      0.0316      0.078688      0.043155   \n",
            "min                       0.000000      0.0000      0.000000      0.000000   \n",
            "25%                       0.000000      0.0000      0.000000      0.000000   \n",
            "50%                       0.000000      0.0000      0.000000      0.000000   \n",
            "75%                       0.000000      0.0000      0.000000      0.000000   \n",
            "max                       1.000000      1.0000      1.000000      1.000000   \n",
            "\n",
            "           Portugal   Puerto-Rico      Scotland         South        Taiwan  \\\n",
            "count  30014.000000  30014.000000  30014.000000  30014.000000  30014.000000   \n",
            "mean       0.001133      0.003632      0.000366      0.002366      0.001366   \n",
            "std        0.033639      0.060155      0.019141      0.048580      0.036935   \n",
            "min        0.000000      0.000000      0.000000      0.000000      0.000000   \n",
            "25%        0.000000      0.000000      0.000000      0.000000      0.000000   \n",
            "50%        0.000000      0.000000      0.000000      0.000000      0.000000   \n",
            "75%        0.000000      0.000000      0.000000      0.000000      0.000000   \n",
            "max        1.000000      1.000000      1.000000      1.000000      1.000000   \n",
            "\n",
            "           Thailand   Trinadad&Tobago   United-States       Vietnam  \\\n",
            "count  30014.000000      30014.000000    30014.000000  30014.000000   \n",
            "mean       0.000566          0.000600        0.911741      0.002132   \n",
            "std        0.023793          0.024482        0.283676      0.046129   \n",
            "min        0.000000          0.000000        0.000000      0.000000   \n",
            "25%        0.000000          0.000000        1.000000      0.000000   \n",
            "50%        0.000000          0.000000        1.000000      0.000000   \n",
            "75%        0.000000          0.000000        1.000000      0.000000   \n",
            "max        1.000000          1.000000        1.000000      1.000000   \n",
            "\n",
            "         Yugoslavia         <=50K  \n",
            "count  30014.000000  30014.000000  \n",
            "mean       0.000533      0.754781  \n",
            "std        0.023083      0.430224  \n",
            "min        0.000000      0.000000  \n",
            "25%        0.000000      1.000000  \n",
            "50%        0.000000      1.000000  \n",
            "75%        0.000000      1.000000  \n",
            "max        1.000000      1.000000  \n"
          ]
        }
      ]
    },
    {
      "cell_type": "code",
      "source": [
        "#x.hist(bins=100, figsize=(40,20))"
      ],
      "metadata": {
        "id": "U_jDhrST2Rsl"
      },
      "execution_count": null,
      "outputs": []
    },
    {
      "cell_type": "markdown",
      "source": [
        "ทำการ Normalize ตัวเลขใน df_x"
      ],
      "metadata": {
        "id": "U5pm-wnX1Fwl"
      }
    },
    {
      "cell_type": "code",
      "source": [
        "scaler = StandardScaler().fit(x)\n",
        "x = scaler.transform(x)\n",
        "print(x)"
      ],
      "metadata": {
        "colab": {
          "base_uri": "https://localhost:8080/"
        },
        "id": "JTCGoqPA6SOe",
        "outputId": "4538f592-1b6e-4f78-ae0e-cafeb3c53acf"
      },
      "execution_count": null,
      "outputs": [
        {
          "output_type": "stream",
          "name": "stdout",
          "text": [
            "[[-0.09924901 -1.11015219  0.94505537 ... -0.04037463 -0.02522625\n",
            "   1.        ]\n",
            " [ 0.79710387 -1.0520245   0.94505537 ... -0.04037463 -0.02522625\n",
            "   1.        ]\n",
            " [-0.18073563  0.27538341 -0.6312935  ... -0.04037463 -0.02522625\n",
            "   1.        ]\n",
            " ...\n",
            " [-0.89513898 -0.29263169  0.66193646 ... -0.04037463 -0.02522625\n",
            "  -1.        ]\n",
            " [ 1.76450048 -0.45449311 -0.6312935  ... -0.04037463 -0.02522625\n",
            "  -1.        ]\n",
            " [-0.13623621 -1.43442494 -0.34461253 ... -0.04037463 -0.02522625\n",
            "  -1.        ]]\n"
          ]
        }
      ]
    },
    {
      "cell_type": "code",
      "source": [
        "#pd.DataFrame(x).hist(bins=100, figsize=(40,20))"
      ],
      "metadata": {
        "id": "6GhHTGRI23vQ"
      },
      "execution_count": null,
      "outputs": []
    },
    {
      "cell_type": "markdown",
      "source": [
        "## Split Test and train data\n",
        "\n",
        "แบ่งข้อมูลออกเป็น Train และ Test"
      ],
      "metadata": {
        "id": "eKv-mX-CAUjN"
      }
    },
    {
      "cell_type": "code",
      "source": [
        "x_train, x_test, y_train, y_test = train_test_split(x,y, test_size=0.3, random_state = 42)\n",
        "\n",
        "print(x_train.shape)\n",
        "print(y_train.shape)\n",
        "print(x_test.shape)\n",
        "print(y_test.shape)"
      ],
      "metadata": {
        "colab": {
          "base_uri": "https://localhost:8080/"
        },
        "id": "DgOBaHhzAYEo",
        "outputId": "b59723df-1c25-41c0-c98a-517b35fb59b6"
      },
      "execution_count": null,
      "outputs": [
        {
          "output_type": "stream",
          "name": "stdout",
          "text": [
            "(31715, 89)\n",
            "(31715,)\n",
            "(13593, 89)\n",
            "(13593,)\n"
          ]
        }
      ]
    },
    {
      "cell_type": "markdown",
      "source": [
        "# Create Model\n",
        "\n",
        "สร้าง Model โดยเริ่มจากฝั่ง Traditional ML และ MLP"
      ],
      "metadata": {
        "id": "UnBHaTLRA1GT"
      }
    },
    {
      "cell_type": "markdown",
      "source": [
        "Logistic Regression"
      ],
      "metadata": {
        "id": "90XWpBGeS_U3"
      }
    },
    {
      "cell_type": "code",
      "source": [
        "logreg = LogisticRegression(max_iter=1000)\n",
        "logreg.fit(x_train,y_train)\n",
        "y_pred = logreg.predict(x_test)\n",
        "score = logreg.score(x_test, y_test)\n",
        "recall_precision_f1 = precision_recall_fscore_support(y_test,y_pred, average = \"macro\")\n",
        "print(f'Test Accuracy Score :{score}')\n",
        "print(f'Recall :{recall_precision_f1[0]}')\n",
        "print(f'Precision :{recall_precision_f1[1]}')\n",
        "print(f'F1 :{recall_precision_f1[2]}')"
      ],
      "metadata": {
        "colab": {
          "base_uri": "https://localhost:8080/"
        },
        "id": "8hLZ0gWpTBdX",
        "outputId": "a71449eb-87f9-4016-a1b2-f9691e9f9d84"
      },
      "execution_count": null,
      "outputs": [
        {
          "output_type": "stream",
          "name": "stdout",
          "text": [
            "Test Accuracy Score :1.0\n",
            "Recall :1.0\n",
            "Precision :1.0\n",
            "F1 :1.0\n"
          ]
        }
      ]
    },
    {
      "cell_type": "markdown",
      "source": [
        "SVM"
      ],
      "metadata": {
        "id": "EcoZHgZxTFPV"
      }
    },
    {
      "cell_type": "code",
      "source": [
        "svm = SVC()\n",
        "svm.fit(x_train,y_train)\n",
        "y_pred = svm.predict(x_test)\n",
        "score = svm.score(x_test, y_test)\n",
        "recall_precision_f1 = precision_recall_fscore_support(y_test,y_pred, average = \"macro\")\n",
        "\n",
        "print(f'Test Accuracy Score :{score}')\n",
        "print(f'Recall :{recall_precision_f1[0]}')\n",
        "print(f'Precision :{recall_precision_f1[1]}')\n",
        "print(f'F1 :{recall_precision_f1[2]}')"
      ],
      "metadata": {
        "colab": {
          "base_uri": "https://localhost:8080/"
        },
        "id": "Lp-cGrMmTr42",
        "outputId": "d435b372-ba54-433e-e7ae-d750854826b7"
      },
      "execution_count": null,
      "outputs": [
        {
          "output_type": "stream",
          "name": "stdout",
          "text": [
            "Test Accuracy Score :0.9950709924225705\n",
            "Recall :0.9950973510190445\n",
            "Precision :0.9950525888074128\n",
            "F1 :0.9950704391965759\n"
          ]
        }
      ]
    },
    {
      "cell_type": "markdown",
      "source": [
        "Random Forest"
      ],
      "metadata": {
        "id": "Pzv9WCdtTGBf"
      }
    },
    {
      "cell_type": "code",
      "source": [
        "rf = KNeighborsClassifier()\n",
        "rf.fit(x_train,y_train)\n",
        "y_pred = rf.predict(x_test)\n",
        "score = rf.score(x_test, y_test)\n",
        "recall_precision_f1 = precision_recall_fscore_support(y_test,y_pred, average = \"macro\")\n",
        "\n",
        "print(f'Test Accuracy Score :{score}')\n",
        "print(f'Recall :{recall_precision_f1[0]}')\n",
        "print(f'Precision :{recall_precision_f1[1]}')\n",
        "print(f'F1 :{recall_precision_f1[2]}')"
      ],
      "metadata": {
        "colab": {
          "base_uri": "https://localhost:8080/"
        },
        "id": "SgcX0vBNUf1w",
        "outputId": "b824a821-5e92-446a-b3ef-d04a29d94106"
      },
      "execution_count": null,
      "outputs": [
        {
          "output_type": "stream",
          "name": "stdout",
          "text": [
            "Test Accuracy Score :0.9706466563672479\n",
            "Recall :0.970642102132085\n",
            "Precision :0.9706750548495136\n",
            "F1 :0.970645964337036\n"
          ]
        }
      ]
    },
    {
      "cell_type": "markdown",
      "source": [
        "KNN"
      ],
      "metadata": {
        "id": "dw0oDSdiUei3"
      }
    },
    {
      "cell_type": "code",
      "source": [
        "knn = KNeighborsClassifier()\n",
        "knn.fit(x_train,y_train)\n",
        "y_pred = knn.predict(x_test)\n",
        "score = knn.score(x_test, y_test)\n",
        "recall_precision_f1 = precision_recall_fscore_support(y_test,y_pred, average = \"macro\")\n",
        "\n",
        "print(f'Test Accuracy Score :{score}')\n",
        "print(f'Recall :{recall_precision_f1[0]}')\n",
        "print(f'Precision :{recall_precision_f1[1]}')\n",
        "print(f'F1 :{recall_precision_f1[2]}')"
      ],
      "metadata": {
        "colab": {
          "base_uri": "https://localhost:8080/"
        },
        "id": "5mgPC1XKUgM2",
        "outputId": "c3752a75-786d-4122-9d51-27a406183b7e"
      },
      "execution_count": null,
      "outputs": [
        {
          "output_type": "stream",
          "name": "stdout",
          "text": [
            "Test Accuracy Score :0.9706466563672479\n",
            "Recall :0.970642102132085\n",
            "Precision <=50k:0.9706750548495136\n",
            "F1 <=50k:0.970645964337036\n"
          ]
        }
      ]
    },
    {
      "cell_type": "markdown",
      "source": [
        "MLP"
      ],
      "metadata": {
        "id": "EOoZ4skuZKeb"
      }
    },
    {
      "cell_type": "code",
      "source": [
        "tf.random.set_seed(1)\n",
        "initializer = tf.keras.initializers.GlorotNormal(seed=9999)\n",
        "model = tf.keras.models.Sequential()\n",
        "\n",
        "model.add(tf.keras.Input(shape = x_test.shape[1],))  #input\n",
        "model.add(tf.keras.layers.Dense(512, activation = \"sigmoid\", name = \"hidden1\", kernel_initializer=initializer))\n",
        "model.add(tf.keras.layers.Dense(256, activation = \"sigmoid\", name = \"hidden2\", kernel_initializer=initializer))\n",
        "model.add(tf.keras.layers.Dense(128, activation = \"sigmoid\", name = \"hidden3\", kernel_initializer=initializer))\n",
        "model.add(tf.keras.layers.Dense(64, activation = \"sigmoid\", name = \"hidden4\", kernel_initializer=initializer))\n",
        "model.add(tf.keras.layers.Dense(32, activation = \"sigmoid\", name = \"hidden5\", kernel_initializer=initializer))\n",
        "model.add(tf.keras.layers.Dropout(0.3))\n",
        "\n",
        "\n",
        "#Output layer\n",
        "model.add(tf.keras.layers.Dense(1,activation = \"sigmoid\", name = \"output\"))\n",
        "model.summary()"
      ],
      "metadata": {
        "colab": {
          "base_uri": "https://localhost:8080/"
        },
        "id": "IFA6i5-WA3a3",
        "outputId": "90a8ea0e-d69e-46ec-e58c-3278a3f27d1c"
      },
      "execution_count": null,
      "outputs": [
        {
          "output_type": "stream",
          "name": "stdout",
          "text": [
            "Model: \"sequential_1\"\n",
            "_________________________________________________________________\n",
            " Layer (type)                Output Shape              Param #   \n",
            "=================================================================\n",
            " hidden1 (Dense)             (None, 512)               46080     \n",
            "                                                                 \n",
            " hidden2 (Dense)             (None, 256)               131328    \n",
            "                                                                 \n",
            " hidden3 (Dense)             (None, 128)               32896     \n",
            "                                                                 \n",
            " hidden4 (Dense)             (None, 64)                8256      \n",
            "                                                                 \n",
            " hidden5 (Dense)             (None, 32)                2080      \n",
            "                                                                 \n",
            " dropout (Dropout)           (None, 32)                0         \n",
            "                                                                 \n",
            " output (Dense)              (None, 1)                 33        \n",
            "                                                                 \n",
            "=================================================================\n",
            "Total params: 220,673\n",
            "Trainable params: 220,673\n",
            "Non-trainable params: 0\n",
            "_________________________________________________________________\n"
          ]
        }
      ]
    },
    {
      "cell_type": "code",
      "source": [
        "opt = tf.keras.optimizers.Adam(learning_rate=0.01)\n",
        "\n",
        "model.compile(optimizer = opt, loss = \"binary_crossentropy\", metrics = ['acc',tf.keras.metrics.Precision(), tf.keras.metrics.Recall()])"
      ],
      "metadata": {
        "id": "tInV4Fc5BYKq"
      },
      "execution_count": null,
      "outputs": []
    },
    {
      "cell_type": "code",
      "source": [
        "print(model.layers[2].get_weights()[0][0])"
      ],
      "metadata": {
        "colab": {
          "base_uri": "https://localhost:8080/"
        },
        "id": "mLgF5FvHBxLF",
        "outputId": "f0772832-015f-4b4f-f32f-548e14001fbe"
      },
      "execution_count": null,
      "outputs": [
        {
          "output_type": "stream",
          "name": "stdout",
          "text": [
            "[ 0.13575114 -0.13093224 -0.01206048  0.06655537  0.09920499 -0.07324725\n",
            " -0.02685088  0.05199524 -0.10642366  0.0691298   0.14607278  0.04716945\n",
            "  0.10319024 -0.12954776 -0.13051523  0.10656802  0.0087737   0.06259705\n",
            " -0.06671014 -0.11666407  0.04763605 -0.04898696  0.05283096  0.0433395\n",
            "  0.04592669 -0.1517444   0.12093838  0.06911775 -0.03986859 -0.14373568\n",
            " -0.04388779  0.00639576 -0.07783332  0.04151439 -0.05528233  0.09245462\n",
            " -0.05303004  0.06245764 -0.07706513 -0.02181769 -0.01170241  0.00310498\n",
            " -0.00880475  0.05939907  0.14814591 -0.0682506   0.07733849 -0.00154517\n",
            "  0.09493714 -0.01181956  0.00572598  0.11263338 -0.08086068 -0.00546064\n",
            "  0.00116275  0.08597496  0.021769    0.0387065  -0.02512379 -0.10140079\n",
            "  0.0421307  -0.06218355 -0.13355234 -0.10565452 -0.00334383  0.06068901\n",
            "  0.05138321  0.13819773 -0.01879609  0.12454418  0.09002934  0.00088098\n",
            "  0.0171227  -0.00778579  0.1423415  -0.05416208  0.00396287  0.0959791\n",
            " -0.08177876  0.02668415  0.08367825  0.02148249 -0.06298713  0.02773819\n",
            "  0.04424661  0.0052163   0.10376947  0.05378183  0.07540552  0.1499731\n",
            "  0.00719509 -0.02253186  0.0006634  -0.02896774 -0.08839551 -0.1239049\n",
            "  0.14477354  0.01888445 -0.08066235  0.11497752  0.00351397  0.07410016\n",
            "  0.01151016 -0.01460778 -0.04369498 -0.00734093  0.05439029  0.06563007\n",
            " -0.04048412 -0.05540662 -0.1552153  -0.01221973 -0.04893356  0.04912446\n",
            " -0.05538125  0.05792854  0.14993145 -0.0729078  -0.01674374 -0.06180718\n",
            "  0.00505808 -0.0110427   0.07088456 -0.0289229   0.01736069  0.01718952\n",
            " -0.03866984  0.13506085]\n"
          ]
        }
      ]
    },
    {
      "cell_type": "code",
      "source": [
        "model.layers[2].get_weights()[0].shape"
      ],
      "metadata": {
        "colab": {
          "base_uri": "https://localhost:8080/"
        },
        "id": "WB1keiNFCRvb",
        "outputId": "d716ca36-c164-4b71-c86a-87e1dab2243e"
      },
      "execution_count": null,
      "outputs": [
        {
          "output_type": "execute_result",
          "data": {
            "text/plain": [
              "(256, 128)"
            ]
          },
          "metadata": {},
          "execution_count": 83
        }
      ]
    },
    {
      "cell_type": "code",
      "source": [
        "checkpoint_filepath = \"bestmodel_epoch{epoch:02d}_valloss{val_loss:.4f}_acc{val_acc: .4f}.hdf5\"\n",
        "model_check_point_callback = tf.keras.callbacks.ModelCheckpoint(filepath = checkpoint_filepath,\n",
        "                                                                save_weight_only = True,\n",
        "                                                                monitor = \"val_acc\",\n",
        "                                                                mode = \"max\",\n",
        "                                                                save_best_only = True,\n",
        "                                                                verbose=1)"
      ],
      "metadata": {
        "id": "u4AKzfz-CaAD"
      },
      "execution_count": null,
      "outputs": []
    },
    {
      "cell_type": "code",
      "source": [
        "history = model.fit(x_train, y_train, batch_size= 32, epochs = 100, verbose = 2, validation_split= 0.2, callbacks=[model_check_point_callback])"
      ],
      "metadata": {
        "colab": {
          "base_uri": "https://localhost:8080/"
        },
        "id": "YWKmqSu6CytU",
        "outputId": "bf7bd808-c8f0-4b2b-f13c-634055424fcb"
      },
      "execution_count": null,
      "outputs": [
        {
          "output_type": "stream",
          "name": "stdout",
          "text": [
            "Epoch 1/100\n",
            "\n",
            "Epoch 00001: val_acc improved from -inf to 0.99306, saving model to bestmodel_epoch01_valloss0.0202_acc 0.9931.hdf5\n",
            "793/793 - 4s - loss: 0.0844 - acc: 0.9729 - precision_1: 0.9728 - recall_1: 0.9724 - val_loss: 0.0202 - val_acc: 0.9931 - val_precision_1: 0.9984 - val_recall_1: 0.9880 - 4s/epoch - 5ms/step\n",
            "Epoch 2/100\n",
            "\n",
            "Epoch 00002: val_acc improved from 0.99306 to 0.99732, saving model to bestmodel_epoch02_valloss0.0068_acc 0.9973.hdf5\n",
            "793/793 - 3s - loss: 0.0133 - acc: 0.9965 - precision_1: 0.9958 - recall_1: 0.9971 - val_loss: 0.0068 - val_acc: 0.9973 - val_precision_1: 0.9951 - val_recall_1: 0.9997 - 3s/epoch - 4ms/step\n",
            "Epoch 3/100\n",
            "\n",
            "Epoch 00003: val_acc did not improve from 0.99732\n",
            "793/793 - 3s - loss: 0.0107 - acc: 0.9970 - precision_1: 0.9965 - recall_1: 0.9974 - val_loss: 0.0076 - val_acc: 0.9964 - val_precision_1: 0.9954 - val_recall_1: 0.9975 - 3s/epoch - 4ms/step\n",
            "Epoch 4/100\n",
            "\n",
            "Epoch 00004: val_acc did not improve from 0.99732\n",
            "793/793 - 3s - loss: 0.0064 - acc: 0.9980 - precision_1: 0.9982 - recall_1: 0.9978 - val_loss: 0.0073 - val_acc: 0.9956 - val_precision_1: 1.0000 - val_recall_1: 0.9914 - 3s/epoch - 4ms/step\n",
            "Epoch 5/100\n",
            "\n",
            "Epoch 00005: val_acc improved from 0.99732 to 0.99827, saving model to bestmodel_epoch05_valloss0.0076_acc 0.9983.hdf5\n",
            "793/793 - 3s - loss: 0.0029 - acc: 0.9987 - precision_1: 0.9986 - recall_1: 0.9986 - val_loss: 0.0076 - val_acc: 0.9983 - val_precision_1: 0.9988 - val_recall_1: 0.9978 - 3s/epoch - 4ms/step\n",
            "Epoch 6/100\n",
            "\n",
            "Epoch 00006: val_acc did not improve from 0.99827\n",
            "793/793 - 3s - loss: 0.0054 - acc: 0.9984 - precision_1: 0.9979 - recall_1: 0.9989 - val_loss: 0.0055 - val_acc: 0.9964 - val_precision_1: 1.0000 - val_recall_1: 0.9929 - 3s/epoch - 4ms/step\n",
            "Epoch 7/100\n",
            "\n",
            "Epoch 00007: val_acc improved from 0.99827 to 0.99953, saving model to bestmodel_epoch07_valloss0.0025_acc 0.9995.hdf5\n",
            "793/793 - 3s - loss: 0.0032 - acc: 0.9989 - precision_1: 0.9988 - recall_1: 0.9989 - val_loss: 0.0025 - val_acc: 0.9995 - val_precision_1: 0.9991 - val_recall_1: 1.0000 - 3s/epoch - 4ms/step\n",
            "Epoch 8/100\n",
            "\n",
            "Epoch 00008: val_acc did not improve from 0.99953\n",
            "793/793 - 3s - loss: 0.0022 - acc: 0.9994 - precision_1: 0.9996 - recall_1: 0.9993 - val_loss: 0.0018 - val_acc: 0.9991 - val_precision_1: 0.9997 - val_recall_1: 0.9985 - 3s/epoch - 4ms/step\n",
            "Epoch 9/100\n",
            "\n",
            "Epoch 00009: val_acc did not improve from 0.99953\n",
            "793/793 - 3s - loss: 0.0011 - acc: 0.9998 - precision_1: 0.9996 - recall_1: 0.9999 - val_loss: 0.0037 - val_acc: 0.9992 - val_precision_1: 0.9994 - val_recall_1: 0.9991 - 3s/epoch - 4ms/step\n",
            "Epoch 10/100\n",
            "\n",
            "Epoch 00010: val_acc did not improve from 0.99953\n",
            "793/793 - 3s - loss: 0.0011 - acc: 0.9995 - precision_1: 0.9994 - recall_1: 0.9996 - val_loss: 0.0197 - val_acc: 0.9967 - val_precision_1: 1.0000 - val_recall_1: 0.9935 - 3s/epoch - 4ms/step\n",
            "Epoch 11/100\n",
            "\n",
            "Epoch 00011: val_acc improved from 0.99953 to 0.99968, saving model to bestmodel_epoch11_valloss0.0006_acc 0.9997.hdf5\n",
            "793/793 - 3s - loss: 0.0030 - acc: 0.9988 - precision_1: 0.9989 - recall_1: 0.9986 - val_loss: 6.2113e-04 - val_acc: 0.9997 - val_precision_1: 0.9997 - val_recall_1: 0.9997 - 3s/epoch - 4ms/step\n",
            "Epoch 12/100\n",
            "\n",
            "Epoch 00012: val_acc did not improve from 0.99968\n",
            "793/793 - 3s - loss: 9.4182e-04 - acc: 0.9998 - precision_1: 0.9998 - recall_1: 0.9997 - val_loss: 0.0014 - val_acc: 0.9994 - val_precision_1: 0.9988 - val_recall_1: 1.0000 - 3s/epoch - 4ms/step\n",
            "Epoch 13/100\n",
            "\n",
            "Epoch 00013: val_acc improved from 0.99968 to 0.99984, saving model to bestmodel_epoch13_valloss0.0005_acc 0.9998.hdf5\n",
            "793/793 - 3s - loss: 9.9604e-04 - acc: 0.9999 - precision_1: 0.9998 - recall_1: 1.0000 - val_loss: 4.7836e-04 - val_acc: 0.9998 - val_precision_1: 1.0000 - val_recall_1: 0.9997 - 3s/epoch - 4ms/step\n",
            "Epoch 14/100\n",
            "\n",
            "Epoch 00014: val_acc did not improve from 0.99984\n",
            "793/793 - 3s - loss: 9.9511e-04 - acc: 0.9998 - precision_1: 0.9997 - recall_1: 0.9999 - val_loss: 0.0011 - val_acc: 0.9998 - val_precision_1: 1.0000 - val_recall_1: 0.9997 - 3s/epoch - 4ms/step\n",
            "Epoch 15/100\n",
            "\n",
            "Epoch 00015: val_acc improved from 0.99984 to 1.00000, saving model to bestmodel_epoch15_valloss0.0001_acc 1.0000.hdf5\n",
            "793/793 - 3s - loss: 4.9738e-04 - acc: 0.9998 - precision_1: 0.9998 - recall_1: 0.9999 - val_loss: 1.0115e-04 - val_acc: 1.0000 - val_precision_1: 1.0000 - val_recall_1: 1.0000 - 3s/epoch - 4ms/step\n",
            "Epoch 16/100\n",
            "\n",
            "Epoch 00016: val_acc did not improve from 1.00000\n",
            "793/793 - 3s - loss: 0.0014 - acc: 0.9996 - precision_1: 0.9996 - recall_1: 0.9995 - val_loss: 7.5005e-04 - val_acc: 0.9997 - val_precision_1: 1.0000 - val_recall_1: 0.9994 - 3s/epoch - 4ms/step\n",
            "Epoch 17/100\n",
            "\n",
            "Epoch 00017: val_acc did not improve from 1.00000\n",
            "793/793 - 3s - loss: 1.6796e-04 - acc: 0.9999 - precision_1: 0.9999 - recall_1: 0.9999 - val_loss: 3.9179e-04 - val_acc: 0.9998 - val_precision_1: 1.0000 - val_recall_1: 0.9997 - 3s/epoch - 4ms/step\n",
            "Epoch 18/100\n",
            "\n",
            "Epoch 00018: val_acc did not improve from 1.00000\n",
            "793/793 - 3s - loss: 8.0251e-04 - acc: 0.9998 - precision_1: 0.9998 - recall_1: 0.9998 - val_loss: 1.4378e-05 - val_acc: 1.0000 - val_precision_1: 1.0000 - val_recall_1: 1.0000 - 3s/epoch - 4ms/step\n",
            "Epoch 19/100\n",
            "\n",
            "Epoch 00019: val_acc did not improve from 1.00000\n",
            "793/793 - 3s - loss: 1.9864e-04 - acc: 0.9999 - precision_1: 0.9999 - recall_1: 0.9999 - val_loss: 0.0053 - val_acc: 0.9997 - val_precision_1: 1.0000 - val_recall_1: 0.9994 - 3s/epoch - 4ms/step\n",
            "Epoch 20/100\n",
            "\n",
            "Epoch 00020: val_acc did not improve from 1.00000\n",
            "793/793 - 5s - loss: 0.0014 - acc: 0.9999 - precision_1: 0.9999 - recall_1: 0.9998 - val_loss: 3.9707e-06 - val_acc: 1.0000 - val_precision_1: 1.0000 - val_recall_1: 1.0000 - 5s/epoch - 6ms/step\n",
            "Epoch 21/100\n",
            "\n",
            "Epoch 00021: val_acc did not improve from 1.00000\n",
            "793/793 - 5s - loss: 5.5754e-04 - acc: 0.9999 - precision_1: 0.9999 - recall_1: 0.9998 - val_loss: 1.5314e-06 - val_acc: 1.0000 - val_precision_1: 1.0000 - val_recall_1: 1.0000 - 5s/epoch - 7ms/step\n",
            "Epoch 22/100\n",
            "\n",
            "Epoch 00022: val_acc did not improve from 1.00000\n",
            "793/793 - 3s - loss: 4.0777e-04 - acc: 1.0000 - precision_1: 0.9999 - recall_1: 1.0000 - val_loss: 1.3599e-05 - val_acc: 1.0000 - val_precision_1: 1.0000 - val_recall_1: 1.0000 - 3s/epoch - 4ms/step\n",
            "Epoch 23/100\n",
            "\n",
            "Epoch 00023: val_acc did not improve from 1.00000\n",
            "793/793 - 3s - loss: 3.0906e-05 - acc: 1.0000 - precision_1: 1.0000 - recall_1: 1.0000 - val_loss: 5.4002e-06 - val_acc: 1.0000 - val_precision_1: 1.0000 - val_recall_1: 1.0000 - 3s/epoch - 4ms/step\n",
            "Epoch 24/100\n",
            "\n",
            "Epoch 00024: val_acc did not improve from 1.00000\n",
            "793/793 - 3s - loss: 5.1417e-05 - acc: 1.0000 - precision_1: 1.0000 - recall_1: 1.0000 - val_loss: 3.9209e-06 - val_acc: 1.0000 - val_precision_1: 1.0000 - val_recall_1: 1.0000 - 3s/epoch - 4ms/step\n",
            "Epoch 25/100\n",
            "\n",
            "Epoch 00025: val_acc did not improve from 1.00000\n",
            "793/793 - 3s - loss: 7.3687e-05 - acc: 1.0000 - precision_1: 0.9999 - recall_1: 1.0000 - val_loss: 7.8718e-05 - val_acc: 1.0000 - val_precision_1: 1.0000 - val_recall_1: 1.0000 - 3s/epoch - 4ms/step\n",
            "Epoch 26/100\n",
            "\n",
            "Epoch 00026: val_acc did not improve from 1.00000\n",
            "793/793 - 3s - loss: 2.2287e-05 - acc: 1.0000 - precision_1: 1.0000 - recall_1: 1.0000 - val_loss: 0.0013 - val_acc: 0.9997 - val_precision_1: 1.0000 - val_recall_1: 0.9994 - 3s/epoch - 4ms/step\n",
            "Epoch 27/100\n",
            "\n",
            "Epoch 00027: val_acc did not improve from 1.00000\n",
            "793/793 - 5s - loss: 1.9791e-06 - acc: 1.0000 - precision_1: 1.0000 - recall_1: 1.0000 - val_loss: 0.0014 - val_acc: 0.9997 - val_precision_1: 1.0000 - val_recall_1: 0.9994 - 5s/epoch - 6ms/step\n",
            "Epoch 28/100\n",
            "\n",
            "Epoch 00028: val_acc did not improve from 1.00000\n",
            "793/793 - 3s - loss: 7.8005e-05 - acc: 1.0000 - precision_1: 0.9999 - recall_1: 1.0000 - val_loss: 2.0791e-09 - val_acc: 1.0000 - val_precision_1: 1.0000 - val_recall_1: 1.0000 - 3s/epoch - 4ms/step\n",
            "Epoch 29/100\n",
            "\n",
            "Epoch 00029: val_acc did not improve from 1.00000\n",
            "793/793 - 3s - loss: 1.4604e-06 - acc: 1.0000 - precision_1: 1.0000 - recall_1: 1.0000 - val_loss: 2.5113e-10 - val_acc: 1.0000 - val_precision_1: 1.0000 - val_recall_1: 1.0000 - 3s/epoch - 4ms/step\n",
            "Epoch 30/100\n",
            "\n",
            "Epoch 00030: val_acc did not improve from 1.00000\n",
            "793/793 - 3s - loss: 5.2831e-07 - acc: 1.0000 - precision_1: 1.0000 - recall_1: 1.0000 - val_loss: 1.2006e-10 - val_acc: 1.0000 - val_precision_1: 1.0000 - val_recall_1: 1.0000 - 3s/epoch - 4ms/step\n",
            "Epoch 31/100\n",
            "\n",
            "Epoch 00031: val_acc did not improve from 1.00000\n",
            "793/793 - 3s - loss: 8.0135e-07 - acc: 1.0000 - precision_1: 1.0000 - recall_1: 1.0000 - val_loss: 6.4903e-11 - val_acc: 1.0000 - val_precision_1: 1.0000 - val_recall_1: 1.0000 - 3s/epoch - 4ms/step\n",
            "Epoch 32/100\n",
            "\n",
            "Epoch 00032: val_acc did not improve from 1.00000\n",
            "793/793 - 3s - loss: 7.4793e-07 - acc: 1.0000 - precision_1: 1.0000 - recall_1: 1.0000 - val_loss: 3.5210e-11 - val_acc: 1.0000 - val_precision_1: 1.0000 - val_recall_1: 1.0000 - 3s/epoch - 4ms/step\n",
            "Epoch 33/100\n",
            "\n",
            "Epoch 00033: val_acc did not improve from 1.00000\n",
            "793/793 - 6s - loss: 6.6423e-07 - acc: 1.0000 - precision_1: 1.0000 - recall_1: 1.0000 - val_loss: 2.2249e-11 - val_acc: 1.0000 - val_precision_1: 1.0000 - val_recall_1: 1.0000 - 6s/epoch - 7ms/step\n",
            "Epoch 34/100\n",
            "\n",
            "Epoch 00034: val_acc did not improve from 1.00000\n",
            "793/793 - 6s - loss: 5.1474e-07 - acc: 1.0000 - precision_1: 1.0000 - recall_1: 1.0000 - val_loss: 1.0813e-11 - val_acc: 1.0000 - val_precision_1: 1.0000 - val_recall_1: 1.0000 - 6s/epoch - 7ms/step\n",
            "Epoch 35/100\n",
            "\n",
            "Epoch 00035: val_acc did not improve from 1.00000\n",
            "793/793 - 5s - loss: 1.4692e-07 - acc: 1.0000 - precision_1: 1.0000 - recall_1: 1.0000 - val_loss: 7.2438e-12 - val_acc: 1.0000 - val_precision_1: 1.0000 - val_recall_1: 1.0000 - 5s/epoch - 7ms/step\n",
            "Epoch 36/100\n",
            "\n",
            "Epoch 00036: val_acc did not improve from 1.00000\n",
            "793/793 - 3s - loss: 1.4883e-07 - acc: 1.0000 - precision_1: 1.0000 - recall_1: 1.0000 - val_loss: 4.6356e-12 - val_acc: 1.0000 - val_precision_1: 1.0000 - val_recall_1: 1.0000 - 3s/epoch - 4ms/step\n",
            "Epoch 37/100\n",
            "\n",
            "Epoch 00037: val_acc did not improve from 1.00000\n",
            "793/793 - 5s - loss: 3.1273e-07 - acc: 1.0000 - precision_1: 1.0000 - recall_1: 1.0000 - val_loss: 1.4807e-12 - val_acc: 1.0000 - val_precision_1: 1.0000 - val_recall_1: 1.0000 - 5s/epoch - 7ms/step\n",
            "Epoch 38/100\n",
            "\n",
            "Epoch 00038: val_acc did not improve from 1.00000\n",
            "793/793 - 5s - loss: 1.0564e-07 - acc: 1.0000 - precision_1: 1.0000 - recall_1: 1.0000 - val_loss: 8.0137e-13 - val_acc: 1.0000 - val_precision_1: 1.0000 - val_recall_1: 1.0000 - 5s/epoch - 6ms/step\n",
            "Epoch 39/100\n",
            "\n",
            "Epoch 00039: val_acc did not improve from 1.00000\n",
            "793/793 - 3s - loss: 2.0783e-06 - acc: 1.0000 - precision_1: 1.0000 - recall_1: 1.0000 - val_loss: 7.2707e-13 - val_acc: 1.0000 - val_precision_1: 1.0000 - val_recall_1: 1.0000 - 3s/epoch - 4ms/step\n",
            "Epoch 40/100\n",
            "\n",
            "Epoch 00040: val_acc did not improve from 1.00000\n",
            "793/793 - 3s - loss: 2.3443e-08 - acc: 1.0000 - precision_1: 1.0000 - recall_1: 1.0000 - val_loss: 5.1545e-13 - val_acc: 1.0000 - val_precision_1: 1.0000 - val_recall_1: 1.0000 - 3s/epoch - 4ms/step\n",
            "Epoch 41/100\n",
            "\n",
            "Epoch 00041: val_acc did not improve from 1.00000\n",
            "793/793 - 3s - loss: 8.1852e-08 - acc: 1.0000 - precision_1: 1.0000 - recall_1: 1.0000 - val_loss: 2.3857e-13 - val_acc: 1.0000 - val_precision_1: 1.0000 - val_recall_1: 1.0000 - 3s/epoch - 4ms/step\n",
            "Epoch 42/100\n",
            "\n",
            "Epoch 00042: val_acc did not improve from 1.00000\n",
            "793/793 - 3s - loss: 2.4906e-08 - acc: 1.0000 - precision_1: 1.0000 - recall_1: 1.0000 - val_loss: 1.1847e-13 - val_acc: 1.0000 - val_precision_1: 1.0000 - val_recall_1: 1.0000 - 3s/epoch - 4ms/step\n",
            "Epoch 43/100\n",
            "\n",
            "Epoch 00043: val_acc did not improve from 1.00000\n",
            "793/793 - 3s - loss: 9.4304e-08 - acc: 1.0000 - precision_1: 1.0000 - recall_1: 1.0000 - val_loss: 3.6300e-14 - val_acc: 1.0000 - val_precision_1: 1.0000 - val_recall_1: 1.0000 - 3s/epoch - 4ms/step\n",
            "Epoch 44/100\n",
            "\n",
            "Epoch 00044: val_acc did not improve from 1.00000\n",
            "793/793 - 3s - loss: 2.0708e-08 - acc: 1.0000 - precision_1: 1.0000 - recall_1: 1.0000 - val_loss: 2.3731e-14 - val_acc: 1.0000 - val_precision_1: 1.0000 - val_recall_1: 1.0000 - 3s/epoch - 4ms/step\n",
            "Epoch 45/100\n",
            "\n",
            "Epoch 00045: val_acc did not improve from 1.00000\n",
            "793/793 - 3s - loss: 2.3995e-08 - acc: 1.0000 - precision_1: 1.0000 - recall_1: 1.0000 - val_loss: 8.3171e-15 - val_acc: 1.0000 - val_precision_1: 1.0000 - val_recall_1: 1.0000 - 3s/epoch - 4ms/step\n",
            "Epoch 46/100\n",
            "\n",
            "Epoch 00046: val_acc did not improve from 1.00000\n",
            "793/793 - 3s - loss: 1.3679e-06 - acc: 1.0000 - precision_1: 1.0000 - recall_1: 1.0000 - val_loss: 2.1769e-15 - val_acc: 1.0000 - val_precision_1: 1.0000 - val_recall_1: 1.0000 - 3s/epoch - 4ms/step\n",
            "Epoch 47/100\n",
            "\n",
            "Epoch 00047: val_acc did not improve from 1.00000\n",
            "793/793 - 3s - loss: 1.9469e-07 - acc: 1.0000 - precision_1: 1.0000 - recall_1: 1.0000 - val_loss: 1.5908e-15 - val_acc: 1.0000 - val_precision_1: 1.0000 - val_recall_1: 1.0000 - 3s/epoch - 4ms/step\n",
            "Epoch 48/100\n",
            "\n",
            "Epoch 00048: val_acc did not improve from 1.00000\n",
            "793/793 - 3s - loss: 4.8056e-09 - acc: 1.0000 - precision_1: 1.0000 - recall_1: 1.0000 - val_loss: 1.0322e-15 - val_acc: 1.0000 - val_precision_1: 1.0000 - val_recall_1: 1.0000 - 3s/epoch - 4ms/step\n",
            "Epoch 49/100\n",
            "\n",
            "Epoch 00049: val_acc did not improve from 1.00000\n",
            "793/793 - 3s - loss: 4.8795e-09 - acc: 1.0000 - precision_1: 1.0000 - recall_1: 1.0000 - val_loss: 6.5603e-16 - val_acc: 1.0000 - val_precision_1: 1.0000 - val_recall_1: 1.0000 - 3s/epoch - 4ms/step\n",
            "Epoch 50/100\n",
            "\n",
            "Epoch 00050: val_acc did not improve from 1.00000\n",
            "793/793 - 3s - loss: 4.5239e-09 - acc: 1.0000 - precision_1: 1.0000 - recall_1: 1.0000 - val_loss: 4.3579e-16 - val_acc: 1.0000 - val_precision_1: 1.0000 - val_recall_1: 1.0000 - 3s/epoch - 4ms/step\n",
            "Epoch 51/100\n",
            "\n",
            "Epoch 00051: val_acc did not improve from 1.00000\n",
            "793/793 - 3s - loss: 2.6913e-08 - acc: 1.0000 - precision_1: 1.0000 - recall_1: 1.0000 - val_loss: 2.7503e-16 - val_acc: 1.0000 - val_precision_1: 1.0000 - val_recall_1: 1.0000 - 3s/epoch - 4ms/step\n",
            "Epoch 52/100\n",
            "\n",
            "Epoch 00052: val_acc did not improve from 1.00000\n",
            "793/793 - 3s - loss: 1.6386e-08 - acc: 1.0000 - precision_1: 1.0000 - recall_1: 1.0000 - val_loss: 1.4035e-16 - val_acc: 1.0000 - val_precision_1: 1.0000 - val_recall_1: 1.0000 - 3s/epoch - 4ms/step\n",
            "Epoch 53/100\n",
            "\n",
            "Epoch 00053: val_acc did not improve from 1.00000\n",
            "793/793 - 3s - loss: 6.6707e-09 - acc: 1.0000 - precision_1: 1.0000 - recall_1: 1.0000 - val_loss: 9.8779e-17 - val_acc: 1.0000 - val_precision_1: 1.0000 - val_recall_1: 1.0000 - 3s/epoch - 4ms/step\n",
            "Epoch 54/100\n",
            "\n",
            "Epoch 00054: val_acc did not improve from 1.00000\n",
            "793/793 - 3s - loss: 1.3414e-08 - acc: 1.0000 - precision_1: 1.0000 - recall_1: 1.0000 - val_loss: 4.0865e-17 - val_acc: 1.0000 - val_precision_1: 1.0000 - val_recall_1: 1.0000 - 3s/epoch - 4ms/step\n",
            "Epoch 55/100\n",
            "\n",
            "Epoch 00055: val_acc did not improve from 1.00000\n",
            "793/793 - 3s - loss: 2.9997e-09 - acc: 1.0000 - precision_1: 1.0000 - recall_1: 1.0000 - val_loss: 2.9589e-17 - val_acc: 1.0000 - val_precision_1: 1.0000 - val_recall_1: 1.0000 - 3s/epoch - 4ms/step\n",
            "Epoch 56/100\n",
            "\n",
            "Epoch 00056: val_acc did not improve from 1.00000\n",
            "793/793 - 5s - loss: 8.8722e-10 - acc: 1.0000 - precision_1: 1.0000 - recall_1: 1.0000 - val_loss: 2.6081e-17 - val_acc: 1.0000 - val_precision_1: 1.0000 - val_recall_1: 1.0000 - 5s/epoch - 7ms/step\n",
            "Epoch 57/100\n",
            "\n",
            "Epoch 00057: val_acc did not improve from 1.00000\n",
            "793/793 - 6s - loss: 1.0294e-08 - acc: 1.0000 - precision_1: 1.0000 - recall_1: 1.0000 - val_loss: 2.4185e-17 - val_acc: 1.0000 - val_precision_1: 1.0000 - val_recall_1: 1.0000 - 6s/epoch - 7ms/step\n",
            "Epoch 58/100\n",
            "\n",
            "Epoch 00058: val_acc did not improve from 1.00000\n",
            "793/793 - 5s - loss: 1.0868e-09 - acc: 1.0000 - precision_1: 1.0000 - recall_1: 1.0000 - val_loss: 1.8852e-17 - val_acc: 1.0000 - val_precision_1: 1.0000 - val_recall_1: 1.0000 - 5s/epoch - 6ms/step\n",
            "Epoch 59/100\n",
            "\n",
            "Epoch 00059: val_acc did not improve from 1.00000\n",
            "793/793 - 6s - loss: 1.1954e-07 - acc: 1.0000 - precision_1: 1.0000 - recall_1: 1.0000 - val_loss: 9.4354e-18 - val_acc: 1.0000 - val_precision_1: 1.0000 - val_recall_1: 1.0000 - 6s/epoch - 7ms/step\n",
            "Epoch 60/100\n",
            "\n",
            "Epoch 00060: val_acc did not improve from 1.00000\n",
            "793/793 - 5s - loss: 1.0373e-09 - acc: 1.0000 - precision_1: 1.0000 - recall_1: 1.0000 - val_loss: 8.3689e-18 - val_acc: 1.0000 - val_precision_1: 1.0000 - val_recall_1: 1.0000 - 5s/epoch - 6ms/step\n",
            "Epoch 61/100\n",
            "\n",
            "Epoch 00061: val_acc did not improve from 1.00000\n",
            "793/793 - 3s - loss: 1.9647e-09 - acc: 1.0000 - precision_1: 1.0000 - recall_1: 1.0000 - val_loss: 6.8665e-18 - val_acc: 1.0000 - val_precision_1: 1.0000 - val_recall_1: 1.0000 - 3s/epoch - 4ms/step\n",
            "Epoch 62/100\n",
            "\n",
            "Epoch 00062: val_acc did not improve from 1.00000\n",
            "793/793 - 3s - loss: 3.6917e-09 - acc: 1.0000 - precision_1: 1.0000 - recall_1: 1.0000 - val_loss: 4.1770e-18 - val_acc: 1.0000 - val_precision_1: 1.0000 - val_recall_1: 1.0000 - 3s/epoch - 4ms/step\n",
            "Epoch 63/100\n",
            "\n",
            "Epoch 00063: val_acc did not improve from 1.00000\n",
            "793/793 - 3s - loss: 5.8460e-10 - acc: 1.0000 - precision_1: 1.0000 - recall_1: 1.0000 - val_loss: 3.7662e-18 - val_acc: 1.0000 - val_precision_1: 1.0000 - val_recall_1: 1.0000 - 3s/epoch - 4ms/step\n",
            "Epoch 64/100\n",
            "\n",
            "Epoch 00064: val_acc did not improve from 1.00000\n",
            "793/793 - 3s - loss: 3.5631e-10 - acc: 1.0000 - precision_1: 1.0000 - recall_1: 1.0000 - val_loss: 3.4962e-18 - val_acc: 1.0000 - val_precision_1: 1.0000 - val_recall_1: 1.0000 - 3s/epoch - 4ms/step\n",
            "Epoch 65/100\n",
            "\n",
            "Epoch 00065: val_acc did not improve from 1.00000\n",
            "793/793 - 3s - loss: 9.5724e-09 - acc: 1.0000 - precision_1: 1.0000 - recall_1: 1.0000 - val_loss: 1.6133e-18 - val_acc: 1.0000 - val_precision_1: 1.0000 - val_recall_1: 1.0000 - 3s/epoch - 4ms/step\n",
            "Epoch 66/100\n",
            "\n",
            "Epoch 00066: val_acc did not improve from 1.00000\n",
            "793/793 - 3s - loss: 7.1646e-09 - acc: 1.0000 - precision_1: 1.0000 - recall_1: 1.0000 - val_loss: 8.3468e-19 - val_acc: 1.0000 - val_precision_1: 1.0000 - val_recall_1: 1.0000 - 3s/epoch - 4ms/step\n",
            "Epoch 67/100\n",
            "\n",
            "Epoch 00067: val_acc did not improve from 1.00000\n",
            "793/793 - 3s - loss: 7.3731e-10 - acc: 1.0000 - precision_1: 1.0000 - recall_1: 1.0000 - val_loss: 7.4203e-19 - val_acc: 1.0000 - val_precision_1: 1.0000 - val_recall_1: 1.0000 - 3s/epoch - 4ms/step\n",
            "Epoch 68/100\n",
            "\n",
            "Epoch 00068: val_acc did not improve from 1.00000\n",
            "793/793 - 3s - loss: 1.4175e-09 - acc: 1.0000 - precision_1: 1.0000 - recall_1: 1.0000 - val_loss: 6.2026e-19 - val_acc: 1.0000 - val_precision_1: 1.0000 - val_recall_1: 1.0000 - 3s/epoch - 4ms/step\n",
            "Epoch 69/100\n",
            "\n",
            "Epoch 00069: val_acc did not improve from 1.00000\n",
            "793/793 - 3s - loss: 2.6978e-09 - acc: 1.0000 - precision_1: 1.0000 - recall_1: 1.0000 - val_loss: 5.3883e-19 - val_acc: 1.0000 - val_precision_1: 1.0000 - val_recall_1: 1.0000 - 3s/epoch - 4ms/step\n",
            "Epoch 70/100\n",
            "\n",
            "Epoch 00070: val_acc did not improve from 1.00000\n",
            "793/793 - 3s - loss: 2.2779e-09 - acc: 1.0000 - precision_1: 1.0000 - recall_1: 1.0000 - val_loss: 3.8257e-19 - val_acc: 1.0000 - val_precision_1: 1.0000 - val_recall_1: 1.0000 - 3s/epoch - 4ms/step\n",
            "Epoch 71/100\n",
            "\n",
            "Epoch 00071: val_acc did not improve from 1.00000\n",
            "793/793 - 3s - loss: 6.1327e-10 - acc: 1.0000 - precision_1: 1.0000 - recall_1: 1.0000 - val_loss: 3.4833e-19 - val_acc: 1.0000 - val_precision_1: 1.0000 - val_recall_1: 1.0000 - 3s/epoch - 4ms/step\n",
            "Epoch 72/100\n",
            "\n",
            "Epoch 00072: val_acc did not improve from 1.00000\n",
            "793/793 - 3s - loss: 8.6994e-11 - acc: 1.0000 - precision_1: 1.0000 - recall_1: 1.0000 - val_loss: 3.4177e-19 - val_acc: 1.0000 - val_precision_1: 1.0000 - val_recall_1: 1.0000 - 3s/epoch - 4ms/step\n",
            "Epoch 73/100\n",
            "\n",
            "Epoch 00073: val_acc did not improve from 1.00000\n",
            "793/793 - 3s - loss: 1.1645e-10 - acc: 1.0000 - precision_1: 1.0000 - recall_1: 1.0000 - val_loss: 3.3280e-19 - val_acc: 1.0000 - val_precision_1: 1.0000 - val_recall_1: 1.0000 - 3s/epoch - 4ms/step\n",
            "Epoch 74/100\n",
            "\n",
            "Epoch 00074: val_acc did not improve from 1.00000\n",
            "793/793 - 3s - loss: 7.0688e-08 - acc: 1.0000 - precision_1: 1.0000 - recall_1: 1.0000 - val_loss: 2.3504e-19 - val_acc: 1.0000 - val_precision_1: 1.0000 - val_recall_1: 1.0000 - 3s/epoch - 4ms/step\n",
            "Epoch 75/100\n",
            "\n",
            "Epoch 00075: val_acc did not improve from 1.00000\n",
            "793/793 - 3s - loss: 7.6092e-10 - acc: 1.0000 - precision_1: 1.0000 - recall_1: 1.0000 - val_loss: 2.1616e-19 - val_acc: 1.0000 - val_precision_1: 1.0000 - val_recall_1: 1.0000 - 3s/epoch - 4ms/step\n",
            "Epoch 76/100\n",
            "\n",
            "Epoch 00076: val_acc did not improve from 1.00000\n",
            "793/793 - 3s - loss: 2.2805e-09 - acc: 1.0000 - precision_1: 1.0000 - recall_1: 1.0000 - val_loss: 1.5902e-19 - val_acc: 1.0000 - val_precision_1: 1.0000 - val_recall_1: 1.0000 - 3s/epoch - 4ms/step\n",
            "Epoch 77/100\n",
            "\n",
            "Epoch 00077: val_acc did not improve from 1.00000\n",
            "793/793 - 3s - loss: 5.8578e-10 - acc: 1.0000 - precision_1: 1.0000 - recall_1: 1.0000 - val_loss: 1.4622e-19 - val_acc: 1.0000 - val_precision_1: 1.0000 - val_recall_1: 1.0000 - 3s/epoch - 4ms/step\n",
            "Epoch 78/100\n",
            "\n",
            "Epoch 00078: val_acc did not improve from 1.00000\n",
            "793/793 - 3s - loss: 5.4528e-09 - acc: 1.0000 - precision_1: 1.0000 - recall_1: 1.0000 - val_loss: 1.1103e-19 - val_acc: 1.0000 - val_precision_1: 1.0000 - val_recall_1: 1.0000 - 3s/epoch - 4ms/step\n",
            "Epoch 79/100\n",
            "\n",
            "Epoch 00079: val_acc did not improve from 1.00000\n",
            "793/793 - 3s - loss: 2.8758e-10 - acc: 1.0000 - precision_1: 1.0000 - recall_1: 1.0000 - val_loss: 1.0543e-19 - val_acc: 1.0000 - val_precision_1: 1.0000 - val_recall_1: 1.0000 - 3s/epoch - 4ms/step\n",
            "Epoch 80/100\n",
            "\n",
            "Epoch 00080: val_acc did not improve from 1.00000\n",
            "793/793 - 3s - loss: 1.2897e-09 - acc: 1.0000 - precision_1: 1.0000 - recall_1: 1.0000 - val_loss: 8.6057e-20 - val_acc: 1.0000 - val_precision_1: 1.0000 - val_recall_1: 1.0000 - 3s/epoch - 4ms/step\n",
            "Epoch 81/100\n",
            "\n",
            "Epoch 00081: val_acc did not improve from 1.00000\n",
            "793/793 - 3s - loss: 9.1683e-11 - acc: 1.0000 - precision_1: 1.0000 - recall_1: 1.0000 - val_loss: 8.4510e-20 - val_acc: 1.0000 - val_precision_1: 1.0000 - val_recall_1: 1.0000 - 3s/epoch - 4ms/step\n",
            "Epoch 82/100\n",
            "\n",
            "Epoch 00082: val_acc did not improve from 1.00000\n",
            "793/793 - 3s - loss: 1.0410e-09 - acc: 1.0000 - precision_1: 1.0000 - recall_1: 1.0000 - val_loss: 7.2578e-20 - val_acc: 1.0000 - val_precision_1: 1.0000 - val_recall_1: 1.0000 - 3s/epoch - 4ms/step\n",
            "Epoch 83/100\n",
            "\n",
            "Epoch 00083: val_acc did not improve from 1.00000\n",
            "793/793 - 3s - loss: 5.4107e-10 - acc: 1.0000 - precision_1: 1.0000 - recall_1: 1.0000 - val_loss: 6.6338e-20 - val_acc: 1.0000 - val_precision_1: 1.0000 - val_recall_1: 1.0000 - 3s/epoch - 4ms/step\n",
            "Epoch 84/100\n",
            "\n",
            "Epoch 00084: val_acc did not improve from 1.00000\n",
            "793/793 - 3s - loss: 5.9949e-10 - acc: 1.0000 - precision_1: 1.0000 - recall_1: 1.0000 - val_loss: 6.0299e-20 - val_acc: 1.0000 - val_precision_1: 1.0000 - val_recall_1: 1.0000 - 3s/epoch - 4ms/step\n",
            "Epoch 85/100\n",
            "\n",
            "Epoch 00085: val_acc did not improve from 1.00000\n",
            "793/793 - 3s - loss: 1.4646e-09 - acc: 1.0000 - precision_1: 1.0000 - recall_1: 1.0000 - val_loss: 5.0865e-20 - val_acc: 1.0000 - val_precision_1: 1.0000 - val_recall_1: 1.0000 - 3s/epoch - 4ms/step\n",
            "Epoch 86/100\n",
            "\n",
            "Epoch 00086: val_acc did not improve from 1.00000\n",
            "793/793 - 3s - loss: 5.7432e-11 - acc: 1.0000 - precision_1: 1.0000 - recall_1: 1.0000 - val_loss: 5.0215e-20 - val_acc: 1.0000 - val_precision_1: 1.0000 - val_recall_1: 1.0000 - 3s/epoch - 4ms/step\n",
            "Epoch 87/100\n",
            "\n",
            "Epoch 00087: val_acc did not improve from 1.00000\n",
            "793/793 - 3s - loss: 5.4833e-10 - acc: 1.0000 - precision_1: 1.0000 - recall_1: 1.0000 - val_loss: 4.6757e-20 - val_acc: 1.0000 - val_precision_1: 1.0000 - val_recall_1: 1.0000 - 3s/epoch - 4ms/step\n",
            "Epoch 88/100\n",
            "\n",
            "Epoch 00088: val_acc did not improve from 1.00000\n",
            "793/793 - 3s - loss: 1.9898e-10 - acc: 1.0000 - precision_1: 1.0000 - recall_1: 1.0000 - val_loss: 4.5279e-20 - val_acc: 1.0000 - val_precision_1: 1.0000 - val_recall_1: 1.0000 - 3s/epoch - 4ms/step\n",
            "Epoch 89/100\n",
            "\n",
            "Epoch 00089: val_acc did not improve from 1.00000\n",
            "793/793 - 4s - loss: 3.2453e-10 - acc: 1.0000 - precision_1: 1.0000 - recall_1: 1.0000 - val_loss: 4.2591e-20 - val_acc: 1.0000 - val_precision_1: 1.0000 - val_recall_1: 1.0000 - 4s/epoch - 4ms/step\n",
            "Epoch 90/100\n",
            "\n",
            "Epoch 00090: val_acc did not improve from 1.00000\n",
            "793/793 - 3s - loss: 5.7507e-11 - acc: 1.0000 - precision_1: 1.0000 - recall_1: 1.0000 - val_loss: 4.2097e-20 - val_acc: 1.0000 - val_precision_1: 1.0000 - val_recall_1: 1.0000 - 3s/epoch - 4ms/step\n",
            "Epoch 91/100\n",
            "\n",
            "Epoch 00091: val_acc did not improve from 1.00000\n",
            "793/793 - 3s - loss: 4.5331e-10 - acc: 1.0000 - precision_1: 1.0000 - recall_1: 1.0000 - val_loss: 3.9311e-20 - val_acc: 1.0000 - val_precision_1: 1.0000 - val_recall_1: 1.0000 - 3s/epoch - 4ms/step\n",
            "Epoch 92/100\n",
            "\n",
            "Epoch 00092: val_acc did not improve from 1.00000\n",
            "793/793 - 3s - loss: 1.5947e-08 - acc: 1.0000 - precision_1: 1.0000 - recall_1: 1.0000 - val_loss: 3.4157e-20 - val_acc: 1.0000 - val_precision_1: 1.0000 - val_recall_1: 1.0000 - 3s/epoch - 4ms/step\n",
            "Epoch 93/100\n",
            "\n",
            "Epoch 00093: val_acc did not improve from 1.00000\n",
            "793/793 - 3s - loss: 3.3198e-08 - acc: 1.0000 - precision_1: 1.0000 - recall_1: 1.0000 - val_loss: 2.2056e-20 - val_acc: 1.0000 - val_precision_1: 1.0000 - val_recall_1: 1.0000 - 3s/epoch - 4ms/step\n",
            "Epoch 94/100\n",
            "\n",
            "Epoch 00094: val_acc did not improve from 1.00000\n",
            "793/793 - 3s - loss: 3.7044e-10 - acc: 1.0000 - precision_1: 1.0000 - recall_1: 1.0000 - val_loss: 2.0898e-20 - val_acc: 1.0000 - val_precision_1: 1.0000 - val_recall_1: 1.0000 - 3s/epoch - 4ms/step\n",
            "Epoch 95/100\n",
            "\n",
            "Epoch 00095: val_acc did not improve from 1.00000\n",
            "793/793 - 3s - loss: 8.9816e-10 - acc: 1.0000 - precision_1: 1.0000 - recall_1: 1.0000 - val_loss: 1.8493e-20 - val_acc: 1.0000 - val_precision_1: 1.0000 - val_recall_1: 1.0000 - 3s/epoch - 4ms/step\n",
            "Epoch 96/100\n",
            "\n",
            "Epoch 00096: val_acc did not improve from 1.00000\n",
            "793/793 - 3s - loss: 5.4597e-10 - acc: 1.0000 - precision_1: 1.0000 - recall_1: 1.0000 - val_loss: 1.7029e-20 - val_acc: 1.0000 - val_precision_1: 1.0000 - val_recall_1: 1.0000 - 3s/epoch - 4ms/step\n",
            "Epoch 97/100\n",
            "\n",
            "Epoch 00097: val_acc did not improve from 1.00000\n",
            "793/793 - 3s - loss: 2.4209e-10 - acc: 1.0000 - precision_1: 1.0000 - recall_1: 1.0000 - val_loss: 1.6436e-20 - val_acc: 1.0000 - val_precision_1: 1.0000 - val_recall_1: 1.0000 - 3s/epoch - 4ms/step\n",
            "Epoch 98/100\n",
            "\n",
            "Epoch 00098: val_acc did not improve from 1.00000\n",
            "793/793 - 3s - loss: 8.4097e-10 - acc: 1.0000 - precision_1: 1.0000 - recall_1: 1.0000 - val_loss: 1.4553e-20 - val_acc: 1.0000 - val_precision_1: 1.0000 - val_recall_1: 1.0000 - 3s/epoch - 4ms/step\n",
            "Epoch 99/100\n",
            "\n",
            "Epoch 00099: val_acc did not improve from 1.00000\n",
            "793/793 - 3s - loss: 1.9933e-11 - acc: 1.0000 - precision_1: 1.0000 - recall_1: 1.0000 - val_loss: 1.4495e-20 - val_acc: 1.0000 - val_precision_1: 1.0000 - val_recall_1: 1.0000 - 3s/epoch - 4ms/step\n",
            "Epoch 100/100\n",
            "\n",
            "Epoch 00100: val_acc did not improve from 1.00000\n",
            "793/793 - 3s - loss: 2.9522e-11 - acc: 1.0000 - precision_1: 1.0000 - recall_1: 1.0000 - val_loss: 1.4403e-20 - val_acc: 1.0000 - val_precision_1: 1.0000 - val_recall_1: 1.0000 - 3s/epoch - 4ms/step\n"
          ]
        }
      ]
    },
    {
      "cell_type": "code",
      "source": [
        "#model.load_weights('bestmodel_epoch85_valloss0.3756_acc 0.8458.hdf5')\n",
        "model.load_weights('bestmodel_epoch15_valloss0.0001_acc 1.0000.hdf5') #มี Dropout\n",
        "\n",
        "y_pred = model.predict(x_test)\n",
        "y_pred = np.round(y_pred)\n",
        "y_pred = np.nan_to_num(y_pred)\n",
        "\n",
        "score = accuracy_score(y_test, y_pred)\n",
        "recall_precision_f1 = precision_recall_fscore_support(y_test,y_pred, average = \"macro\")\n",
        "\n",
        "print(f'Test Accuracy Score :{score}')\n",
        "print(f'Recall :{recall_precision_f1[0]}')\n",
        "print(f'Precision :{recall_precision_f1[1]}')\n",
        "print(f'F1 :{recall_precision_f1[2]}')"
      ],
      "metadata": {
        "colab": {
          "base_uri": "https://localhost:8080/"
        },
        "id": "Nr443J1TVcQq",
        "outputId": "4db3e855-0968-4aec-82ff-8f3bffef688f"
      },
      "execution_count": null,
      "outputs": [
        {
          "output_type": "stream",
          "name": "stdout",
          "text": [
            "Test Accuracy Score :0.9997792981681748\n",
            "Recall :0.9997786713003597\n",
            "Precision :0.9997799048113206\n",
            "F1 :0.9997792826437486\n"
          ]
        }
      ]
    },
    {
      "cell_type": "code",
      "source": [
        "print(y_pred)"
      ],
      "metadata": {
        "colab": {
          "base_uri": "https://localhost:8080/"
        },
        "id": "7iGuGXVIi0dL",
        "outputId": "43db7069-f2f7-48f6-c8f0-8c1f21dd7905"
      },
      "execution_count": null,
      "outputs": [
        {
          "output_type": "stream",
          "name": "stdout",
          "text": [
            "[[1.]\n",
            " [1.]\n",
            " [0.]\n",
            " ...\n",
            " [0.]\n",
            " [0.]\n",
            " [0.]]\n"
          ]
        }
      ]
    },
    {
      "cell_type": "code",
      "source": [
        "# Summarize history for accuracy\n",
        "plt.figure(figsize=(15,5))\n",
        "plt.plot(history.history['acc'])\n",
        "plt.plot(history.history['val_acc'])\n",
        "plt.title('Model accuracy')\n",
        "plt.ylabel('accuracy')\n",
        "plt.xlabel('epoch')\n",
        "plt.legend(['train', 'test'], loc='upper left')\n",
        "plt.grid()\n",
        "plt.show()\n",
        "\n",
        "# Summarize history for loss\n",
        "plt.figure(figsize=(15,5))\n",
        "plt.plot(history.history['loss'])\n",
        "plt.plot(history.history['val_loss'])\n",
        "plt.title('Model loss')\n",
        "plt.ylabel('loss')\n",
        "plt.xlabel('epoch')\n",
        "plt.legend(['train', 'test'], loc='upper left')\n",
        "plt.grid()\n",
        "plt.show()\n",
        "\n",
        "# Summarize history for Recall\n",
        "plt.figure(figsize=(15,5))\n",
        "plt.plot(history.history['recall_1'])\n",
        "plt.plot(history.history['val_recall_1'])\n",
        "plt.title('Model Recall')\n",
        "plt.ylabel('Recall')\n",
        "plt.xlabel('epoch')\n",
        "plt.legend(['train', 'test'], loc='upper left')\n",
        "plt.grid()\n",
        "plt.show()\n",
        "\n",
        "# Summarize history for Precision\n",
        "plt.figure(figsize=(15,5))\n",
        "plt.plot(history.history['precision_1'])\n",
        "plt.plot(history.history['val_precision_1'])\n",
        "plt.title('Model Precision')\n",
        "plt.ylabel('Precision')\n",
        "plt.xlabel('epoch')\n",
        "plt.legend(['train', 'test'], loc='upper left')\n",
        "plt.grid()\n",
        "plt.show()"
      ],
      "metadata": {
        "colab": {
          "base_uri": "https://localhost:8080/",
          "height": 1000
        },
        "id": "Eh5N4yitC03g",
        "outputId": "55aac6b0-f3a3-4b43-dc07-aabc9fc46f3d"
      },
      "execution_count": null,
      "outputs": [
        {
          "output_type": "display_data",
          "data": {
            "image/png": "[encoded data removed]",
            "text/plain": [
              "<Figure size 1080x360 with 1 Axes>"
            ]
          },
          "metadata": {
            "needs_background": "light"
          }
        },
        {
          "output_type": "display_data",
          "data": {
            "image/png": "[encoded data removed]",
            "text/plain": [
              "<Figure size 1080x360 with 1 Axes>"
            ]
          },
          "metadata": {
            "needs_background": "light"
          }
        },
        {
          "output_type": "display_data",
          "data": {
            "image/png": "[encoded data removed]",
            "text/plain": [
              "<Figure size 1080x360 with 1 Axes>"
            ]
          },
          "metadata": {
            "needs_background": "light"
          }
        },
        {
          "output_type": "display_data",
          "data": {
            "image/png": "[encoded data removed]",
            "text/plain": [
              "<Figure size 1080x360 with 1 Axes>"
            ]
          },
          "metadata": {
            "needs_background": "light"
          }
        }
      ]
    },
    {
      "cell_type": "markdown",
      "source": [
        "# Model Load"
      ],
      "metadata": {
        "id": "G-1L55VnBEwB"
      }
    },
    {
      "cell_type": "code",
      "source": [
        "#model.load_weights('bestmodel_epoch85_valloss0.3756_acc 0.8458.hdf5')\n",
        "#model.load_weights('bestmodel_epoch100_valloss0.3527_acc 0.8573.hdf5')\n",
        "model.load_weights('bestmodel_epoch15_valloss0.0001_acc 1.0000.hdf5')\n",
        "\n",
        "score = []\n",
        "xx = []\n",
        "pred = model.predict(x_test)\n",
        "for i in range(10):\n",
        "  z = i/10\n",
        "  xx.append(np.where(pred > z,1,0))\n",
        "#print(pred)\n",
        "  score.append(metrics.accuracy_score(y_test,xx[i]))\n",
        "  print(\"Final accuracy: threshold {} --> score {}\".format(z,score[i]),i)\n",
        "rand = [0 for _ in range(len(y_test))]\n",
        "score.append(metrics.accuracy_score(y_test,rand))\n",
        "print(\"Final accuracy : random target --> score {}\".format(score[10]))\n",
        "print(i)"
      ],
      "metadata": {
        "id": "vxceDZaxGa7F",
        "colab": {
          "base_uri": "https://localhost:8080/"
        },
        "outputId": "d73ef773-d2c4-44d0-b89c-ea2ab7895a78"
      },
      "execution_count": null,
      "outputs": [
        {
          "output_type": "stream",
          "name": "stdout",
          "text": [
            "Final accuracy: threshold 0.0 --> score 0.5042301184433164 0\n",
            "Final accuracy: threshold 0.1 --> score 0.9997792981681748 1\n",
            "Final accuracy: threshold 0.2 --> score 0.9997792981681748 2\n",
            "Final accuracy: threshold 0.3 --> score 0.9997792981681748 3\n",
            "Final accuracy: threshold 0.4 --> score 0.9997792981681748 4\n",
            "Final accuracy: threshold 0.5 --> score 0.9997792981681748 5\n",
            "Final accuracy: threshold 0.6 --> score 0.9997792981681748 6\n",
            "Final accuracy: threshold 0.7 --> score 0.9997792981681748 7\n",
            "Final accuracy: threshold 0.8 --> score 0.9997792981681748 8\n",
            "Final accuracy: threshold 0.9 --> score 0.9997057308908998 9\n",
            "Final accuracy : random target --> score 0.4957698815566836\n",
            "9\n"
          ]
        }
      ]
    },
    {
      "cell_type": "code",
      "source": [
        "print(pred)"
      ],
      "metadata": {
        "colab": {
          "base_uri": "https://localhost:8080/"
        },
        "id": "TO2rBg5niMwF",
        "outputId": "97de52ca-0836-4810-b532-e334cad67682"
      },
      "execution_count": null,
      "outputs": [
        {
          "output_type": "stream",
          "name": "stdout",
          "text": [
            "[[9.9999976e-01]\n",
            " [9.9999976e-01]\n",
            " [8.9378062e-08]\n",
            " ...\n",
            " [8.7683937e-08]\n",
            " [8.7804949e-08]\n",
            " [8.7758060e-08]]\n"
          ]
        }
      ]
    },
    {
      "cell_type": "code",
      "source": [
        "\n",
        "r_fpr, r_tpr, _ = roc_curve(y_test,rand)\n",
        "th01_fpr, th01_tpr, _ = roc_curve(y_test,xx[1])\n",
        "th02_fpr, th02_tpr, _ = roc_curve(y_test,xx[2])\n",
        "th03_fpr, th03_tpr, _ = roc_curve(y_test,xx[3])\n",
        "th04_fpr, th04_tpr, _ = roc_curve(y_test,xx[4])\n",
        "th05_fpr, th05_tpr, _ = roc_curve(y_test,xx[5])\n",
        "th06_fpr, th06_tpr, _ = roc_curve(y_test,xx[6])\n",
        "th07_fpr, th07_tpr, _ = roc_curve(y_test,xx[7])\n",
        "th08_fpr, th08_tpr, _ = roc_curve(y_test,xx[8])\n",
        "th09_fpr, th09_tpr, _ = roc_curve(y_test,xx[9])"
      ],
      "metadata": {
        "id": "kT87xqp0KN1h"
      },
      "execution_count": null,
      "outputs": []
    },
    {
      "cell_type": "code",
      "source": [
        "r_auc = roc_auc_score(y_test, rand)\n",
        "th01_auc = roc_auc_score(y_test, xx[1])\n",
        "th02_auc = roc_auc_score(y_test, xx[2])\n",
        "th03_auc = roc_auc_score(y_test, xx[3])\n",
        "th04_auc = roc_auc_score(y_test, xx[4])\n",
        "th05_auc = roc_auc_score(y_test, xx[5])\n",
        "th06_auc = roc_auc_score(y_test, xx[6])\n",
        "th07_auc = roc_auc_score(y_test, xx[7])\n",
        "th08_auc = roc_auc_score(y_test, xx[8])\n",
        "th09_auc = roc_auc_score(y_test, xx[9])"
      ],
      "metadata": {
        "id": "ah7DphvYLPxR"
      },
      "execution_count": null,
      "outputs": []
    },
    {
      "cell_type": "code",
      "source": [
        "plt.figure(figsize=(15,5), dpi=100)\n",
        "plt.plot(r_fpr, r_tpr, linestyle='--', label='Random prediction (AUC = %0.3f)' % r_auc)\n",
        "plt.plot(th01_fpr, th01_tpr, marker='.', label='threshold 0.1  (AUC = %0.3f)' % th01_auc)\n",
        "plt.plot(th02_fpr, th02_tpr, marker='.', label='threshold 0.2  (AUC = %0.3f)' % th02_auc)\n",
        "plt.plot(th03_fpr, th03_tpr, marker='.', label='threshold 0.3  (AUC = %0.3f)' % th03_auc)\n",
        "plt.plot(th04_fpr, th04_tpr, marker='.', label='threshold 0.4  (AUC = %0.3f)' % th04_auc)\n",
        "plt.plot(th05_fpr, th05_tpr, marker='.', label='threshold 0.5 (AUC = %0.3f)' % th05_auc)\n",
        "plt.plot(th06_fpr, th06_tpr, marker='.', label='threshold 0.6 (AUC = %0.3f)' % th06_auc)\n",
        "plt.plot(th07_fpr, th07_tpr, marker='.', label='threshold 0.7 (AUC = %0.3f)' % th07_auc)\n",
        "plt.plot(th08_fpr, th08_tpr, marker='.', label='threshold 0.8 (AUC = %0.3f)' % th08_auc)\n",
        "plt.plot(th09_fpr, th09_tpr, marker='.', label='threshold 0.9 (AUC = %0.3f)' % th09_auc)\n",
        "\n",
        "# Title\n",
        "plt.title('ROC Plot')\n",
        "# Axis labels\n",
        "plt.xlabel('False Positive Rate')\n",
        "plt.ylabel('True Positive Rate')\n",
        "# Show legend\n",
        "plt.legend() # \n",
        "# Show plot\n",
        "plt.show()"
      ],
      "metadata": {
        "id": "zO-AvSyGLSca",
        "colab": {
          "base_uri": "https://localhost:8080/",
          "height": 480
        },
        "outputId": "2766347e-8948-43d4-917a-8d96de64b2c0"
      },
      "execution_count": null,
      "outputs": [
        {
          "output_type": "display_data",
          "data": {
            "image/png": "[encoded data removed]",
            "text/plain": [
              "<Figure size 1500x500 with 1 Axes>"
            ]
          },
          "metadata": {
            "needs_background": "light"
          }
        }
      ]
    },
    {
      "cell_type": "code",
      "source": [
        ""
      ],
      "metadata": {
        "id": "w5BKIE77VxQO"
      },
      "execution_count": null,
      "outputs": []
    }
  ]
}